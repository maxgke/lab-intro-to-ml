{
 "cells": [
  {
   "cell_type": "markdown",
   "metadata": {},
   "source": [
    "___\n",
    "# Plotly and Cufflinks"
   ]
  },
  {
   "cell_type": "markdown",
   "metadata": {},
   "source": [
    "Plotly is a library that allows you to create interactive plots that you can use in dashboards or websites (you can save them as html files or static images).\n",
    "\n",
    "## Installation\n",
    "\n",
    "In order for this all to work, you'll need to install plotly and cufflinks to call plots directly off of a pandas dataframe. These libraries are not currently available through **conda** but are available through **pip**. Install the libraries at your command line/terminal using:\n",
    "\n",
    "    pip install plotly\n",
    "    pip install cufflinks\n",
    "\n",
    "** NOTE: Make sure you only have one installation of Python on your computer when you do this, otherwise the installation may not work. **\n",
    "\n",
    "## Imports and Set-up"
   ]
  },
  {
   "cell_type": "code",
   "execution_count": 16,
   "metadata": {},
   "outputs": [],
   "source": [
    "import pandas as pd\n",
    "import numpy as np\n",
    "%matplotlib inline"
   ]
  },
  {
   "cell_type": "code",
   "execution_count": 17,
   "metadata": {},
   "outputs": [
    {
     "data": {
      "text/html": [
       "        <script type=\"text/javascript\">\n",
       "        window.PlotlyConfig = {MathJaxConfig: 'local'};\n",
       "        if (window.MathJax) {MathJax.Hub.Config({SVG: {font: \"STIX-Web\"}});}\n",
       "        if (typeof require !== 'undefined') {\n",
       "        require.undef(\"plotly\");\n",
       "        requirejs.config({\n",
       "            paths: {\n",
       "                'plotly': ['https://cdn.plot.ly/plotly-latest.min']\n",
       "            }\n",
       "        });\n",
       "        require(['plotly'], function(Plotly) {\n",
       "            window._Plotly = Plotly;\n",
       "        });\n",
       "        }\n",
       "        </script>\n",
       "        "
      ]
     },
     "metadata": {},
     "output_type": "display_data"
    },
    {
     "data": {
      "text/html": [
       "        <script type=\"text/javascript\">\n",
       "        window.PlotlyConfig = {MathJaxConfig: 'local'};\n",
       "        if (window.MathJax) {MathJax.Hub.Config({SVG: {font: \"STIX-Web\"}});}\n",
       "        if (typeof require !== 'undefined') {\n",
       "        require.undef(\"plotly\");\n",
       "        requirejs.config({\n",
       "            paths: {\n",
       "                'plotly': ['https://cdn.plot.ly/plotly-latest.min']\n",
       "            }\n",
       "        });\n",
       "        require(['plotly'], function(Plotly) {\n",
       "            window._Plotly = Plotly;\n",
       "        });\n",
       "        }\n",
       "        </script>\n",
       "        "
      ]
     },
     "metadata": {},
     "output_type": "display_data"
    },
    {
     "name": "stdout",
     "output_type": "stream",
     "text": [
      "4.14.3\n"
     ]
    }
   ],
   "source": [
    "from plotly import __version__\n",
    "from plotly.offline import download_plotlyjs, init_notebook_mode, plot, iplot\n",
    "import cufflinks as cf\n",
    "init_notebook_mode(connected=True)\n",
    "cf.go_offline()\n",
    "print(__version__) # requires version >= 1.9.0"
   ]
  },
  {
   "cell_type": "code",
   "execution_count": 18,
   "metadata": {},
   "outputs": [],
   "source": [
    "import cufflinks as cf"
   ]
  },
  {
   "cell_type": "code",
   "execution_count": 19,
   "metadata": {},
   "outputs": [
    {
     "data": {
      "text/html": [
       "        <script type=\"text/javascript\">\n",
       "        window.PlotlyConfig = {MathJaxConfig: 'local'};\n",
       "        if (window.MathJax) {MathJax.Hub.Config({SVG: {font: \"STIX-Web\"}});}\n",
       "        if (typeof require !== 'undefined') {\n",
       "        require.undef(\"plotly\");\n",
       "        requirejs.config({\n",
       "            paths: {\n",
       "                'plotly': ['https://cdn.plot.ly/plotly-latest.min']\n",
       "            }\n",
       "        });\n",
       "        require(['plotly'], function(Plotly) {\n",
       "            window._Plotly = Plotly;\n",
       "        });\n",
       "        }\n",
       "        </script>\n",
       "        "
      ]
     },
     "metadata": {},
     "output_type": "display_data"
    }
   ],
   "source": [
    "# For Notebooks\n",
    "init_notebook_mode(connected=True)"
   ]
  },
  {
   "cell_type": "code",
   "execution_count": 20,
   "metadata": {},
   "outputs": [
    {
     "data": {
      "text/html": [
       "        <script type=\"text/javascript\">\n",
       "        window.PlotlyConfig = {MathJaxConfig: 'local'};\n",
       "        if (window.MathJax) {MathJax.Hub.Config({SVG: {font: \"STIX-Web\"}});}\n",
       "        if (typeof require !== 'undefined') {\n",
       "        require.undef(\"plotly\");\n",
       "        requirejs.config({\n",
       "            paths: {\n",
       "                'plotly': ['https://cdn.plot.ly/plotly-latest.min']\n",
       "            }\n",
       "        });\n",
       "        require(['plotly'], function(Plotly) {\n",
       "            window._Plotly = Plotly;\n",
       "        });\n",
       "        }\n",
       "        </script>\n",
       "        "
      ]
     },
     "metadata": {},
     "output_type": "display_data"
    }
   ],
   "source": [
    "# For offline use\n",
    "cf.go_offline()"
   ]
  },
  {
   "cell_type": "markdown",
   "metadata": {},
   "source": [
    "### Fake Data"
   ]
  },
  {
   "cell_type": "code",
   "execution_count": 21,
   "metadata": {},
   "outputs": [],
   "source": [
    "df = pd.DataFrame(np.random.randn(100,4),columns='A B C D'.split())"
   ]
  },
  {
   "cell_type": "code",
   "execution_count": 22,
   "metadata": {},
   "outputs": [
    {
     "data": {
      "text/html": [
       "<div>\n",
       "<style scoped>\n",
       "    .dataframe tbody tr th:only-of-type {\n",
       "        vertical-align: middle;\n",
       "    }\n",
       "\n",
       "    .dataframe tbody tr th {\n",
       "        vertical-align: top;\n",
       "    }\n",
       "\n",
       "    .dataframe thead th {\n",
       "        text-align: right;\n",
       "    }\n",
       "</style>\n",
       "<table border=\"1\" class=\"dataframe\">\n",
       "  <thead>\n",
       "    <tr style=\"text-align: right;\">\n",
       "      <th></th>\n",
       "      <th>A</th>\n",
       "      <th>B</th>\n",
       "      <th>C</th>\n",
       "      <th>D</th>\n",
       "    </tr>\n",
       "  </thead>\n",
       "  <tbody>\n",
       "    <tr>\n",
       "      <td>0</td>\n",
       "      <td>1.305333</td>\n",
       "      <td>1.630947</td>\n",
       "      <td>-2.767458</td>\n",
       "      <td>-0.711695</td>\n",
       "    </tr>\n",
       "    <tr>\n",
       "      <td>1</td>\n",
       "      <td>0.070601</td>\n",
       "      <td>1.035336</td>\n",
       "      <td>-0.166698</td>\n",
       "      <td>1.368627</td>\n",
       "    </tr>\n",
       "    <tr>\n",
       "      <td>2</td>\n",
       "      <td>-0.627394</td>\n",
       "      <td>-0.803668</td>\n",
       "      <td>0.563468</td>\n",
       "      <td>-1.128332</td>\n",
       "    </tr>\n",
       "    <tr>\n",
       "      <td>3</td>\n",
       "      <td>0.004263</td>\n",
       "      <td>-0.639039</td>\n",
       "      <td>1.390048</td>\n",
       "      <td>0.245112</td>\n",
       "    </tr>\n",
       "    <tr>\n",
       "      <td>4</td>\n",
       "      <td>0.332697</td>\n",
       "      <td>0.017594</td>\n",
       "      <td>-1.107220</td>\n",
       "      <td>-0.574809</td>\n",
       "    </tr>\n",
       "  </tbody>\n",
       "</table>\n",
       "</div>"
      ],
      "text/plain": [
       "          A         B         C         D\n",
       "0  1.305333  1.630947 -2.767458 -0.711695\n",
       "1  0.070601  1.035336 -0.166698  1.368627\n",
       "2 -0.627394 -0.803668  0.563468 -1.128332\n",
       "3  0.004263 -0.639039  1.390048  0.245112\n",
       "4  0.332697  0.017594 -1.107220 -0.574809"
      ]
     },
     "execution_count": 22,
     "metadata": {},
     "output_type": "execute_result"
    }
   ],
   "source": [
    "df.head()"
   ]
  },
  {
   "cell_type": "code",
   "execution_count": 23,
   "metadata": {},
   "outputs": [],
   "source": [
    "df2 = pd.DataFrame({'Category':['A','B','C'],'Values':[32,43,50]})"
   ]
  },
  {
   "cell_type": "code",
   "execution_count": 24,
   "metadata": {},
   "outputs": [
    {
     "data": {
      "text/html": [
       "<div>\n",
       "<style scoped>\n",
       "    .dataframe tbody tr th:only-of-type {\n",
       "        vertical-align: middle;\n",
       "    }\n",
       "\n",
       "    .dataframe tbody tr th {\n",
       "        vertical-align: top;\n",
       "    }\n",
       "\n",
       "    .dataframe thead th {\n",
       "        text-align: right;\n",
       "    }\n",
       "</style>\n",
       "<table border=\"1\" class=\"dataframe\">\n",
       "  <thead>\n",
       "    <tr style=\"text-align: right;\">\n",
       "      <th></th>\n",
       "      <th>Category</th>\n",
       "      <th>Values</th>\n",
       "    </tr>\n",
       "  </thead>\n",
       "  <tbody>\n",
       "    <tr>\n",
       "      <td>0</td>\n",
       "      <td>A</td>\n",
       "      <td>32</td>\n",
       "    </tr>\n",
       "    <tr>\n",
       "      <td>1</td>\n",
       "      <td>B</td>\n",
       "      <td>43</td>\n",
       "    </tr>\n",
       "    <tr>\n",
       "      <td>2</td>\n",
       "      <td>C</td>\n",
       "      <td>50</td>\n",
       "    </tr>\n",
       "  </tbody>\n",
       "</table>\n",
       "</div>"
      ],
      "text/plain": [
       "  Category  Values\n",
       "0        A      32\n",
       "1        B      43\n",
       "2        C      50"
      ]
     },
     "execution_count": 24,
     "metadata": {},
     "output_type": "execute_result"
    }
   ],
   "source": [
    "df2.head()"
   ]
  },
  {
   "cell_type": "markdown",
   "metadata": {},
   "source": [
    "## Using Cufflinks and iplot()\n",
    "\n",
    "* scatter\n",
    "* bar\n",
    "* box\n",
    "* spread\n",
    "* ratio\n",
    "* heatmap\n",
    "* surface\n",
    "* histogram\n",
    "* bubble"
   ]
  },
  {
   "cell_type": "markdown",
   "metadata": {},
   "source": [
    "## Scatter"
   ]
  },
  {
   "cell_type": "code",
   "execution_count": 25,
   "metadata": {},
   "outputs": [
    {
     "data": {
      "text/html": [
       "<div>\n",
       "<style scoped>\n",
       "    .dataframe tbody tr th:only-of-type {\n",
       "        vertical-align: middle;\n",
       "    }\n",
       "\n",
       "    .dataframe tbody tr th {\n",
       "        vertical-align: top;\n",
       "    }\n",
       "\n",
       "    .dataframe thead th {\n",
       "        text-align: right;\n",
       "    }\n",
       "</style>\n",
       "<table border=\"1\" class=\"dataframe\">\n",
       "  <thead>\n",
       "    <tr style=\"text-align: right;\">\n",
       "      <th></th>\n",
       "      <th>A</th>\n",
       "      <th>B</th>\n",
       "      <th>C</th>\n",
       "      <th>D</th>\n",
       "    </tr>\n",
       "  </thead>\n",
       "  <tbody>\n",
       "    <tr>\n",
       "      <td>0</td>\n",
       "      <td>1.305333</td>\n",
       "      <td>1.630947</td>\n",
       "      <td>-2.767458</td>\n",
       "      <td>-0.711695</td>\n",
       "    </tr>\n",
       "    <tr>\n",
       "      <td>1</td>\n",
       "      <td>0.070601</td>\n",
       "      <td>1.035336</td>\n",
       "      <td>-0.166698</td>\n",
       "      <td>1.368627</td>\n",
       "    </tr>\n",
       "    <tr>\n",
       "      <td>2</td>\n",
       "      <td>-0.627394</td>\n",
       "      <td>-0.803668</td>\n",
       "      <td>0.563468</td>\n",
       "      <td>-1.128332</td>\n",
       "    </tr>\n",
       "    <tr>\n",
       "      <td>3</td>\n",
       "      <td>0.004263</td>\n",
       "      <td>-0.639039</td>\n",
       "      <td>1.390048</td>\n",
       "      <td>0.245112</td>\n",
       "    </tr>\n",
       "    <tr>\n",
       "      <td>4</td>\n",
       "      <td>0.332697</td>\n",
       "      <td>0.017594</td>\n",
       "      <td>-1.107220</td>\n",
       "      <td>-0.574809</td>\n",
       "    </tr>\n",
       "  </tbody>\n",
       "</table>\n",
       "</div>"
      ],
      "text/plain": [
       "          A         B         C         D\n",
       "0  1.305333  1.630947 -2.767458 -0.711695\n",
       "1  0.070601  1.035336 -0.166698  1.368627\n",
       "2 -0.627394 -0.803668  0.563468 -1.128332\n",
       "3  0.004263 -0.639039  1.390048  0.245112\n",
       "4  0.332697  0.017594 -1.107220 -0.574809"
      ]
     },
     "execution_count": 25,
     "metadata": {},
     "output_type": "execute_result"
    }
   ],
   "source": [
    "df.head()"
   ]
  },
  {
   "cell_type": "code",
   "execution_count": 28,
   "metadata": {},
   "outputs": [],
   "source": [
    "?df.iplot"
   ]
  },
  {
   "cell_type": "code",
   "execution_count": 26,
   "metadata": {},
   "outputs": [
    {
     "data": {
      "application/vnd.plotly.v1+json": {
       "config": {
        "linkText": "Export to plot.ly",
        "plotlyServerURL": "https://plot.ly",
        "showLink": true
       },
       "data": [
        {
         "line": {
          "color": "rgba(255, 153, 51, 1.0)",
          "dash": "solid",
          "shape": "linear",
          "width": 1.3
         },
         "marker": {
          "size": 10,
          "symbol": "circle"
         },
         "mode": "markers",
         "name": "B",
         "text": "",
         "type": "scatter",
         "x": [
          1.3053331208646823,
          0.07060102470828908,
          -0.6273942586787559,
          0.004262752916752885,
          0.33269698893402844,
          0.6381332330436322,
          0.24953082585115638,
          -0.6635050291288116,
          0.6835631662903746,
          1.5770846419984614,
          -0.7726922422354031,
          -1.5429400180576067,
          1.642265245249487,
          1.549569141247283,
          0.39315117339191485,
          -1.0431315642162016,
          -1.6252231516066178,
          -0.7916527971842998,
          -1.2890079772656593,
          1.004418500310948,
          -0.5589136128780355,
          -0.4640747763041346,
          -0.11171786422902721,
          -0.5238320954092597,
          0.1820717288832561,
          -0.5068920760994189,
          -1.1323219804508442,
          -0.7093625848097523,
          1.282583461177605,
          0.28798853552936154,
          -1.4492261527593004,
          0.08019857924561238,
          -0.42663887160206737,
          0.007713262320147132,
          -0.22995729291620196,
          -0.4031456406612522,
          -0.520817758793495,
          0.4870015471035602,
          -0.6952836830641216,
          -1.9672774602854737,
          0.38333036655448166,
          1.012267251684254,
          0.9487347479148777,
          -0.29387374329485316,
          1.4875276905637784,
          -1.138740644536728,
          0.7328102520111326,
          -0.5071328091386446,
          -2.0036048993620366,
          -0.7074874948843983,
          -0.019357493238301663,
          1.4218962031981197,
          0.3919582635466916,
          0.4765901721878717,
          0.9078347526694567,
          1.349785021124678,
          -0.6442803590411373,
          -0.8157384640894977,
          0.8545751271642288,
          0.02732970739246397,
          -1.4086507135676758,
          -1.1615326955464176,
          0.5517476029061444,
          1.1970464152783742,
          1.4125656926621974,
          -2.134655033934945,
          -0.8013651102182543,
          0.5338316611515622,
          0.4753333994537918,
          0.621567058825844,
          0.6197471909583855,
          -0.2539684802411737,
          0.5689993204185823,
          -0.1504093600239531,
          -1.2348996150044766,
          0.6268715019805275,
          1.6253285667166122,
          0.55108332992706,
          1.007159727247772,
          -0.2771771604910772,
          -0.4905496435780057,
          -1.7000675214060434,
          0.40701724765290015,
          0.16990459238652522,
          0.2563952626726051,
          -0.04783612625895467,
          1.7431600405645302,
          -0.6657261253325057,
          -1.5724136533368314,
          2.4612522037080176,
          0.1107107364017812,
          1.001711399428715,
          1.1070976428117987,
          -0.9770487545161375,
          -0.6507292296440169,
          3.143184255064228,
          -0.32664015028959437,
          0.5862206865519192,
          -0.4425622602749207,
          -0.1804513064053195
         ],
         "y": [
          1.6309467201026118,
          1.0353355404547708,
          -0.8036678008318449,
          -0.6390392045016413,
          0.017594143145196577,
          -0.0715072318274745,
          1.3556358489614495,
          1.1101134128420638,
          -0.8737694828885728,
          0.6058582635619374,
          -0.6284571787436664,
          1.2301587939004854,
          0.4054570950752798,
          1.765877274206219,
          -0.08959183924295669,
          0.13797096034569215,
          -1.2813787858246608,
          0.1626005441331333,
          1.7950282217711162,
          2.262318586033149,
          0.8146952802160763,
          -0.3098401446461445,
          -1.0938451643677214,
          0.5541742007752135,
          -2.754004422987266,
          -0.7235086960400885,
          0.22061214524020195,
          0.23550807333064203,
          1.2894235188715812,
          -1.333219483264905,
          0.2128271325739893,
          0.7379221335262379,
          -1.2432932957135165,
          -0.5367641512087755,
          0.7930064150933593,
          0.6540245569611776,
          -2.2036870051828368,
          -0.2914376764967331,
          0.8211781114038501,
          2.2560419549707706,
          -0.45574942073765284,
          0.7185868793073477,
          0.3833683511776934,
          -0.36349599697531587,
          -0.012339390444214112,
          -0.3078544379392602,
          0.6175951879989545,
          1.3964716419650605,
          0.8837657353548712,
          -0.8705626874815445,
          -1.3187336091898998,
          0.2721492880078098,
          0.7865338618938248,
          0.6877075046567835,
          -0.5541405238744319,
          1.1118495834138304,
          -1.0490916250222888,
          0.2254482897218262,
          -0.0021306903324297324,
          -0.5679756555319595,
          -0.31971970800530286,
          -1.1879632738737522,
          -0.35778373477610265,
          1.009820195278712,
          1.2577909698180443,
          -1.1534895590226226,
          0.525617414606756,
          0.5950175804697759,
          0.5158501196316756,
          -1.1011892181884337,
          -1.0036096779108812,
          0.24161569735384408,
          0.5471379551065907,
          0.24806126683392557,
          1.3188524169553577,
          -0.681803762550244,
          0.44489791829464104,
          -1.0770991472673643,
          -0.2702653351658772,
          1.920405238566168,
          0.7728506891131075,
          0.3285564148991624,
          -0.7165849222399514,
          0.9789203519022144,
          -1.1352369943064693,
          -0.023468998930981148,
          -0.18350668657987979,
          -0.8448702446904687,
          -0.6276080621946575,
          -0.029059002292832786,
          -1.609997946531054,
          1.9844329334417505,
          1.6906128594831182,
          0.5217013002324701,
          -0.6526832834035879,
          -0.07904325636077197,
          -0.24486640716365835,
          -0.27849583933871974,
          -1.0454892278326873,
          2.07357410565525
         ]
        }
       ],
       "layout": {
        "legend": {
         "bgcolor": "#F5F6F9",
         "font": {
          "color": "#4D5663"
         }
        },
        "paper_bgcolor": "#F5F6F9",
        "plot_bgcolor": "#F5F6F9",
        "template": {
         "data": {
          "bar": [
           {
            "error_x": {
             "color": "#2a3f5f"
            },
            "error_y": {
             "color": "#2a3f5f"
            },
            "marker": {
             "line": {
              "color": "#E5ECF6",
              "width": 0.5
             }
            },
            "type": "bar"
           }
          ],
          "barpolar": [
           {
            "marker": {
             "line": {
              "color": "#E5ECF6",
              "width": 0.5
             }
            },
            "type": "barpolar"
           }
          ],
          "carpet": [
           {
            "aaxis": {
             "endlinecolor": "#2a3f5f",
             "gridcolor": "white",
             "linecolor": "white",
             "minorgridcolor": "white",
             "startlinecolor": "#2a3f5f"
            },
            "baxis": {
             "endlinecolor": "#2a3f5f",
             "gridcolor": "white",
             "linecolor": "white",
             "minorgridcolor": "white",
             "startlinecolor": "#2a3f5f"
            },
            "type": "carpet"
           }
          ],
          "choropleth": [
           {
            "colorbar": {
             "outlinewidth": 0,
             "ticks": ""
            },
            "type": "choropleth"
           }
          ],
          "contour": [
           {
            "colorbar": {
             "outlinewidth": 0,
             "ticks": ""
            },
            "colorscale": [
             [
              0,
              "#0d0887"
             ],
             [
              0.1111111111111111,
              "#46039f"
             ],
             [
              0.2222222222222222,
              "#7201a8"
             ],
             [
              0.3333333333333333,
              "#9c179e"
             ],
             [
              0.4444444444444444,
              "#bd3786"
             ],
             [
              0.5555555555555556,
              "#d8576b"
             ],
             [
              0.6666666666666666,
              "#ed7953"
             ],
             [
              0.7777777777777778,
              "#fb9f3a"
             ],
             [
              0.8888888888888888,
              "#fdca26"
             ],
             [
              1,
              "#f0f921"
             ]
            ],
            "type": "contour"
           }
          ],
          "contourcarpet": [
           {
            "colorbar": {
             "outlinewidth": 0,
             "ticks": ""
            },
            "type": "contourcarpet"
           }
          ],
          "heatmap": [
           {
            "colorbar": {
             "outlinewidth": 0,
             "ticks": ""
            },
            "colorscale": [
             [
              0,
              "#0d0887"
             ],
             [
              0.1111111111111111,
              "#46039f"
             ],
             [
              0.2222222222222222,
              "#7201a8"
             ],
             [
              0.3333333333333333,
              "#9c179e"
             ],
             [
              0.4444444444444444,
              "#bd3786"
             ],
             [
              0.5555555555555556,
              "#d8576b"
             ],
             [
              0.6666666666666666,
              "#ed7953"
             ],
             [
              0.7777777777777778,
              "#fb9f3a"
             ],
             [
              0.8888888888888888,
              "#fdca26"
             ],
             [
              1,
              "#f0f921"
             ]
            ],
            "type": "heatmap"
           }
          ],
          "heatmapgl": [
           {
            "colorbar": {
             "outlinewidth": 0,
             "ticks": ""
            },
            "colorscale": [
             [
              0,
              "#0d0887"
             ],
             [
              0.1111111111111111,
              "#46039f"
             ],
             [
              0.2222222222222222,
              "#7201a8"
             ],
             [
              0.3333333333333333,
              "#9c179e"
             ],
             [
              0.4444444444444444,
              "#bd3786"
             ],
             [
              0.5555555555555556,
              "#d8576b"
             ],
             [
              0.6666666666666666,
              "#ed7953"
             ],
             [
              0.7777777777777778,
              "#fb9f3a"
             ],
             [
              0.8888888888888888,
              "#fdca26"
             ],
             [
              1,
              "#f0f921"
             ]
            ],
            "type": "heatmapgl"
           }
          ],
          "histogram": [
           {
            "marker": {
             "colorbar": {
              "outlinewidth": 0,
              "ticks": ""
             }
            },
            "type": "histogram"
           }
          ],
          "histogram2d": [
           {
            "colorbar": {
             "outlinewidth": 0,
             "ticks": ""
            },
            "colorscale": [
             [
              0,
              "#0d0887"
             ],
             [
              0.1111111111111111,
              "#46039f"
             ],
             [
              0.2222222222222222,
              "#7201a8"
             ],
             [
              0.3333333333333333,
              "#9c179e"
             ],
             [
              0.4444444444444444,
              "#bd3786"
             ],
             [
              0.5555555555555556,
              "#d8576b"
             ],
             [
              0.6666666666666666,
              "#ed7953"
             ],
             [
              0.7777777777777778,
              "#fb9f3a"
             ],
             [
              0.8888888888888888,
              "#fdca26"
             ],
             [
              1,
              "#f0f921"
             ]
            ],
            "type": "histogram2d"
           }
          ],
          "histogram2dcontour": [
           {
            "colorbar": {
             "outlinewidth": 0,
             "ticks": ""
            },
            "colorscale": [
             [
              0,
              "#0d0887"
             ],
             [
              0.1111111111111111,
              "#46039f"
             ],
             [
              0.2222222222222222,
              "#7201a8"
             ],
             [
              0.3333333333333333,
              "#9c179e"
             ],
             [
              0.4444444444444444,
              "#bd3786"
             ],
             [
              0.5555555555555556,
              "#d8576b"
             ],
             [
              0.6666666666666666,
              "#ed7953"
             ],
             [
              0.7777777777777778,
              "#fb9f3a"
             ],
             [
              0.8888888888888888,
              "#fdca26"
             ],
             [
              1,
              "#f0f921"
             ]
            ],
            "type": "histogram2dcontour"
           }
          ],
          "mesh3d": [
           {
            "colorbar": {
             "outlinewidth": 0,
             "ticks": ""
            },
            "type": "mesh3d"
           }
          ],
          "parcoords": [
           {
            "line": {
             "colorbar": {
              "outlinewidth": 0,
              "ticks": ""
             }
            },
            "type": "parcoords"
           }
          ],
          "pie": [
           {
            "automargin": true,
            "type": "pie"
           }
          ],
          "scatter": [
           {
            "marker": {
             "colorbar": {
              "outlinewidth": 0,
              "ticks": ""
             }
            },
            "type": "scatter"
           }
          ],
          "scatter3d": [
           {
            "line": {
             "colorbar": {
              "outlinewidth": 0,
              "ticks": ""
             }
            },
            "marker": {
             "colorbar": {
              "outlinewidth": 0,
              "ticks": ""
             }
            },
            "type": "scatter3d"
           }
          ],
          "scattercarpet": [
           {
            "marker": {
             "colorbar": {
              "outlinewidth": 0,
              "ticks": ""
             }
            },
            "type": "scattercarpet"
           }
          ],
          "scattergeo": [
           {
            "marker": {
             "colorbar": {
              "outlinewidth": 0,
              "ticks": ""
             }
            },
            "type": "scattergeo"
           }
          ],
          "scattergl": [
           {
            "marker": {
             "colorbar": {
              "outlinewidth": 0,
              "ticks": ""
             }
            },
            "type": "scattergl"
           }
          ],
          "scattermapbox": [
           {
            "marker": {
             "colorbar": {
              "outlinewidth": 0,
              "ticks": ""
             }
            },
            "type": "scattermapbox"
           }
          ],
          "scatterpolar": [
           {
            "marker": {
             "colorbar": {
              "outlinewidth": 0,
              "ticks": ""
             }
            },
            "type": "scatterpolar"
           }
          ],
          "scatterpolargl": [
           {
            "marker": {
             "colorbar": {
              "outlinewidth": 0,
              "ticks": ""
             }
            },
            "type": "scatterpolargl"
           }
          ],
          "scatterternary": [
           {
            "marker": {
             "colorbar": {
              "outlinewidth": 0,
              "ticks": ""
             }
            },
            "type": "scatterternary"
           }
          ],
          "surface": [
           {
            "colorbar": {
             "outlinewidth": 0,
             "ticks": ""
            },
            "colorscale": [
             [
              0,
              "#0d0887"
             ],
             [
              0.1111111111111111,
              "#46039f"
             ],
             [
              0.2222222222222222,
              "#7201a8"
             ],
             [
              0.3333333333333333,
              "#9c179e"
             ],
             [
              0.4444444444444444,
              "#bd3786"
             ],
             [
              0.5555555555555556,
              "#d8576b"
             ],
             [
              0.6666666666666666,
              "#ed7953"
             ],
             [
              0.7777777777777778,
              "#fb9f3a"
             ],
             [
              0.8888888888888888,
              "#fdca26"
             ],
             [
              1,
              "#f0f921"
             ]
            ],
            "type": "surface"
           }
          ],
          "table": [
           {
            "cells": {
             "fill": {
              "color": "#EBF0F8"
             },
             "line": {
              "color": "white"
             }
            },
            "header": {
             "fill": {
              "color": "#C8D4E3"
             },
             "line": {
              "color": "white"
             }
            },
            "type": "table"
           }
          ]
         },
         "layout": {
          "annotationdefaults": {
           "arrowcolor": "#2a3f5f",
           "arrowhead": 0,
           "arrowwidth": 1
          },
          "autotypenumbers": "strict",
          "coloraxis": {
           "colorbar": {
            "outlinewidth": 0,
            "ticks": ""
           }
          },
          "colorscale": {
           "diverging": [
            [
             0,
             "#8e0152"
            ],
            [
             0.1,
             "#c51b7d"
            ],
            [
             0.2,
             "#de77ae"
            ],
            [
             0.3,
             "#f1b6da"
            ],
            [
             0.4,
             "#fde0ef"
            ],
            [
             0.5,
             "#f7f7f7"
            ],
            [
             0.6,
             "#e6f5d0"
            ],
            [
             0.7,
             "#b8e186"
            ],
            [
             0.8,
             "#7fbc41"
            ],
            [
             0.9,
             "#4d9221"
            ],
            [
             1,
             "#276419"
            ]
           ],
           "sequential": [
            [
             0,
             "#0d0887"
            ],
            [
             0.1111111111111111,
             "#46039f"
            ],
            [
             0.2222222222222222,
             "#7201a8"
            ],
            [
             0.3333333333333333,
             "#9c179e"
            ],
            [
             0.4444444444444444,
             "#bd3786"
            ],
            [
             0.5555555555555556,
             "#d8576b"
            ],
            [
             0.6666666666666666,
             "#ed7953"
            ],
            [
             0.7777777777777778,
             "#fb9f3a"
            ],
            [
             0.8888888888888888,
             "#fdca26"
            ],
            [
             1,
             "#f0f921"
            ]
           ],
           "sequentialminus": [
            [
             0,
             "#0d0887"
            ],
            [
             0.1111111111111111,
             "#46039f"
            ],
            [
             0.2222222222222222,
             "#7201a8"
            ],
            [
             0.3333333333333333,
             "#9c179e"
            ],
            [
             0.4444444444444444,
             "#bd3786"
            ],
            [
             0.5555555555555556,
             "#d8576b"
            ],
            [
             0.6666666666666666,
             "#ed7953"
            ],
            [
             0.7777777777777778,
             "#fb9f3a"
            ],
            [
             0.8888888888888888,
             "#fdca26"
            ],
            [
             1,
             "#f0f921"
            ]
           ]
          },
          "colorway": [
           "#636efa",
           "#EF553B",
           "#00cc96",
           "#ab63fa",
           "#FFA15A",
           "#19d3f3",
           "#FF6692",
           "#B6E880",
           "#FF97FF",
           "#FECB52"
          ],
          "font": {
           "color": "#2a3f5f"
          },
          "geo": {
           "bgcolor": "white",
           "lakecolor": "white",
           "landcolor": "#E5ECF6",
           "showlakes": true,
           "showland": true,
           "subunitcolor": "white"
          },
          "hoverlabel": {
           "align": "left"
          },
          "hovermode": "closest",
          "mapbox": {
           "style": "light"
          },
          "paper_bgcolor": "white",
          "plot_bgcolor": "#E5ECF6",
          "polar": {
           "angularaxis": {
            "gridcolor": "white",
            "linecolor": "white",
            "ticks": ""
           },
           "bgcolor": "#E5ECF6",
           "radialaxis": {
            "gridcolor": "white",
            "linecolor": "white",
            "ticks": ""
           }
          },
          "scene": {
           "xaxis": {
            "backgroundcolor": "#E5ECF6",
            "gridcolor": "white",
            "gridwidth": 2,
            "linecolor": "white",
            "showbackground": true,
            "ticks": "",
            "zerolinecolor": "white"
           },
           "yaxis": {
            "backgroundcolor": "#E5ECF6",
            "gridcolor": "white",
            "gridwidth": 2,
            "linecolor": "white",
            "showbackground": true,
            "ticks": "",
            "zerolinecolor": "white"
           },
           "zaxis": {
            "backgroundcolor": "#E5ECF6",
            "gridcolor": "white",
            "gridwidth": 2,
            "linecolor": "white",
            "showbackground": true,
            "ticks": "",
            "zerolinecolor": "white"
           }
          },
          "shapedefaults": {
           "line": {
            "color": "#2a3f5f"
           }
          },
          "ternary": {
           "aaxis": {
            "gridcolor": "white",
            "linecolor": "white",
            "ticks": ""
           },
           "baxis": {
            "gridcolor": "white",
            "linecolor": "white",
            "ticks": ""
           },
           "bgcolor": "#E5ECF6",
           "caxis": {
            "gridcolor": "white",
            "linecolor": "white",
            "ticks": ""
           }
          },
          "title": {
           "x": 0.05
          },
          "xaxis": {
           "automargin": true,
           "gridcolor": "white",
           "linecolor": "white",
           "ticks": "",
           "title": {
            "standoff": 15
           },
           "zerolinecolor": "white",
           "zerolinewidth": 2
          },
          "yaxis": {
           "automargin": true,
           "gridcolor": "white",
           "linecolor": "white",
           "ticks": "",
           "title": {
            "standoff": 15
           },
           "zerolinecolor": "white",
           "zerolinewidth": 2
          }
         }
        },
        "title": {
         "font": {
          "color": "#4D5663"
         }
        },
        "xaxis": {
         "gridcolor": "#E1E5ED",
         "showgrid": true,
         "tickfont": {
          "color": "#4D5663"
         },
         "title": {
          "font": {
           "color": "#4D5663"
          },
          "text": ""
         },
         "zerolinecolor": "#E1E5ED"
        },
        "yaxis": {
         "gridcolor": "#E1E5ED",
         "showgrid": true,
         "tickfont": {
          "color": "#4D5663"
         },
         "title": {
          "font": {
           "color": "#4D5663"
          },
          "text": ""
         },
         "zerolinecolor": "#E1E5ED"
        }
       }
      },
      "text/html": [
       "<div>                            <div id=\"546ff740-a9d6-445e-844d-5912c010e1cb\" class=\"plotly-graph-div\" style=\"height:525px; width:100%;\"></div>            <script type=\"text/javascript\">                require([\"plotly\"], function(Plotly) {                    window.PLOTLYENV=window.PLOTLYENV || {};\n",
       "                    window.PLOTLYENV.BASE_URL='https://plot.ly';                                    if (document.getElementById(\"546ff740-a9d6-445e-844d-5912c010e1cb\")) {                    Plotly.newPlot(                        \"546ff740-a9d6-445e-844d-5912c010e1cb\",                        [{\"line\": {\"color\": \"rgba(255, 153, 51, 1.0)\", \"dash\": \"solid\", \"shape\": \"linear\", \"width\": 1.3}, \"marker\": {\"size\": 10, \"symbol\": \"circle\"}, \"mode\": \"markers\", \"name\": \"B\", \"text\": \"\", \"type\": \"scatter\", \"x\": [1.3053331208646823, 0.07060102470828908, -0.6273942586787559, 0.004262752916752885, 0.33269698893402844, 0.6381332330436322, 0.24953082585115638, -0.6635050291288116, 0.6835631662903746, 1.5770846419984614, -0.7726922422354031, -1.5429400180576067, 1.642265245249487, 1.549569141247283, 0.39315117339191485, -1.0431315642162016, -1.6252231516066178, -0.7916527971842998, -1.2890079772656593, 1.004418500310948, -0.5589136128780355, -0.4640747763041346, -0.11171786422902721, -0.5238320954092597, 0.1820717288832561, -0.5068920760994189, -1.1323219804508442, -0.7093625848097523, 1.282583461177605, 0.28798853552936154, -1.4492261527593004, 0.08019857924561238, -0.42663887160206737, 0.007713262320147132, -0.22995729291620196, -0.4031456406612522, -0.520817758793495, 0.4870015471035602, -0.6952836830641216, -1.9672774602854737, 0.38333036655448166, 1.012267251684254, 0.9487347479148777, -0.29387374329485316, 1.4875276905637784, -1.138740644536728, 0.7328102520111326, -0.5071328091386446, -2.0036048993620366, -0.7074874948843983, -0.019357493238301663, 1.4218962031981197, 0.3919582635466916, 0.4765901721878717, 0.9078347526694567, 1.349785021124678, -0.6442803590411373, -0.8157384640894977, 0.8545751271642288, 0.02732970739246397, -1.4086507135676758, -1.1615326955464176, 0.5517476029061444, 1.1970464152783742, 1.4125656926621974, -2.134655033934945, -0.8013651102182543, 0.5338316611515622, 0.4753333994537918, 0.621567058825844, 0.6197471909583855, -0.2539684802411737, 0.5689993204185823, -0.1504093600239531, -1.2348996150044766, 0.6268715019805275, 1.6253285667166122, 0.55108332992706, 1.007159727247772, -0.2771771604910772, -0.4905496435780057, -1.7000675214060434, 0.40701724765290015, 0.16990459238652522, 0.2563952626726051, -0.04783612625895467, 1.7431600405645302, -0.6657261253325057, -1.5724136533368314, 2.4612522037080176, 0.1107107364017812, 1.001711399428715, 1.1070976428117987, -0.9770487545161375, -0.6507292296440169, 3.143184255064228, -0.32664015028959437, 0.5862206865519192, -0.4425622602749207, -0.1804513064053195], \"y\": [1.6309467201026118, 1.0353355404547708, -0.8036678008318449, -0.6390392045016413, 0.017594143145196577, -0.0715072318274745, 1.3556358489614495, 1.1101134128420638, -0.8737694828885728, 0.6058582635619374, -0.6284571787436664, 1.2301587939004854, 0.4054570950752798, 1.765877274206219, -0.08959183924295669, 0.13797096034569215, -1.2813787858246608, 0.1626005441331333, 1.7950282217711162, 2.262318586033149, 0.8146952802160763, -0.3098401446461445, -1.0938451643677214, 0.5541742007752135, -2.754004422987266, -0.7235086960400885, 0.22061214524020195, 0.23550807333064203, 1.2894235188715812, -1.333219483264905, 0.2128271325739893, 0.7379221335262379, -1.2432932957135165, -0.5367641512087755, 0.7930064150933593, 0.6540245569611776, -2.2036870051828368, -0.2914376764967331, 0.8211781114038501, 2.2560419549707706, -0.45574942073765284, 0.7185868793073477, 0.3833683511776934, -0.36349599697531587, -0.012339390444214112, -0.3078544379392602, 0.6175951879989545, 1.3964716419650605, 0.8837657353548712, -0.8705626874815445, -1.3187336091898998, 0.2721492880078098, 0.7865338618938248, 0.6877075046567835, -0.5541405238744319, 1.1118495834138304, -1.0490916250222888, 0.2254482897218262, -0.0021306903324297324, -0.5679756555319595, -0.31971970800530286, -1.1879632738737522, -0.35778373477610265, 1.009820195278712, 1.2577909698180443, -1.1534895590226226, 0.525617414606756, 0.5950175804697759, 0.5158501196316756, -1.1011892181884337, -1.0036096779108812, 0.24161569735384408, 0.5471379551065907, 0.24806126683392557, 1.3188524169553577, -0.681803762550244, 0.44489791829464104, -1.0770991472673643, -0.2702653351658772, 1.920405238566168, 0.7728506891131075, 0.3285564148991624, -0.7165849222399514, 0.9789203519022144, -1.1352369943064693, -0.023468998930981148, -0.18350668657987979, -0.8448702446904687, -0.6276080621946575, -0.029059002292832786, -1.609997946531054, 1.9844329334417505, 1.6906128594831182, 0.5217013002324701, -0.6526832834035879, -0.07904325636077197, -0.24486640716365835, -0.27849583933871974, -1.0454892278326873, 2.07357410565525]}],                        {\"legend\": {\"bgcolor\": \"#F5F6F9\", \"font\": {\"color\": \"#4D5663\"}}, \"paper_bgcolor\": \"#F5F6F9\", \"plot_bgcolor\": \"#F5F6F9\", \"template\": {\"data\": {\"bar\": [{\"error_x\": {\"color\": \"#2a3f5f\"}, \"error_y\": {\"color\": \"#2a3f5f\"}, \"marker\": {\"line\": {\"color\": \"#E5ECF6\", \"width\": 0.5}}, \"type\": \"bar\"}], \"barpolar\": [{\"marker\": {\"line\": {\"color\": \"#E5ECF6\", \"width\": 0.5}}, \"type\": \"barpolar\"}], \"carpet\": [{\"aaxis\": {\"endlinecolor\": \"#2a3f5f\", \"gridcolor\": \"white\", \"linecolor\": \"white\", \"minorgridcolor\": \"white\", \"startlinecolor\": \"#2a3f5f\"}, \"baxis\": {\"endlinecolor\": \"#2a3f5f\", \"gridcolor\": \"white\", \"linecolor\": \"white\", \"minorgridcolor\": \"white\", \"startlinecolor\": \"#2a3f5f\"}, \"type\": \"carpet\"}], \"choropleth\": [{\"colorbar\": {\"outlinewidth\": 0, \"ticks\": \"\"}, \"type\": \"choropleth\"}], \"contour\": [{\"colorbar\": {\"outlinewidth\": 0, \"ticks\": \"\"}, \"colorscale\": [[0.0, \"#0d0887\"], [0.1111111111111111, \"#46039f\"], [0.2222222222222222, \"#7201a8\"], [0.3333333333333333, \"#9c179e\"], [0.4444444444444444, \"#bd3786\"], [0.5555555555555556, \"#d8576b\"], [0.6666666666666666, \"#ed7953\"], [0.7777777777777778, \"#fb9f3a\"], [0.8888888888888888, \"#fdca26\"], [1.0, \"#f0f921\"]], \"type\": \"contour\"}], \"contourcarpet\": [{\"colorbar\": {\"outlinewidth\": 0, \"ticks\": \"\"}, \"type\": \"contourcarpet\"}], \"heatmap\": [{\"colorbar\": {\"outlinewidth\": 0, \"ticks\": \"\"}, \"colorscale\": [[0.0, \"#0d0887\"], [0.1111111111111111, \"#46039f\"], [0.2222222222222222, \"#7201a8\"], [0.3333333333333333, \"#9c179e\"], [0.4444444444444444, \"#bd3786\"], [0.5555555555555556, \"#d8576b\"], [0.6666666666666666, \"#ed7953\"], [0.7777777777777778, \"#fb9f3a\"], [0.8888888888888888, \"#fdca26\"], [1.0, \"#f0f921\"]], \"type\": \"heatmap\"}], \"heatmapgl\": [{\"colorbar\": {\"outlinewidth\": 0, \"ticks\": \"\"}, \"colorscale\": [[0.0, \"#0d0887\"], [0.1111111111111111, \"#46039f\"], [0.2222222222222222, \"#7201a8\"], [0.3333333333333333, \"#9c179e\"], [0.4444444444444444, \"#bd3786\"], [0.5555555555555556, \"#d8576b\"], [0.6666666666666666, \"#ed7953\"], [0.7777777777777778, \"#fb9f3a\"], [0.8888888888888888, \"#fdca26\"], [1.0, \"#f0f921\"]], \"type\": \"heatmapgl\"}], \"histogram\": [{\"marker\": {\"colorbar\": {\"outlinewidth\": 0, \"ticks\": \"\"}}, \"type\": \"histogram\"}], \"histogram2d\": [{\"colorbar\": {\"outlinewidth\": 0, \"ticks\": \"\"}, \"colorscale\": [[0.0, \"#0d0887\"], [0.1111111111111111, \"#46039f\"], [0.2222222222222222, \"#7201a8\"], [0.3333333333333333, \"#9c179e\"], [0.4444444444444444, \"#bd3786\"], [0.5555555555555556, \"#d8576b\"], [0.6666666666666666, \"#ed7953\"], [0.7777777777777778, \"#fb9f3a\"], [0.8888888888888888, \"#fdca26\"], [1.0, \"#f0f921\"]], \"type\": \"histogram2d\"}], \"histogram2dcontour\": [{\"colorbar\": {\"outlinewidth\": 0, \"ticks\": \"\"}, \"colorscale\": [[0.0, \"#0d0887\"], [0.1111111111111111, \"#46039f\"], [0.2222222222222222, \"#7201a8\"], [0.3333333333333333, \"#9c179e\"], [0.4444444444444444, \"#bd3786\"], [0.5555555555555556, \"#d8576b\"], [0.6666666666666666, \"#ed7953\"], [0.7777777777777778, \"#fb9f3a\"], [0.8888888888888888, \"#fdca26\"], [1.0, \"#f0f921\"]], \"type\": \"histogram2dcontour\"}], \"mesh3d\": [{\"colorbar\": {\"outlinewidth\": 0, \"ticks\": \"\"}, \"type\": \"mesh3d\"}], \"parcoords\": [{\"line\": {\"colorbar\": {\"outlinewidth\": 0, \"ticks\": \"\"}}, \"type\": \"parcoords\"}], \"pie\": [{\"automargin\": true, \"type\": \"pie\"}], \"scatter\": [{\"marker\": {\"colorbar\": {\"outlinewidth\": 0, \"ticks\": \"\"}}, \"type\": \"scatter\"}], \"scatter3d\": [{\"line\": {\"colorbar\": {\"outlinewidth\": 0, \"ticks\": \"\"}}, \"marker\": {\"colorbar\": {\"outlinewidth\": 0, \"ticks\": \"\"}}, \"type\": \"scatter3d\"}], \"scattercarpet\": [{\"marker\": {\"colorbar\": {\"outlinewidth\": 0, \"ticks\": \"\"}}, \"type\": \"scattercarpet\"}], \"scattergeo\": [{\"marker\": {\"colorbar\": {\"outlinewidth\": 0, \"ticks\": \"\"}}, \"type\": \"scattergeo\"}], \"scattergl\": [{\"marker\": {\"colorbar\": {\"outlinewidth\": 0, \"ticks\": \"\"}}, \"type\": \"scattergl\"}], \"scattermapbox\": [{\"marker\": {\"colorbar\": {\"outlinewidth\": 0, \"ticks\": \"\"}}, \"type\": \"scattermapbox\"}], \"scatterpolar\": [{\"marker\": {\"colorbar\": {\"outlinewidth\": 0, \"ticks\": \"\"}}, \"type\": \"scatterpolar\"}], \"scatterpolargl\": [{\"marker\": {\"colorbar\": {\"outlinewidth\": 0, \"ticks\": \"\"}}, \"type\": \"scatterpolargl\"}], \"scatterternary\": [{\"marker\": {\"colorbar\": {\"outlinewidth\": 0, \"ticks\": \"\"}}, \"type\": \"scatterternary\"}], \"surface\": [{\"colorbar\": {\"outlinewidth\": 0, \"ticks\": \"\"}, \"colorscale\": [[0.0, \"#0d0887\"], [0.1111111111111111, \"#46039f\"], [0.2222222222222222, \"#7201a8\"], [0.3333333333333333, \"#9c179e\"], [0.4444444444444444, \"#bd3786\"], [0.5555555555555556, \"#d8576b\"], [0.6666666666666666, \"#ed7953\"], [0.7777777777777778, \"#fb9f3a\"], [0.8888888888888888, \"#fdca26\"], [1.0, \"#f0f921\"]], \"type\": \"surface\"}], \"table\": [{\"cells\": {\"fill\": {\"color\": \"#EBF0F8\"}, \"line\": {\"color\": \"white\"}}, \"header\": {\"fill\": {\"color\": \"#C8D4E3\"}, \"line\": {\"color\": \"white\"}}, \"type\": \"table\"}]}, \"layout\": {\"annotationdefaults\": {\"arrowcolor\": \"#2a3f5f\", \"arrowhead\": 0, \"arrowwidth\": 1}, \"autotypenumbers\": \"strict\", \"coloraxis\": {\"colorbar\": {\"outlinewidth\": 0, \"ticks\": \"\"}}, \"colorscale\": {\"diverging\": [[0, \"#8e0152\"], [0.1, \"#c51b7d\"], [0.2, \"#de77ae\"], [0.3, \"#f1b6da\"], [0.4, \"#fde0ef\"], [0.5, \"#f7f7f7\"], [0.6, \"#e6f5d0\"], [0.7, \"#b8e186\"], [0.8, \"#7fbc41\"], [0.9, \"#4d9221\"], [1, \"#276419\"]], \"sequential\": [[0.0, \"#0d0887\"], [0.1111111111111111, \"#46039f\"], [0.2222222222222222, \"#7201a8\"], [0.3333333333333333, \"#9c179e\"], [0.4444444444444444, \"#bd3786\"], [0.5555555555555556, \"#d8576b\"], [0.6666666666666666, \"#ed7953\"], [0.7777777777777778, \"#fb9f3a\"], [0.8888888888888888, \"#fdca26\"], [1.0, \"#f0f921\"]], \"sequentialminus\": [[0.0, \"#0d0887\"], [0.1111111111111111, \"#46039f\"], [0.2222222222222222, \"#7201a8\"], [0.3333333333333333, \"#9c179e\"], [0.4444444444444444, \"#bd3786\"], [0.5555555555555556, \"#d8576b\"], [0.6666666666666666, \"#ed7953\"], [0.7777777777777778, \"#fb9f3a\"], [0.8888888888888888, \"#fdca26\"], [1.0, \"#f0f921\"]]}, \"colorway\": [\"#636efa\", \"#EF553B\", \"#00cc96\", \"#ab63fa\", \"#FFA15A\", \"#19d3f3\", \"#FF6692\", \"#B6E880\", \"#FF97FF\", \"#FECB52\"], \"font\": {\"color\": \"#2a3f5f\"}, \"geo\": {\"bgcolor\": \"white\", \"lakecolor\": \"white\", \"landcolor\": \"#E5ECF6\", \"showlakes\": true, \"showland\": true, \"subunitcolor\": \"white\"}, \"hoverlabel\": {\"align\": \"left\"}, \"hovermode\": \"closest\", \"mapbox\": {\"style\": \"light\"}, \"paper_bgcolor\": \"white\", \"plot_bgcolor\": \"#E5ECF6\", \"polar\": {\"angularaxis\": {\"gridcolor\": \"white\", \"linecolor\": \"white\", \"ticks\": \"\"}, \"bgcolor\": \"#E5ECF6\", \"radialaxis\": {\"gridcolor\": \"white\", \"linecolor\": \"white\", \"ticks\": \"\"}}, \"scene\": {\"xaxis\": {\"backgroundcolor\": \"#E5ECF6\", \"gridcolor\": \"white\", \"gridwidth\": 2, \"linecolor\": \"white\", \"showbackground\": true, \"ticks\": \"\", \"zerolinecolor\": \"white\"}, \"yaxis\": {\"backgroundcolor\": \"#E5ECF6\", \"gridcolor\": \"white\", \"gridwidth\": 2, \"linecolor\": \"white\", \"showbackground\": true, \"ticks\": \"\", \"zerolinecolor\": \"white\"}, \"zaxis\": {\"backgroundcolor\": \"#E5ECF6\", \"gridcolor\": \"white\", \"gridwidth\": 2, \"linecolor\": \"white\", \"showbackground\": true, \"ticks\": \"\", \"zerolinecolor\": \"white\"}}, \"shapedefaults\": {\"line\": {\"color\": \"#2a3f5f\"}}, \"ternary\": {\"aaxis\": {\"gridcolor\": \"white\", \"linecolor\": \"white\", \"ticks\": \"\"}, \"baxis\": {\"gridcolor\": \"white\", \"linecolor\": \"white\", \"ticks\": \"\"}, \"bgcolor\": \"#E5ECF6\", \"caxis\": {\"gridcolor\": \"white\", \"linecolor\": \"white\", \"ticks\": \"\"}}, \"title\": {\"x\": 0.05}, \"xaxis\": {\"automargin\": true, \"gridcolor\": \"white\", \"linecolor\": \"white\", \"ticks\": \"\", \"title\": {\"standoff\": 15}, \"zerolinecolor\": \"white\", \"zerolinewidth\": 2}, \"yaxis\": {\"automargin\": true, \"gridcolor\": \"white\", \"linecolor\": \"white\", \"ticks\": \"\", \"title\": {\"standoff\": 15}, \"zerolinecolor\": \"white\", \"zerolinewidth\": 2}}}, \"title\": {\"font\": {\"color\": \"#4D5663\"}}, \"xaxis\": {\"gridcolor\": \"#E1E5ED\", \"showgrid\": true, \"tickfont\": {\"color\": \"#4D5663\"}, \"title\": {\"font\": {\"color\": \"#4D5663\"}, \"text\": \"\"}, \"zerolinecolor\": \"#E1E5ED\"}, \"yaxis\": {\"gridcolor\": \"#E1E5ED\", \"showgrid\": true, \"tickfont\": {\"color\": \"#4D5663\"}, \"title\": {\"font\": {\"color\": \"#4D5663\"}, \"text\": \"\"}, \"zerolinecolor\": \"#E1E5ED\"}},                        {\"showLink\": true, \"linkText\": \"Export to plot.ly\", \"plotlyServerURL\": \"https://plot.ly\", \"responsive\": true}                    ).then(function(){\n",
       "                            \n",
       "var gd = document.getElementById('546ff740-a9d6-445e-844d-5912c010e1cb');\n",
       "var x = new MutationObserver(function (mutations, observer) {{\n",
       "        var display = window.getComputedStyle(gd).display;\n",
       "        if (!display || display === 'none') {{\n",
       "            console.log([gd, 'removed!']);\n",
       "            Plotly.purge(gd);\n",
       "            observer.disconnect();\n",
       "        }}\n",
       "}});\n",
       "\n",
       "// Listen for the removal of the full notebook cells\n",
       "var notebookContainer = gd.closest('#notebook-container');\n",
       "if (notebookContainer) {{\n",
       "    x.observe(notebookContainer, {childList: true});\n",
       "}}\n",
       "\n",
       "// Listen for the clearing of the current output cell\n",
       "var outputEl = gd.closest('.output');\n",
       "if (outputEl) {{\n",
       "    x.observe(outputEl, {childList: true});\n",
       "}}\n",
       "\n",
       "                        })                };                });            </script>        </div>"
      ]
     },
     "metadata": {},
     "output_type": "display_data"
    }
   ],
   "source": [
    "df.iplot(kind='scatter',x='A',y='B',mode='markers',size=10)"
   ]
  },
  {
   "cell_type": "markdown",
   "metadata": {},
   "source": [
    "## Bar Plots"
   ]
  },
  {
   "cell_type": "code",
   "execution_count": 29,
   "metadata": {},
   "outputs": [
    {
     "data": {
      "application/vnd.plotly.v1+json": {
       "config": {
        "linkText": "Export to plot.ly",
        "plotlyServerURL": "https://plot.ly",
        "showLink": true
       },
       "data": [
        {
         "marker": {
          "color": "rgba(255, 153, 51, 0.6)",
          "line": {
           "color": "rgba(255, 153, 51, 1.0)",
           "width": 1
          }
         },
         "name": "Values",
         "orientation": "v",
         "text": "",
         "type": "bar",
         "x": [
          "A",
          "B",
          "C"
         ],
         "y": [
          32,
          43,
          50
         ]
        }
       ],
       "layout": {
        "legend": {
         "bgcolor": "#F5F6F9",
         "font": {
          "color": "#4D5663"
         }
        },
        "paper_bgcolor": "#F5F6F9",
        "plot_bgcolor": "#F5F6F9",
        "template": {
         "data": {
          "bar": [
           {
            "error_x": {
             "color": "#2a3f5f"
            },
            "error_y": {
             "color": "#2a3f5f"
            },
            "marker": {
             "line": {
              "color": "#E5ECF6",
              "width": 0.5
             }
            },
            "type": "bar"
           }
          ],
          "barpolar": [
           {
            "marker": {
             "line": {
              "color": "#E5ECF6",
              "width": 0.5
             }
            },
            "type": "barpolar"
           }
          ],
          "carpet": [
           {
            "aaxis": {
             "endlinecolor": "#2a3f5f",
             "gridcolor": "white",
             "linecolor": "white",
             "minorgridcolor": "white",
             "startlinecolor": "#2a3f5f"
            },
            "baxis": {
             "endlinecolor": "#2a3f5f",
             "gridcolor": "white",
             "linecolor": "white",
             "minorgridcolor": "white",
             "startlinecolor": "#2a3f5f"
            },
            "type": "carpet"
           }
          ],
          "choropleth": [
           {
            "colorbar": {
             "outlinewidth": 0,
             "ticks": ""
            },
            "type": "choropleth"
           }
          ],
          "contour": [
           {
            "colorbar": {
             "outlinewidth": 0,
             "ticks": ""
            },
            "colorscale": [
             [
              0,
              "#0d0887"
             ],
             [
              0.1111111111111111,
              "#46039f"
             ],
             [
              0.2222222222222222,
              "#7201a8"
             ],
             [
              0.3333333333333333,
              "#9c179e"
             ],
             [
              0.4444444444444444,
              "#bd3786"
             ],
             [
              0.5555555555555556,
              "#d8576b"
             ],
             [
              0.6666666666666666,
              "#ed7953"
             ],
             [
              0.7777777777777778,
              "#fb9f3a"
             ],
             [
              0.8888888888888888,
              "#fdca26"
             ],
             [
              1,
              "#f0f921"
             ]
            ],
            "type": "contour"
           }
          ],
          "contourcarpet": [
           {
            "colorbar": {
             "outlinewidth": 0,
             "ticks": ""
            },
            "type": "contourcarpet"
           }
          ],
          "heatmap": [
           {
            "colorbar": {
             "outlinewidth": 0,
             "ticks": ""
            },
            "colorscale": [
             [
              0,
              "#0d0887"
             ],
             [
              0.1111111111111111,
              "#46039f"
             ],
             [
              0.2222222222222222,
              "#7201a8"
             ],
             [
              0.3333333333333333,
              "#9c179e"
             ],
             [
              0.4444444444444444,
              "#bd3786"
             ],
             [
              0.5555555555555556,
              "#d8576b"
             ],
             [
              0.6666666666666666,
              "#ed7953"
             ],
             [
              0.7777777777777778,
              "#fb9f3a"
             ],
             [
              0.8888888888888888,
              "#fdca26"
             ],
             [
              1,
              "#f0f921"
             ]
            ],
            "type": "heatmap"
           }
          ],
          "heatmapgl": [
           {
            "colorbar": {
             "outlinewidth": 0,
             "ticks": ""
            },
            "colorscale": [
             [
              0,
              "#0d0887"
             ],
             [
              0.1111111111111111,
              "#46039f"
             ],
             [
              0.2222222222222222,
              "#7201a8"
             ],
             [
              0.3333333333333333,
              "#9c179e"
             ],
             [
              0.4444444444444444,
              "#bd3786"
             ],
             [
              0.5555555555555556,
              "#d8576b"
             ],
             [
              0.6666666666666666,
              "#ed7953"
             ],
             [
              0.7777777777777778,
              "#fb9f3a"
             ],
             [
              0.8888888888888888,
              "#fdca26"
             ],
             [
              1,
              "#f0f921"
             ]
            ],
            "type": "heatmapgl"
           }
          ],
          "histogram": [
           {
            "marker": {
             "colorbar": {
              "outlinewidth": 0,
              "ticks": ""
             }
            },
            "type": "histogram"
           }
          ],
          "histogram2d": [
           {
            "colorbar": {
             "outlinewidth": 0,
             "ticks": ""
            },
            "colorscale": [
             [
              0,
              "#0d0887"
             ],
             [
              0.1111111111111111,
              "#46039f"
             ],
             [
              0.2222222222222222,
              "#7201a8"
             ],
             [
              0.3333333333333333,
              "#9c179e"
             ],
             [
              0.4444444444444444,
              "#bd3786"
             ],
             [
              0.5555555555555556,
              "#d8576b"
             ],
             [
              0.6666666666666666,
              "#ed7953"
             ],
             [
              0.7777777777777778,
              "#fb9f3a"
             ],
             [
              0.8888888888888888,
              "#fdca26"
             ],
             [
              1,
              "#f0f921"
             ]
            ],
            "type": "histogram2d"
           }
          ],
          "histogram2dcontour": [
           {
            "colorbar": {
             "outlinewidth": 0,
             "ticks": ""
            },
            "colorscale": [
             [
              0,
              "#0d0887"
             ],
             [
              0.1111111111111111,
              "#46039f"
             ],
             [
              0.2222222222222222,
              "#7201a8"
             ],
             [
              0.3333333333333333,
              "#9c179e"
             ],
             [
              0.4444444444444444,
              "#bd3786"
             ],
             [
              0.5555555555555556,
              "#d8576b"
             ],
             [
              0.6666666666666666,
              "#ed7953"
             ],
             [
              0.7777777777777778,
              "#fb9f3a"
             ],
             [
              0.8888888888888888,
              "#fdca26"
             ],
             [
              1,
              "#f0f921"
             ]
            ],
            "type": "histogram2dcontour"
           }
          ],
          "mesh3d": [
           {
            "colorbar": {
             "outlinewidth": 0,
             "ticks": ""
            },
            "type": "mesh3d"
           }
          ],
          "parcoords": [
           {
            "line": {
             "colorbar": {
              "outlinewidth": 0,
              "ticks": ""
             }
            },
            "type": "parcoords"
           }
          ],
          "pie": [
           {
            "automargin": true,
            "type": "pie"
           }
          ],
          "scatter": [
           {
            "marker": {
             "colorbar": {
              "outlinewidth": 0,
              "ticks": ""
             }
            },
            "type": "scatter"
           }
          ],
          "scatter3d": [
           {
            "line": {
             "colorbar": {
              "outlinewidth": 0,
              "ticks": ""
             }
            },
            "marker": {
             "colorbar": {
              "outlinewidth": 0,
              "ticks": ""
             }
            },
            "type": "scatter3d"
           }
          ],
          "scattercarpet": [
           {
            "marker": {
             "colorbar": {
              "outlinewidth": 0,
              "ticks": ""
             }
            },
            "type": "scattercarpet"
           }
          ],
          "scattergeo": [
           {
            "marker": {
             "colorbar": {
              "outlinewidth": 0,
              "ticks": ""
             }
            },
            "type": "scattergeo"
           }
          ],
          "scattergl": [
           {
            "marker": {
             "colorbar": {
              "outlinewidth": 0,
              "ticks": ""
             }
            },
            "type": "scattergl"
           }
          ],
          "scattermapbox": [
           {
            "marker": {
             "colorbar": {
              "outlinewidth": 0,
              "ticks": ""
             }
            },
            "type": "scattermapbox"
           }
          ],
          "scatterpolar": [
           {
            "marker": {
             "colorbar": {
              "outlinewidth": 0,
              "ticks": ""
             }
            },
            "type": "scatterpolar"
           }
          ],
          "scatterpolargl": [
           {
            "marker": {
             "colorbar": {
              "outlinewidth": 0,
              "ticks": ""
             }
            },
            "type": "scatterpolargl"
           }
          ],
          "scatterternary": [
           {
            "marker": {
             "colorbar": {
              "outlinewidth": 0,
              "ticks": ""
             }
            },
            "type": "scatterternary"
           }
          ],
          "surface": [
           {
            "colorbar": {
             "outlinewidth": 0,
             "ticks": ""
            },
            "colorscale": [
             [
              0,
              "#0d0887"
             ],
             [
              0.1111111111111111,
              "#46039f"
             ],
             [
              0.2222222222222222,
              "#7201a8"
             ],
             [
              0.3333333333333333,
              "#9c179e"
             ],
             [
              0.4444444444444444,
              "#bd3786"
             ],
             [
              0.5555555555555556,
              "#d8576b"
             ],
             [
              0.6666666666666666,
              "#ed7953"
             ],
             [
              0.7777777777777778,
              "#fb9f3a"
             ],
             [
              0.8888888888888888,
              "#fdca26"
             ],
             [
              1,
              "#f0f921"
             ]
            ],
            "type": "surface"
           }
          ],
          "table": [
           {
            "cells": {
             "fill": {
              "color": "#EBF0F8"
             },
             "line": {
              "color": "white"
             }
            },
            "header": {
             "fill": {
              "color": "#C8D4E3"
             },
             "line": {
              "color": "white"
             }
            },
            "type": "table"
           }
          ]
         },
         "layout": {
          "annotationdefaults": {
           "arrowcolor": "#2a3f5f",
           "arrowhead": 0,
           "arrowwidth": 1
          },
          "autotypenumbers": "strict",
          "coloraxis": {
           "colorbar": {
            "outlinewidth": 0,
            "ticks": ""
           }
          },
          "colorscale": {
           "diverging": [
            [
             0,
             "#8e0152"
            ],
            [
             0.1,
             "#c51b7d"
            ],
            [
             0.2,
             "#de77ae"
            ],
            [
             0.3,
             "#f1b6da"
            ],
            [
             0.4,
             "#fde0ef"
            ],
            [
             0.5,
             "#f7f7f7"
            ],
            [
             0.6,
             "#e6f5d0"
            ],
            [
             0.7,
             "#b8e186"
            ],
            [
             0.8,
             "#7fbc41"
            ],
            [
             0.9,
             "#4d9221"
            ],
            [
             1,
             "#276419"
            ]
           ],
           "sequential": [
            [
             0,
             "#0d0887"
            ],
            [
             0.1111111111111111,
             "#46039f"
            ],
            [
             0.2222222222222222,
             "#7201a8"
            ],
            [
             0.3333333333333333,
             "#9c179e"
            ],
            [
             0.4444444444444444,
             "#bd3786"
            ],
            [
             0.5555555555555556,
             "#d8576b"
            ],
            [
             0.6666666666666666,
             "#ed7953"
            ],
            [
             0.7777777777777778,
             "#fb9f3a"
            ],
            [
             0.8888888888888888,
             "#fdca26"
            ],
            [
             1,
             "#f0f921"
            ]
           ],
           "sequentialminus": [
            [
             0,
             "#0d0887"
            ],
            [
             0.1111111111111111,
             "#46039f"
            ],
            [
             0.2222222222222222,
             "#7201a8"
            ],
            [
             0.3333333333333333,
             "#9c179e"
            ],
            [
             0.4444444444444444,
             "#bd3786"
            ],
            [
             0.5555555555555556,
             "#d8576b"
            ],
            [
             0.6666666666666666,
             "#ed7953"
            ],
            [
             0.7777777777777778,
             "#fb9f3a"
            ],
            [
             0.8888888888888888,
             "#fdca26"
            ],
            [
             1,
             "#f0f921"
            ]
           ]
          },
          "colorway": [
           "#636efa",
           "#EF553B",
           "#00cc96",
           "#ab63fa",
           "#FFA15A",
           "#19d3f3",
           "#FF6692",
           "#B6E880",
           "#FF97FF",
           "#FECB52"
          ],
          "font": {
           "color": "#2a3f5f"
          },
          "geo": {
           "bgcolor": "white",
           "lakecolor": "white",
           "landcolor": "#E5ECF6",
           "showlakes": true,
           "showland": true,
           "subunitcolor": "white"
          },
          "hoverlabel": {
           "align": "left"
          },
          "hovermode": "closest",
          "mapbox": {
           "style": "light"
          },
          "paper_bgcolor": "white",
          "plot_bgcolor": "#E5ECF6",
          "polar": {
           "angularaxis": {
            "gridcolor": "white",
            "linecolor": "white",
            "ticks": ""
           },
           "bgcolor": "#E5ECF6",
           "radialaxis": {
            "gridcolor": "white",
            "linecolor": "white",
            "ticks": ""
           }
          },
          "scene": {
           "xaxis": {
            "backgroundcolor": "#E5ECF6",
            "gridcolor": "white",
            "gridwidth": 2,
            "linecolor": "white",
            "showbackground": true,
            "ticks": "",
            "zerolinecolor": "white"
           },
           "yaxis": {
            "backgroundcolor": "#E5ECF6",
            "gridcolor": "white",
            "gridwidth": 2,
            "linecolor": "white",
            "showbackground": true,
            "ticks": "",
            "zerolinecolor": "white"
           },
           "zaxis": {
            "backgroundcolor": "#E5ECF6",
            "gridcolor": "white",
            "gridwidth": 2,
            "linecolor": "white",
            "showbackground": true,
            "ticks": "",
            "zerolinecolor": "white"
           }
          },
          "shapedefaults": {
           "line": {
            "color": "#2a3f5f"
           }
          },
          "ternary": {
           "aaxis": {
            "gridcolor": "white",
            "linecolor": "white",
            "ticks": ""
           },
           "baxis": {
            "gridcolor": "white",
            "linecolor": "white",
            "ticks": ""
           },
           "bgcolor": "#E5ECF6",
           "caxis": {
            "gridcolor": "white",
            "linecolor": "white",
            "ticks": ""
           }
          },
          "title": {
           "x": 0.05
          },
          "xaxis": {
           "automargin": true,
           "gridcolor": "white",
           "linecolor": "white",
           "ticks": "",
           "title": {
            "standoff": 15
           },
           "zerolinecolor": "white",
           "zerolinewidth": 2
          },
          "yaxis": {
           "automargin": true,
           "gridcolor": "white",
           "linecolor": "white",
           "ticks": "",
           "title": {
            "standoff": 15
           },
           "zerolinecolor": "white",
           "zerolinewidth": 2
          }
         }
        },
        "title": {
         "font": {
          "color": "#4D5663"
         }
        },
        "xaxis": {
         "gridcolor": "#E1E5ED",
         "showgrid": true,
         "tickfont": {
          "color": "#4D5663"
         },
         "title": {
          "font": {
           "color": "#4D5663"
          },
          "text": ""
         },
         "zerolinecolor": "#E1E5ED"
        },
        "yaxis": {
         "gridcolor": "#E1E5ED",
         "showgrid": true,
         "tickfont": {
          "color": "#4D5663"
         },
         "title": {
          "font": {
           "color": "#4D5663"
          },
          "text": ""
         },
         "zerolinecolor": "#E1E5ED"
        }
       }
      },
      "text/html": [
       "<div>                            <div id=\"b248ee91-581c-4702-b9ff-fed85722bd98\" class=\"plotly-graph-div\" style=\"height:525px; width:100%;\"></div>            <script type=\"text/javascript\">                require([\"plotly\"], function(Plotly) {                    window.PLOTLYENV=window.PLOTLYENV || {};\n",
       "                    window.PLOTLYENV.BASE_URL='https://plot.ly';                                    if (document.getElementById(\"b248ee91-581c-4702-b9ff-fed85722bd98\")) {                    Plotly.newPlot(                        \"b248ee91-581c-4702-b9ff-fed85722bd98\",                        [{\"marker\": {\"color\": \"rgba(255, 153, 51, 0.6)\", \"line\": {\"color\": \"rgba(255, 153, 51, 1.0)\", \"width\": 1}}, \"name\": \"Values\", \"orientation\": \"v\", \"text\": \"\", \"type\": \"bar\", \"x\": [\"A\", \"B\", \"C\"], \"y\": [32, 43, 50]}],                        {\"legend\": {\"bgcolor\": \"#F5F6F9\", \"font\": {\"color\": \"#4D5663\"}}, \"paper_bgcolor\": \"#F5F6F9\", \"plot_bgcolor\": \"#F5F6F9\", \"template\": {\"data\": {\"bar\": [{\"error_x\": {\"color\": \"#2a3f5f\"}, \"error_y\": {\"color\": \"#2a3f5f\"}, \"marker\": {\"line\": {\"color\": \"#E5ECF6\", \"width\": 0.5}}, \"type\": \"bar\"}], \"barpolar\": [{\"marker\": {\"line\": {\"color\": \"#E5ECF6\", \"width\": 0.5}}, \"type\": \"barpolar\"}], \"carpet\": [{\"aaxis\": {\"endlinecolor\": \"#2a3f5f\", \"gridcolor\": \"white\", \"linecolor\": \"white\", \"minorgridcolor\": \"white\", \"startlinecolor\": \"#2a3f5f\"}, \"baxis\": {\"endlinecolor\": \"#2a3f5f\", \"gridcolor\": \"white\", \"linecolor\": \"white\", \"minorgridcolor\": \"white\", \"startlinecolor\": \"#2a3f5f\"}, \"type\": \"carpet\"}], \"choropleth\": [{\"colorbar\": {\"outlinewidth\": 0, \"ticks\": \"\"}, \"type\": \"choropleth\"}], \"contour\": [{\"colorbar\": {\"outlinewidth\": 0, \"ticks\": \"\"}, \"colorscale\": [[0.0, \"#0d0887\"], [0.1111111111111111, \"#46039f\"], [0.2222222222222222, \"#7201a8\"], [0.3333333333333333, \"#9c179e\"], [0.4444444444444444, \"#bd3786\"], [0.5555555555555556, \"#d8576b\"], [0.6666666666666666, \"#ed7953\"], [0.7777777777777778, \"#fb9f3a\"], [0.8888888888888888, \"#fdca26\"], [1.0, \"#f0f921\"]], \"type\": \"contour\"}], \"contourcarpet\": [{\"colorbar\": {\"outlinewidth\": 0, \"ticks\": \"\"}, \"type\": \"contourcarpet\"}], \"heatmap\": [{\"colorbar\": {\"outlinewidth\": 0, \"ticks\": \"\"}, \"colorscale\": [[0.0, \"#0d0887\"], [0.1111111111111111, \"#46039f\"], [0.2222222222222222, \"#7201a8\"], [0.3333333333333333, \"#9c179e\"], [0.4444444444444444, \"#bd3786\"], [0.5555555555555556, \"#d8576b\"], [0.6666666666666666, \"#ed7953\"], [0.7777777777777778, \"#fb9f3a\"], [0.8888888888888888, \"#fdca26\"], [1.0, \"#f0f921\"]], \"type\": \"heatmap\"}], \"heatmapgl\": [{\"colorbar\": {\"outlinewidth\": 0, \"ticks\": \"\"}, \"colorscale\": [[0.0, \"#0d0887\"], [0.1111111111111111, \"#46039f\"], [0.2222222222222222, \"#7201a8\"], [0.3333333333333333, \"#9c179e\"], [0.4444444444444444, \"#bd3786\"], [0.5555555555555556, \"#d8576b\"], [0.6666666666666666, \"#ed7953\"], [0.7777777777777778, \"#fb9f3a\"], [0.8888888888888888, \"#fdca26\"], [1.0, \"#f0f921\"]], \"type\": \"heatmapgl\"}], \"histogram\": [{\"marker\": {\"colorbar\": {\"outlinewidth\": 0, \"ticks\": \"\"}}, \"type\": \"histogram\"}], \"histogram2d\": [{\"colorbar\": {\"outlinewidth\": 0, \"ticks\": \"\"}, \"colorscale\": [[0.0, \"#0d0887\"], [0.1111111111111111, \"#46039f\"], [0.2222222222222222, \"#7201a8\"], [0.3333333333333333, \"#9c179e\"], [0.4444444444444444, \"#bd3786\"], [0.5555555555555556, \"#d8576b\"], [0.6666666666666666, \"#ed7953\"], [0.7777777777777778, \"#fb9f3a\"], [0.8888888888888888, \"#fdca26\"], [1.0, \"#f0f921\"]], \"type\": \"histogram2d\"}], \"histogram2dcontour\": [{\"colorbar\": {\"outlinewidth\": 0, \"ticks\": \"\"}, \"colorscale\": [[0.0, \"#0d0887\"], [0.1111111111111111, \"#46039f\"], [0.2222222222222222, \"#7201a8\"], [0.3333333333333333, \"#9c179e\"], [0.4444444444444444, \"#bd3786\"], [0.5555555555555556, \"#d8576b\"], [0.6666666666666666, \"#ed7953\"], [0.7777777777777778, \"#fb9f3a\"], [0.8888888888888888, \"#fdca26\"], [1.0, \"#f0f921\"]], \"type\": \"histogram2dcontour\"}], \"mesh3d\": [{\"colorbar\": {\"outlinewidth\": 0, \"ticks\": \"\"}, \"type\": \"mesh3d\"}], \"parcoords\": [{\"line\": {\"colorbar\": {\"outlinewidth\": 0, \"ticks\": \"\"}}, \"type\": \"parcoords\"}], \"pie\": [{\"automargin\": true, \"type\": \"pie\"}], \"scatter\": [{\"marker\": {\"colorbar\": {\"outlinewidth\": 0, \"ticks\": \"\"}}, \"type\": \"scatter\"}], \"scatter3d\": [{\"line\": {\"colorbar\": {\"outlinewidth\": 0, \"ticks\": \"\"}}, \"marker\": {\"colorbar\": {\"outlinewidth\": 0, \"ticks\": \"\"}}, \"type\": \"scatter3d\"}], \"scattercarpet\": [{\"marker\": {\"colorbar\": {\"outlinewidth\": 0, \"ticks\": \"\"}}, \"type\": \"scattercarpet\"}], \"scattergeo\": [{\"marker\": {\"colorbar\": {\"outlinewidth\": 0, \"ticks\": \"\"}}, \"type\": \"scattergeo\"}], \"scattergl\": [{\"marker\": {\"colorbar\": {\"outlinewidth\": 0, \"ticks\": \"\"}}, \"type\": \"scattergl\"}], \"scattermapbox\": [{\"marker\": {\"colorbar\": {\"outlinewidth\": 0, \"ticks\": \"\"}}, \"type\": \"scattermapbox\"}], \"scatterpolar\": [{\"marker\": {\"colorbar\": {\"outlinewidth\": 0, \"ticks\": \"\"}}, \"type\": \"scatterpolar\"}], \"scatterpolargl\": [{\"marker\": {\"colorbar\": {\"outlinewidth\": 0, \"ticks\": \"\"}}, \"type\": \"scatterpolargl\"}], \"scatterternary\": [{\"marker\": {\"colorbar\": {\"outlinewidth\": 0, \"ticks\": \"\"}}, \"type\": \"scatterternary\"}], \"surface\": [{\"colorbar\": {\"outlinewidth\": 0, \"ticks\": \"\"}, \"colorscale\": [[0.0, \"#0d0887\"], [0.1111111111111111, \"#46039f\"], [0.2222222222222222, \"#7201a8\"], [0.3333333333333333, \"#9c179e\"], [0.4444444444444444, \"#bd3786\"], [0.5555555555555556, \"#d8576b\"], [0.6666666666666666, \"#ed7953\"], [0.7777777777777778, \"#fb9f3a\"], [0.8888888888888888, \"#fdca26\"], [1.0, \"#f0f921\"]], \"type\": \"surface\"}], \"table\": [{\"cells\": {\"fill\": {\"color\": \"#EBF0F8\"}, \"line\": {\"color\": \"white\"}}, \"header\": {\"fill\": {\"color\": \"#C8D4E3\"}, \"line\": {\"color\": \"white\"}}, \"type\": \"table\"}]}, \"layout\": {\"annotationdefaults\": {\"arrowcolor\": \"#2a3f5f\", \"arrowhead\": 0, \"arrowwidth\": 1}, \"autotypenumbers\": \"strict\", \"coloraxis\": {\"colorbar\": {\"outlinewidth\": 0, \"ticks\": \"\"}}, \"colorscale\": {\"diverging\": [[0, \"#8e0152\"], [0.1, \"#c51b7d\"], [0.2, \"#de77ae\"], [0.3, \"#f1b6da\"], [0.4, \"#fde0ef\"], [0.5, \"#f7f7f7\"], [0.6, \"#e6f5d0\"], [0.7, \"#b8e186\"], [0.8, \"#7fbc41\"], [0.9, \"#4d9221\"], [1, \"#276419\"]], \"sequential\": [[0.0, \"#0d0887\"], [0.1111111111111111, \"#46039f\"], [0.2222222222222222, \"#7201a8\"], [0.3333333333333333, \"#9c179e\"], [0.4444444444444444, \"#bd3786\"], [0.5555555555555556, \"#d8576b\"], [0.6666666666666666, \"#ed7953\"], [0.7777777777777778, \"#fb9f3a\"], [0.8888888888888888, \"#fdca26\"], [1.0, \"#f0f921\"]], \"sequentialminus\": [[0.0, \"#0d0887\"], [0.1111111111111111, \"#46039f\"], [0.2222222222222222, \"#7201a8\"], [0.3333333333333333, \"#9c179e\"], [0.4444444444444444, \"#bd3786\"], [0.5555555555555556, \"#d8576b\"], [0.6666666666666666, \"#ed7953\"], [0.7777777777777778, \"#fb9f3a\"], [0.8888888888888888, \"#fdca26\"], [1.0, \"#f0f921\"]]}, \"colorway\": [\"#636efa\", \"#EF553B\", \"#00cc96\", \"#ab63fa\", \"#FFA15A\", \"#19d3f3\", \"#FF6692\", \"#B6E880\", \"#FF97FF\", \"#FECB52\"], \"font\": {\"color\": \"#2a3f5f\"}, \"geo\": {\"bgcolor\": \"white\", \"lakecolor\": \"white\", \"landcolor\": \"#E5ECF6\", \"showlakes\": true, \"showland\": true, \"subunitcolor\": \"white\"}, \"hoverlabel\": {\"align\": \"left\"}, \"hovermode\": \"closest\", \"mapbox\": {\"style\": \"light\"}, \"paper_bgcolor\": \"white\", \"plot_bgcolor\": \"#E5ECF6\", \"polar\": {\"angularaxis\": {\"gridcolor\": \"white\", \"linecolor\": \"white\", \"ticks\": \"\"}, \"bgcolor\": \"#E5ECF6\", \"radialaxis\": {\"gridcolor\": \"white\", \"linecolor\": \"white\", \"ticks\": \"\"}}, \"scene\": {\"xaxis\": {\"backgroundcolor\": \"#E5ECF6\", \"gridcolor\": \"white\", \"gridwidth\": 2, \"linecolor\": \"white\", \"showbackground\": true, \"ticks\": \"\", \"zerolinecolor\": \"white\"}, \"yaxis\": {\"backgroundcolor\": \"#E5ECF6\", \"gridcolor\": \"white\", \"gridwidth\": 2, \"linecolor\": \"white\", \"showbackground\": true, \"ticks\": \"\", \"zerolinecolor\": \"white\"}, \"zaxis\": {\"backgroundcolor\": \"#E5ECF6\", \"gridcolor\": \"white\", \"gridwidth\": 2, \"linecolor\": \"white\", \"showbackground\": true, \"ticks\": \"\", \"zerolinecolor\": \"white\"}}, \"shapedefaults\": {\"line\": {\"color\": \"#2a3f5f\"}}, \"ternary\": {\"aaxis\": {\"gridcolor\": \"white\", \"linecolor\": \"white\", \"ticks\": \"\"}, \"baxis\": {\"gridcolor\": \"white\", \"linecolor\": \"white\", \"ticks\": \"\"}, \"bgcolor\": \"#E5ECF6\", \"caxis\": {\"gridcolor\": \"white\", \"linecolor\": \"white\", \"ticks\": \"\"}}, \"title\": {\"x\": 0.05}, \"xaxis\": {\"automargin\": true, \"gridcolor\": \"white\", \"linecolor\": \"white\", \"ticks\": \"\", \"title\": {\"standoff\": 15}, \"zerolinecolor\": \"white\", \"zerolinewidth\": 2}, \"yaxis\": {\"automargin\": true, \"gridcolor\": \"white\", \"linecolor\": \"white\", \"ticks\": \"\", \"title\": {\"standoff\": 15}, \"zerolinecolor\": \"white\", \"zerolinewidth\": 2}}}, \"title\": {\"font\": {\"color\": \"#4D5663\"}}, \"xaxis\": {\"gridcolor\": \"#E1E5ED\", \"showgrid\": true, \"tickfont\": {\"color\": \"#4D5663\"}, \"title\": {\"font\": {\"color\": \"#4D5663\"}, \"text\": \"\"}, \"zerolinecolor\": \"#E1E5ED\"}, \"yaxis\": {\"gridcolor\": \"#E1E5ED\", \"showgrid\": true, \"tickfont\": {\"color\": \"#4D5663\"}, \"title\": {\"font\": {\"color\": \"#4D5663\"}, \"text\": \"\"}, \"zerolinecolor\": \"#E1E5ED\"}},                        {\"showLink\": true, \"linkText\": \"Export to plot.ly\", \"plotlyServerURL\": \"https://plot.ly\", \"responsive\": true}                    ).then(function(){\n",
       "                            \n",
       "var gd = document.getElementById('b248ee91-581c-4702-b9ff-fed85722bd98');\n",
       "var x = new MutationObserver(function (mutations, observer) {{\n",
       "        var display = window.getComputedStyle(gd).display;\n",
       "        if (!display || display === 'none') {{\n",
       "            console.log([gd, 'removed!']);\n",
       "            Plotly.purge(gd);\n",
       "            observer.disconnect();\n",
       "        }}\n",
       "}});\n",
       "\n",
       "// Listen for the removal of the full notebook cells\n",
       "var notebookContainer = gd.closest('#notebook-container');\n",
       "if (notebookContainer) {{\n",
       "    x.observe(notebookContainer, {childList: true});\n",
       "}}\n",
       "\n",
       "// Listen for the clearing of the current output cell\n",
       "var outputEl = gd.closest('.output');\n",
       "if (outputEl) {{\n",
       "    x.observe(outputEl, {childList: true});\n",
       "}}\n",
       "\n",
       "                        })                };                });            </script>        </div>"
      ]
     },
     "metadata": {},
     "output_type": "display_data"
    }
   ],
   "source": [
    "df2.iplot(kind='bar',x='Category',y='Values')"
   ]
  },
  {
   "cell_type": "code",
   "execution_count": 31,
   "metadata": {},
   "outputs": [
    {
     "data": {
      "text/plain": [
       "A    100\n",
       "B    100\n",
       "C    100\n",
       "D    100\n",
       "dtype: int64"
      ]
     },
     "execution_count": 31,
     "metadata": {},
     "output_type": "execute_result"
    }
   ],
   "source": [
    "df.count()"
   ]
  },
  {
   "cell_type": "code",
   "execution_count": 30,
   "metadata": {},
   "outputs": [
    {
     "data": {
      "application/vnd.plotly.v1+json": {
       "config": {
        "linkText": "Export to plot.ly",
        "plotlyServerURL": "https://plot.ly",
        "showLink": true
       },
       "data": [
        {
         "marker": {
          "color": "rgba(255, 153, 51, 0.6)",
          "line": {
           "color": "rgba(255, 153, 51, 1.0)",
           "width": 1
          }
         },
         "name": "None",
         "orientation": "v",
         "text": "",
         "type": "bar",
         "x": [
          "A",
          "B",
          "C",
          "D"
         ],
         "y": [
          100,
          100,
          100,
          100
         ]
        }
       ],
       "layout": {
        "legend": {
         "bgcolor": "#F5F6F9",
         "font": {
          "color": "#4D5663"
         }
        },
        "paper_bgcolor": "#F5F6F9",
        "plot_bgcolor": "#F5F6F9",
        "template": {
         "data": {
          "bar": [
           {
            "error_x": {
             "color": "#2a3f5f"
            },
            "error_y": {
             "color": "#2a3f5f"
            },
            "marker": {
             "line": {
              "color": "#E5ECF6",
              "width": 0.5
             }
            },
            "type": "bar"
           }
          ],
          "barpolar": [
           {
            "marker": {
             "line": {
              "color": "#E5ECF6",
              "width": 0.5
             }
            },
            "type": "barpolar"
           }
          ],
          "carpet": [
           {
            "aaxis": {
             "endlinecolor": "#2a3f5f",
             "gridcolor": "white",
             "linecolor": "white",
             "minorgridcolor": "white",
             "startlinecolor": "#2a3f5f"
            },
            "baxis": {
             "endlinecolor": "#2a3f5f",
             "gridcolor": "white",
             "linecolor": "white",
             "minorgridcolor": "white",
             "startlinecolor": "#2a3f5f"
            },
            "type": "carpet"
           }
          ],
          "choropleth": [
           {
            "colorbar": {
             "outlinewidth": 0,
             "ticks": ""
            },
            "type": "choropleth"
           }
          ],
          "contour": [
           {
            "colorbar": {
             "outlinewidth": 0,
             "ticks": ""
            },
            "colorscale": [
             [
              0,
              "#0d0887"
             ],
             [
              0.1111111111111111,
              "#46039f"
             ],
             [
              0.2222222222222222,
              "#7201a8"
             ],
             [
              0.3333333333333333,
              "#9c179e"
             ],
             [
              0.4444444444444444,
              "#bd3786"
             ],
             [
              0.5555555555555556,
              "#d8576b"
             ],
             [
              0.6666666666666666,
              "#ed7953"
             ],
             [
              0.7777777777777778,
              "#fb9f3a"
             ],
             [
              0.8888888888888888,
              "#fdca26"
             ],
             [
              1,
              "#f0f921"
             ]
            ],
            "type": "contour"
           }
          ],
          "contourcarpet": [
           {
            "colorbar": {
             "outlinewidth": 0,
             "ticks": ""
            },
            "type": "contourcarpet"
           }
          ],
          "heatmap": [
           {
            "colorbar": {
             "outlinewidth": 0,
             "ticks": ""
            },
            "colorscale": [
             [
              0,
              "#0d0887"
             ],
             [
              0.1111111111111111,
              "#46039f"
             ],
             [
              0.2222222222222222,
              "#7201a8"
             ],
             [
              0.3333333333333333,
              "#9c179e"
             ],
             [
              0.4444444444444444,
              "#bd3786"
             ],
             [
              0.5555555555555556,
              "#d8576b"
             ],
             [
              0.6666666666666666,
              "#ed7953"
             ],
             [
              0.7777777777777778,
              "#fb9f3a"
             ],
             [
              0.8888888888888888,
              "#fdca26"
             ],
             [
              1,
              "#f0f921"
             ]
            ],
            "type": "heatmap"
           }
          ],
          "heatmapgl": [
           {
            "colorbar": {
             "outlinewidth": 0,
             "ticks": ""
            },
            "colorscale": [
             [
              0,
              "#0d0887"
             ],
             [
              0.1111111111111111,
              "#46039f"
             ],
             [
              0.2222222222222222,
              "#7201a8"
             ],
             [
              0.3333333333333333,
              "#9c179e"
             ],
             [
              0.4444444444444444,
              "#bd3786"
             ],
             [
              0.5555555555555556,
              "#d8576b"
             ],
             [
              0.6666666666666666,
              "#ed7953"
             ],
             [
              0.7777777777777778,
              "#fb9f3a"
             ],
             [
              0.8888888888888888,
              "#fdca26"
             ],
             [
              1,
              "#f0f921"
             ]
            ],
            "type": "heatmapgl"
           }
          ],
          "histogram": [
           {
            "marker": {
             "colorbar": {
              "outlinewidth": 0,
              "ticks": ""
             }
            },
            "type": "histogram"
           }
          ],
          "histogram2d": [
           {
            "colorbar": {
             "outlinewidth": 0,
             "ticks": ""
            },
            "colorscale": [
             [
              0,
              "#0d0887"
             ],
             [
              0.1111111111111111,
              "#46039f"
             ],
             [
              0.2222222222222222,
              "#7201a8"
             ],
             [
              0.3333333333333333,
              "#9c179e"
             ],
             [
              0.4444444444444444,
              "#bd3786"
             ],
             [
              0.5555555555555556,
              "#d8576b"
             ],
             [
              0.6666666666666666,
              "#ed7953"
             ],
             [
              0.7777777777777778,
              "#fb9f3a"
             ],
             [
              0.8888888888888888,
              "#fdca26"
             ],
             [
              1,
              "#f0f921"
             ]
            ],
            "type": "histogram2d"
           }
          ],
          "histogram2dcontour": [
           {
            "colorbar": {
             "outlinewidth": 0,
             "ticks": ""
            },
            "colorscale": [
             [
              0,
              "#0d0887"
             ],
             [
              0.1111111111111111,
              "#46039f"
             ],
             [
              0.2222222222222222,
              "#7201a8"
             ],
             [
              0.3333333333333333,
              "#9c179e"
             ],
             [
              0.4444444444444444,
              "#bd3786"
             ],
             [
              0.5555555555555556,
              "#d8576b"
             ],
             [
              0.6666666666666666,
              "#ed7953"
             ],
             [
              0.7777777777777778,
              "#fb9f3a"
             ],
             [
              0.8888888888888888,
              "#fdca26"
             ],
             [
              1,
              "#f0f921"
             ]
            ],
            "type": "histogram2dcontour"
           }
          ],
          "mesh3d": [
           {
            "colorbar": {
             "outlinewidth": 0,
             "ticks": ""
            },
            "type": "mesh3d"
           }
          ],
          "parcoords": [
           {
            "line": {
             "colorbar": {
              "outlinewidth": 0,
              "ticks": ""
             }
            },
            "type": "parcoords"
           }
          ],
          "pie": [
           {
            "automargin": true,
            "type": "pie"
           }
          ],
          "scatter": [
           {
            "marker": {
             "colorbar": {
              "outlinewidth": 0,
              "ticks": ""
             }
            },
            "type": "scatter"
           }
          ],
          "scatter3d": [
           {
            "line": {
             "colorbar": {
              "outlinewidth": 0,
              "ticks": ""
             }
            },
            "marker": {
             "colorbar": {
              "outlinewidth": 0,
              "ticks": ""
             }
            },
            "type": "scatter3d"
           }
          ],
          "scattercarpet": [
           {
            "marker": {
             "colorbar": {
              "outlinewidth": 0,
              "ticks": ""
             }
            },
            "type": "scattercarpet"
           }
          ],
          "scattergeo": [
           {
            "marker": {
             "colorbar": {
              "outlinewidth": 0,
              "ticks": ""
             }
            },
            "type": "scattergeo"
           }
          ],
          "scattergl": [
           {
            "marker": {
             "colorbar": {
              "outlinewidth": 0,
              "ticks": ""
             }
            },
            "type": "scattergl"
           }
          ],
          "scattermapbox": [
           {
            "marker": {
             "colorbar": {
              "outlinewidth": 0,
              "ticks": ""
             }
            },
            "type": "scattermapbox"
           }
          ],
          "scatterpolar": [
           {
            "marker": {
             "colorbar": {
              "outlinewidth": 0,
              "ticks": ""
             }
            },
            "type": "scatterpolar"
           }
          ],
          "scatterpolargl": [
           {
            "marker": {
             "colorbar": {
              "outlinewidth": 0,
              "ticks": ""
             }
            },
            "type": "scatterpolargl"
           }
          ],
          "scatterternary": [
           {
            "marker": {
             "colorbar": {
              "outlinewidth": 0,
              "ticks": ""
             }
            },
            "type": "scatterternary"
           }
          ],
          "surface": [
           {
            "colorbar": {
             "outlinewidth": 0,
             "ticks": ""
            },
            "colorscale": [
             [
              0,
              "#0d0887"
             ],
             [
              0.1111111111111111,
              "#46039f"
             ],
             [
              0.2222222222222222,
              "#7201a8"
             ],
             [
              0.3333333333333333,
              "#9c179e"
             ],
             [
              0.4444444444444444,
              "#bd3786"
             ],
             [
              0.5555555555555556,
              "#d8576b"
             ],
             [
              0.6666666666666666,
              "#ed7953"
             ],
             [
              0.7777777777777778,
              "#fb9f3a"
             ],
             [
              0.8888888888888888,
              "#fdca26"
             ],
             [
              1,
              "#f0f921"
             ]
            ],
            "type": "surface"
           }
          ],
          "table": [
           {
            "cells": {
             "fill": {
              "color": "#EBF0F8"
             },
             "line": {
              "color": "white"
             }
            },
            "header": {
             "fill": {
              "color": "#C8D4E3"
             },
             "line": {
              "color": "white"
             }
            },
            "type": "table"
           }
          ]
         },
         "layout": {
          "annotationdefaults": {
           "arrowcolor": "#2a3f5f",
           "arrowhead": 0,
           "arrowwidth": 1
          },
          "autotypenumbers": "strict",
          "coloraxis": {
           "colorbar": {
            "outlinewidth": 0,
            "ticks": ""
           }
          },
          "colorscale": {
           "diverging": [
            [
             0,
             "#8e0152"
            ],
            [
             0.1,
             "#c51b7d"
            ],
            [
             0.2,
             "#de77ae"
            ],
            [
             0.3,
             "#f1b6da"
            ],
            [
             0.4,
             "#fde0ef"
            ],
            [
             0.5,
             "#f7f7f7"
            ],
            [
             0.6,
             "#e6f5d0"
            ],
            [
             0.7,
             "#b8e186"
            ],
            [
             0.8,
             "#7fbc41"
            ],
            [
             0.9,
             "#4d9221"
            ],
            [
             1,
             "#276419"
            ]
           ],
           "sequential": [
            [
             0,
             "#0d0887"
            ],
            [
             0.1111111111111111,
             "#46039f"
            ],
            [
             0.2222222222222222,
             "#7201a8"
            ],
            [
             0.3333333333333333,
             "#9c179e"
            ],
            [
             0.4444444444444444,
             "#bd3786"
            ],
            [
             0.5555555555555556,
             "#d8576b"
            ],
            [
             0.6666666666666666,
             "#ed7953"
            ],
            [
             0.7777777777777778,
             "#fb9f3a"
            ],
            [
             0.8888888888888888,
             "#fdca26"
            ],
            [
             1,
             "#f0f921"
            ]
           ],
           "sequentialminus": [
            [
             0,
             "#0d0887"
            ],
            [
             0.1111111111111111,
             "#46039f"
            ],
            [
             0.2222222222222222,
             "#7201a8"
            ],
            [
             0.3333333333333333,
             "#9c179e"
            ],
            [
             0.4444444444444444,
             "#bd3786"
            ],
            [
             0.5555555555555556,
             "#d8576b"
            ],
            [
             0.6666666666666666,
             "#ed7953"
            ],
            [
             0.7777777777777778,
             "#fb9f3a"
            ],
            [
             0.8888888888888888,
             "#fdca26"
            ],
            [
             1,
             "#f0f921"
            ]
           ]
          },
          "colorway": [
           "#636efa",
           "#EF553B",
           "#00cc96",
           "#ab63fa",
           "#FFA15A",
           "#19d3f3",
           "#FF6692",
           "#B6E880",
           "#FF97FF",
           "#FECB52"
          ],
          "font": {
           "color": "#2a3f5f"
          },
          "geo": {
           "bgcolor": "white",
           "lakecolor": "white",
           "landcolor": "#E5ECF6",
           "showlakes": true,
           "showland": true,
           "subunitcolor": "white"
          },
          "hoverlabel": {
           "align": "left"
          },
          "hovermode": "closest",
          "mapbox": {
           "style": "light"
          },
          "paper_bgcolor": "white",
          "plot_bgcolor": "#E5ECF6",
          "polar": {
           "angularaxis": {
            "gridcolor": "white",
            "linecolor": "white",
            "ticks": ""
           },
           "bgcolor": "#E5ECF6",
           "radialaxis": {
            "gridcolor": "white",
            "linecolor": "white",
            "ticks": ""
           }
          },
          "scene": {
           "xaxis": {
            "backgroundcolor": "#E5ECF6",
            "gridcolor": "white",
            "gridwidth": 2,
            "linecolor": "white",
            "showbackground": true,
            "ticks": "",
            "zerolinecolor": "white"
           },
           "yaxis": {
            "backgroundcolor": "#E5ECF6",
            "gridcolor": "white",
            "gridwidth": 2,
            "linecolor": "white",
            "showbackground": true,
            "ticks": "",
            "zerolinecolor": "white"
           },
           "zaxis": {
            "backgroundcolor": "#E5ECF6",
            "gridcolor": "white",
            "gridwidth": 2,
            "linecolor": "white",
            "showbackground": true,
            "ticks": "",
            "zerolinecolor": "white"
           }
          },
          "shapedefaults": {
           "line": {
            "color": "#2a3f5f"
           }
          },
          "ternary": {
           "aaxis": {
            "gridcolor": "white",
            "linecolor": "white",
            "ticks": ""
           },
           "baxis": {
            "gridcolor": "white",
            "linecolor": "white",
            "ticks": ""
           },
           "bgcolor": "#E5ECF6",
           "caxis": {
            "gridcolor": "white",
            "linecolor": "white",
            "ticks": ""
           }
          },
          "title": {
           "x": 0.05
          },
          "xaxis": {
           "automargin": true,
           "gridcolor": "white",
           "linecolor": "white",
           "ticks": "",
           "title": {
            "standoff": 15
           },
           "zerolinecolor": "white",
           "zerolinewidth": 2
          },
          "yaxis": {
           "automargin": true,
           "gridcolor": "white",
           "linecolor": "white",
           "ticks": "",
           "title": {
            "standoff": 15
           },
           "zerolinecolor": "white",
           "zerolinewidth": 2
          }
         }
        },
        "title": {
         "font": {
          "color": "#4D5663"
         }
        },
        "xaxis": {
         "gridcolor": "#E1E5ED",
         "showgrid": true,
         "tickfont": {
          "color": "#4D5663"
         },
         "title": {
          "font": {
           "color": "#4D5663"
          },
          "text": ""
         },
         "zerolinecolor": "#E1E5ED"
        },
        "yaxis": {
         "gridcolor": "#E1E5ED",
         "showgrid": true,
         "tickfont": {
          "color": "#4D5663"
         },
         "title": {
          "font": {
           "color": "#4D5663"
          },
          "text": ""
         },
         "zerolinecolor": "#E1E5ED"
        }
       }
      },
      "text/html": [
       "<div>                            <div id=\"7c4348cf-d85e-4677-88f6-1593f3de5855\" class=\"plotly-graph-div\" style=\"height:525px; width:100%;\"></div>            <script type=\"text/javascript\">                require([\"plotly\"], function(Plotly) {                    window.PLOTLYENV=window.PLOTLYENV || {};\n",
       "                    window.PLOTLYENV.BASE_URL='https://plot.ly';                                    if (document.getElementById(\"7c4348cf-d85e-4677-88f6-1593f3de5855\")) {                    Plotly.newPlot(                        \"7c4348cf-d85e-4677-88f6-1593f3de5855\",                        [{\"marker\": {\"color\": \"rgba(255, 153, 51, 0.6)\", \"line\": {\"color\": \"rgba(255, 153, 51, 1.0)\", \"width\": 1}}, \"name\": \"None\", \"orientation\": \"v\", \"text\": \"\", \"type\": \"bar\", \"x\": [\"A\", \"B\", \"C\", \"D\"], \"y\": [100, 100, 100, 100]}],                        {\"legend\": {\"bgcolor\": \"#F5F6F9\", \"font\": {\"color\": \"#4D5663\"}}, \"paper_bgcolor\": \"#F5F6F9\", \"plot_bgcolor\": \"#F5F6F9\", \"template\": {\"data\": {\"bar\": [{\"error_x\": {\"color\": \"#2a3f5f\"}, \"error_y\": {\"color\": \"#2a3f5f\"}, \"marker\": {\"line\": {\"color\": \"#E5ECF6\", \"width\": 0.5}}, \"type\": \"bar\"}], \"barpolar\": [{\"marker\": {\"line\": {\"color\": \"#E5ECF6\", \"width\": 0.5}}, \"type\": \"barpolar\"}], \"carpet\": [{\"aaxis\": {\"endlinecolor\": \"#2a3f5f\", \"gridcolor\": \"white\", \"linecolor\": \"white\", \"minorgridcolor\": \"white\", \"startlinecolor\": \"#2a3f5f\"}, \"baxis\": {\"endlinecolor\": \"#2a3f5f\", \"gridcolor\": \"white\", \"linecolor\": \"white\", \"minorgridcolor\": \"white\", \"startlinecolor\": \"#2a3f5f\"}, \"type\": \"carpet\"}], \"choropleth\": [{\"colorbar\": {\"outlinewidth\": 0, \"ticks\": \"\"}, \"type\": \"choropleth\"}], \"contour\": [{\"colorbar\": {\"outlinewidth\": 0, \"ticks\": \"\"}, \"colorscale\": [[0.0, \"#0d0887\"], [0.1111111111111111, \"#46039f\"], [0.2222222222222222, \"#7201a8\"], [0.3333333333333333, \"#9c179e\"], [0.4444444444444444, \"#bd3786\"], [0.5555555555555556, \"#d8576b\"], [0.6666666666666666, \"#ed7953\"], [0.7777777777777778, \"#fb9f3a\"], [0.8888888888888888, \"#fdca26\"], [1.0, \"#f0f921\"]], \"type\": \"contour\"}], \"contourcarpet\": [{\"colorbar\": {\"outlinewidth\": 0, \"ticks\": \"\"}, \"type\": \"contourcarpet\"}], \"heatmap\": [{\"colorbar\": {\"outlinewidth\": 0, \"ticks\": \"\"}, \"colorscale\": [[0.0, \"#0d0887\"], [0.1111111111111111, \"#46039f\"], [0.2222222222222222, \"#7201a8\"], [0.3333333333333333, \"#9c179e\"], [0.4444444444444444, \"#bd3786\"], [0.5555555555555556, \"#d8576b\"], [0.6666666666666666, \"#ed7953\"], [0.7777777777777778, \"#fb9f3a\"], [0.8888888888888888, \"#fdca26\"], [1.0, \"#f0f921\"]], \"type\": \"heatmap\"}], \"heatmapgl\": [{\"colorbar\": {\"outlinewidth\": 0, \"ticks\": \"\"}, \"colorscale\": [[0.0, \"#0d0887\"], [0.1111111111111111, \"#46039f\"], [0.2222222222222222, \"#7201a8\"], [0.3333333333333333, \"#9c179e\"], [0.4444444444444444, \"#bd3786\"], [0.5555555555555556, \"#d8576b\"], [0.6666666666666666, \"#ed7953\"], [0.7777777777777778, \"#fb9f3a\"], [0.8888888888888888, \"#fdca26\"], [1.0, \"#f0f921\"]], \"type\": \"heatmapgl\"}], \"histogram\": [{\"marker\": {\"colorbar\": {\"outlinewidth\": 0, \"ticks\": \"\"}}, \"type\": \"histogram\"}], \"histogram2d\": [{\"colorbar\": {\"outlinewidth\": 0, \"ticks\": \"\"}, \"colorscale\": [[0.0, \"#0d0887\"], [0.1111111111111111, \"#46039f\"], [0.2222222222222222, \"#7201a8\"], [0.3333333333333333, \"#9c179e\"], [0.4444444444444444, \"#bd3786\"], [0.5555555555555556, \"#d8576b\"], [0.6666666666666666, \"#ed7953\"], [0.7777777777777778, \"#fb9f3a\"], [0.8888888888888888, \"#fdca26\"], [1.0, \"#f0f921\"]], \"type\": \"histogram2d\"}], \"histogram2dcontour\": [{\"colorbar\": {\"outlinewidth\": 0, \"ticks\": \"\"}, \"colorscale\": [[0.0, \"#0d0887\"], [0.1111111111111111, \"#46039f\"], [0.2222222222222222, \"#7201a8\"], [0.3333333333333333, \"#9c179e\"], [0.4444444444444444, \"#bd3786\"], [0.5555555555555556, \"#d8576b\"], [0.6666666666666666, \"#ed7953\"], [0.7777777777777778, \"#fb9f3a\"], [0.8888888888888888, \"#fdca26\"], [1.0, \"#f0f921\"]], \"type\": \"histogram2dcontour\"}], \"mesh3d\": [{\"colorbar\": {\"outlinewidth\": 0, \"ticks\": \"\"}, \"type\": \"mesh3d\"}], \"parcoords\": [{\"line\": {\"colorbar\": {\"outlinewidth\": 0, \"ticks\": \"\"}}, \"type\": \"parcoords\"}], \"pie\": [{\"automargin\": true, \"type\": \"pie\"}], \"scatter\": [{\"marker\": {\"colorbar\": {\"outlinewidth\": 0, \"ticks\": \"\"}}, \"type\": \"scatter\"}], \"scatter3d\": [{\"line\": {\"colorbar\": {\"outlinewidth\": 0, \"ticks\": \"\"}}, \"marker\": {\"colorbar\": {\"outlinewidth\": 0, \"ticks\": \"\"}}, \"type\": \"scatter3d\"}], \"scattercarpet\": [{\"marker\": {\"colorbar\": {\"outlinewidth\": 0, \"ticks\": \"\"}}, \"type\": \"scattercarpet\"}], \"scattergeo\": [{\"marker\": {\"colorbar\": {\"outlinewidth\": 0, \"ticks\": \"\"}}, \"type\": \"scattergeo\"}], \"scattergl\": [{\"marker\": {\"colorbar\": {\"outlinewidth\": 0, \"ticks\": \"\"}}, \"type\": \"scattergl\"}], \"scattermapbox\": [{\"marker\": {\"colorbar\": {\"outlinewidth\": 0, \"ticks\": \"\"}}, \"type\": \"scattermapbox\"}], \"scatterpolar\": [{\"marker\": {\"colorbar\": {\"outlinewidth\": 0, \"ticks\": \"\"}}, \"type\": \"scatterpolar\"}], \"scatterpolargl\": [{\"marker\": {\"colorbar\": {\"outlinewidth\": 0, \"ticks\": \"\"}}, \"type\": \"scatterpolargl\"}], \"scatterternary\": [{\"marker\": {\"colorbar\": {\"outlinewidth\": 0, \"ticks\": \"\"}}, \"type\": \"scatterternary\"}], \"surface\": [{\"colorbar\": {\"outlinewidth\": 0, \"ticks\": \"\"}, \"colorscale\": [[0.0, \"#0d0887\"], [0.1111111111111111, \"#46039f\"], [0.2222222222222222, \"#7201a8\"], [0.3333333333333333, \"#9c179e\"], [0.4444444444444444, \"#bd3786\"], [0.5555555555555556, \"#d8576b\"], [0.6666666666666666, \"#ed7953\"], [0.7777777777777778, \"#fb9f3a\"], [0.8888888888888888, \"#fdca26\"], [1.0, \"#f0f921\"]], \"type\": \"surface\"}], \"table\": [{\"cells\": {\"fill\": {\"color\": \"#EBF0F8\"}, \"line\": {\"color\": \"white\"}}, \"header\": {\"fill\": {\"color\": \"#C8D4E3\"}, \"line\": {\"color\": \"white\"}}, \"type\": \"table\"}]}, \"layout\": {\"annotationdefaults\": {\"arrowcolor\": \"#2a3f5f\", \"arrowhead\": 0, \"arrowwidth\": 1}, \"autotypenumbers\": \"strict\", \"coloraxis\": {\"colorbar\": {\"outlinewidth\": 0, \"ticks\": \"\"}}, \"colorscale\": {\"diverging\": [[0, \"#8e0152\"], [0.1, \"#c51b7d\"], [0.2, \"#de77ae\"], [0.3, \"#f1b6da\"], [0.4, \"#fde0ef\"], [0.5, \"#f7f7f7\"], [0.6, \"#e6f5d0\"], [0.7, \"#b8e186\"], [0.8, \"#7fbc41\"], [0.9, \"#4d9221\"], [1, \"#276419\"]], \"sequential\": [[0.0, \"#0d0887\"], [0.1111111111111111, \"#46039f\"], [0.2222222222222222, \"#7201a8\"], [0.3333333333333333, \"#9c179e\"], [0.4444444444444444, \"#bd3786\"], [0.5555555555555556, \"#d8576b\"], [0.6666666666666666, \"#ed7953\"], [0.7777777777777778, \"#fb9f3a\"], [0.8888888888888888, \"#fdca26\"], [1.0, \"#f0f921\"]], \"sequentialminus\": [[0.0, \"#0d0887\"], [0.1111111111111111, \"#46039f\"], [0.2222222222222222, \"#7201a8\"], [0.3333333333333333, \"#9c179e\"], [0.4444444444444444, \"#bd3786\"], [0.5555555555555556, \"#d8576b\"], [0.6666666666666666, \"#ed7953\"], [0.7777777777777778, \"#fb9f3a\"], [0.8888888888888888, \"#fdca26\"], [1.0, \"#f0f921\"]]}, \"colorway\": [\"#636efa\", \"#EF553B\", \"#00cc96\", \"#ab63fa\", \"#FFA15A\", \"#19d3f3\", \"#FF6692\", \"#B6E880\", \"#FF97FF\", \"#FECB52\"], \"font\": {\"color\": \"#2a3f5f\"}, \"geo\": {\"bgcolor\": \"white\", \"lakecolor\": \"white\", \"landcolor\": \"#E5ECF6\", \"showlakes\": true, \"showland\": true, \"subunitcolor\": \"white\"}, \"hoverlabel\": {\"align\": \"left\"}, \"hovermode\": \"closest\", \"mapbox\": {\"style\": \"light\"}, \"paper_bgcolor\": \"white\", \"plot_bgcolor\": \"#E5ECF6\", \"polar\": {\"angularaxis\": {\"gridcolor\": \"white\", \"linecolor\": \"white\", \"ticks\": \"\"}, \"bgcolor\": \"#E5ECF6\", \"radialaxis\": {\"gridcolor\": \"white\", \"linecolor\": \"white\", \"ticks\": \"\"}}, \"scene\": {\"xaxis\": {\"backgroundcolor\": \"#E5ECF6\", \"gridcolor\": \"white\", \"gridwidth\": 2, \"linecolor\": \"white\", \"showbackground\": true, \"ticks\": \"\", \"zerolinecolor\": \"white\"}, \"yaxis\": {\"backgroundcolor\": \"#E5ECF6\", \"gridcolor\": \"white\", \"gridwidth\": 2, \"linecolor\": \"white\", \"showbackground\": true, \"ticks\": \"\", \"zerolinecolor\": \"white\"}, \"zaxis\": {\"backgroundcolor\": \"#E5ECF6\", \"gridcolor\": \"white\", \"gridwidth\": 2, \"linecolor\": \"white\", \"showbackground\": true, \"ticks\": \"\", \"zerolinecolor\": \"white\"}}, \"shapedefaults\": {\"line\": {\"color\": \"#2a3f5f\"}}, \"ternary\": {\"aaxis\": {\"gridcolor\": \"white\", \"linecolor\": \"white\", \"ticks\": \"\"}, \"baxis\": {\"gridcolor\": \"white\", \"linecolor\": \"white\", \"ticks\": \"\"}, \"bgcolor\": \"#E5ECF6\", \"caxis\": {\"gridcolor\": \"white\", \"linecolor\": \"white\", \"ticks\": \"\"}}, \"title\": {\"x\": 0.05}, \"xaxis\": {\"automargin\": true, \"gridcolor\": \"white\", \"linecolor\": \"white\", \"ticks\": \"\", \"title\": {\"standoff\": 15}, \"zerolinecolor\": \"white\", \"zerolinewidth\": 2}, \"yaxis\": {\"automargin\": true, \"gridcolor\": \"white\", \"linecolor\": \"white\", \"ticks\": \"\", \"title\": {\"standoff\": 15}, \"zerolinecolor\": \"white\", \"zerolinewidth\": 2}}}, \"title\": {\"font\": {\"color\": \"#4D5663\"}}, \"xaxis\": {\"gridcolor\": \"#E1E5ED\", \"showgrid\": true, \"tickfont\": {\"color\": \"#4D5663\"}, \"title\": {\"font\": {\"color\": \"#4D5663\"}, \"text\": \"\"}, \"zerolinecolor\": \"#E1E5ED\"}, \"yaxis\": {\"gridcolor\": \"#E1E5ED\", \"showgrid\": true, \"tickfont\": {\"color\": \"#4D5663\"}, \"title\": {\"font\": {\"color\": \"#4D5663\"}, \"text\": \"\"}, \"zerolinecolor\": \"#E1E5ED\"}},                        {\"showLink\": true, \"linkText\": \"Export to plot.ly\", \"plotlyServerURL\": \"https://plot.ly\", \"responsive\": true}                    ).then(function(){\n",
       "                            \n",
       "var gd = document.getElementById('7c4348cf-d85e-4677-88f6-1593f3de5855');\n",
       "var x = new MutationObserver(function (mutations, observer) {{\n",
       "        var display = window.getComputedStyle(gd).display;\n",
       "        if (!display || display === 'none') {{\n",
       "            console.log([gd, 'removed!']);\n",
       "            Plotly.purge(gd);\n",
       "            observer.disconnect();\n",
       "        }}\n",
       "}});\n",
       "\n",
       "// Listen for the removal of the full notebook cells\n",
       "var notebookContainer = gd.closest('#notebook-container');\n",
       "if (notebookContainer) {{\n",
       "    x.observe(notebookContainer, {childList: true});\n",
       "}}\n",
       "\n",
       "// Listen for the clearing of the current output cell\n",
       "var outputEl = gd.closest('.output');\n",
       "if (outputEl) {{\n",
       "    x.observe(outputEl, {childList: true});\n",
       "}}\n",
       "\n",
       "                        })                };                });            </script>        </div>"
      ]
     },
     "metadata": {},
     "output_type": "display_data"
    }
   ],
   "source": [
    "df.count().iplot(kind='bar')"
   ]
  },
  {
   "cell_type": "markdown",
   "metadata": {},
   "source": [
    "## Boxplots"
   ]
  },
  {
   "cell_type": "code",
   "execution_count": 32,
   "metadata": {},
   "outputs": [
    {
     "data": {
      "application/vnd.plotly.v1+json": {
       "config": {
        "linkText": "Export to plot.ly",
        "plotlyServerURL": "https://plot.ly",
        "showLink": true
       },
       "data": [
        {
         "boxpoints": false,
         "line": {
          "width": 1.3
         },
         "marker": {
          "color": "rgba(255, 153, 51, 1.0)"
         },
         "name": "A",
         "orientation": "v",
         "type": "box",
         "y": [
          1.3053331208646823,
          0.07060102470828908,
          -0.6273942586787559,
          0.004262752916752885,
          0.33269698893402844,
          0.6381332330436322,
          0.24953082585115638,
          -0.6635050291288116,
          0.6835631662903746,
          1.5770846419984614,
          -0.7726922422354031,
          -1.5429400180576067,
          1.642265245249487,
          1.549569141247283,
          0.39315117339191485,
          -1.0431315642162016,
          -1.6252231516066178,
          -0.7916527971842998,
          -1.2890079772656593,
          1.004418500310948,
          -0.5589136128780355,
          -0.4640747763041346,
          -0.11171786422902721,
          -0.5238320954092597,
          0.1820717288832561,
          -0.5068920760994189,
          -1.1323219804508442,
          -0.7093625848097523,
          1.282583461177605,
          0.28798853552936154,
          -1.4492261527593004,
          0.08019857924561238,
          -0.42663887160206737,
          0.007713262320147132,
          -0.22995729291620196,
          -0.4031456406612522,
          -0.520817758793495,
          0.4870015471035602,
          -0.6952836830641216,
          -1.9672774602854737,
          0.38333036655448166,
          1.012267251684254,
          0.9487347479148777,
          -0.29387374329485316,
          1.4875276905637784,
          -1.138740644536728,
          0.7328102520111326,
          -0.5071328091386446,
          -2.0036048993620366,
          -0.7074874948843983,
          -0.019357493238301663,
          1.4218962031981197,
          0.3919582635466916,
          0.4765901721878717,
          0.9078347526694567,
          1.349785021124678,
          -0.6442803590411373,
          -0.8157384640894977,
          0.8545751271642288,
          0.02732970739246397,
          -1.4086507135676758,
          -1.1615326955464176,
          0.5517476029061444,
          1.1970464152783742,
          1.4125656926621974,
          -2.134655033934945,
          -0.8013651102182543,
          0.5338316611515622,
          0.4753333994537918,
          0.621567058825844,
          0.6197471909583855,
          -0.2539684802411737,
          0.5689993204185823,
          -0.1504093600239531,
          -1.2348996150044766,
          0.6268715019805275,
          1.6253285667166122,
          0.55108332992706,
          1.007159727247772,
          -0.2771771604910772,
          -0.4905496435780057,
          -1.7000675214060434,
          0.40701724765290015,
          0.16990459238652522,
          0.2563952626726051,
          -0.04783612625895467,
          1.7431600405645302,
          -0.6657261253325057,
          -1.5724136533368314,
          2.4612522037080176,
          0.1107107364017812,
          1.001711399428715,
          1.1070976428117987,
          -0.9770487545161375,
          -0.6507292296440169,
          3.143184255064228,
          -0.32664015028959437,
          0.5862206865519192,
          -0.4425622602749207,
          -0.1804513064053195
         ]
        },
        {
         "boxpoints": false,
         "line": {
          "width": 1.3
         },
         "marker": {
          "color": "rgba(55, 128, 191, 1.0)"
         },
         "name": "B",
         "orientation": "v",
         "type": "box",
         "y": [
          1.6309467201026118,
          1.0353355404547708,
          -0.8036678008318449,
          -0.6390392045016413,
          0.017594143145196577,
          -0.0715072318274745,
          1.3556358489614495,
          1.1101134128420638,
          -0.8737694828885728,
          0.6058582635619374,
          -0.6284571787436664,
          1.2301587939004854,
          0.4054570950752798,
          1.765877274206219,
          -0.08959183924295669,
          0.13797096034569215,
          -1.2813787858246608,
          0.1626005441331333,
          1.7950282217711162,
          2.262318586033149,
          0.8146952802160763,
          -0.3098401446461445,
          -1.0938451643677214,
          0.5541742007752135,
          -2.754004422987266,
          -0.7235086960400885,
          0.22061214524020195,
          0.23550807333064203,
          1.2894235188715812,
          -1.333219483264905,
          0.2128271325739893,
          0.7379221335262379,
          -1.2432932957135165,
          -0.5367641512087755,
          0.7930064150933593,
          0.6540245569611776,
          -2.2036870051828368,
          -0.2914376764967331,
          0.8211781114038501,
          2.2560419549707706,
          -0.45574942073765284,
          0.7185868793073477,
          0.3833683511776934,
          -0.36349599697531587,
          -0.012339390444214112,
          -0.3078544379392602,
          0.6175951879989545,
          1.3964716419650605,
          0.8837657353548712,
          -0.8705626874815445,
          -1.3187336091898998,
          0.2721492880078098,
          0.7865338618938248,
          0.6877075046567835,
          -0.5541405238744319,
          1.1118495834138304,
          -1.0490916250222888,
          0.2254482897218262,
          -0.0021306903324297324,
          -0.5679756555319595,
          -0.31971970800530286,
          -1.1879632738737522,
          -0.35778373477610265,
          1.009820195278712,
          1.2577909698180443,
          -1.1534895590226226,
          0.525617414606756,
          0.5950175804697759,
          0.5158501196316756,
          -1.1011892181884337,
          -1.0036096779108812,
          0.24161569735384408,
          0.5471379551065907,
          0.24806126683392557,
          1.3188524169553577,
          -0.681803762550244,
          0.44489791829464104,
          -1.0770991472673643,
          -0.2702653351658772,
          1.920405238566168,
          0.7728506891131075,
          0.3285564148991624,
          -0.7165849222399514,
          0.9789203519022144,
          -1.1352369943064693,
          -0.023468998930981148,
          -0.18350668657987979,
          -0.8448702446904687,
          -0.6276080621946575,
          -0.029059002292832786,
          -1.609997946531054,
          1.9844329334417505,
          1.6906128594831182,
          0.5217013002324701,
          -0.6526832834035879,
          -0.07904325636077197,
          -0.24486640716365835,
          -0.27849583933871974,
          -1.0454892278326873,
          2.07357410565525
         ]
        },
        {
         "boxpoints": false,
         "line": {
          "width": 1.3
         },
         "marker": {
          "color": "rgba(50, 171, 96, 1.0)"
         },
         "name": "C",
         "orientation": "v",
         "type": "box",
         "y": [
          -2.7674576662317176,
          -0.16669790027135237,
          0.5634679664446195,
          1.3900476422767527,
          -1.1072200888336443,
          2.010190840848411,
          1.1042741432400838,
          -1.2641744374633244,
          -0.9952730839788553,
          -0.08306840771359496,
          1.345061581671098,
          2.3030611416893856,
          -1.8703726803479919,
          -0.6506693787569822,
          0.32092471764601177,
          0.3283098796989563,
          -1.249916534749311,
          -0.6290169768553193,
          -1.7227581029136811,
          0.24476099847080224,
          0.6998679842930692,
          -0.3813375488476992,
          -0.07989468518390708,
          -0.7823367081908581,
          -0.2650339587337876,
          -1.145309596563827,
          0.8106531477579901,
          0.5535699876885981,
          -2.1149336449748817,
          1.0056527101051436,
          0.9942949076946133,
          0.07025519449379213,
          0.7289187134653642,
          -1.0583084924576827,
          -1.119334653338331,
          1.9294647368849773,
          0.07101039478854945,
          -0.5636001917460157,
          0.6597198600102047,
          -1.420643261997302,
          0.41079246852370505,
          -0.09033446275519331,
          -0.3143271195323028,
          0.8986418132083612,
          1.454888943291881,
          -0.3497734365347499,
          1.835483141622012,
          0.26959486944981076,
          -0.67059801024517,
          0.6432433242673566,
          0.47190299497496146,
          -0.4239590274778007,
          0.9834653166760338,
          0.6194557726274995,
          0.9339955482835156,
          0.4147216734096685,
          1.9603191364389627,
          0.10300724198977046,
          0.6258297312817224,
          -0.05569822628353916,
          -0.5701048470566432,
          -1.3901147143324113,
          -0.31169804602928225,
          -0.09070461668198948,
          -0.7098677771742377,
          -0.6312732799999207,
          -1.853754195734087,
          -0.6863571511671761,
          0.2540679819706156,
          -0.09490618169928725,
          -0.12621517906462867,
          -0.44040713778285123,
          -0.7361369006947046,
          0.29200195373343046,
          -0.6580035074536295,
          -0.47398519095971703,
          1.1993496953667993,
          -0.6249166858271529,
          1.5790224875020038,
          1.6438852677806195,
          -1.1766434287021972,
          1.244988502092917,
          0.8499125216996266,
          1.3420137849590186,
          -2.353352392174117,
          0.4092890805121565,
          -0.4831908164024503,
          1.330496669714541,
          0.6752271527105582,
          0.27076227557917937,
          -0.3135324670871534,
          0.8269815258688635,
          -1.8309731968642307,
          0.04294462544529783,
          -0.06735343792620556,
          1.1306584815041043,
          1.1014759974948616,
          0.4958065495759284,
          -0.9890241857928621,
          -0.18053189446987497
         ]
        },
        {
         "boxpoints": false,
         "line": {
          "width": 1.3
         },
         "marker": {
          "color": "rgba(128, 0, 128, 1.0)"
         },
         "name": "D",
         "orientation": "v",
         "type": "box",
         "y": [
          -0.7116953750395058,
          1.368626782258406,
          -1.128331871237618,
          0.245111919871858,
          -0.5748085816101018,
          0.06341405629134396,
          -0.6470332348411975,
          -1.4663200517022248,
          -0.5370908057802258,
          0.15121308420625718,
          -0.3651440187031335,
          0.33368388389052756,
          0.6838482508220743,
          0.3488708294525502,
          0.6280660953943813,
          -1.277239815814712,
          0.37830787934848353,
          -0.4348588758192145,
          0.013349165896669396,
          -0.2992495320166972,
          -1.032900477477624,
          2.1802915889529135,
          -1.2369245839477279,
          1.6132690678192942,
          0.307247806502723,
          1.7836113161806206,
          0.23143725187076858,
          1.2577546399731796,
          -0.6464398718528345,
          -0.50487922199322,
          -0.029928153787276916,
          0.6058766732900155,
          -1.0089912185154142,
          -0.6641718826897628,
          -1.8522819333929355,
          2.0847718718528587,
          1.286289734053828,
          0.9199775346897205,
          -3.156074435884499,
          -0.7136481439763798,
          1.0183408562885075,
          0.8645646983412009,
          -1.0015174340293815,
          0.6932754556257976,
          -0.20854069122627997,
          0.3138901007339177,
          0.10689218373099481,
          0.2261162297084354,
          0.6621635986780701,
          -2.1863454082086964,
          0.04020240256031702,
          1.8234283707495202,
          0.4468426612349457,
          -1.1600232985860268,
          -1.437752287411869,
          0.967614821655162,
          -0.7669724564902772,
          1.9253815148423479,
          0.779042182626328,
          0.21185039808391556,
          -1.9159850003432026,
          2.015128206087745,
          -0.23084542484763468,
          -1.5248562667913759,
          -0.11919694667644008,
          -1.9312165958573033,
          -0.08306412462306562,
          -0.0653670288215373,
          0.4738816714745346,
          -0.9056611218336961,
          0.14572053154909084,
          0.7245227068965882,
          -0.31109286944095027,
          0.5119435265187391,
          -0.12952322769569002,
          -1.163779747171064,
          0.734103087430691,
          -1.004289738477838,
          1.1268460108389227,
          0.5599403117997654,
          1.103362102173991,
          -1.2380107595843164,
          1.5509390593923633,
          -0.23077863027943818,
          1.131594288686432,
          -0.28873751237270157,
          -1.3348336460650094,
          -0.8236993631379198,
          0.5100824112836138,
          0.7780476312585983,
          0.07767574825692426,
          1.1911800055148494,
          0.209222247110343,
          0.7961087856632068,
          -1.893823973235179,
          0.5181517619965198,
          -2.208658984774591,
          0.2613418183762557,
          -1.7911567623719549,
          -1.8697790274848867
         ]
        }
       ],
       "layout": {
        "legend": {
         "bgcolor": "#F5F6F9",
         "font": {
          "color": "#4D5663"
         }
        },
        "paper_bgcolor": "#F5F6F9",
        "plot_bgcolor": "#F5F6F9",
        "template": {
         "data": {
          "bar": [
           {
            "error_x": {
             "color": "#2a3f5f"
            },
            "error_y": {
             "color": "#2a3f5f"
            },
            "marker": {
             "line": {
              "color": "#E5ECF6",
              "width": 0.5
             }
            },
            "type": "bar"
           }
          ],
          "barpolar": [
           {
            "marker": {
             "line": {
              "color": "#E5ECF6",
              "width": 0.5
             }
            },
            "type": "barpolar"
           }
          ],
          "carpet": [
           {
            "aaxis": {
             "endlinecolor": "#2a3f5f",
             "gridcolor": "white",
             "linecolor": "white",
             "minorgridcolor": "white",
             "startlinecolor": "#2a3f5f"
            },
            "baxis": {
             "endlinecolor": "#2a3f5f",
             "gridcolor": "white",
             "linecolor": "white",
             "minorgridcolor": "white",
             "startlinecolor": "#2a3f5f"
            },
            "type": "carpet"
           }
          ],
          "choropleth": [
           {
            "colorbar": {
             "outlinewidth": 0,
             "ticks": ""
            },
            "type": "choropleth"
           }
          ],
          "contour": [
           {
            "colorbar": {
             "outlinewidth": 0,
             "ticks": ""
            },
            "colorscale": [
             [
              0,
              "#0d0887"
             ],
             [
              0.1111111111111111,
              "#46039f"
             ],
             [
              0.2222222222222222,
              "#7201a8"
             ],
             [
              0.3333333333333333,
              "#9c179e"
             ],
             [
              0.4444444444444444,
              "#bd3786"
             ],
             [
              0.5555555555555556,
              "#d8576b"
             ],
             [
              0.6666666666666666,
              "#ed7953"
             ],
             [
              0.7777777777777778,
              "#fb9f3a"
             ],
             [
              0.8888888888888888,
              "#fdca26"
             ],
             [
              1,
              "#f0f921"
             ]
            ],
            "type": "contour"
           }
          ],
          "contourcarpet": [
           {
            "colorbar": {
             "outlinewidth": 0,
             "ticks": ""
            },
            "type": "contourcarpet"
           }
          ],
          "heatmap": [
           {
            "colorbar": {
             "outlinewidth": 0,
             "ticks": ""
            },
            "colorscale": [
             [
              0,
              "#0d0887"
             ],
             [
              0.1111111111111111,
              "#46039f"
             ],
             [
              0.2222222222222222,
              "#7201a8"
             ],
             [
              0.3333333333333333,
              "#9c179e"
             ],
             [
              0.4444444444444444,
              "#bd3786"
             ],
             [
              0.5555555555555556,
              "#d8576b"
             ],
             [
              0.6666666666666666,
              "#ed7953"
             ],
             [
              0.7777777777777778,
              "#fb9f3a"
             ],
             [
              0.8888888888888888,
              "#fdca26"
             ],
             [
              1,
              "#f0f921"
             ]
            ],
            "type": "heatmap"
           }
          ],
          "heatmapgl": [
           {
            "colorbar": {
             "outlinewidth": 0,
             "ticks": ""
            },
            "colorscale": [
             [
              0,
              "#0d0887"
             ],
             [
              0.1111111111111111,
              "#46039f"
             ],
             [
              0.2222222222222222,
              "#7201a8"
             ],
             [
              0.3333333333333333,
              "#9c179e"
             ],
             [
              0.4444444444444444,
              "#bd3786"
             ],
             [
              0.5555555555555556,
              "#d8576b"
             ],
             [
              0.6666666666666666,
              "#ed7953"
             ],
             [
              0.7777777777777778,
              "#fb9f3a"
             ],
             [
              0.8888888888888888,
              "#fdca26"
             ],
             [
              1,
              "#f0f921"
             ]
            ],
            "type": "heatmapgl"
           }
          ],
          "histogram": [
           {
            "marker": {
             "colorbar": {
              "outlinewidth": 0,
              "ticks": ""
             }
            },
            "type": "histogram"
           }
          ],
          "histogram2d": [
           {
            "colorbar": {
             "outlinewidth": 0,
             "ticks": ""
            },
            "colorscale": [
             [
              0,
              "#0d0887"
             ],
             [
              0.1111111111111111,
              "#46039f"
             ],
             [
              0.2222222222222222,
              "#7201a8"
             ],
             [
              0.3333333333333333,
              "#9c179e"
             ],
             [
              0.4444444444444444,
              "#bd3786"
             ],
             [
              0.5555555555555556,
              "#d8576b"
             ],
             [
              0.6666666666666666,
              "#ed7953"
             ],
             [
              0.7777777777777778,
              "#fb9f3a"
             ],
             [
              0.8888888888888888,
              "#fdca26"
             ],
             [
              1,
              "#f0f921"
             ]
            ],
            "type": "histogram2d"
           }
          ],
          "histogram2dcontour": [
           {
            "colorbar": {
             "outlinewidth": 0,
             "ticks": ""
            },
            "colorscale": [
             [
              0,
              "#0d0887"
             ],
             [
              0.1111111111111111,
              "#46039f"
             ],
             [
              0.2222222222222222,
              "#7201a8"
             ],
             [
              0.3333333333333333,
              "#9c179e"
             ],
             [
              0.4444444444444444,
              "#bd3786"
             ],
             [
              0.5555555555555556,
              "#d8576b"
             ],
             [
              0.6666666666666666,
              "#ed7953"
             ],
             [
              0.7777777777777778,
              "#fb9f3a"
             ],
             [
              0.8888888888888888,
              "#fdca26"
             ],
             [
              1,
              "#f0f921"
             ]
            ],
            "type": "histogram2dcontour"
           }
          ],
          "mesh3d": [
           {
            "colorbar": {
             "outlinewidth": 0,
             "ticks": ""
            },
            "type": "mesh3d"
           }
          ],
          "parcoords": [
           {
            "line": {
             "colorbar": {
              "outlinewidth": 0,
              "ticks": ""
             }
            },
            "type": "parcoords"
           }
          ],
          "pie": [
           {
            "automargin": true,
            "type": "pie"
           }
          ],
          "scatter": [
           {
            "marker": {
             "colorbar": {
              "outlinewidth": 0,
              "ticks": ""
             }
            },
            "type": "scatter"
           }
          ],
          "scatter3d": [
           {
            "line": {
             "colorbar": {
              "outlinewidth": 0,
              "ticks": ""
             }
            },
            "marker": {
             "colorbar": {
              "outlinewidth": 0,
              "ticks": ""
             }
            },
            "type": "scatter3d"
           }
          ],
          "scattercarpet": [
           {
            "marker": {
             "colorbar": {
              "outlinewidth": 0,
              "ticks": ""
             }
            },
            "type": "scattercarpet"
           }
          ],
          "scattergeo": [
           {
            "marker": {
             "colorbar": {
              "outlinewidth": 0,
              "ticks": ""
             }
            },
            "type": "scattergeo"
           }
          ],
          "scattergl": [
           {
            "marker": {
             "colorbar": {
              "outlinewidth": 0,
              "ticks": ""
             }
            },
            "type": "scattergl"
           }
          ],
          "scattermapbox": [
           {
            "marker": {
             "colorbar": {
              "outlinewidth": 0,
              "ticks": ""
             }
            },
            "type": "scattermapbox"
           }
          ],
          "scatterpolar": [
           {
            "marker": {
             "colorbar": {
              "outlinewidth": 0,
              "ticks": ""
             }
            },
            "type": "scatterpolar"
           }
          ],
          "scatterpolargl": [
           {
            "marker": {
             "colorbar": {
              "outlinewidth": 0,
              "ticks": ""
             }
            },
            "type": "scatterpolargl"
           }
          ],
          "scatterternary": [
           {
            "marker": {
             "colorbar": {
              "outlinewidth": 0,
              "ticks": ""
             }
            },
            "type": "scatterternary"
           }
          ],
          "surface": [
           {
            "colorbar": {
             "outlinewidth": 0,
             "ticks": ""
            },
            "colorscale": [
             [
              0,
              "#0d0887"
             ],
             [
              0.1111111111111111,
              "#46039f"
             ],
             [
              0.2222222222222222,
              "#7201a8"
             ],
             [
              0.3333333333333333,
              "#9c179e"
             ],
             [
              0.4444444444444444,
              "#bd3786"
             ],
             [
              0.5555555555555556,
              "#d8576b"
             ],
             [
              0.6666666666666666,
              "#ed7953"
             ],
             [
              0.7777777777777778,
              "#fb9f3a"
             ],
             [
              0.8888888888888888,
              "#fdca26"
             ],
             [
              1,
              "#f0f921"
             ]
            ],
            "type": "surface"
           }
          ],
          "table": [
           {
            "cells": {
             "fill": {
              "color": "#EBF0F8"
             },
             "line": {
              "color": "white"
             }
            },
            "header": {
             "fill": {
              "color": "#C8D4E3"
             },
             "line": {
              "color": "white"
             }
            },
            "type": "table"
           }
          ]
         },
         "layout": {
          "annotationdefaults": {
           "arrowcolor": "#2a3f5f",
           "arrowhead": 0,
           "arrowwidth": 1
          },
          "autotypenumbers": "strict",
          "coloraxis": {
           "colorbar": {
            "outlinewidth": 0,
            "ticks": ""
           }
          },
          "colorscale": {
           "diverging": [
            [
             0,
             "#8e0152"
            ],
            [
             0.1,
             "#c51b7d"
            ],
            [
             0.2,
             "#de77ae"
            ],
            [
             0.3,
             "#f1b6da"
            ],
            [
             0.4,
             "#fde0ef"
            ],
            [
             0.5,
             "#f7f7f7"
            ],
            [
             0.6,
             "#e6f5d0"
            ],
            [
             0.7,
             "#b8e186"
            ],
            [
             0.8,
             "#7fbc41"
            ],
            [
             0.9,
             "#4d9221"
            ],
            [
             1,
             "#276419"
            ]
           ],
           "sequential": [
            [
             0,
             "#0d0887"
            ],
            [
             0.1111111111111111,
             "#46039f"
            ],
            [
             0.2222222222222222,
             "#7201a8"
            ],
            [
             0.3333333333333333,
             "#9c179e"
            ],
            [
             0.4444444444444444,
             "#bd3786"
            ],
            [
             0.5555555555555556,
             "#d8576b"
            ],
            [
             0.6666666666666666,
             "#ed7953"
            ],
            [
             0.7777777777777778,
             "#fb9f3a"
            ],
            [
             0.8888888888888888,
             "#fdca26"
            ],
            [
             1,
             "#f0f921"
            ]
           ],
           "sequentialminus": [
            [
             0,
             "#0d0887"
            ],
            [
             0.1111111111111111,
             "#46039f"
            ],
            [
             0.2222222222222222,
             "#7201a8"
            ],
            [
             0.3333333333333333,
             "#9c179e"
            ],
            [
             0.4444444444444444,
             "#bd3786"
            ],
            [
             0.5555555555555556,
             "#d8576b"
            ],
            [
             0.6666666666666666,
             "#ed7953"
            ],
            [
             0.7777777777777778,
             "#fb9f3a"
            ],
            [
             0.8888888888888888,
             "#fdca26"
            ],
            [
             1,
             "#f0f921"
            ]
           ]
          },
          "colorway": [
           "#636efa",
           "#EF553B",
           "#00cc96",
           "#ab63fa",
           "#FFA15A",
           "#19d3f3",
           "#FF6692",
           "#B6E880",
           "#FF97FF",
           "#FECB52"
          ],
          "font": {
           "color": "#2a3f5f"
          },
          "geo": {
           "bgcolor": "white",
           "lakecolor": "white",
           "landcolor": "#E5ECF6",
           "showlakes": true,
           "showland": true,
           "subunitcolor": "white"
          },
          "hoverlabel": {
           "align": "left"
          },
          "hovermode": "closest",
          "mapbox": {
           "style": "light"
          },
          "paper_bgcolor": "white",
          "plot_bgcolor": "#E5ECF6",
          "polar": {
           "angularaxis": {
            "gridcolor": "white",
            "linecolor": "white",
            "ticks": ""
           },
           "bgcolor": "#E5ECF6",
           "radialaxis": {
            "gridcolor": "white",
            "linecolor": "white",
            "ticks": ""
           }
          },
          "scene": {
           "xaxis": {
            "backgroundcolor": "#E5ECF6",
            "gridcolor": "white",
            "gridwidth": 2,
            "linecolor": "white",
            "showbackground": true,
            "ticks": "",
            "zerolinecolor": "white"
           },
           "yaxis": {
            "backgroundcolor": "#E5ECF6",
            "gridcolor": "white",
            "gridwidth": 2,
            "linecolor": "white",
            "showbackground": true,
            "ticks": "",
            "zerolinecolor": "white"
           },
           "zaxis": {
            "backgroundcolor": "#E5ECF6",
            "gridcolor": "white",
            "gridwidth": 2,
            "linecolor": "white",
            "showbackground": true,
            "ticks": "",
            "zerolinecolor": "white"
           }
          },
          "shapedefaults": {
           "line": {
            "color": "#2a3f5f"
           }
          },
          "ternary": {
           "aaxis": {
            "gridcolor": "white",
            "linecolor": "white",
            "ticks": ""
           },
           "baxis": {
            "gridcolor": "white",
            "linecolor": "white",
            "ticks": ""
           },
           "bgcolor": "#E5ECF6",
           "caxis": {
            "gridcolor": "white",
            "linecolor": "white",
            "ticks": ""
           }
          },
          "title": {
           "x": 0.05
          },
          "xaxis": {
           "automargin": true,
           "gridcolor": "white",
           "linecolor": "white",
           "ticks": "",
           "title": {
            "standoff": 15
           },
           "zerolinecolor": "white",
           "zerolinewidth": 2
          },
          "yaxis": {
           "automargin": true,
           "gridcolor": "white",
           "linecolor": "white",
           "ticks": "",
           "title": {
            "standoff": 15
           },
           "zerolinecolor": "white",
           "zerolinewidth": 2
          }
         }
        },
        "title": {
         "font": {
          "color": "#4D5663"
         }
        },
        "xaxis": {
         "gridcolor": "#E1E5ED",
         "showgrid": true,
         "tickfont": {
          "color": "#4D5663"
         },
         "title": {
          "font": {
           "color": "#4D5663"
          },
          "text": ""
         },
         "zerolinecolor": "#E1E5ED"
        },
        "yaxis": {
         "gridcolor": "#E1E5ED",
         "showgrid": true,
         "tickfont": {
          "color": "#4D5663"
         },
         "title": {
          "font": {
           "color": "#4D5663"
          },
          "text": ""
         },
         "zerolinecolor": "#E1E5ED"
        }
       }
      },
      "text/html": [
       "<div>                            <div id=\"accc3bcd-0389-4b32-8fce-6c57bcada2c4\" class=\"plotly-graph-div\" style=\"height:525px; width:100%;\"></div>            <script type=\"text/javascript\">                require([\"plotly\"], function(Plotly) {                    window.PLOTLYENV=window.PLOTLYENV || {};\n",
       "                    window.PLOTLYENV.BASE_URL='https://plot.ly';                                    if (document.getElementById(\"accc3bcd-0389-4b32-8fce-6c57bcada2c4\")) {                    Plotly.newPlot(                        \"accc3bcd-0389-4b32-8fce-6c57bcada2c4\",                        [{\"boxpoints\": false, \"line\": {\"width\": 1.3}, \"marker\": {\"color\": \"rgba(255, 153, 51, 1.0)\"}, \"name\": \"A\", \"orientation\": \"v\", \"type\": \"box\", \"y\": [1.3053331208646823, 0.07060102470828908, -0.6273942586787559, 0.004262752916752885, 0.33269698893402844, 0.6381332330436322, 0.24953082585115638, -0.6635050291288116, 0.6835631662903746, 1.5770846419984614, -0.7726922422354031, -1.5429400180576067, 1.642265245249487, 1.549569141247283, 0.39315117339191485, -1.0431315642162016, -1.6252231516066178, -0.7916527971842998, -1.2890079772656593, 1.004418500310948, -0.5589136128780355, -0.4640747763041346, -0.11171786422902721, -0.5238320954092597, 0.1820717288832561, -0.5068920760994189, -1.1323219804508442, -0.7093625848097523, 1.282583461177605, 0.28798853552936154, -1.4492261527593004, 0.08019857924561238, -0.42663887160206737, 0.007713262320147132, -0.22995729291620196, -0.4031456406612522, -0.520817758793495, 0.4870015471035602, -0.6952836830641216, -1.9672774602854737, 0.38333036655448166, 1.012267251684254, 0.9487347479148777, -0.29387374329485316, 1.4875276905637784, -1.138740644536728, 0.7328102520111326, -0.5071328091386446, -2.0036048993620366, -0.7074874948843983, -0.019357493238301663, 1.4218962031981197, 0.3919582635466916, 0.4765901721878717, 0.9078347526694567, 1.349785021124678, -0.6442803590411373, -0.8157384640894977, 0.8545751271642288, 0.02732970739246397, -1.4086507135676758, -1.1615326955464176, 0.5517476029061444, 1.1970464152783742, 1.4125656926621974, -2.134655033934945, -0.8013651102182543, 0.5338316611515622, 0.4753333994537918, 0.621567058825844, 0.6197471909583855, -0.2539684802411737, 0.5689993204185823, -0.1504093600239531, -1.2348996150044766, 0.6268715019805275, 1.6253285667166122, 0.55108332992706, 1.007159727247772, -0.2771771604910772, -0.4905496435780057, -1.7000675214060434, 0.40701724765290015, 0.16990459238652522, 0.2563952626726051, -0.04783612625895467, 1.7431600405645302, -0.6657261253325057, -1.5724136533368314, 2.4612522037080176, 0.1107107364017812, 1.001711399428715, 1.1070976428117987, -0.9770487545161375, -0.6507292296440169, 3.143184255064228, -0.32664015028959437, 0.5862206865519192, -0.4425622602749207, -0.1804513064053195]}, {\"boxpoints\": false, \"line\": {\"width\": 1.3}, \"marker\": {\"color\": \"rgba(55, 128, 191, 1.0)\"}, \"name\": \"B\", \"orientation\": \"v\", \"type\": \"box\", \"y\": [1.6309467201026118, 1.0353355404547708, -0.8036678008318449, -0.6390392045016413, 0.017594143145196577, -0.0715072318274745, 1.3556358489614495, 1.1101134128420638, -0.8737694828885728, 0.6058582635619374, -0.6284571787436664, 1.2301587939004854, 0.4054570950752798, 1.765877274206219, -0.08959183924295669, 0.13797096034569215, -1.2813787858246608, 0.1626005441331333, 1.7950282217711162, 2.262318586033149, 0.8146952802160763, -0.3098401446461445, -1.0938451643677214, 0.5541742007752135, -2.754004422987266, -0.7235086960400885, 0.22061214524020195, 0.23550807333064203, 1.2894235188715812, -1.333219483264905, 0.2128271325739893, 0.7379221335262379, -1.2432932957135165, -0.5367641512087755, 0.7930064150933593, 0.6540245569611776, -2.2036870051828368, -0.2914376764967331, 0.8211781114038501, 2.2560419549707706, -0.45574942073765284, 0.7185868793073477, 0.3833683511776934, -0.36349599697531587, -0.012339390444214112, -0.3078544379392602, 0.6175951879989545, 1.3964716419650605, 0.8837657353548712, -0.8705626874815445, -1.3187336091898998, 0.2721492880078098, 0.7865338618938248, 0.6877075046567835, -0.5541405238744319, 1.1118495834138304, -1.0490916250222888, 0.2254482897218262, -0.0021306903324297324, -0.5679756555319595, -0.31971970800530286, -1.1879632738737522, -0.35778373477610265, 1.009820195278712, 1.2577909698180443, -1.1534895590226226, 0.525617414606756, 0.5950175804697759, 0.5158501196316756, -1.1011892181884337, -1.0036096779108812, 0.24161569735384408, 0.5471379551065907, 0.24806126683392557, 1.3188524169553577, -0.681803762550244, 0.44489791829464104, -1.0770991472673643, -0.2702653351658772, 1.920405238566168, 0.7728506891131075, 0.3285564148991624, -0.7165849222399514, 0.9789203519022144, -1.1352369943064693, -0.023468998930981148, -0.18350668657987979, -0.8448702446904687, -0.6276080621946575, -0.029059002292832786, -1.609997946531054, 1.9844329334417505, 1.6906128594831182, 0.5217013002324701, -0.6526832834035879, -0.07904325636077197, -0.24486640716365835, -0.27849583933871974, -1.0454892278326873, 2.07357410565525]}, {\"boxpoints\": false, \"line\": {\"width\": 1.3}, \"marker\": {\"color\": \"rgba(50, 171, 96, 1.0)\"}, \"name\": \"C\", \"orientation\": \"v\", \"type\": \"box\", \"y\": [-2.7674576662317176, -0.16669790027135237, 0.5634679664446195, 1.3900476422767527, -1.1072200888336443, 2.010190840848411, 1.1042741432400838, -1.2641744374633244, -0.9952730839788553, -0.08306840771359496, 1.345061581671098, 2.3030611416893856, -1.8703726803479919, -0.6506693787569822, 0.32092471764601177, 0.3283098796989563, -1.249916534749311, -0.6290169768553193, -1.7227581029136811, 0.24476099847080224, 0.6998679842930692, -0.3813375488476992, -0.07989468518390708, -0.7823367081908581, -0.2650339587337876, -1.145309596563827, 0.8106531477579901, 0.5535699876885981, -2.1149336449748817, 1.0056527101051436, 0.9942949076946133, 0.07025519449379213, 0.7289187134653642, -1.0583084924576827, -1.119334653338331, 1.9294647368849773, 0.07101039478854945, -0.5636001917460157, 0.6597198600102047, -1.420643261997302, 0.41079246852370505, -0.09033446275519331, -0.3143271195323028, 0.8986418132083612, 1.454888943291881, -0.3497734365347499, 1.835483141622012, 0.26959486944981076, -0.67059801024517, 0.6432433242673566, 0.47190299497496146, -0.4239590274778007, 0.9834653166760338, 0.6194557726274995, 0.9339955482835156, 0.4147216734096685, 1.9603191364389627, 0.10300724198977046, 0.6258297312817224, -0.05569822628353916, -0.5701048470566432, -1.3901147143324113, -0.31169804602928225, -0.09070461668198948, -0.7098677771742377, -0.6312732799999207, -1.853754195734087, -0.6863571511671761, 0.2540679819706156, -0.09490618169928725, -0.12621517906462867, -0.44040713778285123, -0.7361369006947046, 0.29200195373343046, -0.6580035074536295, -0.47398519095971703, 1.1993496953667993, -0.6249166858271529, 1.5790224875020038, 1.6438852677806195, -1.1766434287021972, 1.244988502092917, 0.8499125216996266, 1.3420137849590186, -2.353352392174117, 0.4092890805121565, -0.4831908164024503, 1.330496669714541, 0.6752271527105582, 0.27076227557917937, -0.3135324670871534, 0.8269815258688635, -1.8309731968642307, 0.04294462544529783, -0.06735343792620556, 1.1306584815041043, 1.1014759974948616, 0.4958065495759284, -0.9890241857928621, -0.18053189446987497]}, {\"boxpoints\": false, \"line\": {\"width\": 1.3}, \"marker\": {\"color\": \"rgba(128, 0, 128, 1.0)\"}, \"name\": \"D\", \"orientation\": \"v\", \"type\": \"box\", \"y\": [-0.7116953750395058, 1.368626782258406, -1.128331871237618, 0.245111919871858, -0.5748085816101018, 0.06341405629134396, -0.6470332348411975, -1.4663200517022248, -0.5370908057802258, 0.15121308420625718, -0.3651440187031335, 0.33368388389052756, 0.6838482508220743, 0.3488708294525502, 0.6280660953943813, -1.277239815814712, 0.37830787934848353, -0.4348588758192145, 0.013349165896669396, -0.2992495320166972, -1.032900477477624, 2.1802915889529135, -1.2369245839477279, 1.6132690678192942, 0.307247806502723, 1.7836113161806206, 0.23143725187076858, 1.2577546399731796, -0.6464398718528345, -0.50487922199322, -0.029928153787276916, 0.6058766732900155, -1.0089912185154142, -0.6641718826897628, -1.8522819333929355, 2.0847718718528587, 1.286289734053828, 0.9199775346897205, -3.156074435884499, -0.7136481439763798, 1.0183408562885075, 0.8645646983412009, -1.0015174340293815, 0.6932754556257976, -0.20854069122627997, 0.3138901007339177, 0.10689218373099481, 0.2261162297084354, 0.6621635986780701, -2.1863454082086964, 0.04020240256031702, 1.8234283707495202, 0.4468426612349457, -1.1600232985860268, -1.437752287411869, 0.967614821655162, -0.7669724564902772, 1.9253815148423479, 0.779042182626328, 0.21185039808391556, -1.9159850003432026, 2.015128206087745, -0.23084542484763468, -1.5248562667913759, -0.11919694667644008, -1.9312165958573033, -0.08306412462306562, -0.0653670288215373, 0.4738816714745346, -0.9056611218336961, 0.14572053154909084, 0.7245227068965882, -0.31109286944095027, 0.5119435265187391, -0.12952322769569002, -1.163779747171064, 0.734103087430691, -1.004289738477838, 1.1268460108389227, 0.5599403117997654, 1.103362102173991, -1.2380107595843164, 1.5509390593923633, -0.23077863027943818, 1.131594288686432, -0.28873751237270157, -1.3348336460650094, -0.8236993631379198, 0.5100824112836138, 0.7780476312585983, 0.07767574825692426, 1.1911800055148494, 0.209222247110343, 0.7961087856632068, -1.893823973235179, 0.5181517619965198, -2.208658984774591, 0.2613418183762557, -1.7911567623719549, -1.8697790274848867]}],                        {\"legend\": {\"bgcolor\": \"#F5F6F9\", \"font\": {\"color\": \"#4D5663\"}}, \"paper_bgcolor\": \"#F5F6F9\", \"plot_bgcolor\": \"#F5F6F9\", \"template\": {\"data\": {\"bar\": [{\"error_x\": {\"color\": \"#2a3f5f\"}, \"error_y\": {\"color\": \"#2a3f5f\"}, \"marker\": {\"line\": {\"color\": \"#E5ECF6\", \"width\": 0.5}}, \"type\": \"bar\"}], \"barpolar\": [{\"marker\": {\"line\": {\"color\": \"#E5ECF6\", \"width\": 0.5}}, \"type\": \"barpolar\"}], \"carpet\": [{\"aaxis\": {\"endlinecolor\": \"#2a3f5f\", \"gridcolor\": \"white\", \"linecolor\": \"white\", \"minorgridcolor\": \"white\", \"startlinecolor\": \"#2a3f5f\"}, \"baxis\": {\"endlinecolor\": \"#2a3f5f\", \"gridcolor\": \"white\", \"linecolor\": \"white\", \"minorgridcolor\": \"white\", \"startlinecolor\": \"#2a3f5f\"}, \"type\": \"carpet\"}], \"choropleth\": [{\"colorbar\": {\"outlinewidth\": 0, \"ticks\": \"\"}, \"type\": \"choropleth\"}], \"contour\": [{\"colorbar\": {\"outlinewidth\": 0, \"ticks\": \"\"}, \"colorscale\": [[0.0, \"#0d0887\"], [0.1111111111111111, \"#46039f\"], [0.2222222222222222, \"#7201a8\"], [0.3333333333333333, \"#9c179e\"], [0.4444444444444444, \"#bd3786\"], [0.5555555555555556, \"#d8576b\"], [0.6666666666666666, \"#ed7953\"], [0.7777777777777778, \"#fb9f3a\"], [0.8888888888888888, \"#fdca26\"], [1.0, \"#f0f921\"]], \"type\": \"contour\"}], \"contourcarpet\": [{\"colorbar\": {\"outlinewidth\": 0, \"ticks\": \"\"}, \"type\": \"contourcarpet\"}], \"heatmap\": [{\"colorbar\": {\"outlinewidth\": 0, \"ticks\": \"\"}, \"colorscale\": [[0.0, \"#0d0887\"], [0.1111111111111111, \"#46039f\"], [0.2222222222222222, \"#7201a8\"], [0.3333333333333333, \"#9c179e\"], [0.4444444444444444, \"#bd3786\"], [0.5555555555555556, \"#d8576b\"], [0.6666666666666666, \"#ed7953\"], [0.7777777777777778, \"#fb9f3a\"], [0.8888888888888888, \"#fdca26\"], [1.0, \"#f0f921\"]], \"type\": \"heatmap\"}], \"heatmapgl\": [{\"colorbar\": {\"outlinewidth\": 0, \"ticks\": \"\"}, \"colorscale\": [[0.0, \"#0d0887\"], [0.1111111111111111, \"#46039f\"], [0.2222222222222222, \"#7201a8\"], [0.3333333333333333, \"#9c179e\"], [0.4444444444444444, \"#bd3786\"], [0.5555555555555556, \"#d8576b\"], [0.6666666666666666, \"#ed7953\"], [0.7777777777777778, \"#fb9f3a\"], [0.8888888888888888, \"#fdca26\"], [1.0, \"#f0f921\"]], \"type\": \"heatmapgl\"}], \"histogram\": [{\"marker\": {\"colorbar\": {\"outlinewidth\": 0, \"ticks\": \"\"}}, \"type\": \"histogram\"}], \"histogram2d\": [{\"colorbar\": {\"outlinewidth\": 0, \"ticks\": \"\"}, \"colorscale\": [[0.0, \"#0d0887\"], [0.1111111111111111, \"#46039f\"], [0.2222222222222222, \"#7201a8\"], [0.3333333333333333, \"#9c179e\"], [0.4444444444444444, \"#bd3786\"], [0.5555555555555556, \"#d8576b\"], [0.6666666666666666, \"#ed7953\"], [0.7777777777777778, \"#fb9f3a\"], [0.8888888888888888, \"#fdca26\"], [1.0, \"#f0f921\"]], \"type\": \"histogram2d\"}], \"histogram2dcontour\": [{\"colorbar\": {\"outlinewidth\": 0, \"ticks\": \"\"}, \"colorscale\": [[0.0, \"#0d0887\"], [0.1111111111111111, \"#46039f\"], [0.2222222222222222, \"#7201a8\"], [0.3333333333333333, \"#9c179e\"], [0.4444444444444444, \"#bd3786\"], [0.5555555555555556, \"#d8576b\"], [0.6666666666666666, \"#ed7953\"], [0.7777777777777778, \"#fb9f3a\"], [0.8888888888888888, \"#fdca26\"], [1.0, \"#f0f921\"]], \"type\": \"histogram2dcontour\"}], \"mesh3d\": [{\"colorbar\": {\"outlinewidth\": 0, \"ticks\": \"\"}, \"type\": \"mesh3d\"}], \"parcoords\": [{\"line\": {\"colorbar\": {\"outlinewidth\": 0, \"ticks\": \"\"}}, \"type\": \"parcoords\"}], \"pie\": [{\"automargin\": true, \"type\": \"pie\"}], \"scatter\": [{\"marker\": {\"colorbar\": {\"outlinewidth\": 0, \"ticks\": \"\"}}, \"type\": \"scatter\"}], \"scatter3d\": [{\"line\": {\"colorbar\": {\"outlinewidth\": 0, \"ticks\": \"\"}}, \"marker\": {\"colorbar\": {\"outlinewidth\": 0, \"ticks\": \"\"}}, \"type\": \"scatter3d\"}], \"scattercarpet\": [{\"marker\": {\"colorbar\": {\"outlinewidth\": 0, \"ticks\": \"\"}}, \"type\": \"scattercarpet\"}], \"scattergeo\": [{\"marker\": {\"colorbar\": {\"outlinewidth\": 0, \"ticks\": \"\"}}, \"type\": \"scattergeo\"}], \"scattergl\": [{\"marker\": {\"colorbar\": {\"outlinewidth\": 0, \"ticks\": \"\"}}, \"type\": \"scattergl\"}], \"scattermapbox\": [{\"marker\": {\"colorbar\": {\"outlinewidth\": 0, \"ticks\": \"\"}}, \"type\": \"scattermapbox\"}], \"scatterpolar\": [{\"marker\": {\"colorbar\": {\"outlinewidth\": 0, \"ticks\": \"\"}}, \"type\": \"scatterpolar\"}], \"scatterpolargl\": [{\"marker\": {\"colorbar\": {\"outlinewidth\": 0, \"ticks\": \"\"}}, \"type\": \"scatterpolargl\"}], \"scatterternary\": [{\"marker\": {\"colorbar\": {\"outlinewidth\": 0, \"ticks\": \"\"}}, \"type\": \"scatterternary\"}], \"surface\": [{\"colorbar\": {\"outlinewidth\": 0, \"ticks\": \"\"}, \"colorscale\": [[0.0, \"#0d0887\"], [0.1111111111111111, \"#46039f\"], [0.2222222222222222, \"#7201a8\"], [0.3333333333333333, \"#9c179e\"], [0.4444444444444444, \"#bd3786\"], [0.5555555555555556, \"#d8576b\"], [0.6666666666666666, \"#ed7953\"], [0.7777777777777778, \"#fb9f3a\"], [0.8888888888888888, \"#fdca26\"], [1.0, \"#f0f921\"]], \"type\": \"surface\"}], \"table\": [{\"cells\": {\"fill\": {\"color\": \"#EBF0F8\"}, \"line\": {\"color\": \"white\"}}, \"header\": {\"fill\": {\"color\": \"#C8D4E3\"}, \"line\": {\"color\": \"white\"}}, \"type\": \"table\"}]}, \"layout\": {\"annotationdefaults\": {\"arrowcolor\": \"#2a3f5f\", \"arrowhead\": 0, \"arrowwidth\": 1}, \"autotypenumbers\": \"strict\", \"coloraxis\": {\"colorbar\": {\"outlinewidth\": 0, \"ticks\": \"\"}}, \"colorscale\": {\"diverging\": [[0, \"#8e0152\"], [0.1, \"#c51b7d\"], [0.2, \"#de77ae\"], [0.3, \"#f1b6da\"], [0.4, \"#fde0ef\"], [0.5, \"#f7f7f7\"], [0.6, \"#e6f5d0\"], [0.7, \"#b8e186\"], [0.8, \"#7fbc41\"], [0.9, \"#4d9221\"], [1, \"#276419\"]], \"sequential\": [[0.0, \"#0d0887\"], [0.1111111111111111, \"#46039f\"], [0.2222222222222222, \"#7201a8\"], [0.3333333333333333, \"#9c179e\"], [0.4444444444444444, \"#bd3786\"], [0.5555555555555556, \"#d8576b\"], [0.6666666666666666, \"#ed7953\"], [0.7777777777777778, \"#fb9f3a\"], [0.8888888888888888, \"#fdca26\"], [1.0, \"#f0f921\"]], \"sequentialminus\": [[0.0, \"#0d0887\"], [0.1111111111111111, \"#46039f\"], [0.2222222222222222, \"#7201a8\"], [0.3333333333333333, \"#9c179e\"], [0.4444444444444444, \"#bd3786\"], [0.5555555555555556, \"#d8576b\"], [0.6666666666666666, \"#ed7953\"], [0.7777777777777778, \"#fb9f3a\"], [0.8888888888888888, \"#fdca26\"], [1.0, \"#f0f921\"]]}, \"colorway\": [\"#636efa\", \"#EF553B\", \"#00cc96\", \"#ab63fa\", \"#FFA15A\", \"#19d3f3\", \"#FF6692\", \"#B6E880\", \"#FF97FF\", \"#FECB52\"], \"font\": {\"color\": \"#2a3f5f\"}, \"geo\": {\"bgcolor\": \"white\", \"lakecolor\": \"white\", \"landcolor\": \"#E5ECF6\", \"showlakes\": true, \"showland\": true, \"subunitcolor\": \"white\"}, \"hoverlabel\": {\"align\": \"left\"}, \"hovermode\": \"closest\", \"mapbox\": {\"style\": \"light\"}, \"paper_bgcolor\": \"white\", \"plot_bgcolor\": \"#E5ECF6\", \"polar\": {\"angularaxis\": {\"gridcolor\": \"white\", \"linecolor\": \"white\", \"ticks\": \"\"}, \"bgcolor\": \"#E5ECF6\", \"radialaxis\": {\"gridcolor\": \"white\", \"linecolor\": \"white\", \"ticks\": \"\"}}, \"scene\": {\"xaxis\": {\"backgroundcolor\": \"#E5ECF6\", \"gridcolor\": \"white\", \"gridwidth\": 2, \"linecolor\": \"white\", \"showbackground\": true, \"ticks\": \"\", \"zerolinecolor\": \"white\"}, \"yaxis\": {\"backgroundcolor\": \"#E5ECF6\", \"gridcolor\": \"white\", \"gridwidth\": 2, \"linecolor\": \"white\", \"showbackground\": true, \"ticks\": \"\", \"zerolinecolor\": \"white\"}, \"zaxis\": {\"backgroundcolor\": \"#E5ECF6\", \"gridcolor\": \"white\", \"gridwidth\": 2, \"linecolor\": \"white\", \"showbackground\": true, \"ticks\": \"\", \"zerolinecolor\": \"white\"}}, \"shapedefaults\": {\"line\": {\"color\": \"#2a3f5f\"}}, \"ternary\": {\"aaxis\": {\"gridcolor\": \"white\", \"linecolor\": \"white\", \"ticks\": \"\"}, \"baxis\": {\"gridcolor\": \"white\", \"linecolor\": \"white\", \"ticks\": \"\"}, \"bgcolor\": \"#E5ECF6\", \"caxis\": {\"gridcolor\": \"white\", \"linecolor\": \"white\", \"ticks\": \"\"}}, \"title\": {\"x\": 0.05}, \"xaxis\": {\"automargin\": true, \"gridcolor\": \"white\", \"linecolor\": \"white\", \"ticks\": \"\", \"title\": {\"standoff\": 15}, \"zerolinecolor\": \"white\", \"zerolinewidth\": 2}, \"yaxis\": {\"automargin\": true, \"gridcolor\": \"white\", \"linecolor\": \"white\", \"ticks\": \"\", \"title\": {\"standoff\": 15}, \"zerolinecolor\": \"white\", \"zerolinewidth\": 2}}}, \"title\": {\"font\": {\"color\": \"#4D5663\"}}, \"xaxis\": {\"gridcolor\": \"#E1E5ED\", \"showgrid\": true, \"tickfont\": {\"color\": \"#4D5663\"}, \"title\": {\"font\": {\"color\": \"#4D5663\"}, \"text\": \"\"}, \"zerolinecolor\": \"#E1E5ED\"}, \"yaxis\": {\"gridcolor\": \"#E1E5ED\", \"showgrid\": true, \"tickfont\": {\"color\": \"#4D5663\"}, \"title\": {\"font\": {\"color\": \"#4D5663\"}, \"text\": \"\"}, \"zerolinecolor\": \"#E1E5ED\"}},                        {\"showLink\": true, \"linkText\": \"Export to plot.ly\", \"plotlyServerURL\": \"https://plot.ly\", \"responsive\": true}                    ).then(function(){\n",
       "                            \n",
       "var gd = document.getElementById('accc3bcd-0389-4b32-8fce-6c57bcada2c4');\n",
       "var x = new MutationObserver(function (mutations, observer) {{\n",
       "        var display = window.getComputedStyle(gd).display;\n",
       "        if (!display || display === 'none') {{\n",
       "            console.log([gd, 'removed!']);\n",
       "            Plotly.purge(gd);\n",
       "            observer.disconnect();\n",
       "        }}\n",
       "}});\n",
       "\n",
       "// Listen for the removal of the full notebook cells\n",
       "var notebookContainer = gd.closest('#notebook-container');\n",
       "if (notebookContainer) {{\n",
       "    x.observe(notebookContainer, {childList: true});\n",
       "}}\n",
       "\n",
       "// Listen for the clearing of the current output cell\n",
       "var outputEl = gd.closest('.output');\n",
       "if (outputEl) {{\n",
       "    x.observe(outputEl, {childList: true});\n",
       "}}\n",
       "\n",
       "                        })                };                });            </script>        </div>"
      ]
     },
     "metadata": {},
     "output_type": "display_data"
    }
   ],
   "source": [
    "df.iplot(kind='box')"
   ]
  },
  {
   "cell_type": "markdown",
   "metadata": {},
   "source": [
    "## 3d Surface"
   ]
  },
  {
   "cell_type": "code",
   "execution_count": 33,
   "metadata": {},
   "outputs": [
    {
     "data": {
      "application/vnd.plotly.v1+json": {
       "config": {
        "linkText": "Export to plot.ly",
        "plotlyServerURL": "https://plot.ly",
        "showLink": true
       },
       "data": [
        {
         "colorscale": [
          [
           0,
           "rgb(165,0,38)"
          ],
          [
           0.1,
           "rgb(215,48,39)"
          ],
          [
           0.2,
           "rgb(244,109,67)"
          ],
          [
           0.3,
           "rgb(253,174,97)"
          ],
          [
           0.4,
           "rgb(254,224,144)"
          ],
          [
           0.5,
           "rgb(255,255,191)"
          ],
          [
           0.6,
           "rgb(224,243,248)"
          ],
          [
           0.7,
           "rgb(171,217,233)"
          ],
          [
           0.8,
           "rgb(116,173,209)"
          ],
          [
           0.9,
           "rgb(69,117,180)"
          ],
          [
           1,
           "rgb(49,54,149)"
          ]
         ],
         "type": "surface",
         "x": [
          0,
          1,
          2,
          3,
          4
         ],
         "y": [
          "x",
          "y",
          "z"
         ],
         "z": [
          [
           1,
           2,
           3,
           4,
           5
          ],
          [
           10,
           20,
           30,
           20,
           10
          ],
          [
           5,
           4,
           3,
           2,
           1
          ]
         ]
        }
       ],
       "layout": {
        "legend": {
         "bgcolor": "#F5F6F9",
         "font": {
          "color": "#4D5663"
         }
        },
        "paper_bgcolor": "#F5F6F9",
        "plot_bgcolor": "#F5F6F9",
        "template": {
         "data": {
          "bar": [
           {
            "error_x": {
             "color": "#2a3f5f"
            },
            "error_y": {
             "color": "#2a3f5f"
            },
            "marker": {
             "line": {
              "color": "#E5ECF6",
              "width": 0.5
             }
            },
            "type": "bar"
           }
          ],
          "barpolar": [
           {
            "marker": {
             "line": {
              "color": "#E5ECF6",
              "width": 0.5
             }
            },
            "type": "barpolar"
           }
          ],
          "carpet": [
           {
            "aaxis": {
             "endlinecolor": "#2a3f5f",
             "gridcolor": "white",
             "linecolor": "white",
             "minorgridcolor": "white",
             "startlinecolor": "#2a3f5f"
            },
            "baxis": {
             "endlinecolor": "#2a3f5f",
             "gridcolor": "white",
             "linecolor": "white",
             "minorgridcolor": "white",
             "startlinecolor": "#2a3f5f"
            },
            "type": "carpet"
           }
          ],
          "choropleth": [
           {
            "colorbar": {
             "outlinewidth": 0,
             "ticks": ""
            },
            "type": "choropleth"
           }
          ],
          "contour": [
           {
            "colorbar": {
             "outlinewidth": 0,
             "ticks": ""
            },
            "colorscale": [
             [
              0,
              "#0d0887"
             ],
             [
              0.1111111111111111,
              "#46039f"
             ],
             [
              0.2222222222222222,
              "#7201a8"
             ],
             [
              0.3333333333333333,
              "#9c179e"
             ],
             [
              0.4444444444444444,
              "#bd3786"
             ],
             [
              0.5555555555555556,
              "#d8576b"
             ],
             [
              0.6666666666666666,
              "#ed7953"
             ],
             [
              0.7777777777777778,
              "#fb9f3a"
             ],
             [
              0.8888888888888888,
              "#fdca26"
             ],
             [
              1,
              "#f0f921"
             ]
            ],
            "type": "contour"
           }
          ],
          "contourcarpet": [
           {
            "colorbar": {
             "outlinewidth": 0,
             "ticks": ""
            },
            "type": "contourcarpet"
           }
          ],
          "heatmap": [
           {
            "colorbar": {
             "outlinewidth": 0,
             "ticks": ""
            },
            "colorscale": [
             [
              0,
              "#0d0887"
             ],
             [
              0.1111111111111111,
              "#46039f"
             ],
             [
              0.2222222222222222,
              "#7201a8"
             ],
             [
              0.3333333333333333,
              "#9c179e"
             ],
             [
              0.4444444444444444,
              "#bd3786"
             ],
             [
              0.5555555555555556,
              "#d8576b"
             ],
             [
              0.6666666666666666,
              "#ed7953"
             ],
             [
              0.7777777777777778,
              "#fb9f3a"
             ],
             [
              0.8888888888888888,
              "#fdca26"
             ],
             [
              1,
              "#f0f921"
             ]
            ],
            "type": "heatmap"
           }
          ],
          "heatmapgl": [
           {
            "colorbar": {
             "outlinewidth": 0,
             "ticks": ""
            },
            "colorscale": [
             [
              0,
              "#0d0887"
             ],
             [
              0.1111111111111111,
              "#46039f"
             ],
             [
              0.2222222222222222,
              "#7201a8"
             ],
             [
              0.3333333333333333,
              "#9c179e"
             ],
             [
              0.4444444444444444,
              "#bd3786"
             ],
             [
              0.5555555555555556,
              "#d8576b"
             ],
             [
              0.6666666666666666,
              "#ed7953"
             ],
             [
              0.7777777777777778,
              "#fb9f3a"
             ],
             [
              0.8888888888888888,
              "#fdca26"
             ],
             [
              1,
              "#f0f921"
             ]
            ],
            "type": "heatmapgl"
           }
          ],
          "histogram": [
           {
            "marker": {
             "colorbar": {
              "outlinewidth": 0,
              "ticks": ""
             }
            },
            "type": "histogram"
           }
          ],
          "histogram2d": [
           {
            "colorbar": {
             "outlinewidth": 0,
             "ticks": ""
            },
            "colorscale": [
             [
              0,
              "#0d0887"
             ],
             [
              0.1111111111111111,
              "#46039f"
             ],
             [
              0.2222222222222222,
              "#7201a8"
             ],
             [
              0.3333333333333333,
              "#9c179e"
             ],
             [
              0.4444444444444444,
              "#bd3786"
             ],
             [
              0.5555555555555556,
              "#d8576b"
             ],
             [
              0.6666666666666666,
              "#ed7953"
             ],
             [
              0.7777777777777778,
              "#fb9f3a"
             ],
             [
              0.8888888888888888,
              "#fdca26"
             ],
             [
              1,
              "#f0f921"
             ]
            ],
            "type": "histogram2d"
           }
          ],
          "histogram2dcontour": [
           {
            "colorbar": {
             "outlinewidth": 0,
             "ticks": ""
            },
            "colorscale": [
             [
              0,
              "#0d0887"
             ],
             [
              0.1111111111111111,
              "#46039f"
             ],
             [
              0.2222222222222222,
              "#7201a8"
             ],
             [
              0.3333333333333333,
              "#9c179e"
             ],
             [
              0.4444444444444444,
              "#bd3786"
             ],
             [
              0.5555555555555556,
              "#d8576b"
             ],
             [
              0.6666666666666666,
              "#ed7953"
             ],
             [
              0.7777777777777778,
              "#fb9f3a"
             ],
             [
              0.8888888888888888,
              "#fdca26"
             ],
             [
              1,
              "#f0f921"
             ]
            ],
            "type": "histogram2dcontour"
           }
          ],
          "mesh3d": [
           {
            "colorbar": {
             "outlinewidth": 0,
             "ticks": ""
            },
            "type": "mesh3d"
           }
          ],
          "parcoords": [
           {
            "line": {
             "colorbar": {
              "outlinewidth": 0,
              "ticks": ""
             }
            },
            "type": "parcoords"
           }
          ],
          "pie": [
           {
            "automargin": true,
            "type": "pie"
           }
          ],
          "scatter": [
           {
            "marker": {
             "colorbar": {
              "outlinewidth": 0,
              "ticks": ""
             }
            },
            "type": "scatter"
           }
          ],
          "scatter3d": [
           {
            "line": {
             "colorbar": {
              "outlinewidth": 0,
              "ticks": ""
             }
            },
            "marker": {
             "colorbar": {
              "outlinewidth": 0,
              "ticks": ""
             }
            },
            "type": "scatter3d"
           }
          ],
          "scattercarpet": [
           {
            "marker": {
             "colorbar": {
              "outlinewidth": 0,
              "ticks": ""
             }
            },
            "type": "scattercarpet"
           }
          ],
          "scattergeo": [
           {
            "marker": {
             "colorbar": {
              "outlinewidth": 0,
              "ticks": ""
             }
            },
            "type": "scattergeo"
           }
          ],
          "scattergl": [
           {
            "marker": {
             "colorbar": {
              "outlinewidth": 0,
              "ticks": ""
             }
            },
            "type": "scattergl"
           }
          ],
          "scattermapbox": [
           {
            "marker": {
             "colorbar": {
              "outlinewidth": 0,
              "ticks": ""
             }
            },
            "type": "scattermapbox"
           }
          ],
          "scatterpolar": [
           {
            "marker": {
             "colorbar": {
              "outlinewidth": 0,
              "ticks": ""
             }
            },
            "type": "scatterpolar"
           }
          ],
          "scatterpolargl": [
           {
            "marker": {
             "colorbar": {
              "outlinewidth": 0,
              "ticks": ""
             }
            },
            "type": "scatterpolargl"
           }
          ],
          "scatterternary": [
           {
            "marker": {
             "colorbar": {
              "outlinewidth": 0,
              "ticks": ""
             }
            },
            "type": "scatterternary"
           }
          ],
          "surface": [
           {
            "colorbar": {
             "outlinewidth": 0,
             "ticks": ""
            },
            "colorscale": [
             [
              0,
              "#0d0887"
             ],
             [
              0.1111111111111111,
              "#46039f"
             ],
             [
              0.2222222222222222,
              "#7201a8"
             ],
             [
              0.3333333333333333,
              "#9c179e"
             ],
             [
              0.4444444444444444,
              "#bd3786"
             ],
             [
              0.5555555555555556,
              "#d8576b"
             ],
             [
              0.6666666666666666,
              "#ed7953"
             ],
             [
              0.7777777777777778,
              "#fb9f3a"
             ],
             [
              0.8888888888888888,
              "#fdca26"
             ],
             [
              1,
              "#f0f921"
             ]
            ],
            "type": "surface"
           }
          ],
          "table": [
           {
            "cells": {
             "fill": {
              "color": "#EBF0F8"
             },
             "line": {
              "color": "white"
             }
            },
            "header": {
             "fill": {
              "color": "#C8D4E3"
             },
             "line": {
              "color": "white"
             }
            },
            "type": "table"
           }
          ]
         },
         "layout": {
          "annotationdefaults": {
           "arrowcolor": "#2a3f5f",
           "arrowhead": 0,
           "arrowwidth": 1
          },
          "autotypenumbers": "strict",
          "coloraxis": {
           "colorbar": {
            "outlinewidth": 0,
            "ticks": ""
           }
          },
          "colorscale": {
           "diverging": [
            [
             0,
             "#8e0152"
            ],
            [
             0.1,
             "#c51b7d"
            ],
            [
             0.2,
             "#de77ae"
            ],
            [
             0.3,
             "#f1b6da"
            ],
            [
             0.4,
             "#fde0ef"
            ],
            [
             0.5,
             "#f7f7f7"
            ],
            [
             0.6,
             "#e6f5d0"
            ],
            [
             0.7,
             "#b8e186"
            ],
            [
             0.8,
             "#7fbc41"
            ],
            [
             0.9,
             "#4d9221"
            ],
            [
             1,
             "#276419"
            ]
           ],
           "sequential": [
            [
             0,
             "#0d0887"
            ],
            [
             0.1111111111111111,
             "#46039f"
            ],
            [
             0.2222222222222222,
             "#7201a8"
            ],
            [
             0.3333333333333333,
             "#9c179e"
            ],
            [
             0.4444444444444444,
             "#bd3786"
            ],
            [
             0.5555555555555556,
             "#d8576b"
            ],
            [
             0.6666666666666666,
             "#ed7953"
            ],
            [
             0.7777777777777778,
             "#fb9f3a"
            ],
            [
             0.8888888888888888,
             "#fdca26"
            ],
            [
             1,
             "#f0f921"
            ]
           ],
           "sequentialminus": [
            [
             0,
             "#0d0887"
            ],
            [
             0.1111111111111111,
             "#46039f"
            ],
            [
             0.2222222222222222,
             "#7201a8"
            ],
            [
             0.3333333333333333,
             "#9c179e"
            ],
            [
             0.4444444444444444,
             "#bd3786"
            ],
            [
             0.5555555555555556,
             "#d8576b"
            ],
            [
             0.6666666666666666,
             "#ed7953"
            ],
            [
             0.7777777777777778,
             "#fb9f3a"
            ],
            [
             0.8888888888888888,
             "#fdca26"
            ],
            [
             1,
             "#f0f921"
            ]
           ]
          },
          "colorway": [
           "#636efa",
           "#EF553B",
           "#00cc96",
           "#ab63fa",
           "#FFA15A",
           "#19d3f3",
           "#FF6692",
           "#B6E880",
           "#FF97FF",
           "#FECB52"
          ],
          "font": {
           "color": "#2a3f5f"
          },
          "geo": {
           "bgcolor": "white",
           "lakecolor": "white",
           "landcolor": "#E5ECF6",
           "showlakes": true,
           "showland": true,
           "subunitcolor": "white"
          },
          "hoverlabel": {
           "align": "left"
          },
          "hovermode": "closest",
          "mapbox": {
           "style": "light"
          },
          "paper_bgcolor": "white",
          "plot_bgcolor": "#E5ECF6",
          "polar": {
           "angularaxis": {
            "gridcolor": "white",
            "linecolor": "white",
            "ticks": ""
           },
           "bgcolor": "#E5ECF6",
           "radialaxis": {
            "gridcolor": "white",
            "linecolor": "white",
            "ticks": ""
           }
          },
          "scene": {
           "xaxis": {
            "backgroundcolor": "#E5ECF6",
            "gridcolor": "white",
            "gridwidth": 2,
            "linecolor": "white",
            "showbackground": true,
            "ticks": "",
            "zerolinecolor": "white"
           },
           "yaxis": {
            "backgroundcolor": "#E5ECF6",
            "gridcolor": "white",
            "gridwidth": 2,
            "linecolor": "white",
            "showbackground": true,
            "ticks": "",
            "zerolinecolor": "white"
           },
           "zaxis": {
            "backgroundcolor": "#E5ECF6",
            "gridcolor": "white",
            "gridwidth": 2,
            "linecolor": "white",
            "showbackground": true,
            "ticks": "",
            "zerolinecolor": "white"
           }
          },
          "shapedefaults": {
           "line": {
            "color": "#2a3f5f"
           }
          },
          "ternary": {
           "aaxis": {
            "gridcolor": "white",
            "linecolor": "white",
            "ticks": ""
           },
           "baxis": {
            "gridcolor": "white",
            "linecolor": "white",
            "ticks": ""
           },
           "bgcolor": "#E5ECF6",
           "caxis": {
            "gridcolor": "white",
            "linecolor": "white",
            "ticks": ""
           }
          },
          "title": {
           "x": 0.05
          },
          "xaxis": {
           "automargin": true,
           "gridcolor": "white",
           "linecolor": "white",
           "ticks": "",
           "title": {
            "standoff": 15
           },
           "zerolinecolor": "white",
           "zerolinewidth": 2
          },
          "yaxis": {
           "automargin": true,
           "gridcolor": "white",
           "linecolor": "white",
           "ticks": "",
           "title": {
            "standoff": 15
           },
           "zerolinecolor": "white",
           "zerolinewidth": 2
          }
         }
        },
        "title": {
         "font": {
          "color": "#4D5663"
         }
        },
        "xaxis": {
         "gridcolor": "#E1E5ED",
         "showgrid": true,
         "tickfont": {
          "color": "#4D5663"
         },
         "title": {
          "font": {
           "color": "#4D5663"
          },
          "text": ""
         },
         "zerolinecolor": "#E1E5ED"
        },
        "yaxis": {
         "gridcolor": "#E1E5ED",
         "showgrid": true,
         "tickfont": {
          "color": "#4D5663"
         },
         "title": {
          "font": {
           "color": "#4D5663"
          },
          "text": ""
         },
         "zerolinecolor": "#E1E5ED"
        }
       }
      },
      "text/html": [
       "<div>                            <div id=\"a9897fee-f79f-49ed-82b8-682fd0beb75c\" class=\"plotly-graph-div\" style=\"height:525px; width:100%;\"></div>            <script type=\"text/javascript\">                require([\"plotly\"], function(Plotly) {                    window.PLOTLYENV=window.PLOTLYENV || {};\n",
       "                    window.PLOTLYENV.BASE_URL='https://plot.ly';                                    if (document.getElementById(\"a9897fee-f79f-49ed-82b8-682fd0beb75c\")) {                    Plotly.newPlot(                        \"a9897fee-f79f-49ed-82b8-682fd0beb75c\",                        [{\"colorscale\": [[0.0, \"rgb(165,0,38)\"], [0.1, \"rgb(215,48,39)\"], [0.2, \"rgb(244,109,67)\"], [0.3, \"rgb(253,174,97)\"], [0.4, \"rgb(254,224,144)\"], [0.5, \"rgb(255,255,191)\"], [0.6, \"rgb(224,243,248)\"], [0.7, \"rgb(171,217,233)\"], [0.8, \"rgb(116,173,209)\"], [0.9, \"rgb(69,117,180)\"], [1.0, \"rgb(49,54,149)\"]], \"type\": \"surface\", \"x\": [0, 1, 2, 3, 4], \"y\": [\"x\", \"y\", \"z\"], \"z\": [[1, 2, 3, 4, 5], [10, 20, 30, 20, 10], [5, 4, 3, 2, 1]]}],                        {\"legend\": {\"bgcolor\": \"#F5F6F9\", \"font\": {\"color\": \"#4D5663\"}}, \"paper_bgcolor\": \"#F5F6F9\", \"plot_bgcolor\": \"#F5F6F9\", \"template\": {\"data\": {\"bar\": [{\"error_x\": {\"color\": \"#2a3f5f\"}, \"error_y\": {\"color\": \"#2a3f5f\"}, \"marker\": {\"line\": {\"color\": \"#E5ECF6\", \"width\": 0.5}}, \"type\": \"bar\"}], \"barpolar\": [{\"marker\": {\"line\": {\"color\": \"#E5ECF6\", \"width\": 0.5}}, \"type\": \"barpolar\"}], \"carpet\": [{\"aaxis\": {\"endlinecolor\": \"#2a3f5f\", \"gridcolor\": \"white\", \"linecolor\": \"white\", \"minorgridcolor\": \"white\", \"startlinecolor\": \"#2a3f5f\"}, \"baxis\": {\"endlinecolor\": \"#2a3f5f\", \"gridcolor\": \"white\", \"linecolor\": \"white\", \"minorgridcolor\": \"white\", \"startlinecolor\": \"#2a3f5f\"}, \"type\": \"carpet\"}], \"choropleth\": [{\"colorbar\": {\"outlinewidth\": 0, \"ticks\": \"\"}, \"type\": \"choropleth\"}], \"contour\": [{\"colorbar\": {\"outlinewidth\": 0, \"ticks\": \"\"}, \"colorscale\": [[0.0, \"#0d0887\"], [0.1111111111111111, \"#46039f\"], [0.2222222222222222, \"#7201a8\"], [0.3333333333333333, \"#9c179e\"], [0.4444444444444444, \"#bd3786\"], [0.5555555555555556, \"#d8576b\"], [0.6666666666666666, \"#ed7953\"], [0.7777777777777778, \"#fb9f3a\"], [0.8888888888888888, \"#fdca26\"], [1.0, \"#f0f921\"]], \"type\": \"contour\"}], \"contourcarpet\": [{\"colorbar\": {\"outlinewidth\": 0, \"ticks\": \"\"}, \"type\": \"contourcarpet\"}], \"heatmap\": [{\"colorbar\": {\"outlinewidth\": 0, \"ticks\": \"\"}, \"colorscale\": [[0.0, \"#0d0887\"], [0.1111111111111111, \"#46039f\"], [0.2222222222222222, \"#7201a8\"], [0.3333333333333333, \"#9c179e\"], [0.4444444444444444, \"#bd3786\"], [0.5555555555555556, \"#d8576b\"], [0.6666666666666666, \"#ed7953\"], [0.7777777777777778, \"#fb9f3a\"], [0.8888888888888888, \"#fdca26\"], [1.0, \"#f0f921\"]], \"type\": \"heatmap\"}], \"heatmapgl\": [{\"colorbar\": {\"outlinewidth\": 0, \"ticks\": \"\"}, \"colorscale\": [[0.0, \"#0d0887\"], [0.1111111111111111, \"#46039f\"], [0.2222222222222222, \"#7201a8\"], [0.3333333333333333, \"#9c179e\"], [0.4444444444444444, \"#bd3786\"], [0.5555555555555556, \"#d8576b\"], [0.6666666666666666, \"#ed7953\"], [0.7777777777777778, \"#fb9f3a\"], [0.8888888888888888, \"#fdca26\"], [1.0, \"#f0f921\"]], \"type\": \"heatmapgl\"}], \"histogram\": [{\"marker\": {\"colorbar\": {\"outlinewidth\": 0, \"ticks\": \"\"}}, \"type\": \"histogram\"}], \"histogram2d\": [{\"colorbar\": {\"outlinewidth\": 0, \"ticks\": \"\"}, \"colorscale\": [[0.0, \"#0d0887\"], [0.1111111111111111, \"#46039f\"], [0.2222222222222222, \"#7201a8\"], [0.3333333333333333, \"#9c179e\"], [0.4444444444444444, \"#bd3786\"], [0.5555555555555556, \"#d8576b\"], [0.6666666666666666, \"#ed7953\"], [0.7777777777777778, \"#fb9f3a\"], [0.8888888888888888, \"#fdca26\"], [1.0, \"#f0f921\"]], \"type\": \"histogram2d\"}], \"histogram2dcontour\": [{\"colorbar\": {\"outlinewidth\": 0, \"ticks\": \"\"}, \"colorscale\": [[0.0, \"#0d0887\"], [0.1111111111111111, \"#46039f\"], [0.2222222222222222, \"#7201a8\"], [0.3333333333333333, \"#9c179e\"], [0.4444444444444444, \"#bd3786\"], [0.5555555555555556, \"#d8576b\"], [0.6666666666666666, \"#ed7953\"], [0.7777777777777778, \"#fb9f3a\"], [0.8888888888888888, \"#fdca26\"], [1.0, \"#f0f921\"]], \"type\": \"histogram2dcontour\"}], \"mesh3d\": [{\"colorbar\": {\"outlinewidth\": 0, \"ticks\": \"\"}, \"type\": \"mesh3d\"}], \"parcoords\": [{\"line\": {\"colorbar\": {\"outlinewidth\": 0, \"ticks\": \"\"}}, \"type\": \"parcoords\"}], \"pie\": [{\"automargin\": true, \"type\": \"pie\"}], \"scatter\": [{\"marker\": {\"colorbar\": {\"outlinewidth\": 0, \"ticks\": \"\"}}, \"type\": \"scatter\"}], \"scatter3d\": [{\"line\": {\"colorbar\": {\"outlinewidth\": 0, \"ticks\": \"\"}}, \"marker\": {\"colorbar\": {\"outlinewidth\": 0, \"ticks\": \"\"}}, \"type\": \"scatter3d\"}], \"scattercarpet\": [{\"marker\": {\"colorbar\": {\"outlinewidth\": 0, \"ticks\": \"\"}}, \"type\": \"scattercarpet\"}], \"scattergeo\": [{\"marker\": {\"colorbar\": {\"outlinewidth\": 0, \"ticks\": \"\"}}, \"type\": \"scattergeo\"}], \"scattergl\": [{\"marker\": {\"colorbar\": {\"outlinewidth\": 0, \"ticks\": \"\"}}, \"type\": \"scattergl\"}], \"scattermapbox\": [{\"marker\": {\"colorbar\": {\"outlinewidth\": 0, \"ticks\": \"\"}}, \"type\": \"scattermapbox\"}], \"scatterpolar\": [{\"marker\": {\"colorbar\": {\"outlinewidth\": 0, \"ticks\": \"\"}}, \"type\": \"scatterpolar\"}], \"scatterpolargl\": [{\"marker\": {\"colorbar\": {\"outlinewidth\": 0, \"ticks\": \"\"}}, \"type\": \"scatterpolargl\"}], \"scatterternary\": [{\"marker\": {\"colorbar\": {\"outlinewidth\": 0, \"ticks\": \"\"}}, \"type\": \"scatterternary\"}], \"surface\": [{\"colorbar\": {\"outlinewidth\": 0, \"ticks\": \"\"}, \"colorscale\": [[0.0, \"#0d0887\"], [0.1111111111111111, \"#46039f\"], [0.2222222222222222, \"#7201a8\"], [0.3333333333333333, \"#9c179e\"], [0.4444444444444444, \"#bd3786\"], [0.5555555555555556, \"#d8576b\"], [0.6666666666666666, \"#ed7953\"], [0.7777777777777778, \"#fb9f3a\"], [0.8888888888888888, \"#fdca26\"], [1.0, \"#f0f921\"]], \"type\": \"surface\"}], \"table\": [{\"cells\": {\"fill\": {\"color\": \"#EBF0F8\"}, \"line\": {\"color\": \"white\"}}, \"header\": {\"fill\": {\"color\": \"#C8D4E3\"}, \"line\": {\"color\": \"white\"}}, \"type\": \"table\"}]}, \"layout\": {\"annotationdefaults\": {\"arrowcolor\": \"#2a3f5f\", \"arrowhead\": 0, \"arrowwidth\": 1}, \"autotypenumbers\": \"strict\", \"coloraxis\": {\"colorbar\": {\"outlinewidth\": 0, \"ticks\": \"\"}}, \"colorscale\": {\"diverging\": [[0, \"#8e0152\"], [0.1, \"#c51b7d\"], [0.2, \"#de77ae\"], [0.3, \"#f1b6da\"], [0.4, \"#fde0ef\"], [0.5, \"#f7f7f7\"], [0.6, \"#e6f5d0\"], [0.7, \"#b8e186\"], [0.8, \"#7fbc41\"], [0.9, \"#4d9221\"], [1, \"#276419\"]], \"sequential\": [[0.0, \"#0d0887\"], [0.1111111111111111, \"#46039f\"], [0.2222222222222222, \"#7201a8\"], [0.3333333333333333, \"#9c179e\"], [0.4444444444444444, \"#bd3786\"], [0.5555555555555556, \"#d8576b\"], [0.6666666666666666, \"#ed7953\"], [0.7777777777777778, \"#fb9f3a\"], [0.8888888888888888, \"#fdca26\"], [1.0, \"#f0f921\"]], \"sequentialminus\": [[0.0, \"#0d0887\"], [0.1111111111111111, \"#46039f\"], [0.2222222222222222, \"#7201a8\"], [0.3333333333333333, \"#9c179e\"], [0.4444444444444444, \"#bd3786\"], [0.5555555555555556, \"#d8576b\"], [0.6666666666666666, \"#ed7953\"], [0.7777777777777778, \"#fb9f3a\"], [0.8888888888888888, \"#fdca26\"], [1.0, \"#f0f921\"]]}, \"colorway\": [\"#636efa\", \"#EF553B\", \"#00cc96\", \"#ab63fa\", \"#FFA15A\", \"#19d3f3\", \"#FF6692\", \"#B6E880\", \"#FF97FF\", \"#FECB52\"], \"font\": {\"color\": \"#2a3f5f\"}, \"geo\": {\"bgcolor\": \"white\", \"lakecolor\": \"white\", \"landcolor\": \"#E5ECF6\", \"showlakes\": true, \"showland\": true, \"subunitcolor\": \"white\"}, \"hoverlabel\": {\"align\": \"left\"}, \"hovermode\": \"closest\", \"mapbox\": {\"style\": \"light\"}, \"paper_bgcolor\": \"white\", \"plot_bgcolor\": \"#E5ECF6\", \"polar\": {\"angularaxis\": {\"gridcolor\": \"white\", \"linecolor\": \"white\", \"ticks\": \"\"}, \"bgcolor\": \"#E5ECF6\", \"radialaxis\": {\"gridcolor\": \"white\", \"linecolor\": \"white\", \"ticks\": \"\"}}, \"scene\": {\"xaxis\": {\"backgroundcolor\": \"#E5ECF6\", \"gridcolor\": \"white\", \"gridwidth\": 2, \"linecolor\": \"white\", \"showbackground\": true, \"ticks\": \"\", \"zerolinecolor\": \"white\"}, \"yaxis\": {\"backgroundcolor\": \"#E5ECF6\", \"gridcolor\": \"white\", \"gridwidth\": 2, \"linecolor\": \"white\", \"showbackground\": true, \"ticks\": \"\", \"zerolinecolor\": \"white\"}, \"zaxis\": {\"backgroundcolor\": \"#E5ECF6\", \"gridcolor\": \"white\", \"gridwidth\": 2, \"linecolor\": \"white\", \"showbackground\": true, \"ticks\": \"\", \"zerolinecolor\": \"white\"}}, \"shapedefaults\": {\"line\": {\"color\": \"#2a3f5f\"}}, \"ternary\": {\"aaxis\": {\"gridcolor\": \"white\", \"linecolor\": \"white\", \"ticks\": \"\"}, \"baxis\": {\"gridcolor\": \"white\", \"linecolor\": \"white\", \"ticks\": \"\"}, \"bgcolor\": \"#E5ECF6\", \"caxis\": {\"gridcolor\": \"white\", \"linecolor\": \"white\", \"ticks\": \"\"}}, \"title\": {\"x\": 0.05}, \"xaxis\": {\"automargin\": true, \"gridcolor\": \"white\", \"linecolor\": \"white\", \"ticks\": \"\", \"title\": {\"standoff\": 15}, \"zerolinecolor\": \"white\", \"zerolinewidth\": 2}, \"yaxis\": {\"automargin\": true, \"gridcolor\": \"white\", \"linecolor\": \"white\", \"ticks\": \"\", \"title\": {\"standoff\": 15}, \"zerolinecolor\": \"white\", \"zerolinewidth\": 2}}}, \"title\": {\"font\": {\"color\": \"#4D5663\"}}, \"xaxis\": {\"gridcolor\": \"#E1E5ED\", \"showgrid\": true, \"tickfont\": {\"color\": \"#4D5663\"}, \"title\": {\"font\": {\"color\": \"#4D5663\"}, \"text\": \"\"}, \"zerolinecolor\": \"#E1E5ED\"}, \"yaxis\": {\"gridcolor\": \"#E1E5ED\", \"showgrid\": true, \"tickfont\": {\"color\": \"#4D5663\"}, \"title\": {\"font\": {\"color\": \"#4D5663\"}, \"text\": \"\"}, \"zerolinecolor\": \"#E1E5ED\"}},                        {\"showLink\": true, \"linkText\": \"Export to plot.ly\", \"plotlyServerURL\": \"https://plot.ly\", \"responsive\": true}                    ).then(function(){\n",
       "                            \n",
       "var gd = document.getElementById('a9897fee-f79f-49ed-82b8-682fd0beb75c');\n",
       "var x = new MutationObserver(function (mutations, observer) {{\n",
       "        var display = window.getComputedStyle(gd).display;\n",
       "        if (!display || display === 'none') {{\n",
       "            console.log([gd, 'removed!']);\n",
       "            Plotly.purge(gd);\n",
       "            observer.disconnect();\n",
       "        }}\n",
       "}});\n",
       "\n",
       "// Listen for the removal of the full notebook cells\n",
       "var notebookContainer = gd.closest('#notebook-container');\n",
       "if (notebookContainer) {{\n",
       "    x.observe(notebookContainer, {childList: true});\n",
       "}}\n",
       "\n",
       "// Listen for the clearing of the current output cell\n",
       "var outputEl = gd.closest('.output');\n",
       "if (outputEl) {{\n",
       "    x.observe(outputEl, {childList: true});\n",
       "}}\n",
       "\n",
       "                        })                };                });            </script>        </div>"
      ]
     },
     "metadata": {},
     "output_type": "display_data"
    }
   ],
   "source": [
    "df3 = pd.DataFrame({'x':[1,2,3,4,5],'y':[10,20,30,20,10],'z':[5,4,3,2,1]})\n",
    "df3.iplot(kind='surface',colorscale='rdylbu')"
   ]
  },
  {
   "cell_type": "markdown",
   "metadata": {},
   "source": [
    "## Spread"
   ]
  },
  {
   "cell_type": "code",
   "execution_count": 35,
   "metadata": {},
   "outputs": [
    {
     "data": {
      "text/html": [
       "<div>\n",
       "<style scoped>\n",
       "    .dataframe tbody tr th:only-of-type {\n",
       "        vertical-align: middle;\n",
       "    }\n",
       "\n",
       "    .dataframe tbody tr th {\n",
       "        vertical-align: top;\n",
       "    }\n",
       "\n",
       "    .dataframe thead th {\n",
       "        text-align: right;\n",
       "    }\n",
       "</style>\n",
       "<table border=\"1\" class=\"dataframe\">\n",
       "  <thead>\n",
       "    <tr style=\"text-align: right;\">\n",
       "      <th></th>\n",
       "      <th>A</th>\n",
       "      <th>B</th>\n",
       "      <th>C</th>\n",
       "      <th>D</th>\n",
       "    </tr>\n",
       "  </thead>\n",
       "  <tbody>\n",
       "    <tr>\n",
       "      <td>0</td>\n",
       "      <td>1.305333</td>\n",
       "      <td>1.630947</td>\n",
       "      <td>-2.767458</td>\n",
       "      <td>-0.711695</td>\n",
       "    </tr>\n",
       "    <tr>\n",
       "      <td>1</td>\n",
       "      <td>0.070601</td>\n",
       "      <td>1.035336</td>\n",
       "      <td>-0.166698</td>\n",
       "      <td>1.368627</td>\n",
       "    </tr>\n",
       "    <tr>\n",
       "      <td>2</td>\n",
       "      <td>-0.627394</td>\n",
       "      <td>-0.803668</td>\n",
       "      <td>0.563468</td>\n",
       "      <td>-1.128332</td>\n",
       "    </tr>\n",
       "    <tr>\n",
       "      <td>3</td>\n",
       "      <td>0.004263</td>\n",
       "      <td>-0.639039</td>\n",
       "      <td>1.390048</td>\n",
       "      <td>0.245112</td>\n",
       "    </tr>\n",
       "    <tr>\n",
       "      <td>4</td>\n",
       "      <td>0.332697</td>\n",
       "      <td>0.017594</td>\n",
       "      <td>-1.107220</td>\n",
       "      <td>-0.574809</td>\n",
       "    </tr>\n",
       "    <tr>\n",
       "      <td>...</td>\n",
       "      <td>...</td>\n",
       "      <td>...</td>\n",
       "      <td>...</td>\n",
       "      <td>...</td>\n",
       "    </tr>\n",
       "    <tr>\n",
       "      <td>95</td>\n",
       "      <td>3.143184</td>\n",
       "      <td>-0.079043</td>\n",
       "      <td>1.130658</td>\n",
       "      <td>0.518152</td>\n",
       "    </tr>\n",
       "    <tr>\n",
       "      <td>96</td>\n",
       "      <td>-0.326640</td>\n",
       "      <td>-0.244866</td>\n",
       "      <td>1.101476</td>\n",
       "      <td>-2.208659</td>\n",
       "    </tr>\n",
       "    <tr>\n",
       "      <td>97</td>\n",
       "      <td>0.586221</td>\n",
       "      <td>-0.278496</td>\n",
       "      <td>0.495807</td>\n",
       "      <td>0.261342</td>\n",
       "    </tr>\n",
       "    <tr>\n",
       "      <td>98</td>\n",
       "      <td>-0.442562</td>\n",
       "      <td>-1.045489</td>\n",
       "      <td>-0.989024</td>\n",
       "      <td>-1.791157</td>\n",
       "    </tr>\n",
       "    <tr>\n",
       "      <td>99</td>\n",
       "      <td>-0.180451</td>\n",
       "      <td>2.073574</td>\n",
       "      <td>-0.180532</td>\n",
       "      <td>-1.869779</td>\n",
       "    </tr>\n",
       "  </tbody>\n",
       "</table>\n",
       "<p>100 rows × 4 columns</p>\n",
       "</div>"
      ],
      "text/plain": [
       "           A         B         C         D\n",
       "0   1.305333  1.630947 -2.767458 -0.711695\n",
       "1   0.070601  1.035336 -0.166698  1.368627\n",
       "2  -0.627394 -0.803668  0.563468 -1.128332\n",
       "3   0.004263 -0.639039  1.390048  0.245112\n",
       "4   0.332697  0.017594 -1.107220 -0.574809\n",
       "..       ...       ...       ...       ...\n",
       "95  3.143184 -0.079043  1.130658  0.518152\n",
       "96 -0.326640 -0.244866  1.101476 -2.208659\n",
       "97  0.586221 -0.278496  0.495807  0.261342\n",
       "98 -0.442562 -1.045489 -0.989024 -1.791157\n",
       "99 -0.180451  2.073574 -0.180532 -1.869779\n",
       "\n",
       "[100 rows x 4 columns]"
      ]
     },
     "execution_count": 35,
     "metadata": {},
     "output_type": "execute_result"
    }
   ],
   "source": [
    "df"
   ]
  },
  {
   "cell_type": "code",
   "execution_count": 34,
   "metadata": {},
   "outputs": [
    {
     "data": {
      "application/vnd.plotly.v1+json": {
       "config": {
        "linkText": "Export to plot.ly",
        "plotlyServerURL": "https://plot.ly",
        "showLink": true
       },
       "data": [
        {
         "line": {
          "color": "rgba(255, 153, 51, 1.0)",
          "dash": "solid",
          "shape": "linear",
          "width": 1.3
         },
         "mode": "lines",
         "name": "A",
         "text": "",
         "type": "scatter",
         "x": [
          0,
          1,
          2,
          3,
          4,
          5,
          6,
          7,
          8,
          9,
          10,
          11,
          12,
          13,
          14,
          15,
          16,
          17,
          18,
          19,
          20,
          21,
          22,
          23,
          24,
          25,
          26,
          27,
          28,
          29,
          30,
          31,
          32,
          33,
          34,
          35,
          36,
          37,
          38,
          39,
          40,
          41,
          42,
          43,
          44,
          45,
          46,
          47,
          48,
          49,
          50,
          51,
          52,
          53,
          54,
          55,
          56,
          57,
          58,
          59,
          60,
          61,
          62,
          63,
          64,
          65,
          66,
          67,
          68,
          69,
          70,
          71,
          72,
          73,
          74,
          75,
          76,
          77,
          78,
          79,
          80,
          81,
          82,
          83,
          84,
          85,
          86,
          87,
          88,
          89,
          90,
          91,
          92,
          93,
          94,
          95,
          96,
          97,
          98,
          99
         ],
         "y": [
          1.3053331208646823,
          0.07060102470828908,
          -0.6273942586787559,
          0.004262752916752885,
          0.33269698893402844,
          0.6381332330436322,
          0.24953082585115638,
          -0.6635050291288116,
          0.6835631662903746,
          1.5770846419984614,
          -0.7726922422354031,
          -1.5429400180576067,
          1.642265245249487,
          1.549569141247283,
          0.39315117339191485,
          -1.0431315642162016,
          -1.6252231516066178,
          -0.7916527971842998,
          -1.2890079772656593,
          1.004418500310948,
          -0.5589136128780355,
          -0.4640747763041346,
          -0.11171786422902721,
          -0.5238320954092597,
          0.1820717288832561,
          -0.5068920760994189,
          -1.1323219804508442,
          -0.7093625848097523,
          1.282583461177605,
          0.28798853552936154,
          -1.4492261527593004,
          0.08019857924561238,
          -0.42663887160206737,
          0.007713262320147132,
          -0.22995729291620196,
          -0.4031456406612522,
          -0.520817758793495,
          0.4870015471035602,
          -0.6952836830641216,
          -1.9672774602854737,
          0.38333036655448166,
          1.012267251684254,
          0.9487347479148777,
          -0.29387374329485316,
          1.4875276905637784,
          -1.138740644536728,
          0.7328102520111326,
          -0.5071328091386446,
          -2.0036048993620366,
          -0.7074874948843983,
          -0.019357493238301663,
          1.4218962031981197,
          0.3919582635466916,
          0.4765901721878717,
          0.9078347526694567,
          1.349785021124678,
          -0.6442803590411373,
          -0.8157384640894977,
          0.8545751271642288,
          0.02732970739246397,
          -1.4086507135676758,
          -1.1615326955464176,
          0.5517476029061444,
          1.1970464152783742,
          1.4125656926621974,
          -2.134655033934945,
          -0.8013651102182543,
          0.5338316611515622,
          0.4753333994537918,
          0.621567058825844,
          0.6197471909583855,
          -0.2539684802411737,
          0.5689993204185823,
          -0.1504093600239531,
          -1.2348996150044766,
          0.6268715019805275,
          1.6253285667166122,
          0.55108332992706,
          1.007159727247772,
          -0.2771771604910772,
          -0.4905496435780057,
          -1.7000675214060434,
          0.40701724765290015,
          0.16990459238652522,
          0.2563952626726051,
          -0.04783612625895467,
          1.7431600405645302,
          -0.6657261253325057,
          -1.5724136533368314,
          2.4612522037080176,
          0.1107107364017812,
          1.001711399428715,
          1.1070976428117987,
          -0.9770487545161375,
          -0.6507292296440169,
          3.143184255064228,
          -0.32664015028959437,
          0.5862206865519192,
          -0.4425622602749207,
          -0.1804513064053195
         ]
        },
        {
         "line": {
          "color": "rgba(55, 128, 191, 1.0)",
          "dash": "solid",
          "shape": "linear",
          "width": 1.3
         },
         "mode": "lines",
         "name": "B",
         "text": "",
         "type": "scatter",
         "x": [
          0,
          1,
          2,
          3,
          4,
          5,
          6,
          7,
          8,
          9,
          10,
          11,
          12,
          13,
          14,
          15,
          16,
          17,
          18,
          19,
          20,
          21,
          22,
          23,
          24,
          25,
          26,
          27,
          28,
          29,
          30,
          31,
          32,
          33,
          34,
          35,
          36,
          37,
          38,
          39,
          40,
          41,
          42,
          43,
          44,
          45,
          46,
          47,
          48,
          49,
          50,
          51,
          52,
          53,
          54,
          55,
          56,
          57,
          58,
          59,
          60,
          61,
          62,
          63,
          64,
          65,
          66,
          67,
          68,
          69,
          70,
          71,
          72,
          73,
          74,
          75,
          76,
          77,
          78,
          79,
          80,
          81,
          82,
          83,
          84,
          85,
          86,
          87,
          88,
          89,
          90,
          91,
          92,
          93,
          94,
          95,
          96,
          97,
          98,
          99
         ],
         "y": [
          1.6309467201026118,
          1.0353355404547708,
          -0.8036678008318449,
          -0.6390392045016413,
          0.017594143145196577,
          -0.0715072318274745,
          1.3556358489614495,
          1.1101134128420638,
          -0.8737694828885728,
          0.6058582635619374,
          -0.6284571787436664,
          1.2301587939004854,
          0.4054570950752798,
          1.765877274206219,
          -0.08959183924295669,
          0.13797096034569215,
          -1.2813787858246608,
          0.1626005441331333,
          1.7950282217711162,
          2.262318586033149,
          0.8146952802160763,
          -0.3098401446461445,
          -1.0938451643677214,
          0.5541742007752135,
          -2.754004422987266,
          -0.7235086960400885,
          0.22061214524020195,
          0.23550807333064203,
          1.2894235188715812,
          -1.333219483264905,
          0.2128271325739893,
          0.7379221335262379,
          -1.2432932957135165,
          -0.5367641512087755,
          0.7930064150933593,
          0.6540245569611776,
          -2.2036870051828368,
          -0.2914376764967331,
          0.8211781114038501,
          2.2560419549707706,
          -0.45574942073765284,
          0.7185868793073477,
          0.3833683511776934,
          -0.36349599697531587,
          -0.012339390444214112,
          -0.3078544379392602,
          0.6175951879989545,
          1.3964716419650605,
          0.8837657353548712,
          -0.8705626874815445,
          -1.3187336091898998,
          0.2721492880078098,
          0.7865338618938248,
          0.6877075046567835,
          -0.5541405238744319,
          1.1118495834138304,
          -1.0490916250222888,
          0.2254482897218262,
          -0.0021306903324297324,
          -0.5679756555319595,
          -0.31971970800530286,
          -1.1879632738737522,
          -0.35778373477610265,
          1.009820195278712,
          1.2577909698180443,
          -1.1534895590226226,
          0.525617414606756,
          0.5950175804697759,
          0.5158501196316756,
          -1.1011892181884337,
          -1.0036096779108812,
          0.24161569735384408,
          0.5471379551065907,
          0.24806126683392557,
          1.3188524169553577,
          -0.681803762550244,
          0.44489791829464104,
          -1.0770991472673643,
          -0.2702653351658772,
          1.920405238566168,
          0.7728506891131075,
          0.3285564148991624,
          -0.7165849222399514,
          0.9789203519022144,
          -1.1352369943064693,
          -0.023468998930981148,
          -0.18350668657987979,
          -0.8448702446904687,
          -0.6276080621946575,
          -0.029059002292832786,
          -1.609997946531054,
          1.9844329334417505,
          1.6906128594831182,
          0.5217013002324701,
          -0.6526832834035879,
          -0.07904325636077197,
          -0.24486640716365835,
          -0.27849583933871974,
          -1.0454892278326873,
          2.07357410565525
         ]
        },
        {
         "connectgaps": false,
         "fill": "tozeroy",
         "line": {
          "color": "green",
          "dash": "solid",
          "shape": "linear",
          "width": 0.5
         },
         "mode": "lines",
         "name": "Spread",
         "showlegend": false,
         "type": "scatter",
         "x": [
          0,
          1,
          2,
          3,
          4,
          5,
          6,
          7,
          8,
          9,
          10,
          11,
          12,
          13,
          14,
          15,
          16,
          17,
          18,
          19,
          20,
          21,
          22,
          23,
          24,
          25,
          26,
          27,
          28,
          29,
          30,
          31,
          32,
          33,
          34,
          35,
          36,
          37,
          38,
          39,
          40,
          41,
          42,
          43,
          44,
          45,
          46,
          47,
          48,
          49,
          50,
          51,
          52,
          53,
          54,
          55,
          56,
          57,
          58,
          59,
          60,
          61,
          62,
          63,
          64,
          65,
          66,
          67,
          68,
          69,
          70,
          71,
          72,
          73,
          74,
          75,
          76,
          77,
          78,
          79,
          80,
          81,
          82,
          83,
          84,
          85,
          86,
          87,
          88,
          89,
          90,
          91,
          92,
          93,
          94,
          95,
          96,
          97,
          98,
          99
         ],
         "xaxis": "x2",
         "y": [
          "",
          "",
          0.176273542153089,
          0.6433019574183942,
          0.31510284578883185,
          0.7096404648711068,
          "",
          "",
          1.5573326491789474,
          0.971226378436524,
          "",
          "",
          1.2368081501742072,
          "",
          0.4827430126348715,
          "",
          "",
          "",
          "",
          "",
          "",
          "",
          0.9821273001386942,
          "",
          2.9360761518705223,
          0.2166166199406696,
          "",
          "",
          "",
          1.6212080187942663,
          "",
          "",
          0.8166544241114492,
          0.5444774135289226,
          "",
          "",
          1.6828692463893418,
          0.7784392236002933,
          "",
          "",
          0.8390797872921345,
          0.29368037237690625,
          0.5653663967371843,
          0.06962225368046271,
          1.4998670810079926,
          "",
          0.11521506401217807,
          "",
          "",
          0.1630751925971462,
          1.2993761159515982,
          1.14974691519031,
          "",
          "",
          1.4619752765438885,
          0.23793543771084757,
          0.40481126598115147,
          "",
          0.8567058174966585,
          0.5953053629244235,
          "",
          0.026430578327334642,
          0.9095313376822471,
          0.18722621999966216,
          0.15477472284415317,
          "",
          "",
          "",
          "",
          1.7227562770142777,
          1.6233568688692666,
          "",
          0.021861365311991565,
          "",
          "",
          1.3086752645307715,
          1.180430648421971,
          1.6281824771944242,
          1.2774250624136492,
          "",
          "",
          "",
          1.1236021698928516,
          "",
          1.3916322569790744,
          "",
          1.92666672714441,
          0.17914411935796293,
          "",
          2.4903112060008503,
          1.7207086829328353,
          "",
          "",
          "",
          0.0019540537595710283,
          3.2222275114250003,
          "",
          0.8647165258906389,
          0.6029269675577666,
          ""
         ],
         "yaxis": "y2"
        },
        {
         "connectgaps": false,
         "fill": "tozeroy",
         "line": {
          "color": "red",
          "dash": "solid",
          "shape": "linear",
          "width": 0.5
         },
         "mode": "lines",
         "name": "Spread",
         "showlegend": false,
         "type": "scatter",
         "x": [
          0,
          1,
          2,
          3,
          4,
          5,
          6,
          7,
          8,
          9,
          10,
          11,
          12,
          13,
          14,
          15,
          16,
          17,
          18,
          19,
          20,
          21,
          22,
          23,
          24,
          25,
          26,
          27,
          28,
          29,
          30,
          31,
          32,
          33,
          34,
          35,
          36,
          37,
          38,
          39,
          40,
          41,
          42,
          43,
          44,
          45,
          46,
          47,
          48,
          49,
          50,
          51,
          52,
          53,
          54,
          55,
          56,
          57,
          58,
          59,
          60,
          61,
          62,
          63,
          64,
          65,
          66,
          67,
          68,
          69,
          70,
          71,
          72,
          73,
          74,
          75,
          76,
          77,
          78,
          79,
          80,
          81,
          82,
          83,
          84,
          85,
          86,
          87,
          88,
          89,
          90,
          91,
          92,
          93,
          94,
          95,
          96,
          97,
          98,
          99
         ],
         "xaxis": "x2",
         "y": [
          -0.32561359923792943,
          -0.9647345157464817,
          "",
          "",
          "",
          "",
          -1.1061050231102931,
          -1.7736184419708754,
          "",
          "",
          -0.14423506349173676,
          -2.773098811958092,
          "",
          -0.21630813295893603,
          "",
          -1.1811025245618938,
          -0.343844365781957,
          -0.9542533413174331,
          -3.0840361990367757,
          -1.2579000857222011,
          -1.373608893094112,
          -0.15423463165799006,
          "",
          -1.0780062961844732,
          "",
          "",
          -1.352934125691046,
          -0.9448706581403944,
          -0.00684005769397622,
          "",
          -1.6620532853332897,
          -0.6577235542806256,
          "",
          "",
          -1.0229637080095613,
          -1.0571701976224297,
          "",
          "",
          -1.5164617944679717,
          -4.2233194152562445,
          "",
          "",
          "",
          "",
          "",
          -0.8308862065974678,
          "",
          -1.9036044511037051,
          -2.8873706347169077,
          "",
          "",
          "",
          -0.3945755983471332,
          -0.21111733246891184,
          "",
          "",
          "",
          -1.041186753811324,
          "",
          "",
          -1.0889310055623729,
          "",
          "",
          "",
          "",
          -0.9811654749123224,
          -1.3269825248250102,
          -0.06118591931821371,
          -0.04051672017788377,
          "",
          "",
          -0.49558417759501777,
          "",
          -0.3984706268578787,
          -2.553752031959834,
          "",
          "",
          "",
          "",
          -2.197582399057245,
          -1.2634003326911132,
          -2.028623936305206,
          "",
          -0.8090157595156892,
          "",
          -0.024367127327973522,
          "",
          "",
          -0.9448055911421739,
          "",
          "",
          -0.9827215340130355,
          -0.5835152166713196,
          -1.4987500547486077,
          "",
          "",
          -0.08177374312593602,
          "",
          "",
          -2.2540254120605696
         ],
         "yaxis": "y2"
        }
       ],
       "layout": {
        "hovermode": "x",
        "legend": {
         "bgcolor": "#F5F6F9",
         "font": {
          "color": "#4D5663"
         }
        },
        "paper_bgcolor": "#F5F6F9",
        "plot_bgcolor": "#F5F6F9",
        "template": {
         "data": {
          "bar": [
           {
            "error_x": {
             "color": "#2a3f5f"
            },
            "error_y": {
             "color": "#2a3f5f"
            },
            "marker": {
             "line": {
              "color": "#E5ECF6",
              "width": 0.5
             }
            },
            "type": "bar"
           }
          ],
          "barpolar": [
           {
            "marker": {
             "line": {
              "color": "#E5ECF6",
              "width": 0.5
             }
            },
            "type": "barpolar"
           }
          ],
          "carpet": [
           {
            "aaxis": {
             "endlinecolor": "#2a3f5f",
             "gridcolor": "white",
             "linecolor": "white",
             "minorgridcolor": "white",
             "startlinecolor": "#2a3f5f"
            },
            "baxis": {
             "endlinecolor": "#2a3f5f",
             "gridcolor": "white",
             "linecolor": "white",
             "minorgridcolor": "white",
             "startlinecolor": "#2a3f5f"
            },
            "type": "carpet"
           }
          ],
          "choropleth": [
           {
            "colorbar": {
             "outlinewidth": 0,
             "ticks": ""
            },
            "type": "choropleth"
           }
          ],
          "contour": [
           {
            "colorbar": {
             "outlinewidth": 0,
             "ticks": ""
            },
            "colorscale": [
             [
              0,
              "#0d0887"
             ],
             [
              0.1111111111111111,
              "#46039f"
             ],
             [
              0.2222222222222222,
              "#7201a8"
             ],
             [
              0.3333333333333333,
              "#9c179e"
             ],
             [
              0.4444444444444444,
              "#bd3786"
             ],
             [
              0.5555555555555556,
              "#d8576b"
             ],
             [
              0.6666666666666666,
              "#ed7953"
             ],
             [
              0.7777777777777778,
              "#fb9f3a"
             ],
             [
              0.8888888888888888,
              "#fdca26"
             ],
             [
              1,
              "#f0f921"
             ]
            ],
            "type": "contour"
           }
          ],
          "contourcarpet": [
           {
            "colorbar": {
             "outlinewidth": 0,
             "ticks": ""
            },
            "type": "contourcarpet"
           }
          ],
          "heatmap": [
           {
            "colorbar": {
             "outlinewidth": 0,
             "ticks": ""
            },
            "colorscale": [
             [
              0,
              "#0d0887"
             ],
             [
              0.1111111111111111,
              "#46039f"
             ],
             [
              0.2222222222222222,
              "#7201a8"
             ],
             [
              0.3333333333333333,
              "#9c179e"
             ],
             [
              0.4444444444444444,
              "#bd3786"
             ],
             [
              0.5555555555555556,
              "#d8576b"
             ],
             [
              0.6666666666666666,
              "#ed7953"
             ],
             [
              0.7777777777777778,
              "#fb9f3a"
             ],
             [
              0.8888888888888888,
              "#fdca26"
             ],
             [
              1,
              "#f0f921"
             ]
            ],
            "type": "heatmap"
           }
          ],
          "heatmapgl": [
           {
            "colorbar": {
             "outlinewidth": 0,
             "ticks": ""
            },
            "colorscale": [
             [
              0,
              "#0d0887"
             ],
             [
              0.1111111111111111,
              "#46039f"
             ],
             [
              0.2222222222222222,
              "#7201a8"
             ],
             [
              0.3333333333333333,
              "#9c179e"
             ],
             [
              0.4444444444444444,
              "#bd3786"
             ],
             [
              0.5555555555555556,
              "#d8576b"
             ],
             [
              0.6666666666666666,
              "#ed7953"
             ],
             [
              0.7777777777777778,
              "#fb9f3a"
             ],
             [
              0.8888888888888888,
              "#fdca26"
             ],
             [
              1,
              "#f0f921"
             ]
            ],
            "type": "heatmapgl"
           }
          ],
          "histogram": [
           {
            "marker": {
             "colorbar": {
              "outlinewidth": 0,
              "ticks": ""
             }
            },
            "type": "histogram"
           }
          ],
          "histogram2d": [
           {
            "colorbar": {
             "outlinewidth": 0,
             "ticks": ""
            },
            "colorscale": [
             [
              0,
              "#0d0887"
             ],
             [
              0.1111111111111111,
              "#46039f"
             ],
             [
              0.2222222222222222,
              "#7201a8"
             ],
             [
              0.3333333333333333,
              "#9c179e"
             ],
             [
              0.4444444444444444,
              "#bd3786"
             ],
             [
              0.5555555555555556,
              "#d8576b"
             ],
             [
              0.6666666666666666,
              "#ed7953"
             ],
             [
              0.7777777777777778,
              "#fb9f3a"
             ],
             [
              0.8888888888888888,
              "#fdca26"
             ],
             [
              1,
              "#f0f921"
             ]
            ],
            "type": "histogram2d"
           }
          ],
          "histogram2dcontour": [
           {
            "colorbar": {
             "outlinewidth": 0,
             "ticks": ""
            },
            "colorscale": [
             [
              0,
              "#0d0887"
             ],
             [
              0.1111111111111111,
              "#46039f"
             ],
             [
              0.2222222222222222,
              "#7201a8"
             ],
             [
              0.3333333333333333,
              "#9c179e"
             ],
             [
              0.4444444444444444,
              "#bd3786"
             ],
             [
              0.5555555555555556,
              "#d8576b"
             ],
             [
              0.6666666666666666,
              "#ed7953"
             ],
             [
              0.7777777777777778,
              "#fb9f3a"
             ],
             [
              0.8888888888888888,
              "#fdca26"
             ],
             [
              1,
              "#f0f921"
             ]
            ],
            "type": "histogram2dcontour"
           }
          ],
          "mesh3d": [
           {
            "colorbar": {
             "outlinewidth": 0,
             "ticks": ""
            },
            "type": "mesh3d"
           }
          ],
          "parcoords": [
           {
            "line": {
             "colorbar": {
              "outlinewidth": 0,
              "ticks": ""
             }
            },
            "type": "parcoords"
           }
          ],
          "pie": [
           {
            "automargin": true,
            "type": "pie"
           }
          ],
          "scatter": [
           {
            "marker": {
             "colorbar": {
              "outlinewidth": 0,
              "ticks": ""
             }
            },
            "type": "scatter"
           }
          ],
          "scatter3d": [
           {
            "line": {
             "colorbar": {
              "outlinewidth": 0,
              "ticks": ""
             }
            },
            "marker": {
             "colorbar": {
              "outlinewidth": 0,
              "ticks": ""
             }
            },
            "type": "scatter3d"
           }
          ],
          "scattercarpet": [
           {
            "marker": {
             "colorbar": {
              "outlinewidth": 0,
              "ticks": ""
             }
            },
            "type": "scattercarpet"
           }
          ],
          "scattergeo": [
           {
            "marker": {
             "colorbar": {
              "outlinewidth": 0,
              "ticks": ""
             }
            },
            "type": "scattergeo"
           }
          ],
          "scattergl": [
           {
            "marker": {
             "colorbar": {
              "outlinewidth": 0,
              "ticks": ""
             }
            },
            "type": "scattergl"
           }
          ],
          "scattermapbox": [
           {
            "marker": {
             "colorbar": {
              "outlinewidth": 0,
              "ticks": ""
             }
            },
            "type": "scattermapbox"
           }
          ],
          "scatterpolar": [
           {
            "marker": {
             "colorbar": {
              "outlinewidth": 0,
              "ticks": ""
             }
            },
            "type": "scatterpolar"
           }
          ],
          "scatterpolargl": [
           {
            "marker": {
             "colorbar": {
              "outlinewidth": 0,
              "ticks": ""
             }
            },
            "type": "scatterpolargl"
           }
          ],
          "scatterternary": [
           {
            "marker": {
             "colorbar": {
              "outlinewidth": 0,
              "ticks": ""
             }
            },
            "type": "scatterternary"
           }
          ],
          "surface": [
           {
            "colorbar": {
             "outlinewidth": 0,
             "ticks": ""
            },
            "colorscale": [
             [
              0,
              "#0d0887"
             ],
             [
              0.1111111111111111,
              "#46039f"
             ],
             [
              0.2222222222222222,
              "#7201a8"
             ],
             [
              0.3333333333333333,
              "#9c179e"
             ],
             [
              0.4444444444444444,
              "#bd3786"
             ],
             [
              0.5555555555555556,
              "#d8576b"
             ],
             [
              0.6666666666666666,
              "#ed7953"
             ],
             [
              0.7777777777777778,
              "#fb9f3a"
             ],
             [
              0.8888888888888888,
              "#fdca26"
             ],
             [
              1,
              "#f0f921"
             ]
            ],
            "type": "surface"
           }
          ],
          "table": [
           {
            "cells": {
             "fill": {
              "color": "#EBF0F8"
             },
             "line": {
              "color": "white"
             }
            },
            "header": {
             "fill": {
              "color": "#C8D4E3"
             },
             "line": {
              "color": "white"
             }
            },
            "type": "table"
           }
          ]
         },
         "layout": {
          "annotationdefaults": {
           "arrowcolor": "#2a3f5f",
           "arrowhead": 0,
           "arrowwidth": 1
          },
          "autotypenumbers": "strict",
          "coloraxis": {
           "colorbar": {
            "outlinewidth": 0,
            "ticks": ""
           }
          },
          "colorscale": {
           "diverging": [
            [
             0,
             "#8e0152"
            ],
            [
             0.1,
             "#c51b7d"
            ],
            [
             0.2,
             "#de77ae"
            ],
            [
             0.3,
             "#f1b6da"
            ],
            [
             0.4,
             "#fde0ef"
            ],
            [
             0.5,
             "#f7f7f7"
            ],
            [
             0.6,
             "#e6f5d0"
            ],
            [
             0.7,
             "#b8e186"
            ],
            [
             0.8,
             "#7fbc41"
            ],
            [
             0.9,
             "#4d9221"
            ],
            [
             1,
             "#276419"
            ]
           ],
           "sequential": [
            [
             0,
             "#0d0887"
            ],
            [
             0.1111111111111111,
             "#46039f"
            ],
            [
             0.2222222222222222,
             "#7201a8"
            ],
            [
             0.3333333333333333,
             "#9c179e"
            ],
            [
             0.4444444444444444,
             "#bd3786"
            ],
            [
             0.5555555555555556,
             "#d8576b"
            ],
            [
             0.6666666666666666,
             "#ed7953"
            ],
            [
             0.7777777777777778,
             "#fb9f3a"
            ],
            [
             0.8888888888888888,
             "#fdca26"
            ],
            [
             1,
             "#f0f921"
            ]
           ],
           "sequentialminus": [
            [
             0,
             "#0d0887"
            ],
            [
             0.1111111111111111,
             "#46039f"
            ],
            [
             0.2222222222222222,
             "#7201a8"
            ],
            [
             0.3333333333333333,
             "#9c179e"
            ],
            [
             0.4444444444444444,
             "#bd3786"
            ],
            [
             0.5555555555555556,
             "#d8576b"
            ],
            [
             0.6666666666666666,
             "#ed7953"
            ],
            [
             0.7777777777777778,
             "#fb9f3a"
            ],
            [
             0.8888888888888888,
             "#fdca26"
            ],
            [
             1,
             "#f0f921"
            ]
           ]
          },
          "colorway": [
           "#636efa",
           "#EF553B",
           "#00cc96",
           "#ab63fa",
           "#FFA15A",
           "#19d3f3",
           "#FF6692",
           "#B6E880",
           "#FF97FF",
           "#FECB52"
          ],
          "font": {
           "color": "#2a3f5f"
          },
          "geo": {
           "bgcolor": "white",
           "lakecolor": "white",
           "landcolor": "#E5ECF6",
           "showlakes": true,
           "showland": true,
           "subunitcolor": "white"
          },
          "hoverlabel": {
           "align": "left"
          },
          "hovermode": "closest",
          "mapbox": {
           "style": "light"
          },
          "paper_bgcolor": "white",
          "plot_bgcolor": "#E5ECF6",
          "polar": {
           "angularaxis": {
            "gridcolor": "white",
            "linecolor": "white",
            "ticks": ""
           },
           "bgcolor": "#E5ECF6",
           "radialaxis": {
            "gridcolor": "white",
            "linecolor": "white",
            "ticks": ""
           }
          },
          "scene": {
           "xaxis": {
            "backgroundcolor": "#E5ECF6",
            "gridcolor": "white",
            "gridwidth": 2,
            "linecolor": "white",
            "showbackground": true,
            "ticks": "",
            "zerolinecolor": "white"
           },
           "yaxis": {
            "backgroundcolor": "#E5ECF6",
            "gridcolor": "white",
            "gridwidth": 2,
            "linecolor": "white",
            "showbackground": true,
            "ticks": "",
            "zerolinecolor": "white"
           },
           "zaxis": {
            "backgroundcolor": "#E5ECF6",
            "gridcolor": "white",
            "gridwidth": 2,
            "linecolor": "white",
            "showbackground": true,
            "ticks": "",
            "zerolinecolor": "white"
           }
          },
          "shapedefaults": {
           "line": {
            "color": "#2a3f5f"
           }
          },
          "ternary": {
           "aaxis": {
            "gridcolor": "white",
            "linecolor": "white",
            "ticks": ""
           },
           "baxis": {
            "gridcolor": "white",
            "linecolor": "white",
            "ticks": ""
           },
           "bgcolor": "#E5ECF6",
           "caxis": {
            "gridcolor": "white",
            "linecolor": "white",
            "ticks": ""
           }
          },
          "title": {
           "x": 0.05
          },
          "xaxis": {
           "automargin": true,
           "gridcolor": "white",
           "linecolor": "white",
           "ticks": "",
           "title": {
            "standoff": 15
           },
           "zerolinecolor": "white",
           "zerolinewidth": 2
          },
          "yaxis": {
           "automargin": true,
           "gridcolor": "white",
           "linecolor": "white",
           "ticks": "",
           "title": {
            "standoff": 15
           },
           "zerolinecolor": "white",
           "zerolinewidth": 2
          }
         }
        },
        "title": {
         "font": {
          "color": "#4D5663"
         }
        },
        "xaxis": {
         "gridcolor": "#E1E5ED",
         "showgrid": true,
         "tickfont": {
          "color": "#4D5663"
         },
         "title": {
          "font": {
           "color": "#4D5663"
          },
          "text": ""
         },
         "zerolinecolor": "#E1E5ED"
        },
        "xaxis2": {
         "anchor": "y2",
         "gridcolor": "#E1E5ED",
         "showgrid": true,
         "showticklabels": false,
         "tickfont": {
          "color": "#4D5663"
         },
         "title": {
          "font": {
           "color": "#4D5663"
          },
          "text": ""
         },
         "zerolinecolor": "#E1E5ED"
        },
        "yaxis": {
         "domain": [
          0.3,
          1
         ],
         "gridcolor": "#E1E5ED",
         "showgrid": true,
         "tickfont": {
          "color": "#4D5663"
         },
         "title": {
          "font": {
           "color": "#4D5663"
          },
          "text": ""
         },
         "zerolinecolor": "#E1E5ED"
        },
        "yaxis2": {
         "domain": [
          0,
          0.25
         ],
         "gridcolor": "#E1E5ED",
         "showgrid": true,
         "tickfont": {
          "color": "#4D5663"
         },
         "title": {
          "font": {
           "color": "#4D5663"
          },
          "text": "Spread"
         },
         "zerolinecolor": "#E1E5ED"
        }
       }
      },
      "text/html": [
       "<div>                            <div id=\"fa5dcc39-b72e-44a5-808e-e37cb08a6745\" class=\"plotly-graph-div\" style=\"height:525px; width:100%;\"></div>            <script type=\"text/javascript\">                require([\"plotly\"], function(Plotly) {                    window.PLOTLYENV=window.PLOTLYENV || {};\n",
       "                    window.PLOTLYENV.BASE_URL='https://plot.ly';                                    if (document.getElementById(\"fa5dcc39-b72e-44a5-808e-e37cb08a6745\")) {                    Plotly.newPlot(                        \"fa5dcc39-b72e-44a5-808e-e37cb08a6745\",                        [{\"line\": {\"color\": \"rgba(255, 153, 51, 1.0)\", \"dash\": \"solid\", \"shape\": \"linear\", \"width\": 1.3}, \"mode\": \"lines\", \"name\": \"A\", \"text\": \"\", \"type\": \"scatter\", \"x\": [0, 1, 2, 3, 4, 5, 6, 7, 8, 9, 10, 11, 12, 13, 14, 15, 16, 17, 18, 19, 20, 21, 22, 23, 24, 25, 26, 27, 28, 29, 30, 31, 32, 33, 34, 35, 36, 37, 38, 39, 40, 41, 42, 43, 44, 45, 46, 47, 48, 49, 50, 51, 52, 53, 54, 55, 56, 57, 58, 59, 60, 61, 62, 63, 64, 65, 66, 67, 68, 69, 70, 71, 72, 73, 74, 75, 76, 77, 78, 79, 80, 81, 82, 83, 84, 85, 86, 87, 88, 89, 90, 91, 92, 93, 94, 95, 96, 97, 98, 99], \"y\": [1.3053331208646823, 0.07060102470828908, -0.6273942586787559, 0.004262752916752885, 0.33269698893402844, 0.6381332330436322, 0.24953082585115638, -0.6635050291288116, 0.6835631662903746, 1.5770846419984614, -0.7726922422354031, -1.5429400180576067, 1.642265245249487, 1.549569141247283, 0.39315117339191485, -1.0431315642162016, -1.6252231516066178, -0.7916527971842998, -1.2890079772656593, 1.004418500310948, -0.5589136128780355, -0.4640747763041346, -0.11171786422902721, -0.5238320954092597, 0.1820717288832561, -0.5068920760994189, -1.1323219804508442, -0.7093625848097523, 1.282583461177605, 0.28798853552936154, -1.4492261527593004, 0.08019857924561238, -0.42663887160206737, 0.007713262320147132, -0.22995729291620196, -0.4031456406612522, -0.520817758793495, 0.4870015471035602, -0.6952836830641216, -1.9672774602854737, 0.38333036655448166, 1.012267251684254, 0.9487347479148777, -0.29387374329485316, 1.4875276905637784, -1.138740644536728, 0.7328102520111326, -0.5071328091386446, -2.0036048993620366, -0.7074874948843983, -0.019357493238301663, 1.4218962031981197, 0.3919582635466916, 0.4765901721878717, 0.9078347526694567, 1.349785021124678, -0.6442803590411373, -0.8157384640894977, 0.8545751271642288, 0.02732970739246397, -1.4086507135676758, -1.1615326955464176, 0.5517476029061444, 1.1970464152783742, 1.4125656926621974, -2.134655033934945, -0.8013651102182543, 0.5338316611515622, 0.4753333994537918, 0.621567058825844, 0.6197471909583855, -0.2539684802411737, 0.5689993204185823, -0.1504093600239531, -1.2348996150044766, 0.6268715019805275, 1.6253285667166122, 0.55108332992706, 1.007159727247772, -0.2771771604910772, -0.4905496435780057, -1.7000675214060434, 0.40701724765290015, 0.16990459238652522, 0.2563952626726051, -0.04783612625895467, 1.7431600405645302, -0.6657261253325057, -1.5724136533368314, 2.4612522037080176, 0.1107107364017812, 1.001711399428715, 1.1070976428117987, -0.9770487545161375, -0.6507292296440169, 3.143184255064228, -0.32664015028959437, 0.5862206865519192, -0.4425622602749207, -0.1804513064053195]}, {\"line\": {\"color\": \"rgba(55, 128, 191, 1.0)\", \"dash\": \"solid\", \"shape\": \"linear\", \"width\": 1.3}, \"mode\": \"lines\", \"name\": \"B\", \"text\": \"\", \"type\": \"scatter\", \"x\": [0, 1, 2, 3, 4, 5, 6, 7, 8, 9, 10, 11, 12, 13, 14, 15, 16, 17, 18, 19, 20, 21, 22, 23, 24, 25, 26, 27, 28, 29, 30, 31, 32, 33, 34, 35, 36, 37, 38, 39, 40, 41, 42, 43, 44, 45, 46, 47, 48, 49, 50, 51, 52, 53, 54, 55, 56, 57, 58, 59, 60, 61, 62, 63, 64, 65, 66, 67, 68, 69, 70, 71, 72, 73, 74, 75, 76, 77, 78, 79, 80, 81, 82, 83, 84, 85, 86, 87, 88, 89, 90, 91, 92, 93, 94, 95, 96, 97, 98, 99], \"y\": [1.6309467201026118, 1.0353355404547708, -0.8036678008318449, -0.6390392045016413, 0.017594143145196577, -0.0715072318274745, 1.3556358489614495, 1.1101134128420638, -0.8737694828885728, 0.6058582635619374, -0.6284571787436664, 1.2301587939004854, 0.4054570950752798, 1.765877274206219, -0.08959183924295669, 0.13797096034569215, -1.2813787858246608, 0.1626005441331333, 1.7950282217711162, 2.262318586033149, 0.8146952802160763, -0.3098401446461445, -1.0938451643677214, 0.5541742007752135, -2.754004422987266, -0.7235086960400885, 0.22061214524020195, 0.23550807333064203, 1.2894235188715812, -1.333219483264905, 0.2128271325739893, 0.7379221335262379, -1.2432932957135165, -0.5367641512087755, 0.7930064150933593, 0.6540245569611776, -2.2036870051828368, -0.2914376764967331, 0.8211781114038501, 2.2560419549707706, -0.45574942073765284, 0.7185868793073477, 0.3833683511776934, -0.36349599697531587, -0.012339390444214112, -0.3078544379392602, 0.6175951879989545, 1.3964716419650605, 0.8837657353548712, -0.8705626874815445, -1.3187336091898998, 0.2721492880078098, 0.7865338618938248, 0.6877075046567835, -0.5541405238744319, 1.1118495834138304, -1.0490916250222888, 0.2254482897218262, -0.0021306903324297324, -0.5679756555319595, -0.31971970800530286, -1.1879632738737522, -0.35778373477610265, 1.009820195278712, 1.2577909698180443, -1.1534895590226226, 0.525617414606756, 0.5950175804697759, 0.5158501196316756, -1.1011892181884337, -1.0036096779108812, 0.24161569735384408, 0.5471379551065907, 0.24806126683392557, 1.3188524169553577, -0.681803762550244, 0.44489791829464104, -1.0770991472673643, -0.2702653351658772, 1.920405238566168, 0.7728506891131075, 0.3285564148991624, -0.7165849222399514, 0.9789203519022144, -1.1352369943064693, -0.023468998930981148, -0.18350668657987979, -0.8448702446904687, -0.6276080621946575, -0.029059002292832786, -1.609997946531054, 1.9844329334417505, 1.6906128594831182, 0.5217013002324701, -0.6526832834035879, -0.07904325636077197, -0.24486640716365835, -0.27849583933871974, -1.0454892278326873, 2.07357410565525]}, {\"connectgaps\": false, \"fill\": \"tozeroy\", \"line\": {\"color\": \"green\", \"dash\": \"solid\", \"shape\": \"linear\", \"width\": 0.5}, \"mode\": \"lines\", \"name\": \"Spread\", \"showlegend\": false, \"type\": \"scatter\", \"x\": [0, 1, 2, 3, 4, 5, 6, 7, 8, 9, 10, 11, 12, 13, 14, 15, 16, 17, 18, 19, 20, 21, 22, 23, 24, 25, 26, 27, 28, 29, 30, 31, 32, 33, 34, 35, 36, 37, 38, 39, 40, 41, 42, 43, 44, 45, 46, 47, 48, 49, 50, 51, 52, 53, 54, 55, 56, 57, 58, 59, 60, 61, 62, 63, 64, 65, 66, 67, 68, 69, 70, 71, 72, 73, 74, 75, 76, 77, 78, 79, 80, 81, 82, 83, 84, 85, 86, 87, 88, 89, 90, 91, 92, 93, 94, 95, 96, 97, 98, 99], \"xaxis\": \"x2\", \"y\": [\"\", \"\", 0.176273542153089, 0.6433019574183942, 0.31510284578883185, 0.7096404648711068, \"\", \"\", 1.5573326491789474, 0.971226378436524, \"\", \"\", 1.2368081501742072, \"\", 0.4827430126348715, \"\", \"\", \"\", \"\", \"\", \"\", \"\", 0.9821273001386942, \"\", 2.9360761518705223, 0.2166166199406696, \"\", \"\", \"\", 1.6212080187942663, \"\", \"\", 0.8166544241114492, 0.5444774135289226, \"\", \"\", 1.6828692463893418, 0.7784392236002933, \"\", \"\", 0.8390797872921345, 0.29368037237690625, 0.5653663967371843, 0.06962225368046271, 1.4998670810079926, \"\", 0.11521506401217807, \"\", \"\", 0.1630751925971462, 1.2993761159515982, 1.14974691519031, \"\", \"\", 1.4619752765438885, 0.23793543771084757, 0.40481126598115147, \"\", 0.8567058174966585, 0.5953053629244235, \"\", 0.026430578327334642, 0.9095313376822471, 0.18722621999966216, 0.15477472284415317, \"\", \"\", \"\", \"\", 1.7227562770142777, 1.6233568688692666, \"\", 0.021861365311991565, \"\", \"\", 1.3086752645307715, 1.180430648421971, 1.6281824771944242, 1.2774250624136492, \"\", \"\", \"\", 1.1236021698928516, \"\", 1.3916322569790744, \"\", 1.92666672714441, 0.17914411935796293, \"\", 2.4903112060008503, 1.7207086829328353, \"\", \"\", \"\", 0.0019540537595710283, 3.2222275114250003, \"\", 0.8647165258906389, 0.6029269675577666, \"\"], \"yaxis\": \"y2\"}, {\"connectgaps\": false, \"fill\": \"tozeroy\", \"line\": {\"color\": \"red\", \"dash\": \"solid\", \"shape\": \"linear\", \"width\": 0.5}, \"mode\": \"lines\", \"name\": \"Spread\", \"showlegend\": false, \"type\": \"scatter\", \"x\": [0, 1, 2, 3, 4, 5, 6, 7, 8, 9, 10, 11, 12, 13, 14, 15, 16, 17, 18, 19, 20, 21, 22, 23, 24, 25, 26, 27, 28, 29, 30, 31, 32, 33, 34, 35, 36, 37, 38, 39, 40, 41, 42, 43, 44, 45, 46, 47, 48, 49, 50, 51, 52, 53, 54, 55, 56, 57, 58, 59, 60, 61, 62, 63, 64, 65, 66, 67, 68, 69, 70, 71, 72, 73, 74, 75, 76, 77, 78, 79, 80, 81, 82, 83, 84, 85, 86, 87, 88, 89, 90, 91, 92, 93, 94, 95, 96, 97, 98, 99], \"xaxis\": \"x2\", \"y\": [-0.32561359923792943, -0.9647345157464817, \"\", \"\", \"\", \"\", -1.1061050231102931, -1.7736184419708754, \"\", \"\", -0.14423506349173676, -2.773098811958092, \"\", -0.21630813295893603, \"\", -1.1811025245618938, -0.343844365781957, -0.9542533413174331, -3.0840361990367757, -1.2579000857222011, -1.373608893094112, -0.15423463165799006, \"\", -1.0780062961844732, \"\", \"\", -1.352934125691046, -0.9448706581403944, -0.00684005769397622, \"\", -1.6620532853332897, -0.6577235542806256, \"\", \"\", -1.0229637080095613, -1.0571701976224297, \"\", \"\", -1.5164617944679717, -4.2233194152562445, \"\", \"\", \"\", \"\", \"\", -0.8308862065974678, \"\", -1.9036044511037051, -2.8873706347169077, \"\", \"\", \"\", -0.3945755983471332, -0.21111733246891184, \"\", \"\", \"\", -1.041186753811324, \"\", \"\", -1.0889310055623729, \"\", \"\", \"\", \"\", -0.9811654749123224, -1.3269825248250102, -0.06118591931821371, -0.04051672017788377, \"\", \"\", -0.49558417759501777, \"\", -0.3984706268578787, -2.553752031959834, \"\", \"\", \"\", \"\", -2.197582399057245, -1.2634003326911132, -2.028623936305206, \"\", -0.8090157595156892, \"\", -0.024367127327973522, \"\", \"\", -0.9448055911421739, \"\", \"\", -0.9827215340130355, -0.5835152166713196, -1.4987500547486077, \"\", \"\", -0.08177374312593602, \"\", \"\", -2.2540254120605696], \"yaxis\": \"y2\"}],                        {\"hovermode\": \"x\", \"legend\": {\"bgcolor\": \"#F5F6F9\", \"font\": {\"color\": \"#4D5663\"}}, \"paper_bgcolor\": \"#F5F6F9\", \"plot_bgcolor\": \"#F5F6F9\", \"template\": {\"data\": {\"bar\": [{\"error_x\": {\"color\": \"#2a3f5f\"}, \"error_y\": {\"color\": \"#2a3f5f\"}, \"marker\": {\"line\": {\"color\": \"#E5ECF6\", \"width\": 0.5}}, \"type\": \"bar\"}], \"barpolar\": [{\"marker\": {\"line\": {\"color\": \"#E5ECF6\", \"width\": 0.5}}, \"type\": \"barpolar\"}], \"carpet\": [{\"aaxis\": {\"endlinecolor\": \"#2a3f5f\", \"gridcolor\": \"white\", \"linecolor\": \"white\", \"minorgridcolor\": \"white\", \"startlinecolor\": \"#2a3f5f\"}, \"baxis\": {\"endlinecolor\": \"#2a3f5f\", \"gridcolor\": \"white\", \"linecolor\": \"white\", \"minorgridcolor\": \"white\", \"startlinecolor\": \"#2a3f5f\"}, \"type\": \"carpet\"}], \"choropleth\": [{\"colorbar\": {\"outlinewidth\": 0, \"ticks\": \"\"}, \"type\": \"choropleth\"}], \"contour\": [{\"colorbar\": {\"outlinewidth\": 0, \"ticks\": \"\"}, \"colorscale\": [[0.0, \"#0d0887\"], [0.1111111111111111, \"#46039f\"], [0.2222222222222222, \"#7201a8\"], [0.3333333333333333, \"#9c179e\"], [0.4444444444444444, \"#bd3786\"], [0.5555555555555556, \"#d8576b\"], [0.6666666666666666, \"#ed7953\"], [0.7777777777777778, \"#fb9f3a\"], [0.8888888888888888, \"#fdca26\"], [1.0, \"#f0f921\"]], \"type\": \"contour\"}], \"contourcarpet\": [{\"colorbar\": {\"outlinewidth\": 0, \"ticks\": \"\"}, \"type\": \"contourcarpet\"}], \"heatmap\": [{\"colorbar\": {\"outlinewidth\": 0, \"ticks\": \"\"}, \"colorscale\": [[0.0, \"#0d0887\"], [0.1111111111111111, \"#46039f\"], [0.2222222222222222, \"#7201a8\"], [0.3333333333333333, \"#9c179e\"], [0.4444444444444444, \"#bd3786\"], [0.5555555555555556, \"#d8576b\"], [0.6666666666666666, \"#ed7953\"], [0.7777777777777778, \"#fb9f3a\"], [0.8888888888888888, \"#fdca26\"], [1.0, \"#f0f921\"]], \"type\": \"heatmap\"}], \"heatmapgl\": [{\"colorbar\": {\"outlinewidth\": 0, \"ticks\": \"\"}, \"colorscale\": [[0.0, \"#0d0887\"], [0.1111111111111111, \"#46039f\"], [0.2222222222222222, \"#7201a8\"], [0.3333333333333333, \"#9c179e\"], [0.4444444444444444, \"#bd3786\"], [0.5555555555555556, \"#d8576b\"], [0.6666666666666666, \"#ed7953\"], [0.7777777777777778, \"#fb9f3a\"], [0.8888888888888888, \"#fdca26\"], [1.0, \"#f0f921\"]], \"type\": \"heatmapgl\"}], \"histogram\": [{\"marker\": {\"colorbar\": {\"outlinewidth\": 0, \"ticks\": \"\"}}, \"type\": \"histogram\"}], \"histogram2d\": [{\"colorbar\": {\"outlinewidth\": 0, \"ticks\": \"\"}, \"colorscale\": [[0.0, \"#0d0887\"], [0.1111111111111111, \"#46039f\"], [0.2222222222222222, \"#7201a8\"], [0.3333333333333333, \"#9c179e\"], [0.4444444444444444, \"#bd3786\"], [0.5555555555555556, \"#d8576b\"], [0.6666666666666666, \"#ed7953\"], [0.7777777777777778, \"#fb9f3a\"], [0.8888888888888888, \"#fdca26\"], [1.0, \"#f0f921\"]], \"type\": \"histogram2d\"}], \"histogram2dcontour\": [{\"colorbar\": {\"outlinewidth\": 0, \"ticks\": \"\"}, \"colorscale\": [[0.0, \"#0d0887\"], [0.1111111111111111, \"#46039f\"], [0.2222222222222222, \"#7201a8\"], [0.3333333333333333, \"#9c179e\"], [0.4444444444444444, \"#bd3786\"], [0.5555555555555556, \"#d8576b\"], [0.6666666666666666, \"#ed7953\"], [0.7777777777777778, \"#fb9f3a\"], [0.8888888888888888, \"#fdca26\"], [1.0, \"#f0f921\"]], \"type\": \"histogram2dcontour\"}], \"mesh3d\": [{\"colorbar\": {\"outlinewidth\": 0, \"ticks\": \"\"}, \"type\": \"mesh3d\"}], \"parcoords\": [{\"line\": {\"colorbar\": {\"outlinewidth\": 0, \"ticks\": \"\"}}, \"type\": \"parcoords\"}], \"pie\": [{\"automargin\": true, \"type\": \"pie\"}], \"scatter\": [{\"marker\": {\"colorbar\": {\"outlinewidth\": 0, \"ticks\": \"\"}}, \"type\": \"scatter\"}], \"scatter3d\": [{\"line\": {\"colorbar\": {\"outlinewidth\": 0, \"ticks\": \"\"}}, \"marker\": {\"colorbar\": {\"outlinewidth\": 0, \"ticks\": \"\"}}, \"type\": \"scatter3d\"}], \"scattercarpet\": [{\"marker\": {\"colorbar\": {\"outlinewidth\": 0, \"ticks\": \"\"}}, \"type\": \"scattercarpet\"}], \"scattergeo\": [{\"marker\": {\"colorbar\": {\"outlinewidth\": 0, \"ticks\": \"\"}}, \"type\": \"scattergeo\"}], \"scattergl\": [{\"marker\": {\"colorbar\": {\"outlinewidth\": 0, \"ticks\": \"\"}}, \"type\": \"scattergl\"}], \"scattermapbox\": [{\"marker\": {\"colorbar\": {\"outlinewidth\": 0, \"ticks\": \"\"}}, \"type\": \"scattermapbox\"}], \"scatterpolar\": [{\"marker\": {\"colorbar\": {\"outlinewidth\": 0, \"ticks\": \"\"}}, \"type\": \"scatterpolar\"}], \"scatterpolargl\": [{\"marker\": {\"colorbar\": {\"outlinewidth\": 0, \"ticks\": \"\"}}, \"type\": \"scatterpolargl\"}], \"scatterternary\": [{\"marker\": {\"colorbar\": {\"outlinewidth\": 0, \"ticks\": \"\"}}, \"type\": \"scatterternary\"}], \"surface\": [{\"colorbar\": {\"outlinewidth\": 0, \"ticks\": \"\"}, \"colorscale\": [[0.0, \"#0d0887\"], [0.1111111111111111, \"#46039f\"], [0.2222222222222222, \"#7201a8\"], [0.3333333333333333, \"#9c179e\"], [0.4444444444444444, \"#bd3786\"], [0.5555555555555556, \"#d8576b\"], [0.6666666666666666, \"#ed7953\"], [0.7777777777777778, \"#fb9f3a\"], [0.8888888888888888, \"#fdca26\"], [1.0, \"#f0f921\"]], \"type\": \"surface\"}], \"table\": [{\"cells\": {\"fill\": {\"color\": \"#EBF0F8\"}, \"line\": {\"color\": \"white\"}}, \"header\": {\"fill\": {\"color\": \"#C8D4E3\"}, \"line\": {\"color\": \"white\"}}, \"type\": \"table\"}]}, \"layout\": {\"annotationdefaults\": {\"arrowcolor\": \"#2a3f5f\", \"arrowhead\": 0, \"arrowwidth\": 1}, \"autotypenumbers\": \"strict\", \"coloraxis\": {\"colorbar\": {\"outlinewidth\": 0, \"ticks\": \"\"}}, \"colorscale\": {\"diverging\": [[0, \"#8e0152\"], [0.1, \"#c51b7d\"], [0.2, \"#de77ae\"], [0.3, \"#f1b6da\"], [0.4, \"#fde0ef\"], [0.5, \"#f7f7f7\"], [0.6, \"#e6f5d0\"], [0.7, \"#b8e186\"], [0.8, \"#7fbc41\"], [0.9, \"#4d9221\"], [1, \"#276419\"]], \"sequential\": [[0.0, \"#0d0887\"], [0.1111111111111111, \"#46039f\"], [0.2222222222222222, \"#7201a8\"], [0.3333333333333333, \"#9c179e\"], [0.4444444444444444, \"#bd3786\"], [0.5555555555555556, \"#d8576b\"], [0.6666666666666666, \"#ed7953\"], [0.7777777777777778, \"#fb9f3a\"], [0.8888888888888888, \"#fdca26\"], [1.0, \"#f0f921\"]], \"sequentialminus\": [[0.0, \"#0d0887\"], [0.1111111111111111, \"#46039f\"], [0.2222222222222222, \"#7201a8\"], [0.3333333333333333, \"#9c179e\"], [0.4444444444444444, \"#bd3786\"], [0.5555555555555556, \"#d8576b\"], [0.6666666666666666, \"#ed7953\"], [0.7777777777777778, \"#fb9f3a\"], [0.8888888888888888, \"#fdca26\"], [1.0, \"#f0f921\"]]}, \"colorway\": [\"#636efa\", \"#EF553B\", \"#00cc96\", \"#ab63fa\", \"#FFA15A\", \"#19d3f3\", \"#FF6692\", \"#B6E880\", \"#FF97FF\", \"#FECB52\"], \"font\": {\"color\": \"#2a3f5f\"}, \"geo\": {\"bgcolor\": \"white\", \"lakecolor\": \"white\", \"landcolor\": \"#E5ECF6\", \"showlakes\": true, \"showland\": true, \"subunitcolor\": \"white\"}, \"hoverlabel\": {\"align\": \"left\"}, \"hovermode\": \"closest\", \"mapbox\": {\"style\": \"light\"}, \"paper_bgcolor\": \"white\", \"plot_bgcolor\": \"#E5ECF6\", \"polar\": {\"angularaxis\": {\"gridcolor\": \"white\", \"linecolor\": \"white\", \"ticks\": \"\"}, \"bgcolor\": \"#E5ECF6\", \"radialaxis\": {\"gridcolor\": \"white\", \"linecolor\": \"white\", \"ticks\": \"\"}}, \"scene\": {\"xaxis\": {\"backgroundcolor\": \"#E5ECF6\", \"gridcolor\": \"white\", \"gridwidth\": 2, \"linecolor\": \"white\", \"showbackground\": true, \"ticks\": \"\", \"zerolinecolor\": \"white\"}, \"yaxis\": {\"backgroundcolor\": \"#E5ECF6\", \"gridcolor\": \"white\", \"gridwidth\": 2, \"linecolor\": \"white\", \"showbackground\": true, \"ticks\": \"\", \"zerolinecolor\": \"white\"}, \"zaxis\": {\"backgroundcolor\": \"#E5ECF6\", \"gridcolor\": \"white\", \"gridwidth\": 2, \"linecolor\": \"white\", \"showbackground\": true, \"ticks\": \"\", \"zerolinecolor\": \"white\"}}, \"shapedefaults\": {\"line\": {\"color\": \"#2a3f5f\"}}, \"ternary\": {\"aaxis\": {\"gridcolor\": \"white\", \"linecolor\": \"white\", \"ticks\": \"\"}, \"baxis\": {\"gridcolor\": \"white\", \"linecolor\": \"white\", \"ticks\": \"\"}, \"bgcolor\": \"#E5ECF6\", \"caxis\": {\"gridcolor\": \"white\", \"linecolor\": \"white\", \"ticks\": \"\"}}, \"title\": {\"x\": 0.05}, \"xaxis\": {\"automargin\": true, \"gridcolor\": \"white\", \"linecolor\": \"white\", \"ticks\": \"\", \"title\": {\"standoff\": 15}, \"zerolinecolor\": \"white\", \"zerolinewidth\": 2}, \"yaxis\": {\"automargin\": true, \"gridcolor\": \"white\", \"linecolor\": \"white\", \"ticks\": \"\", \"title\": {\"standoff\": 15}, \"zerolinecolor\": \"white\", \"zerolinewidth\": 2}}}, \"title\": {\"font\": {\"color\": \"#4D5663\"}}, \"xaxis\": {\"gridcolor\": \"#E1E5ED\", \"showgrid\": true, \"tickfont\": {\"color\": \"#4D5663\"}, \"title\": {\"font\": {\"color\": \"#4D5663\"}, \"text\": \"\"}, \"zerolinecolor\": \"#E1E5ED\"}, \"xaxis2\": {\"anchor\": \"y2\", \"gridcolor\": \"#E1E5ED\", \"showgrid\": true, \"showticklabels\": false, \"tickfont\": {\"color\": \"#4D5663\"}, \"title\": {\"font\": {\"color\": \"#4D5663\"}, \"text\": \"\"}, \"zerolinecolor\": \"#E1E5ED\"}, \"yaxis\": {\"domain\": [0.3, 1], \"gridcolor\": \"#E1E5ED\", \"showgrid\": true, \"tickfont\": {\"color\": \"#4D5663\"}, \"title\": {\"font\": {\"color\": \"#4D5663\"}, \"text\": \"\"}, \"zerolinecolor\": \"#E1E5ED\"}, \"yaxis2\": {\"domain\": [0, 0.25], \"gridcolor\": \"#E1E5ED\", \"showgrid\": true, \"tickfont\": {\"color\": \"#4D5663\"}, \"title\": {\"font\": {\"color\": \"#4D5663\"}, \"text\": \"Spread\"}, \"zerolinecolor\": \"#E1E5ED\"}},                        {\"showLink\": true, \"linkText\": \"Export to plot.ly\", \"plotlyServerURL\": \"https://plot.ly\", \"responsive\": true}                    ).then(function(){\n",
       "                            \n",
       "var gd = document.getElementById('fa5dcc39-b72e-44a5-808e-e37cb08a6745');\n",
       "var x = new MutationObserver(function (mutations, observer) {{\n",
       "        var display = window.getComputedStyle(gd).display;\n",
       "        if (!display || display === 'none') {{\n",
       "            console.log([gd, 'removed!']);\n",
       "            Plotly.purge(gd);\n",
       "            observer.disconnect();\n",
       "        }}\n",
       "}});\n",
       "\n",
       "// Listen for the removal of the full notebook cells\n",
       "var notebookContainer = gd.closest('#notebook-container');\n",
       "if (notebookContainer) {{\n",
       "    x.observe(notebookContainer, {childList: true});\n",
       "}}\n",
       "\n",
       "// Listen for the clearing of the current output cell\n",
       "var outputEl = gd.closest('.output');\n",
       "if (outputEl) {{\n",
       "    x.observe(outputEl, {childList: true});\n",
       "}}\n",
       "\n",
       "                        })                };                });            </script>        </div>"
      ]
     },
     "metadata": {},
     "output_type": "display_data"
    }
   ],
   "source": [
    "df[['A','B']].iplot(kind='spread')"
   ]
  },
  {
   "cell_type": "markdown",
   "metadata": {},
   "source": [
    "## histogram"
   ]
  },
  {
   "cell_type": "code",
   "execution_count": 37,
   "metadata": {},
   "outputs": [
    {
     "data": {
      "application/vnd.plotly.v1+json": {
       "config": {
        "linkText": "Export to plot.ly",
        "plotlyServerURL": "https://plot.ly",
        "showLink": true
       },
       "data": [
        {
         "histfunc": "count",
         "histnorm": "",
         "marker": {
          "color": "rgba(255, 153, 51, 1.0)",
          "line": {
           "color": "#4D5663",
           "width": 1.3
          }
         },
         "name": "A",
         "nbinsx": 40,
         "opacity": 0.8,
         "orientation": "v",
         "type": "histogram",
         "x": [
          1.3053331208646823,
          0.07060102470828908,
          -0.6273942586787559,
          0.004262752916752885,
          0.33269698893402844,
          0.6381332330436322,
          0.24953082585115638,
          -0.6635050291288116,
          0.6835631662903746,
          1.5770846419984614,
          -0.7726922422354031,
          -1.5429400180576067,
          1.642265245249487,
          1.549569141247283,
          0.39315117339191485,
          -1.0431315642162016,
          -1.6252231516066178,
          -0.7916527971842998,
          -1.2890079772656593,
          1.004418500310948,
          -0.5589136128780355,
          -0.4640747763041346,
          -0.11171786422902721,
          -0.5238320954092597,
          0.1820717288832561,
          -0.5068920760994189,
          -1.1323219804508442,
          -0.7093625848097523,
          1.282583461177605,
          0.28798853552936154,
          -1.4492261527593004,
          0.08019857924561238,
          -0.42663887160206737,
          0.007713262320147132,
          -0.22995729291620196,
          -0.4031456406612522,
          -0.520817758793495,
          0.4870015471035602,
          -0.6952836830641216,
          -1.9672774602854737,
          0.38333036655448166,
          1.012267251684254,
          0.9487347479148777,
          -0.29387374329485316,
          1.4875276905637784,
          -1.138740644536728,
          0.7328102520111326,
          -0.5071328091386446,
          -2.0036048993620366,
          -0.7074874948843983,
          -0.019357493238301663,
          1.4218962031981197,
          0.3919582635466916,
          0.4765901721878717,
          0.9078347526694567,
          1.349785021124678,
          -0.6442803590411373,
          -0.8157384640894977,
          0.8545751271642288,
          0.02732970739246397,
          -1.4086507135676758,
          -1.1615326955464176,
          0.5517476029061444,
          1.1970464152783742,
          1.4125656926621974,
          -2.134655033934945,
          -0.8013651102182543,
          0.5338316611515622,
          0.4753333994537918,
          0.621567058825844,
          0.6197471909583855,
          -0.2539684802411737,
          0.5689993204185823,
          -0.1504093600239531,
          -1.2348996150044766,
          0.6268715019805275,
          1.6253285667166122,
          0.55108332992706,
          1.007159727247772,
          -0.2771771604910772,
          -0.4905496435780057,
          -1.7000675214060434,
          0.40701724765290015,
          0.16990459238652522,
          0.2563952626726051,
          -0.04783612625895467,
          1.7431600405645302,
          -0.6657261253325057,
          -1.5724136533368314,
          2.4612522037080176,
          0.1107107364017812,
          1.001711399428715,
          1.1070976428117987,
          -0.9770487545161375,
          -0.6507292296440169,
          3.143184255064228,
          -0.32664015028959437,
          0.5862206865519192,
          -0.4425622602749207,
          -0.1804513064053195
         ]
        }
       ],
       "layout": {
        "barmode": "overlay",
        "legend": {
         "bgcolor": "#F5F6F9",
         "font": {
          "color": "#4D5663"
         }
        },
        "paper_bgcolor": "#F5F6F9",
        "plot_bgcolor": "#F5F6F9",
        "template": {
         "data": {
          "bar": [
           {
            "error_x": {
             "color": "#2a3f5f"
            },
            "error_y": {
             "color": "#2a3f5f"
            },
            "marker": {
             "line": {
              "color": "#E5ECF6",
              "width": 0.5
             }
            },
            "type": "bar"
           }
          ],
          "barpolar": [
           {
            "marker": {
             "line": {
              "color": "#E5ECF6",
              "width": 0.5
             }
            },
            "type": "barpolar"
           }
          ],
          "carpet": [
           {
            "aaxis": {
             "endlinecolor": "#2a3f5f",
             "gridcolor": "white",
             "linecolor": "white",
             "minorgridcolor": "white",
             "startlinecolor": "#2a3f5f"
            },
            "baxis": {
             "endlinecolor": "#2a3f5f",
             "gridcolor": "white",
             "linecolor": "white",
             "minorgridcolor": "white",
             "startlinecolor": "#2a3f5f"
            },
            "type": "carpet"
           }
          ],
          "choropleth": [
           {
            "colorbar": {
             "outlinewidth": 0,
             "ticks": ""
            },
            "type": "choropleth"
           }
          ],
          "contour": [
           {
            "colorbar": {
             "outlinewidth": 0,
             "ticks": ""
            },
            "colorscale": [
             [
              0,
              "#0d0887"
             ],
             [
              0.1111111111111111,
              "#46039f"
             ],
             [
              0.2222222222222222,
              "#7201a8"
             ],
             [
              0.3333333333333333,
              "#9c179e"
             ],
             [
              0.4444444444444444,
              "#bd3786"
             ],
             [
              0.5555555555555556,
              "#d8576b"
             ],
             [
              0.6666666666666666,
              "#ed7953"
             ],
             [
              0.7777777777777778,
              "#fb9f3a"
             ],
             [
              0.8888888888888888,
              "#fdca26"
             ],
             [
              1,
              "#f0f921"
             ]
            ],
            "type": "contour"
           }
          ],
          "contourcarpet": [
           {
            "colorbar": {
             "outlinewidth": 0,
             "ticks": ""
            },
            "type": "contourcarpet"
           }
          ],
          "heatmap": [
           {
            "colorbar": {
             "outlinewidth": 0,
             "ticks": ""
            },
            "colorscale": [
             [
              0,
              "#0d0887"
             ],
             [
              0.1111111111111111,
              "#46039f"
             ],
             [
              0.2222222222222222,
              "#7201a8"
             ],
             [
              0.3333333333333333,
              "#9c179e"
             ],
             [
              0.4444444444444444,
              "#bd3786"
             ],
             [
              0.5555555555555556,
              "#d8576b"
             ],
             [
              0.6666666666666666,
              "#ed7953"
             ],
             [
              0.7777777777777778,
              "#fb9f3a"
             ],
             [
              0.8888888888888888,
              "#fdca26"
             ],
             [
              1,
              "#f0f921"
             ]
            ],
            "type": "heatmap"
           }
          ],
          "heatmapgl": [
           {
            "colorbar": {
             "outlinewidth": 0,
             "ticks": ""
            },
            "colorscale": [
             [
              0,
              "#0d0887"
             ],
             [
              0.1111111111111111,
              "#46039f"
             ],
             [
              0.2222222222222222,
              "#7201a8"
             ],
             [
              0.3333333333333333,
              "#9c179e"
             ],
             [
              0.4444444444444444,
              "#bd3786"
             ],
             [
              0.5555555555555556,
              "#d8576b"
             ],
             [
              0.6666666666666666,
              "#ed7953"
             ],
             [
              0.7777777777777778,
              "#fb9f3a"
             ],
             [
              0.8888888888888888,
              "#fdca26"
             ],
             [
              1,
              "#f0f921"
             ]
            ],
            "type": "heatmapgl"
           }
          ],
          "histogram": [
           {
            "marker": {
             "colorbar": {
              "outlinewidth": 0,
              "ticks": ""
             }
            },
            "type": "histogram"
           }
          ],
          "histogram2d": [
           {
            "colorbar": {
             "outlinewidth": 0,
             "ticks": ""
            },
            "colorscale": [
             [
              0,
              "#0d0887"
             ],
             [
              0.1111111111111111,
              "#46039f"
             ],
             [
              0.2222222222222222,
              "#7201a8"
             ],
             [
              0.3333333333333333,
              "#9c179e"
             ],
             [
              0.4444444444444444,
              "#bd3786"
             ],
             [
              0.5555555555555556,
              "#d8576b"
             ],
             [
              0.6666666666666666,
              "#ed7953"
             ],
             [
              0.7777777777777778,
              "#fb9f3a"
             ],
             [
              0.8888888888888888,
              "#fdca26"
             ],
             [
              1,
              "#f0f921"
             ]
            ],
            "type": "histogram2d"
           }
          ],
          "histogram2dcontour": [
           {
            "colorbar": {
             "outlinewidth": 0,
             "ticks": ""
            },
            "colorscale": [
             [
              0,
              "#0d0887"
             ],
             [
              0.1111111111111111,
              "#46039f"
             ],
             [
              0.2222222222222222,
              "#7201a8"
             ],
             [
              0.3333333333333333,
              "#9c179e"
             ],
             [
              0.4444444444444444,
              "#bd3786"
             ],
             [
              0.5555555555555556,
              "#d8576b"
             ],
             [
              0.6666666666666666,
              "#ed7953"
             ],
             [
              0.7777777777777778,
              "#fb9f3a"
             ],
             [
              0.8888888888888888,
              "#fdca26"
             ],
             [
              1,
              "#f0f921"
             ]
            ],
            "type": "histogram2dcontour"
           }
          ],
          "mesh3d": [
           {
            "colorbar": {
             "outlinewidth": 0,
             "ticks": ""
            },
            "type": "mesh3d"
           }
          ],
          "parcoords": [
           {
            "line": {
             "colorbar": {
              "outlinewidth": 0,
              "ticks": ""
             }
            },
            "type": "parcoords"
           }
          ],
          "pie": [
           {
            "automargin": true,
            "type": "pie"
           }
          ],
          "scatter": [
           {
            "marker": {
             "colorbar": {
              "outlinewidth": 0,
              "ticks": ""
             }
            },
            "type": "scatter"
           }
          ],
          "scatter3d": [
           {
            "line": {
             "colorbar": {
              "outlinewidth": 0,
              "ticks": ""
             }
            },
            "marker": {
             "colorbar": {
              "outlinewidth": 0,
              "ticks": ""
             }
            },
            "type": "scatter3d"
           }
          ],
          "scattercarpet": [
           {
            "marker": {
             "colorbar": {
              "outlinewidth": 0,
              "ticks": ""
             }
            },
            "type": "scattercarpet"
           }
          ],
          "scattergeo": [
           {
            "marker": {
             "colorbar": {
              "outlinewidth": 0,
              "ticks": ""
             }
            },
            "type": "scattergeo"
           }
          ],
          "scattergl": [
           {
            "marker": {
             "colorbar": {
              "outlinewidth": 0,
              "ticks": ""
             }
            },
            "type": "scattergl"
           }
          ],
          "scattermapbox": [
           {
            "marker": {
             "colorbar": {
              "outlinewidth": 0,
              "ticks": ""
             }
            },
            "type": "scattermapbox"
           }
          ],
          "scatterpolar": [
           {
            "marker": {
             "colorbar": {
              "outlinewidth": 0,
              "ticks": ""
             }
            },
            "type": "scatterpolar"
           }
          ],
          "scatterpolargl": [
           {
            "marker": {
             "colorbar": {
              "outlinewidth": 0,
              "ticks": ""
             }
            },
            "type": "scatterpolargl"
           }
          ],
          "scatterternary": [
           {
            "marker": {
             "colorbar": {
              "outlinewidth": 0,
              "ticks": ""
             }
            },
            "type": "scatterternary"
           }
          ],
          "surface": [
           {
            "colorbar": {
             "outlinewidth": 0,
             "ticks": ""
            },
            "colorscale": [
             [
              0,
              "#0d0887"
             ],
             [
              0.1111111111111111,
              "#46039f"
             ],
             [
              0.2222222222222222,
              "#7201a8"
             ],
             [
              0.3333333333333333,
              "#9c179e"
             ],
             [
              0.4444444444444444,
              "#bd3786"
             ],
             [
              0.5555555555555556,
              "#d8576b"
             ],
             [
              0.6666666666666666,
              "#ed7953"
             ],
             [
              0.7777777777777778,
              "#fb9f3a"
             ],
             [
              0.8888888888888888,
              "#fdca26"
             ],
             [
              1,
              "#f0f921"
             ]
            ],
            "type": "surface"
           }
          ],
          "table": [
           {
            "cells": {
             "fill": {
              "color": "#EBF0F8"
             },
             "line": {
              "color": "white"
             }
            },
            "header": {
             "fill": {
              "color": "#C8D4E3"
             },
             "line": {
              "color": "white"
             }
            },
            "type": "table"
           }
          ]
         },
         "layout": {
          "annotationdefaults": {
           "arrowcolor": "#2a3f5f",
           "arrowhead": 0,
           "arrowwidth": 1
          },
          "autotypenumbers": "strict",
          "coloraxis": {
           "colorbar": {
            "outlinewidth": 0,
            "ticks": ""
           }
          },
          "colorscale": {
           "diverging": [
            [
             0,
             "#8e0152"
            ],
            [
             0.1,
             "#c51b7d"
            ],
            [
             0.2,
             "#de77ae"
            ],
            [
             0.3,
             "#f1b6da"
            ],
            [
             0.4,
             "#fde0ef"
            ],
            [
             0.5,
             "#f7f7f7"
            ],
            [
             0.6,
             "#e6f5d0"
            ],
            [
             0.7,
             "#b8e186"
            ],
            [
             0.8,
             "#7fbc41"
            ],
            [
             0.9,
             "#4d9221"
            ],
            [
             1,
             "#276419"
            ]
           ],
           "sequential": [
            [
             0,
             "#0d0887"
            ],
            [
             0.1111111111111111,
             "#46039f"
            ],
            [
             0.2222222222222222,
             "#7201a8"
            ],
            [
             0.3333333333333333,
             "#9c179e"
            ],
            [
             0.4444444444444444,
             "#bd3786"
            ],
            [
             0.5555555555555556,
             "#d8576b"
            ],
            [
             0.6666666666666666,
             "#ed7953"
            ],
            [
             0.7777777777777778,
             "#fb9f3a"
            ],
            [
             0.8888888888888888,
             "#fdca26"
            ],
            [
             1,
             "#f0f921"
            ]
           ],
           "sequentialminus": [
            [
             0,
             "#0d0887"
            ],
            [
             0.1111111111111111,
             "#46039f"
            ],
            [
             0.2222222222222222,
             "#7201a8"
            ],
            [
             0.3333333333333333,
             "#9c179e"
            ],
            [
             0.4444444444444444,
             "#bd3786"
            ],
            [
             0.5555555555555556,
             "#d8576b"
            ],
            [
             0.6666666666666666,
             "#ed7953"
            ],
            [
             0.7777777777777778,
             "#fb9f3a"
            ],
            [
             0.8888888888888888,
             "#fdca26"
            ],
            [
             1,
             "#f0f921"
            ]
           ]
          },
          "colorway": [
           "#636efa",
           "#EF553B",
           "#00cc96",
           "#ab63fa",
           "#FFA15A",
           "#19d3f3",
           "#FF6692",
           "#B6E880",
           "#FF97FF",
           "#FECB52"
          ],
          "font": {
           "color": "#2a3f5f"
          },
          "geo": {
           "bgcolor": "white",
           "lakecolor": "white",
           "landcolor": "#E5ECF6",
           "showlakes": true,
           "showland": true,
           "subunitcolor": "white"
          },
          "hoverlabel": {
           "align": "left"
          },
          "hovermode": "closest",
          "mapbox": {
           "style": "light"
          },
          "paper_bgcolor": "white",
          "plot_bgcolor": "#E5ECF6",
          "polar": {
           "angularaxis": {
            "gridcolor": "white",
            "linecolor": "white",
            "ticks": ""
           },
           "bgcolor": "#E5ECF6",
           "radialaxis": {
            "gridcolor": "white",
            "linecolor": "white",
            "ticks": ""
           }
          },
          "scene": {
           "xaxis": {
            "backgroundcolor": "#E5ECF6",
            "gridcolor": "white",
            "gridwidth": 2,
            "linecolor": "white",
            "showbackground": true,
            "ticks": "",
            "zerolinecolor": "white"
           },
           "yaxis": {
            "backgroundcolor": "#E5ECF6",
            "gridcolor": "white",
            "gridwidth": 2,
            "linecolor": "white",
            "showbackground": true,
            "ticks": "",
            "zerolinecolor": "white"
           },
           "zaxis": {
            "backgroundcolor": "#E5ECF6",
            "gridcolor": "white",
            "gridwidth": 2,
            "linecolor": "white",
            "showbackground": true,
            "ticks": "",
            "zerolinecolor": "white"
           }
          },
          "shapedefaults": {
           "line": {
            "color": "#2a3f5f"
           }
          },
          "ternary": {
           "aaxis": {
            "gridcolor": "white",
            "linecolor": "white",
            "ticks": ""
           },
           "baxis": {
            "gridcolor": "white",
            "linecolor": "white",
            "ticks": ""
           },
           "bgcolor": "#E5ECF6",
           "caxis": {
            "gridcolor": "white",
            "linecolor": "white",
            "ticks": ""
           }
          },
          "title": {
           "x": 0.05
          },
          "xaxis": {
           "automargin": true,
           "gridcolor": "white",
           "linecolor": "white",
           "ticks": "",
           "title": {
            "standoff": 15
           },
           "zerolinecolor": "white",
           "zerolinewidth": 2
          },
          "yaxis": {
           "automargin": true,
           "gridcolor": "white",
           "linecolor": "white",
           "ticks": "",
           "title": {
            "standoff": 15
           },
           "zerolinecolor": "white",
           "zerolinewidth": 2
          }
         }
        },
        "title": {
         "font": {
          "color": "#4D5663"
         }
        },
        "xaxis": {
         "gridcolor": "#E1E5ED",
         "showgrid": true,
         "tickfont": {
          "color": "#4D5663"
         },
         "title": {
          "font": {
           "color": "#4D5663"
          },
          "text": ""
         },
         "zerolinecolor": "#E1E5ED"
        },
        "yaxis": {
         "gridcolor": "#E1E5ED",
         "showgrid": true,
         "tickfont": {
          "color": "#4D5663"
         },
         "title": {
          "font": {
           "color": "#4D5663"
          },
          "text": ""
         },
         "zerolinecolor": "#E1E5ED"
        }
       }
      },
      "text/html": [
       "<div>                            <div id=\"b85cdc7e-c1f5-4115-975d-143a2cabc65f\" class=\"plotly-graph-div\" style=\"height:525px; width:100%;\"></div>            <script type=\"text/javascript\">                require([\"plotly\"], function(Plotly) {                    window.PLOTLYENV=window.PLOTLYENV || {};\n",
       "                    window.PLOTLYENV.BASE_URL='https://plot.ly';                                    if (document.getElementById(\"b85cdc7e-c1f5-4115-975d-143a2cabc65f\")) {                    Plotly.newPlot(                        \"b85cdc7e-c1f5-4115-975d-143a2cabc65f\",                        [{\"histfunc\": \"count\", \"histnorm\": \"\", \"marker\": {\"color\": \"rgba(255, 153, 51, 1.0)\", \"line\": {\"color\": \"#4D5663\", \"width\": 1.3}}, \"name\": \"A\", \"nbinsx\": 40, \"opacity\": 0.8, \"orientation\": \"v\", \"type\": \"histogram\", \"x\": [1.3053331208646823, 0.07060102470828908, -0.6273942586787559, 0.004262752916752885, 0.33269698893402844, 0.6381332330436322, 0.24953082585115638, -0.6635050291288116, 0.6835631662903746, 1.5770846419984614, -0.7726922422354031, -1.5429400180576067, 1.642265245249487, 1.549569141247283, 0.39315117339191485, -1.0431315642162016, -1.6252231516066178, -0.7916527971842998, -1.2890079772656593, 1.004418500310948, -0.5589136128780355, -0.4640747763041346, -0.11171786422902721, -0.5238320954092597, 0.1820717288832561, -0.5068920760994189, -1.1323219804508442, -0.7093625848097523, 1.282583461177605, 0.28798853552936154, -1.4492261527593004, 0.08019857924561238, -0.42663887160206737, 0.007713262320147132, -0.22995729291620196, -0.4031456406612522, -0.520817758793495, 0.4870015471035602, -0.6952836830641216, -1.9672774602854737, 0.38333036655448166, 1.012267251684254, 0.9487347479148777, -0.29387374329485316, 1.4875276905637784, -1.138740644536728, 0.7328102520111326, -0.5071328091386446, -2.0036048993620366, -0.7074874948843983, -0.019357493238301663, 1.4218962031981197, 0.3919582635466916, 0.4765901721878717, 0.9078347526694567, 1.349785021124678, -0.6442803590411373, -0.8157384640894977, 0.8545751271642288, 0.02732970739246397, -1.4086507135676758, -1.1615326955464176, 0.5517476029061444, 1.1970464152783742, 1.4125656926621974, -2.134655033934945, -0.8013651102182543, 0.5338316611515622, 0.4753333994537918, 0.621567058825844, 0.6197471909583855, -0.2539684802411737, 0.5689993204185823, -0.1504093600239531, -1.2348996150044766, 0.6268715019805275, 1.6253285667166122, 0.55108332992706, 1.007159727247772, -0.2771771604910772, -0.4905496435780057, -1.7000675214060434, 0.40701724765290015, 0.16990459238652522, 0.2563952626726051, -0.04783612625895467, 1.7431600405645302, -0.6657261253325057, -1.5724136533368314, 2.4612522037080176, 0.1107107364017812, 1.001711399428715, 1.1070976428117987, -0.9770487545161375, -0.6507292296440169, 3.143184255064228, -0.32664015028959437, 0.5862206865519192, -0.4425622602749207, -0.1804513064053195]}],                        {\"barmode\": \"overlay\", \"legend\": {\"bgcolor\": \"#F5F6F9\", \"font\": {\"color\": \"#4D5663\"}}, \"paper_bgcolor\": \"#F5F6F9\", \"plot_bgcolor\": \"#F5F6F9\", \"template\": {\"data\": {\"bar\": [{\"error_x\": {\"color\": \"#2a3f5f\"}, \"error_y\": {\"color\": \"#2a3f5f\"}, \"marker\": {\"line\": {\"color\": \"#E5ECF6\", \"width\": 0.5}}, \"type\": \"bar\"}], \"barpolar\": [{\"marker\": {\"line\": {\"color\": \"#E5ECF6\", \"width\": 0.5}}, \"type\": \"barpolar\"}], \"carpet\": [{\"aaxis\": {\"endlinecolor\": \"#2a3f5f\", \"gridcolor\": \"white\", \"linecolor\": \"white\", \"minorgridcolor\": \"white\", \"startlinecolor\": \"#2a3f5f\"}, \"baxis\": {\"endlinecolor\": \"#2a3f5f\", \"gridcolor\": \"white\", \"linecolor\": \"white\", \"minorgridcolor\": \"white\", \"startlinecolor\": \"#2a3f5f\"}, \"type\": \"carpet\"}], \"choropleth\": [{\"colorbar\": {\"outlinewidth\": 0, \"ticks\": \"\"}, \"type\": \"choropleth\"}], \"contour\": [{\"colorbar\": {\"outlinewidth\": 0, \"ticks\": \"\"}, \"colorscale\": [[0.0, \"#0d0887\"], [0.1111111111111111, \"#46039f\"], [0.2222222222222222, \"#7201a8\"], [0.3333333333333333, \"#9c179e\"], [0.4444444444444444, \"#bd3786\"], [0.5555555555555556, \"#d8576b\"], [0.6666666666666666, \"#ed7953\"], [0.7777777777777778, \"#fb9f3a\"], [0.8888888888888888, \"#fdca26\"], [1.0, \"#f0f921\"]], \"type\": \"contour\"}], \"contourcarpet\": [{\"colorbar\": {\"outlinewidth\": 0, \"ticks\": \"\"}, \"type\": \"contourcarpet\"}], \"heatmap\": [{\"colorbar\": {\"outlinewidth\": 0, \"ticks\": \"\"}, \"colorscale\": [[0.0, \"#0d0887\"], [0.1111111111111111, \"#46039f\"], [0.2222222222222222, \"#7201a8\"], [0.3333333333333333, \"#9c179e\"], [0.4444444444444444, \"#bd3786\"], [0.5555555555555556, \"#d8576b\"], [0.6666666666666666, \"#ed7953\"], [0.7777777777777778, \"#fb9f3a\"], [0.8888888888888888, \"#fdca26\"], [1.0, \"#f0f921\"]], \"type\": \"heatmap\"}], \"heatmapgl\": [{\"colorbar\": {\"outlinewidth\": 0, \"ticks\": \"\"}, \"colorscale\": [[0.0, \"#0d0887\"], [0.1111111111111111, \"#46039f\"], [0.2222222222222222, \"#7201a8\"], [0.3333333333333333, \"#9c179e\"], [0.4444444444444444, \"#bd3786\"], [0.5555555555555556, \"#d8576b\"], [0.6666666666666666, \"#ed7953\"], [0.7777777777777778, \"#fb9f3a\"], [0.8888888888888888, \"#fdca26\"], [1.0, \"#f0f921\"]], \"type\": \"heatmapgl\"}], \"histogram\": [{\"marker\": {\"colorbar\": {\"outlinewidth\": 0, \"ticks\": \"\"}}, \"type\": \"histogram\"}], \"histogram2d\": [{\"colorbar\": {\"outlinewidth\": 0, \"ticks\": \"\"}, \"colorscale\": [[0.0, \"#0d0887\"], [0.1111111111111111, \"#46039f\"], [0.2222222222222222, \"#7201a8\"], [0.3333333333333333, \"#9c179e\"], [0.4444444444444444, \"#bd3786\"], [0.5555555555555556, \"#d8576b\"], [0.6666666666666666, \"#ed7953\"], [0.7777777777777778, \"#fb9f3a\"], [0.8888888888888888, \"#fdca26\"], [1.0, \"#f0f921\"]], \"type\": \"histogram2d\"}], \"histogram2dcontour\": [{\"colorbar\": {\"outlinewidth\": 0, \"ticks\": \"\"}, \"colorscale\": [[0.0, \"#0d0887\"], [0.1111111111111111, \"#46039f\"], [0.2222222222222222, \"#7201a8\"], [0.3333333333333333, \"#9c179e\"], [0.4444444444444444, \"#bd3786\"], [0.5555555555555556, \"#d8576b\"], [0.6666666666666666, \"#ed7953\"], [0.7777777777777778, \"#fb9f3a\"], [0.8888888888888888, \"#fdca26\"], [1.0, \"#f0f921\"]], \"type\": \"histogram2dcontour\"}], \"mesh3d\": [{\"colorbar\": {\"outlinewidth\": 0, \"ticks\": \"\"}, \"type\": \"mesh3d\"}], \"parcoords\": [{\"line\": {\"colorbar\": {\"outlinewidth\": 0, \"ticks\": \"\"}}, \"type\": \"parcoords\"}], \"pie\": [{\"automargin\": true, \"type\": \"pie\"}], \"scatter\": [{\"marker\": {\"colorbar\": {\"outlinewidth\": 0, \"ticks\": \"\"}}, \"type\": \"scatter\"}], \"scatter3d\": [{\"line\": {\"colorbar\": {\"outlinewidth\": 0, \"ticks\": \"\"}}, \"marker\": {\"colorbar\": {\"outlinewidth\": 0, \"ticks\": \"\"}}, \"type\": \"scatter3d\"}], \"scattercarpet\": [{\"marker\": {\"colorbar\": {\"outlinewidth\": 0, \"ticks\": \"\"}}, \"type\": \"scattercarpet\"}], \"scattergeo\": [{\"marker\": {\"colorbar\": {\"outlinewidth\": 0, \"ticks\": \"\"}}, \"type\": \"scattergeo\"}], \"scattergl\": [{\"marker\": {\"colorbar\": {\"outlinewidth\": 0, \"ticks\": \"\"}}, \"type\": \"scattergl\"}], \"scattermapbox\": [{\"marker\": {\"colorbar\": {\"outlinewidth\": 0, \"ticks\": \"\"}}, \"type\": \"scattermapbox\"}], \"scatterpolar\": [{\"marker\": {\"colorbar\": {\"outlinewidth\": 0, \"ticks\": \"\"}}, \"type\": \"scatterpolar\"}], \"scatterpolargl\": [{\"marker\": {\"colorbar\": {\"outlinewidth\": 0, \"ticks\": \"\"}}, \"type\": \"scatterpolargl\"}], \"scatterternary\": [{\"marker\": {\"colorbar\": {\"outlinewidth\": 0, \"ticks\": \"\"}}, \"type\": \"scatterternary\"}], \"surface\": [{\"colorbar\": {\"outlinewidth\": 0, \"ticks\": \"\"}, \"colorscale\": [[0.0, \"#0d0887\"], [0.1111111111111111, \"#46039f\"], [0.2222222222222222, \"#7201a8\"], [0.3333333333333333, \"#9c179e\"], [0.4444444444444444, \"#bd3786\"], [0.5555555555555556, \"#d8576b\"], [0.6666666666666666, \"#ed7953\"], [0.7777777777777778, \"#fb9f3a\"], [0.8888888888888888, \"#fdca26\"], [1.0, \"#f0f921\"]], \"type\": \"surface\"}], \"table\": [{\"cells\": {\"fill\": {\"color\": \"#EBF0F8\"}, \"line\": {\"color\": \"white\"}}, \"header\": {\"fill\": {\"color\": \"#C8D4E3\"}, \"line\": {\"color\": \"white\"}}, \"type\": \"table\"}]}, \"layout\": {\"annotationdefaults\": {\"arrowcolor\": \"#2a3f5f\", \"arrowhead\": 0, \"arrowwidth\": 1}, \"autotypenumbers\": \"strict\", \"coloraxis\": {\"colorbar\": {\"outlinewidth\": 0, \"ticks\": \"\"}}, \"colorscale\": {\"diverging\": [[0, \"#8e0152\"], [0.1, \"#c51b7d\"], [0.2, \"#de77ae\"], [0.3, \"#f1b6da\"], [0.4, \"#fde0ef\"], [0.5, \"#f7f7f7\"], [0.6, \"#e6f5d0\"], [0.7, \"#b8e186\"], [0.8, \"#7fbc41\"], [0.9, \"#4d9221\"], [1, \"#276419\"]], \"sequential\": [[0.0, \"#0d0887\"], [0.1111111111111111, \"#46039f\"], [0.2222222222222222, \"#7201a8\"], [0.3333333333333333, \"#9c179e\"], [0.4444444444444444, \"#bd3786\"], [0.5555555555555556, \"#d8576b\"], [0.6666666666666666, \"#ed7953\"], [0.7777777777777778, \"#fb9f3a\"], [0.8888888888888888, \"#fdca26\"], [1.0, \"#f0f921\"]], \"sequentialminus\": [[0.0, \"#0d0887\"], [0.1111111111111111, \"#46039f\"], [0.2222222222222222, \"#7201a8\"], [0.3333333333333333, \"#9c179e\"], [0.4444444444444444, \"#bd3786\"], [0.5555555555555556, \"#d8576b\"], [0.6666666666666666, \"#ed7953\"], [0.7777777777777778, \"#fb9f3a\"], [0.8888888888888888, \"#fdca26\"], [1.0, \"#f0f921\"]]}, \"colorway\": [\"#636efa\", \"#EF553B\", \"#00cc96\", \"#ab63fa\", \"#FFA15A\", \"#19d3f3\", \"#FF6692\", \"#B6E880\", \"#FF97FF\", \"#FECB52\"], \"font\": {\"color\": \"#2a3f5f\"}, \"geo\": {\"bgcolor\": \"white\", \"lakecolor\": \"white\", \"landcolor\": \"#E5ECF6\", \"showlakes\": true, \"showland\": true, \"subunitcolor\": \"white\"}, \"hoverlabel\": {\"align\": \"left\"}, \"hovermode\": \"closest\", \"mapbox\": {\"style\": \"light\"}, \"paper_bgcolor\": \"white\", \"plot_bgcolor\": \"#E5ECF6\", \"polar\": {\"angularaxis\": {\"gridcolor\": \"white\", \"linecolor\": \"white\", \"ticks\": \"\"}, \"bgcolor\": \"#E5ECF6\", \"radialaxis\": {\"gridcolor\": \"white\", \"linecolor\": \"white\", \"ticks\": \"\"}}, \"scene\": {\"xaxis\": {\"backgroundcolor\": \"#E5ECF6\", \"gridcolor\": \"white\", \"gridwidth\": 2, \"linecolor\": \"white\", \"showbackground\": true, \"ticks\": \"\", \"zerolinecolor\": \"white\"}, \"yaxis\": {\"backgroundcolor\": \"#E5ECF6\", \"gridcolor\": \"white\", \"gridwidth\": 2, \"linecolor\": \"white\", \"showbackground\": true, \"ticks\": \"\", \"zerolinecolor\": \"white\"}, \"zaxis\": {\"backgroundcolor\": \"#E5ECF6\", \"gridcolor\": \"white\", \"gridwidth\": 2, \"linecolor\": \"white\", \"showbackground\": true, \"ticks\": \"\", \"zerolinecolor\": \"white\"}}, \"shapedefaults\": {\"line\": {\"color\": \"#2a3f5f\"}}, \"ternary\": {\"aaxis\": {\"gridcolor\": \"white\", \"linecolor\": \"white\", \"ticks\": \"\"}, \"baxis\": {\"gridcolor\": \"white\", \"linecolor\": \"white\", \"ticks\": \"\"}, \"bgcolor\": \"#E5ECF6\", \"caxis\": {\"gridcolor\": \"white\", \"linecolor\": \"white\", \"ticks\": \"\"}}, \"title\": {\"x\": 0.05}, \"xaxis\": {\"automargin\": true, \"gridcolor\": \"white\", \"linecolor\": \"white\", \"ticks\": \"\", \"title\": {\"standoff\": 15}, \"zerolinecolor\": \"white\", \"zerolinewidth\": 2}, \"yaxis\": {\"automargin\": true, \"gridcolor\": \"white\", \"linecolor\": \"white\", \"ticks\": \"\", \"title\": {\"standoff\": 15}, \"zerolinecolor\": \"white\", \"zerolinewidth\": 2}}}, \"title\": {\"font\": {\"color\": \"#4D5663\"}}, \"xaxis\": {\"gridcolor\": \"#E1E5ED\", \"showgrid\": true, \"tickfont\": {\"color\": \"#4D5663\"}, \"title\": {\"font\": {\"color\": \"#4D5663\"}, \"text\": \"\"}, \"zerolinecolor\": \"#E1E5ED\"}, \"yaxis\": {\"gridcolor\": \"#E1E5ED\", \"showgrid\": true, \"tickfont\": {\"color\": \"#4D5663\"}, \"title\": {\"font\": {\"color\": \"#4D5663\"}, \"text\": \"\"}, \"zerolinecolor\": \"#E1E5ED\"}},                        {\"showLink\": true, \"linkText\": \"Export to plot.ly\", \"plotlyServerURL\": \"https://plot.ly\", \"responsive\": true}                    ).then(function(){\n",
       "                            \n",
       "var gd = document.getElementById('b85cdc7e-c1f5-4115-975d-143a2cabc65f');\n",
       "var x = new MutationObserver(function (mutations, observer) {{\n",
       "        var display = window.getComputedStyle(gd).display;\n",
       "        if (!display || display === 'none') {{\n",
       "            console.log([gd, 'removed!']);\n",
       "            Plotly.purge(gd);\n",
       "            observer.disconnect();\n",
       "        }}\n",
       "}});\n",
       "\n",
       "// Listen for the removal of the full notebook cells\n",
       "var notebookContainer = gd.closest('#notebook-container');\n",
       "if (notebookContainer) {{\n",
       "    x.observe(notebookContainer, {childList: true});\n",
       "}}\n",
       "\n",
       "// Listen for the clearing of the current output cell\n",
       "var outputEl = gd.closest('.output');\n",
       "if (outputEl) {{\n",
       "    x.observe(outputEl, {childList: true});\n",
       "}}\n",
       "\n",
       "                        })                };                });            </script>        </div>"
      ]
     },
     "metadata": {},
     "output_type": "display_data"
    }
   ],
   "source": [
    "df['A'].iplot(kind='hist',bins=40)"
   ]
  },
  {
   "cell_type": "code",
   "execution_count": 38,
   "metadata": {},
   "outputs": [
    {
     "data": {
      "text/html": [
       "<div>\n",
       "<style scoped>\n",
       "    .dataframe tbody tr th:only-of-type {\n",
       "        vertical-align: middle;\n",
       "    }\n",
       "\n",
       "    .dataframe tbody tr th {\n",
       "        vertical-align: top;\n",
       "    }\n",
       "\n",
       "    .dataframe thead th {\n",
       "        text-align: right;\n",
       "    }\n",
       "</style>\n",
       "<table border=\"1\" class=\"dataframe\">\n",
       "  <thead>\n",
       "    <tr style=\"text-align: right;\">\n",
       "      <th></th>\n",
       "      <th>A</th>\n",
       "      <th>B</th>\n",
       "      <th>C</th>\n",
       "      <th>D</th>\n",
       "    </tr>\n",
       "  </thead>\n",
       "  <tbody>\n",
       "    <tr>\n",
       "      <td>0</td>\n",
       "      <td>1.305333</td>\n",
       "      <td>1.630947</td>\n",
       "      <td>-2.767458</td>\n",
       "      <td>-0.711695</td>\n",
       "    </tr>\n",
       "    <tr>\n",
       "      <td>1</td>\n",
       "      <td>0.070601</td>\n",
       "      <td>1.035336</td>\n",
       "      <td>-0.166698</td>\n",
       "      <td>1.368627</td>\n",
       "    </tr>\n",
       "    <tr>\n",
       "      <td>2</td>\n",
       "      <td>-0.627394</td>\n",
       "      <td>-0.803668</td>\n",
       "      <td>0.563468</td>\n",
       "      <td>-1.128332</td>\n",
       "    </tr>\n",
       "    <tr>\n",
       "      <td>3</td>\n",
       "      <td>0.004263</td>\n",
       "      <td>-0.639039</td>\n",
       "      <td>1.390048</td>\n",
       "      <td>0.245112</td>\n",
       "    </tr>\n",
       "    <tr>\n",
       "      <td>4</td>\n",
       "      <td>0.332697</td>\n",
       "      <td>0.017594</td>\n",
       "      <td>-1.107220</td>\n",
       "      <td>-0.574809</td>\n",
       "    </tr>\n",
       "    <tr>\n",
       "      <td>...</td>\n",
       "      <td>...</td>\n",
       "      <td>...</td>\n",
       "      <td>...</td>\n",
       "      <td>...</td>\n",
       "    </tr>\n",
       "    <tr>\n",
       "      <td>95</td>\n",
       "      <td>3.143184</td>\n",
       "      <td>-0.079043</td>\n",
       "      <td>1.130658</td>\n",
       "      <td>0.518152</td>\n",
       "    </tr>\n",
       "    <tr>\n",
       "      <td>96</td>\n",
       "      <td>-0.326640</td>\n",
       "      <td>-0.244866</td>\n",
       "      <td>1.101476</td>\n",
       "      <td>-2.208659</td>\n",
       "    </tr>\n",
       "    <tr>\n",
       "      <td>97</td>\n",
       "      <td>0.586221</td>\n",
       "      <td>-0.278496</td>\n",
       "      <td>0.495807</td>\n",
       "      <td>0.261342</td>\n",
       "    </tr>\n",
       "    <tr>\n",
       "      <td>98</td>\n",
       "      <td>-0.442562</td>\n",
       "      <td>-1.045489</td>\n",
       "      <td>-0.989024</td>\n",
       "      <td>-1.791157</td>\n",
       "    </tr>\n",
       "    <tr>\n",
       "      <td>99</td>\n",
       "      <td>-0.180451</td>\n",
       "      <td>2.073574</td>\n",
       "      <td>-0.180532</td>\n",
       "      <td>-1.869779</td>\n",
       "    </tr>\n",
       "  </tbody>\n",
       "</table>\n",
       "<p>100 rows × 4 columns</p>\n",
       "</div>"
      ],
      "text/plain": [
       "           A         B         C         D\n",
       "0   1.305333  1.630947 -2.767458 -0.711695\n",
       "1   0.070601  1.035336 -0.166698  1.368627\n",
       "2  -0.627394 -0.803668  0.563468 -1.128332\n",
       "3   0.004263 -0.639039  1.390048  0.245112\n",
       "4   0.332697  0.017594 -1.107220 -0.574809\n",
       "..       ...       ...       ...       ...\n",
       "95  3.143184 -0.079043  1.130658  0.518152\n",
       "96 -0.326640 -0.244866  1.101476 -2.208659\n",
       "97  0.586221 -0.278496  0.495807  0.261342\n",
       "98 -0.442562 -1.045489 -0.989024 -1.791157\n",
       "99 -0.180451  2.073574 -0.180532 -1.869779\n",
       "\n",
       "[100 rows x 4 columns]"
      ]
     },
     "execution_count": 38,
     "metadata": {},
     "output_type": "execute_result"
    }
   ],
   "source": [
    "df"
   ]
  },
  {
   "cell_type": "code",
   "execution_count": 18,
   "metadata": {},
   "outputs": [
    {
     "data": {
      "application/vnd.plotly.v1+json": {
       "config": {
        "linkText": "Export to plot.ly",
        "plotlyServerURL": "https://plot.ly",
        "showLink": true
       },
       "data": [
        {
         "marker": {
          "color": [
           "rgb(255, 153, 51)",
           "rgb(55, 128, 191)",
           "rgb(50, 171, 96)",
           "rgb(128, 0, 128)",
           "rgb(219, 64, 82)",
           "rgb(0, 128, 128)",
           "rgb(255, 255, 51)",
           "rgb(128, 128, 0)",
           "rgb(251, 128, 114)",
           "rgb(128, 177, 211)"
          ],
          "line": {
           "width": 1.3
          },
          "size": [
           89,
           60,
           83,
           72,
           69,
           84,
           43,
           99,
           93,
           35,
           48,
           59,
           64,
           12,
           63,
           99,
           85,
           79,
           55,
           81,
           76,
           79,
           82,
           91,
           96,
           53,
           87,
           65,
           94,
           59,
           83,
           40,
           59,
           73,
           58,
           83,
           94,
           107,
           86,
           70,
           92,
           78,
           82,
           75,
           50,
           49,
           87,
           87,
           60,
           92,
           97,
           102,
           66,
           79,
           107,
           102,
           54,
           66,
           77,
           76,
           80,
           80,
           88,
           84,
           112,
           68,
           62,
           35,
           47,
           53,
           80,
           65,
           89,
           53,
           42,
           67,
           75,
           54,
           100,
           92,
           66,
           36,
           77,
           68,
           88,
           104,
           52,
           54,
           39,
           80,
           68,
           105,
           83,
           84,
           97,
           62,
           85,
           82,
           85,
           100
          ],
          "symbol": "circle"
         },
         "mode": "markers",
         "text": "",
         "type": "scatter",
         "x": [
          0.0200557472937535,
          -0.00271132931331797,
          0.46549532154698425,
          -2.481646486984156,
          2.4303861210605935,
          0.5481507439264193,
          -0.38470482283232404,
          -0.518779439690536,
          -0.7501634969140787,
          1.3439489773286026,
          -0.589881383118077,
          1.555143766648843,
          -0.655953259623783,
          -1.1555818363342922,
          -0.7568772228453478,
          -1.5486617148203903,
          -0.5436877932895822,
          -0.5407220303875889,
          1.1397796840456185,
          2.399031489215634,
          -0.7398597890619141,
          1.0681578354258672,
          -0.5617995811618804,
          0.7798513629269344,
          -0.6709029452549264,
          0.5759018580777242,
          -1.3168975619356753,
          0.4652879785630099,
          0.5120686376505994,
          -0.07288612366483778,
          1.1561575191197915,
          0.013876953211418462,
          0.3708384949906431,
          0.6089218203334266,
          -1.1062402004761074,
          0.9190679627768068,
          1.59436967636182,
          -0.11802519337300074,
          0.5883055741919039,
          -0.40888726324449765,
          -0.8427508700641458,
          0.059726795718412405,
          -0.2593758711802393,
          0.43199402140109044,
          0.7391808769493033,
          -0.9859983859826807,
          -0.10982292838783923,
          -0.735118026978211,
          0.0020092704885079637,
          0.11044970018502757,
          1.6615490278239524,
          0.03259818088062817,
          -0.019733186364458692,
          0.21803670465781763,
          0.26369203484433024,
          0.8634111072949268,
          0.0008355690946857561,
          -0.4403564296356372,
          0.5718458465543802,
          0.6426091863213986,
          2.5986702974078075,
          0.807512380854062,
          -0.9873402436931084,
          0.8093768662673073,
          2.7804196860661645,
          -0.44881276091377864,
          0.9631772242524053,
          -0.7608239460151477,
          -0.3356376858339743,
          0.6658254980379036,
          1.559430461138503,
          1.2498381400882623,
          1.2386242849715374,
          1.395681616906325,
          0.8830205264244256,
          0.4205925892915467,
          1.022620118306731,
          0.09499023997737753,
          -0.8598375728259922,
          -0.06148325183927021,
          1.6678558426456507,
          1.3026779509417608,
          -1.0811250922454758,
          -0.09940161189493037,
          0.30231049321942105,
          0.5785752116603203,
          -0.3659025569859325,
          -1.3524348623145261,
          1.2152768143933255,
          -0.7405498222117431,
          0.12752313153721662,
          -0.3141605732582258,
          0.3689107664192181,
          -1.8558251937626842,
          -0.8926732296819363,
          0.09996090398072764,
          -1.2199200339643053,
          -0.05755442797843427,
          -0.7559637792335455,
          -2.668448084698979
         ],
         "y": [
          -1.2097527221848159,
          1.1799046007041927,
          -1.1834221588769493,
          -1.6984135001086205,
          -0.5971861176431017,
          1.5104539612831518,
          0.29930145530660573,
          0.2983796237150073,
          -0.9766095973484259,
          1.793652088246052,
          0.1126591651924812,
          -0.5169902541696968,
          0.5948404156190612,
          -0.1239099481559275,
          -0.4379921127038842,
          -0.70011036355272,
          -0.30692386506556635,
          -0.22371888983850496,
          0.48190181278582656,
          -0.018744669651661303,
          -1.605704222186048,
          0.22083231765666572,
          2.044522952045807,
          -1.739225081395104,
          -0.1485858843940398,
          -0.33066224844880704,
          0.5745639130696373,
          1.6235507157746567,
          1.0401765822956874,
          -1.1583027927154714,
          1.442919332234142,
          -0.8311026172322971,
          -0.42095320811513415,
          0.6282504167274588,
          0.2892030355856491,
          -1.318331273313542,
          -0.9856390428839195,
          0.7749309610966735,
          0.15704140129774963,
          0.938125741824176,
          -1.3208921092090842,
          -0.9262496187199861,
          0.5670178032763279,
          -2.0668684741045134,
          2.222412409692029,
          -0.09654233381017159,
          -0.23736661139712492,
          0.9561664766125788,
          0.47471815147215224,
          0.08326596606072473,
          -1.0639577582619344,
          -0.05264940065464254,
          0.3289029014714224,
          0.1548341284831212,
          -1.5915158206318833,
          0.6835776998850714,
          -1.4385341690158227,
          0.7622147856721684,
          -0.8725250241542908,
          -0.8283412646805206,
          -0.4567219096907423,
          1.676652776432216,
          -0.4693471877153127,
          -0.08641067872490407,
          -1.6177194138719508,
          0.15863822514005227,
          -0.4267639176296674,
          0.5737955438625817,
          0.7091370364084323,
          1.8013916678745001,
          -1.1989731670895405,
          -0.5688742308502165,
          -0.1816674144520255,
          -2.359910757688425,
          0.22697686099693382,
          1.5224719511179265,
          -0.051427311291810475,
          -0.14986382281616054,
          1.938913925815311,
          2.0557818250774673,
          1.193872323830949,
          -1.2408303117525894,
          -0.2611619828244525,
          1.0433502750645813,
          -1.0481872674311117,
          0.8471112925652577,
          0.9214333172338225,
          -0.8303405354394535,
          0.7333288529098103,
          0.06195289574718428,
          -0.5523748555005844,
          0.07752582643237693,
          -0.1832526709631383,
          0.7060024294054582,
          -0.9700407116480401,
          -0.06033370210807146,
          -1.0702400934085323,
          1.9110186220760212,
          -0.822538683558576,
          -1.9343847616131806
         ]
        }
       ],
       "layout": {
        "legend": {
         "bgcolor": "#F5F6F9",
         "font": {
          "color": "#4D5663"
         }
        },
        "paper_bgcolor": "#F5F6F9",
        "plot_bgcolor": "#F5F6F9",
        "template": {
         "data": {
          "bar": [
           {
            "error_x": {
             "color": "#2a3f5f"
            },
            "error_y": {
             "color": "#2a3f5f"
            },
            "marker": {
             "line": {
              "color": "#E5ECF6",
              "width": 0.5
             }
            },
            "type": "bar"
           }
          ],
          "barpolar": [
           {
            "marker": {
             "line": {
              "color": "#E5ECF6",
              "width": 0.5
             }
            },
            "type": "barpolar"
           }
          ],
          "carpet": [
           {
            "aaxis": {
             "endlinecolor": "#2a3f5f",
             "gridcolor": "white",
             "linecolor": "white",
             "minorgridcolor": "white",
             "startlinecolor": "#2a3f5f"
            },
            "baxis": {
             "endlinecolor": "#2a3f5f",
             "gridcolor": "white",
             "linecolor": "white",
             "minorgridcolor": "white",
             "startlinecolor": "#2a3f5f"
            },
            "type": "carpet"
           }
          ],
          "choropleth": [
           {
            "colorbar": {
             "outlinewidth": 0,
             "ticks": ""
            },
            "type": "choropleth"
           }
          ],
          "contour": [
           {
            "colorbar": {
             "outlinewidth": 0,
             "ticks": ""
            },
            "colorscale": [
             [
              0,
              "#0d0887"
             ],
             [
              0.1111111111111111,
              "#46039f"
             ],
             [
              0.2222222222222222,
              "#7201a8"
             ],
             [
              0.3333333333333333,
              "#9c179e"
             ],
             [
              0.4444444444444444,
              "#bd3786"
             ],
             [
              0.5555555555555556,
              "#d8576b"
             ],
             [
              0.6666666666666666,
              "#ed7953"
             ],
             [
              0.7777777777777778,
              "#fb9f3a"
             ],
             [
              0.8888888888888888,
              "#fdca26"
             ],
             [
              1,
              "#f0f921"
             ]
            ],
            "type": "contour"
           }
          ],
          "contourcarpet": [
           {
            "colorbar": {
             "outlinewidth": 0,
             "ticks": ""
            },
            "type": "contourcarpet"
           }
          ],
          "heatmap": [
           {
            "colorbar": {
             "outlinewidth": 0,
             "ticks": ""
            },
            "colorscale": [
             [
              0,
              "#0d0887"
             ],
             [
              0.1111111111111111,
              "#46039f"
             ],
             [
              0.2222222222222222,
              "#7201a8"
             ],
             [
              0.3333333333333333,
              "#9c179e"
             ],
             [
              0.4444444444444444,
              "#bd3786"
             ],
             [
              0.5555555555555556,
              "#d8576b"
             ],
             [
              0.6666666666666666,
              "#ed7953"
             ],
             [
              0.7777777777777778,
              "#fb9f3a"
             ],
             [
              0.8888888888888888,
              "#fdca26"
             ],
             [
              1,
              "#f0f921"
             ]
            ],
            "type": "heatmap"
           }
          ],
          "heatmapgl": [
           {
            "colorbar": {
             "outlinewidth": 0,
             "ticks": ""
            },
            "colorscale": [
             [
              0,
              "#0d0887"
             ],
             [
              0.1111111111111111,
              "#46039f"
             ],
             [
              0.2222222222222222,
              "#7201a8"
             ],
             [
              0.3333333333333333,
              "#9c179e"
             ],
             [
              0.4444444444444444,
              "#bd3786"
             ],
             [
              0.5555555555555556,
              "#d8576b"
             ],
             [
              0.6666666666666666,
              "#ed7953"
             ],
             [
              0.7777777777777778,
              "#fb9f3a"
             ],
             [
              0.8888888888888888,
              "#fdca26"
             ],
             [
              1,
              "#f0f921"
             ]
            ],
            "type": "heatmapgl"
           }
          ],
          "histogram": [
           {
            "marker": {
             "colorbar": {
              "outlinewidth": 0,
              "ticks": ""
             }
            },
            "type": "histogram"
           }
          ],
          "histogram2d": [
           {
            "colorbar": {
             "outlinewidth": 0,
             "ticks": ""
            },
            "colorscale": [
             [
              0,
              "#0d0887"
             ],
             [
              0.1111111111111111,
              "#46039f"
             ],
             [
              0.2222222222222222,
              "#7201a8"
             ],
             [
              0.3333333333333333,
              "#9c179e"
             ],
             [
              0.4444444444444444,
              "#bd3786"
             ],
             [
              0.5555555555555556,
              "#d8576b"
             ],
             [
              0.6666666666666666,
              "#ed7953"
             ],
             [
              0.7777777777777778,
              "#fb9f3a"
             ],
             [
              0.8888888888888888,
              "#fdca26"
             ],
             [
              1,
              "#f0f921"
             ]
            ],
            "type": "histogram2d"
           }
          ],
          "histogram2dcontour": [
           {
            "colorbar": {
             "outlinewidth": 0,
             "ticks": ""
            },
            "colorscale": [
             [
              0,
              "#0d0887"
             ],
             [
              0.1111111111111111,
              "#46039f"
             ],
             [
              0.2222222222222222,
              "#7201a8"
             ],
             [
              0.3333333333333333,
              "#9c179e"
             ],
             [
              0.4444444444444444,
              "#bd3786"
             ],
             [
              0.5555555555555556,
              "#d8576b"
             ],
             [
              0.6666666666666666,
              "#ed7953"
             ],
             [
              0.7777777777777778,
              "#fb9f3a"
             ],
             [
              0.8888888888888888,
              "#fdca26"
             ],
             [
              1,
              "#f0f921"
             ]
            ],
            "type": "histogram2dcontour"
           }
          ],
          "mesh3d": [
           {
            "colorbar": {
             "outlinewidth": 0,
             "ticks": ""
            },
            "type": "mesh3d"
           }
          ],
          "parcoords": [
           {
            "line": {
             "colorbar": {
              "outlinewidth": 0,
              "ticks": ""
             }
            },
            "type": "parcoords"
           }
          ],
          "pie": [
           {
            "automargin": true,
            "type": "pie"
           }
          ],
          "scatter": [
           {
            "marker": {
             "colorbar": {
              "outlinewidth": 0,
              "ticks": ""
             }
            },
            "type": "scatter"
           }
          ],
          "scatter3d": [
           {
            "line": {
             "colorbar": {
              "outlinewidth": 0,
              "ticks": ""
             }
            },
            "marker": {
             "colorbar": {
              "outlinewidth": 0,
              "ticks": ""
             }
            },
            "type": "scatter3d"
           }
          ],
          "scattercarpet": [
           {
            "marker": {
             "colorbar": {
              "outlinewidth": 0,
              "ticks": ""
             }
            },
            "type": "scattercarpet"
           }
          ],
          "scattergeo": [
           {
            "marker": {
             "colorbar": {
              "outlinewidth": 0,
              "ticks": ""
             }
            },
            "type": "scattergeo"
           }
          ],
          "scattergl": [
           {
            "marker": {
             "colorbar": {
              "outlinewidth": 0,
              "ticks": ""
             }
            },
            "type": "scattergl"
           }
          ],
          "scattermapbox": [
           {
            "marker": {
             "colorbar": {
              "outlinewidth": 0,
              "ticks": ""
             }
            },
            "type": "scattermapbox"
           }
          ],
          "scatterpolar": [
           {
            "marker": {
             "colorbar": {
              "outlinewidth": 0,
              "ticks": ""
             }
            },
            "type": "scatterpolar"
           }
          ],
          "scatterpolargl": [
           {
            "marker": {
             "colorbar": {
              "outlinewidth": 0,
              "ticks": ""
             }
            },
            "type": "scatterpolargl"
           }
          ],
          "scatterternary": [
           {
            "marker": {
             "colorbar": {
              "outlinewidth": 0,
              "ticks": ""
             }
            },
            "type": "scatterternary"
           }
          ],
          "surface": [
           {
            "colorbar": {
             "outlinewidth": 0,
             "ticks": ""
            },
            "colorscale": [
             [
              0,
              "#0d0887"
             ],
             [
              0.1111111111111111,
              "#46039f"
             ],
             [
              0.2222222222222222,
              "#7201a8"
             ],
             [
              0.3333333333333333,
              "#9c179e"
             ],
             [
              0.4444444444444444,
              "#bd3786"
             ],
             [
              0.5555555555555556,
              "#d8576b"
             ],
             [
              0.6666666666666666,
              "#ed7953"
             ],
             [
              0.7777777777777778,
              "#fb9f3a"
             ],
             [
              0.8888888888888888,
              "#fdca26"
             ],
             [
              1,
              "#f0f921"
             ]
            ],
            "type": "surface"
           }
          ],
          "table": [
           {
            "cells": {
             "fill": {
              "color": "#EBF0F8"
             },
             "line": {
              "color": "white"
             }
            },
            "header": {
             "fill": {
              "color": "#C8D4E3"
             },
             "line": {
              "color": "white"
             }
            },
            "type": "table"
           }
          ]
         },
         "layout": {
          "annotationdefaults": {
           "arrowcolor": "#2a3f5f",
           "arrowhead": 0,
           "arrowwidth": 1
          },
          "autotypenumbers": "strict",
          "coloraxis": {
           "colorbar": {
            "outlinewidth": 0,
            "ticks": ""
           }
          },
          "colorscale": {
           "diverging": [
            [
             0,
             "#8e0152"
            ],
            [
             0.1,
             "#c51b7d"
            ],
            [
             0.2,
             "#de77ae"
            ],
            [
             0.3,
             "#f1b6da"
            ],
            [
             0.4,
             "#fde0ef"
            ],
            [
             0.5,
             "#f7f7f7"
            ],
            [
             0.6,
             "#e6f5d0"
            ],
            [
             0.7,
             "#b8e186"
            ],
            [
             0.8,
             "#7fbc41"
            ],
            [
             0.9,
             "#4d9221"
            ],
            [
             1,
             "#276419"
            ]
           ],
           "sequential": [
            [
             0,
             "#0d0887"
            ],
            [
             0.1111111111111111,
             "#46039f"
            ],
            [
             0.2222222222222222,
             "#7201a8"
            ],
            [
             0.3333333333333333,
             "#9c179e"
            ],
            [
             0.4444444444444444,
             "#bd3786"
            ],
            [
             0.5555555555555556,
             "#d8576b"
            ],
            [
             0.6666666666666666,
             "#ed7953"
            ],
            [
             0.7777777777777778,
             "#fb9f3a"
            ],
            [
             0.8888888888888888,
             "#fdca26"
            ],
            [
             1,
             "#f0f921"
            ]
           ],
           "sequentialminus": [
            [
             0,
             "#0d0887"
            ],
            [
             0.1111111111111111,
             "#46039f"
            ],
            [
             0.2222222222222222,
             "#7201a8"
            ],
            [
             0.3333333333333333,
             "#9c179e"
            ],
            [
             0.4444444444444444,
             "#bd3786"
            ],
            [
             0.5555555555555556,
             "#d8576b"
            ],
            [
             0.6666666666666666,
             "#ed7953"
            ],
            [
             0.7777777777777778,
             "#fb9f3a"
            ],
            [
             0.8888888888888888,
             "#fdca26"
            ],
            [
             1,
             "#f0f921"
            ]
           ]
          },
          "colorway": [
           "#636efa",
           "#EF553B",
           "#00cc96",
           "#ab63fa",
           "#FFA15A",
           "#19d3f3",
           "#FF6692",
           "#B6E880",
           "#FF97FF",
           "#FECB52"
          ],
          "font": {
           "color": "#2a3f5f"
          },
          "geo": {
           "bgcolor": "white",
           "lakecolor": "white",
           "landcolor": "#E5ECF6",
           "showlakes": true,
           "showland": true,
           "subunitcolor": "white"
          },
          "hoverlabel": {
           "align": "left"
          },
          "hovermode": "closest",
          "mapbox": {
           "style": "light"
          },
          "paper_bgcolor": "white",
          "plot_bgcolor": "#E5ECF6",
          "polar": {
           "angularaxis": {
            "gridcolor": "white",
            "linecolor": "white",
            "ticks": ""
           },
           "bgcolor": "#E5ECF6",
           "radialaxis": {
            "gridcolor": "white",
            "linecolor": "white",
            "ticks": ""
           }
          },
          "scene": {
           "xaxis": {
            "backgroundcolor": "#E5ECF6",
            "gridcolor": "white",
            "gridwidth": 2,
            "linecolor": "white",
            "showbackground": true,
            "ticks": "",
            "zerolinecolor": "white"
           },
           "yaxis": {
            "backgroundcolor": "#E5ECF6",
            "gridcolor": "white",
            "gridwidth": 2,
            "linecolor": "white",
            "showbackground": true,
            "ticks": "",
            "zerolinecolor": "white"
           },
           "zaxis": {
            "backgroundcolor": "#E5ECF6",
            "gridcolor": "white",
            "gridwidth": 2,
            "linecolor": "white",
            "showbackground": true,
            "ticks": "",
            "zerolinecolor": "white"
           }
          },
          "shapedefaults": {
           "line": {
            "color": "#2a3f5f"
           }
          },
          "ternary": {
           "aaxis": {
            "gridcolor": "white",
            "linecolor": "white",
            "ticks": ""
           },
           "baxis": {
            "gridcolor": "white",
            "linecolor": "white",
            "ticks": ""
           },
           "bgcolor": "#E5ECF6",
           "caxis": {
            "gridcolor": "white",
            "linecolor": "white",
            "ticks": ""
           }
          },
          "title": {
           "x": 0.05
          },
          "xaxis": {
           "automargin": true,
           "gridcolor": "white",
           "linecolor": "white",
           "ticks": "",
           "title": {
            "standoff": 15
           },
           "zerolinecolor": "white",
           "zerolinewidth": 2
          },
          "yaxis": {
           "automargin": true,
           "gridcolor": "white",
           "linecolor": "white",
           "ticks": "",
           "title": {
            "standoff": 15
           },
           "zerolinecolor": "white",
           "zerolinewidth": 2
          }
         }
        },
        "title": {
         "font": {
          "color": "#4D5663"
         }
        },
        "xaxis": {
         "gridcolor": "#E1E5ED",
         "showgrid": true,
         "tickfont": {
          "color": "#4D5663"
         },
         "title": {
          "font": {
           "color": "#4D5663"
          },
          "text": ""
         },
         "zerolinecolor": "#E1E5ED"
        },
        "yaxis": {
         "gridcolor": "#E1E5ED",
         "showgrid": true,
         "tickfont": {
          "color": "#4D5663"
         },
         "title": {
          "font": {
           "color": "#4D5663"
          },
          "text": ""
         },
         "zerolinecolor": "#E1E5ED"
        }
       }
      },
      "text/html": [
       "<div>                            <div id=\"dcc2da17-afd0-4777-8048-6108cc92499d\" class=\"plotly-graph-div\" style=\"height:525px; width:100%;\"></div>            <script type=\"text/javascript\">                require([\"plotly\"], function(Plotly) {                    window.PLOTLYENV=window.PLOTLYENV || {};\n",
       "                    window.PLOTLYENV.BASE_URL='https://plot.ly';                                    if (document.getElementById(\"dcc2da17-afd0-4777-8048-6108cc92499d\")) {                    Plotly.newPlot(                        \"dcc2da17-afd0-4777-8048-6108cc92499d\",                        [{\"marker\": {\"color\": [\"rgb(255, 153, 51)\", \"rgb(55, 128, 191)\", \"rgb(50, 171, 96)\", \"rgb(128, 0, 128)\", \"rgb(219, 64, 82)\", \"rgb(0, 128, 128)\", \"rgb(255, 255, 51)\", \"rgb(128, 128, 0)\", \"rgb(251, 128, 114)\", \"rgb(128, 177, 211)\"], \"line\": {\"width\": 1.3}, \"size\": [89, 60, 83, 72, 69, 84, 43, 99, 93, 35, 48, 59, 64, 12, 63, 99, 85, 79, 55, 81, 76, 79, 82, 91, 96, 53, 87, 65, 94, 59, 83, 40, 59, 73, 58, 83, 94, 107, 86, 70, 92, 78, 82, 75, 50, 49, 87, 87, 60, 92, 97, 102, 66, 79, 107, 102, 54, 66, 77, 76, 80, 80, 88, 84, 112, 68, 62, 35, 47, 53, 80, 65, 89, 53, 42, 67, 75, 54, 100, 92, 66, 36, 77, 68, 88, 104, 52, 54, 39, 80, 68, 105, 83, 84, 97, 62, 85, 82, 85, 100], \"symbol\": \"circle\"}, \"mode\": \"markers\", \"text\": \"\", \"type\": \"scatter\", \"x\": [0.0200557472937535, -0.00271132931331797, 0.46549532154698425, -2.481646486984156, 2.4303861210605935, 0.5481507439264193, -0.38470482283232404, -0.518779439690536, -0.7501634969140787, 1.3439489773286026, -0.589881383118077, 1.555143766648843, -0.655953259623783, -1.1555818363342922, -0.7568772228453478, -1.5486617148203903, -0.5436877932895822, -0.5407220303875889, 1.1397796840456185, 2.399031489215634, -0.7398597890619141, 1.0681578354258672, -0.5617995811618804, 0.7798513629269344, -0.6709029452549264, 0.5759018580777242, -1.3168975619356753, 0.4652879785630099, 0.5120686376505994, -0.07288612366483778, 1.1561575191197915, 0.013876953211418462, 0.3708384949906431, 0.6089218203334266, -1.1062402004761074, 0.9190679627768068, 1.59436967636182, -0.11802519337300074, 0.5883055741919039, -0.40888726324449765, -0.8427508700641458, 0.059726795718412405, -0.2593758711802393, 0.43199402140109044, 0.7391808769493033, -0.9859983859826807, -0.10982292838783923, -0.735118026978211, 0.0020092704885079637, 0.11044970018502757, 1.6615490278239524, 0.03259818088062817, -0.019733186364458692, 0.21803670465781763, 0.26369203484433024, 0.8634111072949268, 0.0008355690946857561, -0.4403564296356372, 0.5718458465543802, 0.6426091863213986, 2.5986702974078075, 0.807512380854062, -0.9873402436931084, 0.8093768662673073, 2.7804196860661645, -0.44881276091377864, 0.9631772242524053, -0.7608239460151477, -0.3356376858339743, 0.6658254980379036, 1.559430461138503, 1.2498381400882623, 1.2386242849715374, 1.395681616906325, 0.8830205264244256, 0.4205925892915467, 1.022620118306731, 0.09499023997737753, -0.8598375728259922, -0.06148325183927021, 1.6678558426456507, 1.3026779509417608, -1.0811250922454758, -0.09940161189493037, 0.30231049321942105, 0.5785752116603203, -0.3659025569859325, -1.3524348623145261, 1.2152768143933255, -0.7405498222117431, 0.12752313153721662, -0.3141605732582258, 0.3689107664192181, -1.8558251937626842, -0.8926732296819363, 0.09996090398072764, -1.2199200339643053, -0.05755442797843427, -0.7559637792335455, -2.668448084698979], \"y\": [-1.2097527221848159, 1.1799046007041927, -1.1834221588769493, -1.6984135001086205, -0.5971861176431017, 1.5104539612831518, 0.29930145530660573, 0.2983796237150073, -0.9766095973484259, 1.793652088246052, 0.1126591651924812, -0.5169902541696968, 0.5948404156190612, -0.1239099481559275, -0.4379921127038842, -0.70011036355272, -0.30692386506556635, -0.22371888983850496, 0.48190181278582656, -0.018744669651661303, -1.605704222186048, 0.22083231765666572, 2.044522952045807, -1.739225081395104, -0.1485858843940398, -0.33066224844880704, 0.5745639130696373, 1.6235507157746567, 1.0401765822956874, -1.1583027927154714, 1.442919332234142, -0.8311026172322971, -0.42095320811513415, 0.6282504167274588, 0.2892030355856491, -1.318331273313542, -0.9856390428839195, 0.7749309610966735, 0.15704140129774963, 0.938125741824176, -1.3208921092090842, -0.9262496187199861, 0.5670178032763279, -2.0668684741045134, 2.222412409692029, -0.09654233381017159, -0.23736661139712492, 0.9561664766125788, 0.47471815147215224, 0.08326596606072473, -1.0639577582619344, -0.05264940065464254, 0.3289029014714224, 0.1548341284831212, -1.5915158206318833, 0.6835776998850714, -1.4385341690158227, 0.7622147856721684, -0.8725250241542908, -0.8283412646805206, -0.4567219096907423, 1.676652776432216, -0.4693471877153127, -0.08641067872490407, -1.6177194138719508, 0.15863822514005227, -0.4267639176296674, 0.5737955438625817, 0.7091370364084323, 1.8013916678745001, -1.1989731670895405, -0.5688742308502165, -0.1816674144520255, -2.359910757688425, 0.22697686099693382, 1.5224719511179265, -0.051427311291810475, -0.14986382281616054, 1.938913925815311, 2.0557818250774673, 1.193872323830949, -1.2408303117525894, -0.2611619828244525, 1.0433502750645813, -1.0481872674311117, 0.8471112925652577, 0.9214333172338225, -0.8303405354394535, 0.7333288529098103, 0.06195289574718428, -0.5523748555005844, 0.07752582643237693, -0.1832526709631383, 0.7060024294054582, -0.9700407116480401, -0.06033370210807146, -1.0702400934085323, 1.9110186220760212, -0.822538683558576, -1.9343847616131806]}],                        {\"legend\": {\"bgcolor\": \"#F5F6F9\", \"font\": {\"color\": \"#4D5663\"}}, \"paper_bgcolor\": \"#F5F6F9\", \"plot_bgcolor\": \"#F5F6F9\", \"template\": {\"data\": {\"bar\": [{\"error_x\": {\"color\": \"#2a3f5f\"}, \"error_y\": {\"color\": \"#2a3f5f\"}, \"marker\": {\"line\": {\"color\": \"#E5ECF6\", \"width\": 0.5}}, \"type\": \"bar\"}], \"barpolar\": [{\"marker\": {\"line\": {\"color\": \"#E5ECF6\", \"width\": 0.5}}, \"type\": \"barpolar\"}], \"carpet\": [{\"aaxis\": {\"endlinecolor\": \"#2a3f5f\", \"gridcolor\": \"white\", \"linecolor\": \"white\", \"minorgridcolor\": \"white\", \"startlinecolor\": \"#2a3f5f\"}, \"baxis\": {\"endlinecolor\": \"#2a3f5f\", \"gridcolor\": \"white\", \"linecolor\": \"white\", \"minorgridcolor\": \"white\", \"startlinecolor\": \"#2a3f5f\"}, \"type\": \"carpet\"}], \"choropleth\": [{\"colorbar\": {\"outlinewidth\": 0, \"ticks\": \"\"}, \"type\": \"choropleth\"}], \"contour\": [{\"colorbar\": {\"outlinewidth\": 0, \"ticks\": \"\"}, \"colorscale\": [[0.0, \"#0d0887\"], [0.1111111111111111, \"#46039f\"], [0.2222222222222222, \"#7201a8\"], [0.3333333333333333, \"#9c179e\"], [0.4444444444444444, \"#bd3786\"], [0.5555555555555556, \"#d8576b\"], [0.6666666666666666, \"#ed7953\"], [0.7777777777777778, \"#fb9f3a\"], [0.8888888888888888, \"#fdca26\"], [1.0, \"#f0f921\"]], \"type\": \"contour\"}], \"contourcarpet\": [{\"colorbar\": {\"outlinewidth\": 0, \"ticks\": \"\"}, \"type\": \"contourcarpet\"}], \"heatmap\": [{\"colorbar\": {\"outlinewidth\": 0, \"ticks\": \"\"}, \"colorscale\": [[0.0, \"#0d0887\"], [0.1111111111111111, \"#46039f\"], [0.2222222222222222, \"#7201a8\"], [0.3333333333333333, \"#9c179e\"], [0.4444444444444444, \"#bd3786\"], [0.5555555555555556, \"#d8576b\"], [0.6666666666666666, \"#ed7953\"], [0.7777777777777778, \"#fb9f3a\"], [0.8888888888888888, \"#fdca26\"], [1.0, \"#f0f921\"]], \"type\": \"heatmap\"}], \"heatmapgl\": [{\"colorbar\": {\"outlinewidth\": 0, \"ticks\": \"\"}, \"colorscale\": [[0.0, \"#0d0887\"], [0.1111111111111111, \"#46039f\"], [0.2222222222222222, \"#7201a8\"], [0.3333333333333333, \"#9c179e\"], [0.4444444444444444, \"#bd3786\"], [0.5555555555555556, \"#d8576b\"], [0.6666666666666666, \"#ed7953\"], [0.7777777777777778, \"#fb9f3a\"], [0.8888888888888888, \"#fdca26\"], [1.0, \"#f0f921\"]], \"type\": \"heatmapgl\"}], \"histogram\": [{\"marker\": {\"colorbar\": {\"outlinewidth\": 0, \"ticks\": \"\"}}, \"type\": \"histogram\"}], \"histogram2d\": [{\"colorbar\": {\"outlinewidth\": 0, \"ticks\": \"\"}, \"colorscale\": [[0.0, \"#0d0887\"], [0.1111111111111111, \"#46039f\"], [0.2222222222222222, \"#7201a8\"], [0.3333333333333333, \"#9c179e\"], [0.4444444444444444, \"#bd3786\"], [0.5555555555555556, \"#d8576b\"], [0.6666666666666666, \"#ed7953\"], [0.7777777777777778, \"#fb9f3a\"], [0.8888888888888888, \"#fdca26\"], [1.0, \"#f0f921\"]], \"type\": \"histogram2d\"}], \"histogram2dcontour\": [{\"colorbar\": {\"outlinewidth\": 0, \"ticks\": \"\"}, \"colorscale\": [[0.0, \"#0d0887\"], [0.1111111111111111, \"#46039f\"], [0.2222222222222222, \"#7201a8\"], [0.3333333333333333, \"#9c179e\"], [0.4444444444444444, \"#bd3786\"], [0.5555555555555556, \"#d8576b\"], [0.6666666666666666, \"#ed7953\"], [0.7777777777777778, \"#fb9f3a\"], [0.8888888888888888, \"#fdca26\"], [1.0, \"#f0f921\"]], \"type\": \"histogram2dcontour\"}], \"mesh3d\": [{\"colorbar\": {\"outlinewidth\": 0, \"ticks\": \"\"}, \"type\": \"mesh3d\"}], \"parcoords\": [{\"line\": {\"colorbar\": {\"outlinewidth\": 0, \"ticks\": \"\"}}, \"type\": \"parcoords\"}], \"pie\": [{\"automargin\": true, \"type\": \"pie\"}], \"scatter\": [{\"marker\": {\"colorbar\": {\"outlinewidth\": 0, \"ticks\": \"\"}}, \"type\": \"scatter\"}], \"scatter3d\": [{\"line\": {\"colorbar\": {\"outlinewidth\": 0, \"ticks\": \"\"}}, \"marker\": {\"colorbar\": {\"outlinewidth\": 0, \"ticks\": \"\"}}, \"type\": \"scatter3d\"}], \"scattercarpet\": [{\"marker\": {\"colorbar\": {\"outlinewidth\": 0, \"ticks\": \"\"}}, \"type\": \"scattercarpet\"}], \"scattergeo\": [{\"marker\": {\"colorbar\": {\"outlinewidth\": 0, \"ticks\": \"\"}}, \"type\": \"scattergeo\"}], \"scattergl\": [{\"marker\": {\"colorbar\": {\"outlinewidth\": 0, \"ticks\": \"\"}}, \"type\": \"scattergl\"}], \"scattermapbox\": [{\"marker\": {\"colorbar\": {\"outlinewidth\": 0, \"ticks\": \"\"}}, \"type\": \"scattermapbox\"}], \"scatterpolar\": [{\"marker\": {\"colorbar\": {\"outlinewidth\": 0, \"ticks\": \"\"}}, \"type\": \"scatterpolar\"}], \"scatterpolargl\": [{\"marker\": {\"colorbar\": {\"outlinewidth\": 0, \"ticks\": \"\"}}, \"type\": \"scatterpolargl\"}], \"scatterternary\": [{\"marker\": {\"colorbar\": {\"outlinewidth\": 0, \"ticks\": \"\"}}, \"type\": \"scatterternary\"}], \"surface\": [{\"colorbar\": {\"outlinewidth\": 0, \"ticks\": \"\"}, \"colorscale\": [[0.0, \"#0d0887\"], [0.1111111111111111, \"#46039f\"], [0.2222222222222222, \"#7201a8\"], [0.3333333333333333, \"#9c179e\"], [0.4444444444444444, \"#bd3786\"], [0.5555555555555556, \"#d8576b\"], [0.6666666666666666, \"#ed7953\"], [0.7777777777777778, \"#fb9f3a\"], [0.8888888888888888, \"#fdca26\"], [1.0, \"#f0f921\"]], \"type\": \"surface\"}], \"table\": [{\"cells\": {\"fill\": {\"color\": \"#EBF0F8\"}, \"line\": {\"color\": \"white\"}}, \"header\": {\"fill\": {\"color\": \"#C8D4E3\"}, \"line\": {\"color\": \"white\"}}, \"type\": \"table\"}]}, \"layout\": {\"annotationdefaults\": {\"arrowcolor\": \"#2a3f5f\", \"arrowhead\": 0, \"arrowwidth\": 1}, \"autotypenumbers\": \"strict\", \"coloraxis\": {\"colorbar\": {\"outlinewidth\": 0, \"ticks\": \"\"}}, \"colorscale\": {\"diverging\": [[0, \"#8e0152\"], [0.1, \"#c51b7d\"], [0.2, \"#de77ae\"], [0.3, \"#f1b6da\"], [0.4, \"#fde0ef\"], [0.5, \"#f7f7f7\"], [0.6, \"#e6f5d0\"], [0.7, \"#b8e186\"], [0.8, \"#7fbc41\"], [0.9, \"#4d9221\"], [1, \"#276419\"]], \"sequential\": [[0.0, \"#0d0887\"], [0.1111111111111111, \"#46039f\"], [0.2222222222222222, \"#7201a8\"], [0.3333333333333333, \"#9c179e\"], [0.4444444444444444, \"#bd3786\"], [0.5555555555555556, \"#d8576b\"], [0.6666666666666666, \"#ed7953\"], [0.7777777777777778, \"#fb9f3a\"], [0.8888888888888888, \"#fdca26\"], [1.0, \"#f0f921\"]], \"sequentialminus\": [[0.0, \"#0d0887\"], [0.1111111111111111, \"#46039f\"], [0.2222222222222222, \"#7201a8\"], [0.3333333333333333, \"#9c179e\"], [0.4444444444444444, \"#bd3786\"], [0.5555555555555556, \"#d8576b\"], [0.6666666666666666, \"#ed7953\"], [0.7777777777777778, \"#fb9f3a\"], [0.8888888888888888, \"#fdca26\"], [1.0, \"#f0f921\"]]}, \"colorway\": [\"#636efa\", \"#EF553B\", \"#00cc96\", \"#ab63fa\", \"#FFA15A\", \"#19d3f3\", \"#FF6692\", \"#B6E880\", \"#FF97FF\", \"#FECB52\"], \"font\": {\"color\": \"#2a3f5f\"}, \"geo\": {\"bgcolor\": \"white\", \"lakecolor\": \"white\", \"landcolor\": \"#E5ECF6\", \"showlakes\": true, \"showland\": true, \"subunitcolor\": \"white\"}, \"hoverlabel\": {\"align\": \"left\"}, \"hovermode\": \"closest\", \"mapbox\": {\"style\": \"light\"}, \"paper_bgcolor\": \"white\", \"plot_bgcolor\": \"#E5ECF6\", \"polar\": {\"angularaxis\": {\"gridcolor\": \"white\", \"linecolor\": \"white\", \"ticks\": \"\"}, \"bgcolor\": \"#E5ECF6\", \"radialaxis\": {\"gridcolor\": \"white\", \"linecolor\": \"white\", \"ticks\": \"\"}}, \"scene\": {\"xaxis\": {\"backgroundcolor\": \"#E5ECF6\", \"gridcolor\": \"white\", \"gridwidth\": 2, \"linecolor\": \"white\", \"showbackground\": true, \"ticks\": \"\", \"zerolinecolor\": \"white\"}, \"yaxis\": {\"backgroundcolor\": \"#E5ECF6\", \"gridcolor\": \"white\", \"gridwidth\": 2, \"linecolor\": \"white\", \"showbackground\": true, \"ticks\": \"\", \"zerolinecolor\": \"white\"}, \"zaxis\": {\"backgroundcolor\": \"#E5ECF6\", \"gridcolor\": \"white\", \"gridwidth\": 2, \"linecolor\": \"white\", \"showbackground\": true, \"ticks\": \"\", \"zerolinecolor\": \"white\"}}, \"shapedefaults\": {\"line\": {\"color\": \"#2a3f5f\"}}, \"ternary\": {\"aaxis\": {\"gridcolor\": \"white\", \"linecolor\": \"white\", \"ticks\": \"\"}, \"baxis\": {\"gridcolor\": \"white\", \"linecolor\": \"white\", \"ticks\": \"\"}, \"bgcolor\": \"#E5ECF6\", \"caxis\": {\"gridcolor\": \"white\", \"linecolor\": \"white\", \"ticks\": \"\"}}, \"title\": {\"x\": 0.05}, \"xaxis\": {\"automargin\": true, \"gridcolor\": \"white\", \"linecolor\": \"white\", \"ticks\": \"\", \"title\": {\"standoff\": 15}, \"zerolinecolor\": \"white\", \"zerolinewidth\": 2}, \"yaxis\": {\"automargin\": true, \"gridcolor\": \"white\", \"linecolor\": \"white\", \"ticks\": \"\", \"title\": {\"standoff\": 15}, \"zerolinecolor\": \"white\", \"zerolinewidth\": 2}}}, \"title\": {\"font\": {\"color\": \"#4D5663\"}}, \"xaxis\": {\"gridcolor\": \"#E1E5ED\", \"showgrid\": true, \"tickfont\": {\"color\": \"#4D5663\"}, \"title\": {\"font\": {\"color\": \"#4D5663\"}, \"text\": \"\"}, \"zerolinecolor\": \"#E1E5ED\"}, \"yaxis\": {\"gridcolor\": \"#E1E5ED\", \"showgrid\": true, \"tickfont\": {\"color\": \"#4D5663\"}, \"title\": {\"font\": {\"color\": \"#4D5663\"}, \"text\": \"\"}, \"zerolinecolor\": \"#E1E5ED\"}},                        {\"showLink\": true, \"linkText\": \"Export to plot.ly\", \"plotlyServerURL\": \"https://plot.ly\", \"responsive\": true}                    ).then(function(){\n",
       "                            \n",
       "var gd = document.getElementById('dcc2da17-afd0-4777-8048-6108cc92499d');\n",
       "var x = new MutationObserver(function (mutations, observer) {{\n",
       "        var display = window.getComputedStyle(gd).display;\n",
       "        if (!display || display === 'none') {{\n",
       "            console.log([gd, 'removed!']);\n",
       "            Plotly.purge(gd);\n",
       "            observer.disconnect();\n",
       "        }}\n",
       "}});\n",
       "\n",
       "// Listen for the removal of the full notebook cells\n",
       "var notebookContainer = gd.closest('#notebook-container');\n",
       "if (notebookContainer) {{\n",
       "    x.observe(notebookContainer, {childList: true});\n",
       "}}\n",
       "\n",
       "// Listen for the clearing of the current output cell\n",
       "var outputEl = gd.closest('.output');\n",
       "if (outputEl) {{\n",
       "    x.observe(outputEl, {childList: true});\n",
       "}}\n",
       "\n",
       "                        })                };                });            </script>        </div>"
      ]
     },
     "metadata": {},
     "output_type": "display_data"
    }
   ],
   "source": [
    "df.iplot(kind='bubble',x='A',y='B',size='C')"
   ]
  },
  {
   "cell_type": "markdown",
   "metadata": {},
   "source": [
    "## scatter_matrix()\n",
    "\n",
    "Similar to sns.pairplot()"
   ]
  },
  {
   "cell_type": "code",
   "execution_count": 19,
   "metadata": {},
   "outputs": [
    {
     "data": {
      "application/vnd.plotly.v1+json": {
       "config": {
        "linkText": "Export to plot.ly",
        "plotlyServerURL": "https://plot.ly",
        "showLink": true
       },
       "data": [
        {
         "histfunc": "count",
         "histnorm": "",
         "marker": {
          "color": "rgba(255, 153, 51, 1.0)",
          "line": {
           "color": "#4D5663",
           "width": 1.3
          }
         },
         "name": "A",
         "nbinsx": 10,
         "opacity": 0.8,
         "orientation": "v",
         "type": "histogram",
         "x": [
          0.0200557472937535,
          -0.00271132931331797,
          0.46549532154698425,
          -2.481646486984156,
          2.4303861210605935,
          0.5481507439264193,
          -0.38470482283232404,
          -0.518779439690536,
          -0.7501634969140787,
          1.3439489773286026,
          -0.589881383118077,
          1.555143766648843,
          -0.655953259623783,
          -1.1555818363342922,
          -0.7568772228453478,
          -1.5486617148203903,
          -0.5436877932895822,
          -0.5407220303875889,
          1.1397796840456185,
          2.399031489215634,
          -0.7398597890619141,
          1.0681578354258672,
          -0.5617995811618804,
          0.7798513629269344,
          -0.6709029452549264,
          0.5759018580777242,
          -1.3168975619356753,
          0.4652879785630099,
          0.5120686376505994,
          -0.07288612366483778,
          1.1561575191197915,
          0.013876953211418462,
          0.3708384949906431,
          0.6089218203334266,
          -1.1062402004761074,
          0.9190679627768068,
          1.59436967636182,
          -0.11802519337300074,
          0.5883055741919039,
          -0.40888726324449765,
          -0.8427508700641458,
          0.059726795718412405,
          -0.2593758711802393,
          0.43199402140109044,
          0.7391808769493033,
          -0.9859983859826807,
          -0.10982292838783923,
          -0.735118026978211,
          0.0020092704885079637,
          0.11044970018502757,
          1.6615490278239524,
          0.03259818088062817,
          -0.019733186364458692,
          0.21803670465781763,
          0.26369203484433024,
          0.8634111072949268,
          0.0008355690946857561,
          -0.4403564296356372,
          0.5718458465543802,
          0.6426091863213986,
          2.5986702974078075,
          0.807512380854062,
          -0.9873402436931084,
          0.8093768662673073,
          2.7804196860661645,
          -0.44881276091377864,
          0.9631772242524053,
          -0.7608239460151477,
          -0.3356376858339743,
          0.6658254980379036,
          1.559430461138503,
          1.2498381400882623,
          1.2386242849715374,
          1.395681616906325,
          0.8830205264244256,
          0.4205925892915467,
          1.022620118306731,
          0.09499023997737753,
          -0.8598375728259922,
          -0.06148325183927021,
          1.6678558426456507,
          1.3026779509417608,
          -1.0811250922454758,
          -0.09940161189493037,
          0.30231049321942105,
          0.5785752116603203,
          -0.3659025569859325,
          -1.3524348623145261,
          1.2152768143933255,
          -0.7405498222117431,
          0.12752313153721662,
          -0.3141605732582258,
          0.3689107664192181,
          -1.8558251937626842,
          -0.8926732296819363,
          0.09996090398072764,
          -1.2199200339643053,
          -0.05755442797843427,
          -0.7559637792335455,
          -2.668448084698979
         ],
         "xaxis": "x",
         "yaxis": "y"
        },
        {
         "line": {
          "color": "rgba(128, 128, 128, 1.0)",
          "dash": "solid",
          "shape": "linear",
          "width": 1.3
         },
         "marker": {
          "size": 2,
          "symbol": "circle"
         },
         "mode": "markers",
         "name": "A",
         "text": "",
         "type": "scatter",
         "x": [
          -1.2097527221848159,
          1.1799046007041927,
          -1.1834221588769493,
          -1.6984135001086205,
          -0.5971861176431017,
          1.5104539612831518,
          0.29930145530660573,
          0.2983796237150073,
          -0.9766095973484259,
          1.793652088246052,
          0.1126591651924812,
          -0.5169902541696968,
          0.5948404156190612,
          -0.1239099481559275,
          -0.4379921127038842,
          -0.70011036355272,
          -0.30692386506556635,
          -0.22371888983850496,
          0.48190181278582656,
          -0.018744669651661303,
          -1.605704222186048,
          0.22083231765666572,
          2.044522952045807,
          -1.739225081395104,
          -0.1485858843940398,
          -0.33066224844880704,
          0.5745639130696373,
          1.6235507157746567,
          1.0401765822956874,
          -1.1583027927154714,
          1.442919332234142,
          -0.8311026172322971,
          -0.42095320811513415,
          0.6282504167274588,
          0.2892030355856491,
          -1.318331273313542,
          -0.9856390428839195,
          0.7749309610966735,
          0.15704140129774963,
          0.938125741824176,
          -1.3208921092090842,
          -0.9262496187199861,
          0.5670178032763279,
          -2.0668684741045134,
          2.222412409692029,
          -0.09654233381017159,
          -0.23736661139712492,
          0.9561664766125788,
          0.47471815147215224,
          0.08326596606072473,
          -1.0639577582619344,
          -0.05264940065464254,
          0.3289029014714224,
          0.1548341284831212,
          -1.5915158206318833,
          0.6835776998850714,
          -1.4385341690158227,
          0.7622147856721684,
          -0.8725250241542908,
          -0.8283412646805206,
          -0.4567219096907423,
          1.676652776432216,
          -0.4693471877153127,
          -0.08641067872490407,
          -1.6177194138719508,
          0.15863822514005227,
          -0.4267639176296674,
          0.5737955438625817,
          0.7091370364084323,
          1.8013916678745001,
          -1.1989731670895405,
          -0.5688742308502165,
          -0.1816674144520255,
          -2.359910757688425,
          0.22697686099693382,
          1.5224719511179265,
          -0.051427311291810475,
          -0.14986382281616054,
          1.938913925815311,
          2.0557818250774673,
          1.193872323830949,
          -1.2408303117525894,
          -0.2611619828244525,
          1.0433502750645813,
          -1.0481872674311117,
          0.8471112925652577,
          0.9214333172338225,
          -0.8303405354394535,
          0.7333288529098103,
          0.06195289574718428,
          -0.5523748555005844,
          0.07752582643237693,
          -0.1832526709631383,
          0.7060024294054582,
          -0.9700407116480401,
          -0.06033370210807146,
          -1.0702400934085323,
          1.9110186220760212,
          -0.822538683558576,
          -1.9343847616131806
         ],
         "xaxis": "x2",
         "y": [
          0.0200557472937535,
          -0.00271132931331797,
          0.46549532154698425,
          -2.481646486984156,
          2.4303861210605935,
          0.5481507439264193,
          -0.38470482283232404,
          -0.518779439690536,
          -0.7501634969140787,
          1.3439489773286026,
          -0.589881383118077,
          1.555143766648843,
          -0.655953259623783,
          -1.1555818363342922,
          -0.7568772228453478,
          -1.5486617148203903,
          -0.5436877932895822,
          -0.5407220303875889,
          1.1397796840456185,
          2.399031489215634,
          -0.7398597890619141,
          1.0681578354258672,
          -0.5617995811618804,
          0.7798513629269344,
          -0.6709029452549264,
          0.5759018580777242,
          -1.3168975619356753,
          0.4652879785630099,
          0.5120686376505994,
          -0.07288612366483778,
          1.1561575191197915,
          0.013876953211418462,
          0.3708384949906431,
          0.6089218203334266,
          -1.1062402004761074,
          0.9190679627768068,
          1.59436967636182,
          -0.11802519337300074,
          0.5883055741919039,
          -0.40888726324449765,
          -0.8427508700641458,
          0.059726795718412405,
          -0.2593758711802393,
          0.43199402140109044,
          0.7391808769493033,
          -0.9859983859826807,
          -0.10982292838783923,
          -0.735118026978211,
          0.0020092704885079637,
          0.11044970018502757,
          1.6615490278239524,
          0.03259818088062817,
          -0.019733186364458692,
          0.21803670465781763,
          0.26369203484433024,
          0.8634111072949268,
          0.0008355690946857561,
          -0.4403564296356372,
          0.5718458465543802,
          0.6426091863213986,
          2.5986702974078075,
          0.807512380854062,
          -0.9873402436931084,
          0.8093768662673073,
          2.7804196860661645,
          -0.44881276091377864,
          0.9631772242524053,
          -0.7608239460151477,
          -0.3356376858339743,
          0.6658254980379036,
          1.559430461138503,
          1.2498381400882623,
          1.2386242849715374,
          1.395681616906325,
          0.8830205264244256,
          0.4205925892915467,
          1.022620118306731,
          0.09499023997737753,
          -0.8598375728259922,
          -0.06148325183927021,
          1.6678558426456507,
          1.3026779509417608,
          -1.0811250922454758,
          -0.09940161189493037,
          0.30231049321942105,
          0.5785752116603203,
          -0.3659025569859325,
          -1.3524348623145261,
          1.2152768143933255,
          -0.7405498222117431,
          0.12752313153721662,
          -0.3141605732582258,
          0.3689107664192181,
          -1.8558251937626842,
          -0.8926732296819363,
          0.09996090398072764,
          -1.2199200339643053,
          -0.05755442797843427,
          -0.7559637792335455,
          -2.668448084698979
         ],
         "yaxis": "y2"
        },
        {
         "line": {
          "color": "rgba(128, 128, 128, 1.0)",
          "dash": "solid",
          "shape": "linear",
          "width": 1.3
         },
         "marker": {
          "size": 2,
          "symbol": "circle"
         },
         "mode": "markers",
         "name": "A",
         "text": "",
         "type": "scatter",
         "x": [
          0.8083420630665378,
          -0.7648222124139935,
          0.4643172174734072,
          -0.10075614139784915,
          -0.2581029347010073,
          0.5414709545053994,
          -1.6772831850982985,
          1.3690422788468501,
          1.048147094683917,
          -2.088327013320739,
          -1.4096737923560239,
          -0.7970912433579793,
          -0.5237843086429662,
          -3.3664249074523793,
          -0.6156994213908308,
          1.3654325384656616,
          0.6199464355553261,
          0.2881025606295957,
          -1.0115535017359918,
          0.38649973790909553,
          0.103845950207263,
          0.257014975138551,
          0.40997311949806,
          0.9246749206670745,
          1.1753181732901241,
          -1.1456403996241877,
          0.7115166605044273,
          -0.4821100944580768,
          1.054757250154148,
          -0.7931070429568493,
          0.49958634061358476,
          -1.804183783313613,
          -0.8195480741717336,
          -0.06361603871967302,
          -0.8457119980175559,
          0.48483810209851336,
          1.0970650300680742,
          1.8019271320843695,
          0.6279053131085512,
          -0.23878642530815347,
          0.9605359825714156,
          0.2254934638953998,
          0.42246803352127676,
          0.05428605964076033,
          -1.2893079317352325,
          -1.3392162379310717,
          0.6982496162025887,
          0.6786272998972681,
          -0.7587827012380097,
          0.9988548628064908,
          1.2302690676377823,
          1.5246499734628876,
          -0.437246997825594,
          0.29183457547002806,
          1.7549358804056925,
          1.489477486208536,
          -1.0546887128399014,
          -0.4313109958264226,
          0.18978122694806013,
          0.13252273428089265,
          0.3246884283483141,
          0.3183729356103616,
          0.7766533790714364,
          0.5307936741007439,
          2.0235941635591113,
          -0.2964866099786187,
          -0.6658905935757808,
          -2.1196819016268784,
          -1.434573545374268,
          -1.140693132386746,
          0.3166595474746357,
          -0.5001845502247366,
          0.8304121195406919,
          -1.1253250369967436,
          -1.722875526360012,
          -0.36246406701518585,
          0.05194328606942015,
          -1.1001169784677582,
          1.39655795226364,
          0.9759756700939083,
          -0.43171851780306486,
          -2.0338249135062223,
          0.16142207652734952,
          -0.3071272403408853,
          0.7641972957490955,
          1.6342968909756563,
          -1.1776410174030765,
          -1.0837624162313493,
          -1.8979695056489236,
          0.3365402338601029,
          -0.3326659754598676,
          1.6488449596594998,
          0.49205212816745064,
          0.5495993401251483,
          1.2513338392142446,
          -0.6202802208564918,
          0.5854562864867651,
          0.40906866667466496,
          0.6133021138733645,
          1.4100389197072407
         ],
         "xaxis": "x3",
         "y": [
          0.0200557472937535,
          -0.00271132931331797,
          0.46549532154698425,
          -2.481646486984156,
          2.4303861210605935,
          0.5481507439264193,
          -0.38470482283232404,
          -0.518779439690536,
          -0.7501634969140787,
          1.3439489773286026,
          -0.589881383118077,
          1.555143766648843,
          -0.655953259623783,
          -1.1555818363342922,
          -0.7568772228453478,
          -1.5486617148203903,
          -0.5436877932895822,
          -0.5407220303875889,
          1.1397796840456185,
          2.399031489215634,
          -0.7398597890619141,
          1.0681578354258672,
          -0.5617995811618804,
          0.7798513629269344,
          -0.6709029452549264,
          0.5759018580777242,
          -1.3168975619356753,
          0.4652879785630099,
          0.5120686376505994,
          -0.07288612366483778,
          1.1561575191197915,
          0.013876953211418462,
          0.3708384949906431,
          0.6089218203334266,
          -1.1062402004761074,
          0.9190679627768068,
          1.59436967636182,
          -0.11802519337300074,
          0.5883055741919039,
          -0.40888726324449765,
          -0.8427508700641458,
          0.059726795718412405,
          -0.2593758711802393,
          0.43199402140109044,
          0.7391808769493033,
          -0.9859983859826807,
          -0.10982292838783923,
          -0.735118026978211,
          0.0020092704885079637,
          0.11044970018502757,
          1.6615490278239524,
          0.03259818088062817,
          -0.019733186364458692,
          0.21803670465781763,
          0.26369203484433024,
          0.8634111072949268,
          0.0008355690946857561,
          -0.4403564296356372,
          0.5718458465543802,
          0.6426091863213986,
          2.5986702974078075,
          0.807512380854062,
          -0.9873402436931084,
          0.8093768662673073,
          2.7804196860661645,
          -0.44881276091377864,
          0.9631772242524053,
          -0.7608239460151477,
          -0.3356376858339743,
          0.6658254980379036,
          1.559430461138503,
          1.2498381400882623,
          1.2386242849715374,
          1.395681616906325,
          0.8830205264244256,
          0.4205925892915467,
          1.022620118306731,
          0.09499023997737753,
          -0.8598375728259922,
          -0.06148325183927021,
          1.6678558426456507,
          1.3026779509417608,
          -1.0811250922454758,
          -0.09940161189493037,
          0.30231049321942105,
          0.5785752116603203,
          -0.3659025569859325,
          -1.3524348623145261,
          1.2152768143933255,
          -0.7405498222117431,
          0.12752313153721662,
          -0.3141605732582258,
          0.3689107664192181,
          -1.8558251937626842,
          -0.8926732296819363,
          0.09996090398072764,
          -1.2199200339643053,
          -0.05755442797843427,
          -0.7559637792335455,
          -2.668448084698979
         ],
         "yaxis": "y3"
        },
        {
         "line": {
          "color": "rgba(128, 128, 128, 1.0)",
          "dash": "solid",
          "shape": "linear",
          "width": 1.3
         },
         "marker": {
          "size": 2,
          "symbol": "circle"
         },
         "mode": "markers",
         "name": "A",
         "text": "",
         "type": "scatter",
         "x": [
          -0.016266267532593675,
          -1.9175607644044288,
          -1.3096361651166792,
          0.30982350773856887,
          1.1920274808210825,
          -0.9639759867750893,
          -0.459376207831238,
          0.3640630915375373,
          -0.27490728509492807,
          0.40117684070848186,
          -1.1724458805289277,
          0.2862606392018767,
          1.3155828040954392,
          -0.40240220805775606,
          0.1762958407056729,
          0.6770557230418077,
          0.697183707355488,
          1.5648786017359773,
          0.10367303107284499,
          0.012265879713169734,
          0.5523829132942183,
          -0.9444336754285173,
          -1.4126505177709754,
          1.7543203253570094,
          -0.7695299543983339,
          -1.1543425714243205,
          0.6534988922923606,
          -0.8449742209204408,
          -0.4603248130253345,
          1.9195059132833274,
          -0.6740112213196392,
          -0.37035010063795337,
          -0.34551222662929193,
          -0.4947142058171532,
          -0.3879987367846848,
          -0.220033680788515,
          0.7697419164887037,
          -0.25790559468201263,
          1.7847743997572107,
          1.5539586743001421,
          -0.574317991255687,
          0.38289732185856135,
          0.4739023193467402,
          -0.9880710251785277,
          0.24271301354540137,
          -0.4705139112907117,
          -2.120647820959208,
          -0.8131151947171272,
          -0.3078659817900132,
          -1.3284940040116722,
          -1.6410364425699597,
          0.5182204233411811,
          1.028433001250845,
          -0.6501812230352362,
          -0.9969190134600268,
          0.7945720251623815,
          2.0570547779783883,
          0.18773394953287267,
          0.8371366392771855,
          -1.641978083369517,
          1.78196579998147,
          1.0108836553386344,
          -0.5048441071065946,
          0.3796292595942805,
          0.3315317171174229,
          1.384394396079279,
          -0.6267098867395908,
          -1.2838568740278253,
          -0.47381867958162877,
          -0.6078751987981147,
          1.2462142493938617,
          0.20754879479548488,
          0.4490958490717092,
          -0.4013098388455309,
          -0.4942752891081135,
          -0.7477318111155566,
          -0.13977445327016852,
          -0.7737595288076063,
          0.6626686712287341,
          -0.6696670659835362,
          0.7538737624087576,
          0.2550857378399872,
          -1.1632515848191056,
          -0.0338238478900006,
          -0.27042501951097186,
          1.121257735646997,
          1.5800141638906522,
          -1.2174432473563308,
          0.8754630640859936,
          -1.3982815212398807,
          -0.1114485476250136,
          -1.6569285432562406,
          0.4668555703563866,
          0.12276686082116595,
          -0.3010853305079448,
          -1.1998854854586816,
          2.107393925334404,
          -0.09241863054212683,
          1.0589387446622789,
          -0.6965161921160616
         ],
         "xaxis": "x4",
         "y": [
          0.0200557472937535,
          -0.00271132931331797,
          0.46549532154698425,
          -2.481646486984156,
          2.4303861210605935,
          0.5481507439264193,
          -0.38470482283232404,
          -0.518779439690536,
          -0.7501634969140787,
          1.3439489773286026,
          -0.589881383118077,
          1.555143766648843,
          -0.655953259623783,
          -1.1555818363342922,
          -0.7568772228453478,
          -1.5486617148203903,
          -0.5436877932895822,
          -0.5407220303875889,
          1.1397796840456185,
          2.399031489215634,
          -0.7398597890619141,
          1.0681578354258672,
          -0.5617995811618804,
          0.7798513629269344,
          -0.6709029452549264,
          0.5759018580777242,
          -1.3168975619356753,
          0.4652879785630099,
          0.5120686376505994,
          -0.07288612366483778,
          1.1561575191197915,
          0.013876953211418462,
          0.3708384949906431,
          0.6089218203334266,
          -1.1062402004761074,
          0.9190679627768068,
          1.59436967636182,
          -0.11802519337300074,
          0.5883055741919039,
          -0.40888726324449765,
          -0.8427508700641458,
          0.059726795718412405,
          -0.2593758711802393,
          0.43199402140109044,
          0.7391808769493033,
          -0.9859983859826807,
          -0.10982292838783923,
          -0.735118026978211,
          0.0020092704885079637,
          0.11044970018502757,
          1.6615490278239524,
          0.03259818088062817,
          -0.019733186364458692,
          0.21803670465781763,
          0.26369203484433024,
          0.8634111072949268,
          0.0008355690946857561,
          -0.4403564296356372,
          0.5718458465543802,
          0.6426091863213986,
          2.5986702974078075,
          0.807512380854062,
          -0.9873402436931084,
          0.8093768662673073,
          2.7804196860661645,
          -0.44881276091377864,
          0.9631772242524053,
          -0.7608239460151477,
          -0.3356376858339743,
          0.6658254980379036,
          1.559430461138503,
          1.2498381400882623,
          1.2386242849715374,
          1.395681616906325,
          0.8830205264244256,
          0.4205925892915467,
          1.022620118306731,
          0.09499023997737753,
          -0.8598375728259922,
          -0.06148325183927021,
          1.6678558426456507,
          1.3026779509417608,
          -1.0811250922454758,
          -0.09940161189493037,
          0.30231049321942105,
          0.5785752116603203,
          -0.3659025569859325,
          -1.3524348623145261,
          1.2152768143933255,
          -0.7405498222117431,
          0.12752313153721662,
          -0.3141605732582258,
          0.3689107664192181,
          -1.8558251937626842,
          -0.8926732296819363,
          0.09996090398072764,
          -1.2199200339643053,
          -0.05755442797843427,
          -0.7559637792335455,
          -2.668448084698979
         ],
         "yaxis": "y4"
        },
        {
         "line": {
          "color": "rgba(128, 128, 128, 1.0)",
          "dash": "solid",
          "shape": "linear",
          "width": 1.3
         },
         "marker": {
          "size": 2,
          "symbol": "circle"
         },
         "mode": "markers",
         "name": "B",
         "text": "",
         "type": "scatter",
         "x": [
          0.0200557472937535,
          -0.00271132931331797,
          0.46549532154698425,
          -2.481646486984156,
          2.4303861210605935,
          0.5481507439264193,
          -0.38470482283232404,
          -0.518779439690536,
          -0.7501634969140787,
          1.3439489773286026,
          -0.589881383118077,
          1.555143766648843,
          -0.655953259623783,
          -1.1555818363342922,
          -0.7568772228453478,
          -1.5486617148203903,
          -0.5436877932895822,
          -0.5407220303875889,
          1.1397796840456185,
          2.399031489215634,
          -0.7398597890619141,
          1.0681578354258672,
          -0.5617995811618804,
          0.7798513629269344,
          -0.6709029452549264,
          0.5759018580777242,
          -1.3168975619356753,
          0.4652879785630099,
          0.5120686376505994,
          -0.07288612366483778,
          1.1561575191197915,
          0.013876953211418462,
          0.3708384949906431,
          0.6089218203334266,
          -1.1062402004761074,
          0.9190679627768068,
          1.59436967636182,
          -0.11802519337300074,
          0.5883055741919039,
          -0.40888726324449765,
          -0.8427508700641458,
          0.059726795718412405,
          -0.2593758711802393,
          0.43199402140109044,
          0.7391808769493033,
          -0.9859983859826807,
          -0.10982292838783923,
          -0.735118026978211,
          0.0020092704885079637,
          0.11044970018502757,
          1.6615490278239524,
          0.03259818088062817,
          -0.019733186364458692,
          0.21803670465781763,
          0.26369203484433024,
          0.8634111072949268,
          0.0008355690946857561,
          -0.4403564296356372,
          0.5718458465543802,
          0.6426091863213986,
          2.5986702974078075,
          0.807512380854062,
          -0.9873402436931084,
          0.8093768662673073,
          2.7804196860661645,
          -0.44881276091377864,
          0.9631772242524053,
          -0.7608239460151477,
          -0.3356376858339743,
          0.6658254980379036,
          1.559430461138503,
          1.2498381400882623,
          1.2386242849715374,
          1.395681616906325,
          0.8830205264244256,
          0.4205925892915467,
          1.022620118306731,
          0.09499023997737753,
          -0.8598375728259922,
          -0.06148325183927021,
          1.6678558426456507,
          1.3026779509417608,
          -1.0811250922454758,
          -0.09940161189493037,
          0.30231049321942105,
          0.5785752116603203,
          -0.3659025569859325,
          -1.3524348623145261,
          1.2152768143933255,
          -0.7405498222117431,
          0.12752313153721662,
          -0.3141605732582258,
          0.3689107664192181,
          -1.8558251937626842,
          -0.8926732296819363,
          0.09996090398072764,
          -1.2199200339643053,
          -0.05755442797843427,
          -0.7559637792335455,
          -2.668448084698979
         ],
         "xaxis": "x5",
         "y": [
          -1.2097527221848159,
          1.1799046007041927,
          -1.1834221588769493,
          -1.6984135001086205,
          -0.5971861176431017,
          1.5104539612831518,
          0.29930145530660573,
          0.2983796237150073,
          -0.9766095973484259,
          1.793652088246052,
          0.1126591651924812,
          -0.5169902541696968,
          0.5948404156190612,
          -0.1239099481559275,
          -0.4379921127038842,
          -0.70011036355272,
          -0.30692386506556635,
          -0.22371888983850496,
          0.48190181278582656,
          -0.018744669651661303,
          -1.605704222186048,
          0.22083231765666572,
          2.044522952045807,
          -1.739225081395104,
          -0.1485858843940398,
          -0.33066224844880704,
          0.5745639130696373,
          1.6235507157746567,
          1.0401765822956874,
          -1.1583027927154714,
          1.442919332234142,
          -0.8311026172322971,
          -0.42095320811513415,
          0.6282504167274588,
          0.2892030355856491,
          -1.318331273313542,
          -0.9856390428839195,
          0.7749309610966735,
          0.15704140129774963,
          0.938125741824176,
          -1.3208921092090842,
          -0.9262496187199861,
          0.5670178032763279,
          -2.0668684741045134,
          2.222412409692029,
          -0.09654233381017159,
          -0.23736661139712492,
          0.9561664766125788,
          0.47471815147215224,
          0.08326596606072473,
          -1.0639577582619344,
          -0.05264940065464254,
          0.3289029014714224,
          0.1548341284831212,
          -1.5915158206318833,
          0.6835776998850714,
          -1.4385341690158227,
          0.7622147856721684,
          -0.8725250241542908,
          -0.8283412646805206,
          -0.4567219096907423,
          1.676652776432216,
          -0.4693471877153127,
          -0.08641067872490407,
          -1.6177194138719508,
          0.15863822514005227,
          -0.4267639176296674,
          0.5737955438625817,
          0.7091370364084323,
          1.8013916678745001,
          -1.1989731670895405,
          -0.5688742308502165,
          -0.1816674144520255,
          -2.359910757688425,
          0.22697686099693382,
          1.5224719511179265,
          -0.051427311291810475,
          -0.14986382281616054,
          1.938913925815311,
          2.0557818250774673,
          1.193872323830949,
          -1.2408303117525894,
          -0.2611619828244525,
          1.0433502750645813,
          -1.0481872674311117,
          0.8471112925652577,
          0.9214333172338225,
          -0.8303405354394535,
          0.7333288529098103,
          0.06195289574718428,
          -0.5523748555005844,
          0.07752582643237693,
          -0.1832526709631383,
          0.7060024294054582,
          -0.9700407116480401,
          -0.06033370210807146,
          -1.0702400934085323,
          1.9110186220760212,
          -0.822538683558576,
          -1.9343847616131806
         ],
         "yaxis": "y5"
        },
        {
         "histfunc": "count",
         "histnorm": "",
         "marker": {
          "color": "rgba(55, 128, 191, 1.0)",
          "line": {
           "color": "#4D5663",
           "width": 1.3
          }
         },
         "name": "B",
         "nbinsx": 10,
         "opacity": 0.8,
         "orientation": "v",
         "type": "histogram",
         "x": [
          -1.2097527221848159,
          1.1799046007041927,
          -1.1834221588769493,
          -1.6984135001086205,
          -0.5971861176431017,
          1.5104539612831518,
          0.29930145530660573,
          0.2983796237150073,
          -0.9766095973484259,
          1.793652088246052,
          0.1126591651924812,
          -0.5169902541696968,
          0.5948404156190612,
          -0.1239099481559275,
          -0.4379921127038842,
          -0.70011036355272,
          -0.30692386506556635,
          -0.22371888983850496,
          0.48190181278582656,
          -0.018744669651661303,
          -1.605704222186048,
          0.22083231765666572,
          2.044522952045807,
          -1.739225081395104,
          -0.1485858843940398,
          -0.33066224844880704,
          0.5745639130696373,
          1.6235507157746567,
          1.0401765822956874,
          -1.1583027927154714,
          1.442919332234142,
          -0.8311026172322971,
          -0.42095320811513415,
          0.6282504167274588,
          0.2892030355856491,
          -1.318331273313542,
          -0.9856390428839195,
          0.7749309610966735,
          0.15704140129774963,
          0.938125741824176,
          -1.3208921092090842,
          -0.9262496187199861,
          0.5670178032763279,
          -2.0668684741045134,
          2.222412409692029,
          -0.09654233381017159,
          -0.23736661139712492,
          0.9561664766125788,
          0.47471815147215224,
          0.08326596606072473,
          -1.0639577582619344,
          -0.05264940065464254,
          0.3289029014714224,
          0.1548341284831212,
          -1.5915158206318833,
          0.6835776998850714,
          -1.4385341690158227,
          0.7622147856721684,
          -0.8725250241542908,
          -0.8283412646805206,
          -0.4567219096907423,
          1.676652776432216,
          -0.4693471877153127,
          -0.08641067872490407,
          -1.6177194138719508,
          0.15863822514005227,
          -0.4267639176296674,
          0.5737955438625817,
          0.7091370364084323,
          1.8013916678745001,
          -1.1989731670895405,
          -0.5688742308502165,
          -0.1816674144520255,
          -2.359910757688425,
          0.22697686099693382,
          1.5224719511179265,
          -0.051427311291810475,
          -0.14986382281616054,
          1.938913925815311,
          2.0557818250774673,
          1.193872323830949,
          -1.2408303117525894,
          -0.2611619828244525,
          1.0433502750645813,
          -1.0481872674311117,
          0.8471112925652577,
          0.9214333172338225,
          -0.8303405354394535,
          0.7333288529098103,
          0.06195289574718428,
          -0.5523748555005844,
          0.07752582643237693,
          -0.1832526709631383,
          0.7060024294054582,
          -0.9700407116480401,
          -0.06033370210807146,
          -1.0702400934085323,
          1.9110186220760212,
          -0.822538683558576,
          -1.9343847616131806
         ],
         "xaxis": "x6",
         "yaxis": "y6"
        },
        {
         "line": {
          "color": "rgba(128, 128, 128, 1.0)",
          "dash": "solid",
          "shape": "linear",
          "width": 1.3
         },
         "marker": {
          "size": 2,
          "symbol": "circle"
         },
         "mode": "markers",
         "name": "B",
         "text": "",
         "type": "scatter",
         "x": [
          0.8083420630665378,
          -0.7648222124139935,
          0.4643172174734072,
          -0.10075614139784915,
          -0.2581029347010073,
          0.5414709545053994,
          -1.6772831850982985,
          1.3690422788468501,
          1.048147094683917,
          -2.088327013320739,
          -1.4096737923560239,
          -0.7970912433579793,
          -0.5237843086429662,
          -3.3664249074523793,
          -0.6156994213908308,
          1.3654325384656616,
          0.6199464355553261,
          0.2881025606295957,
          -1.0115535017359918,
          0.38649973790909553,
          0.103845950207263,
          0.257014975138551,
          0.40997311949806,
          0.9246749206670745,
          1.1753181732901241,
          -1.1456403996241877,
          0.7115166605044273,
          -0.4821100944580768,
          1.054757250154148,
          -0.7931070429568493,
          0.49958634061358476,
          -1.804183783313613,
          -0.8195480741717336,
          -0.06361603871967302,
          -0.8457119980175559,
          0.48483810209851336,
          1.0970650300680742,
          1.8019271320843695,
          0.6279053131085512,
          -0.23878642530815347,
          0.9605359825714156,
          0.2254934638953998,
          0.42246803352127676,
          0.05428605964076033,
          -1.2893079317352325,
          -1.3392162379310717,
          0.6982496162025887,
          0.6786272998972681,
          -0.7587827012380097,
          0.9988548628064908,
          1.2302690676377823,
          1.5246499734628876,
          -0.437246997825594,
          0.29183457547002806,
          1.7549358804056925,
          1.489477486208536,
          -1.0546887128399014,
          -0.4313109958264226,
          0.18978122694806013,
          0.13252273428089265,
          0.3246884283483141,
          0.3183729356103616,
          0.7766533790714364,
          0.5307936741007439,
          2.0235941635591113,
          -0.2964866099786187,
          -0.6658905935757808,
          -2.1196819016268784,
          -1.434573545374268,
          -1.140693132386746,
          0.3166595474746357,
          -0.5001845502247366,
          0.8304121195406919,
          -1.1253250369967436,
          -1.722875526360012,
          -0.36246406701518585,
          0.05194328606942015,
          -1.1001169784677582,
          1.39655795226364,
          0.9759756700939083,
          -0.43171851780306486,
          -2.0338249135062223,
          0.16142207652734952,
          -0.3071272403408853,
          0.7641972957490955,
          1.6342968909756563,
          -1.1776410174030765,
          -1.0837624162313493,
          -1.8979695056489236,
          0.3365402338601029,
          -0.3326659754598676,
          1.6488449596594998,
          0.49205212816745064,
          0.5495993401251483,
          1.2513338392142446,
          -0.6202802208564918,
          0.5854562864867651,
          0.40906866667466496,
          0.6133021138733645,
          1.4100389197072407
         ],
         "xaxis": "x7",
         "y": [
          -1.2097527221848159,
          1.1799046007041927,
          -1.1834221588769493,
          -1.6984135001086205,
          -0.5971861176431017,
          1.5104539612831518,
          0.29930145530660573,
          0.2983796237150073,
          -0.9766095973484259,
          1.793652088246052,
          0.1126591651924812,
          -0.5169902541696968,
          0.5948404156190612,
          -0.1239099481559275,
          -0.4379921127038842,
          -0.70011036355272,
          -0.30692386506556635,
          -0.22371888983850496,
          0.48190181278582656,
          -0.018744669651661303,
          -1.605704222186048,
          0.22083231765666572,
          2.044522952045807,
          -1.739225081395104,
          -0.1485858843940398,
          -0.33066224844880704,
          0.5745639130696373,
          1.6235507157746567,
          1.0401765822956874,
          -1.1583027927154714,
          1.442919332234142,
          -0.8311026172322971,
          -0.42095320811513415,
          0.6282504167274588,
          0.2892030355856491,
          -1.318331273313542,
          -0.9856390428839195,
          0.7749309610966735,
          0.15704140129774963,
          0.938125741824176,
          -1.3208921092090842,
          -0.9262496187199861,
          0.5670178032763279,
          -2.0668684741045134,
          2.222412409692029,
          -0.09654233381017159,
          -0.23736661139712492,
          0.9561664766125788,
          0.47471815147215224,
          0.08326596606072473,
          -1.0639577582619344,
          -0.05264940065464254,
          0.3289029014714224,
          0.1548341284831212,
          -1.5915158206318833,
          0.6835776998850714,
          -1.4385341690158227,
          0.7622147856721684,
          -0.8725250241542908,
          -0.8283412646805206,
          -0.4567219096907423,
          1.676652776432216,
          -0.4693471877153127,
          -0.08641067872490407,
          -1.6177194138719508,
          0.15863822514005227,
          -0.4267639176296674,
          0.5737955438625817,
          0.7091370364084323,
          1.8013916678745001,
          -1.1989731670895405,
          -0.5688742308502165,
          -0.1816674144520255,
          -2.359910757688425,
          0.22697686099693382,
          1.5224719511179265,
          -0.051427311291810475,
          -0.14986382281616054,
          1.938913925815311,
          2.0557818250774673,
          1.193872323830949,
          -1.2408303117525894,
          -0.2611619828244525,
          1.0433502750645813,
          -1.0481872674311117,
          0.8471112925652577,
          0.9214333172338225,
          -0.8303405354394535,
          0.7333288529098103,
          0.06195289574718428,
          -0.5523748555005844,
          0.07752582643237693,
          -0.1832526709631383,
          0.7060024294054582,
          -0.9700407116480401,
          -0.06033370210807146,
          -1.0702400934085323,
          1.9110186220760212,
          -0.822538683558576,
          -1.9343847616131806
         ],
         "yaxis": "y7"
        },
        {
         "line": {
          "color": "rgba(128, 128, 128, 1.0)",
          "dash": "solid",
          "shape": "linear",
          "width": 1.3
         },
         "marker": {
          "size": 2,
          "symbol": "circle"
         },
         "mode": "markers",
         "name": "B",
         "text": "",
         "type": "scatter",
         "x": [
          -0.016266267532593675,
          -1.9175607644044288,
          -1.3096361651166792,
          0.30982350773856887,
          1.1920274808210825,
          -0.9639759867750893,
          -0.459376207831238,
          0.3640630915375373,
          -0.27490728509492807,
          0.40117684070848186,
          -1.1724458805289277,
          0.2862606392018767,
          1.3155828040954392,
          -0.40240220805775606,
          0.1762958407056729,
          0.6770557230418077,
          0.697183707355488,
          1.5648786017359773,
          0.10367303107284499,
          0.012265879713169734,
          0.5523829132942183,
          -0.9444336754285173,
          -1.4126505177709754,
          1.7543203253570094,
          -0.7695299543983339,
          -1.1543425714243205,
          0.6534988922923606,
          -0.8449742209204408,
          -0.4603248130253345,
          1.9195059132833274,
          -0.6740112213196392,
          -0.37035010063795337,
          -0.34551222662929193,
          -0.4947142058171532,
          -0.3879987367846848,
          -0.220033680788515,
          0.7697419164887037,
          -0.25790559468201263,
          1.7847743997572107,
          1.5539586743001421,
          -0.574317991255687,
          0.38289732185856135,
          0.4739023193467402,
          -0.9880710251785277,
          0.24271301354540137,
          -0.4705139112907117,
          -2.120647820959208,
          -0.8131151947171272,
          -0.3078659817900132,
          -1.3284940040116722,
          -1.6410364425699597,
          0.5182204233411811,
          1.028433001250845,
          -0.6501812230352362,
          -0.9969190134600268,
          0.7945720251623815,
          2.0570547779783883,
          0.18773394953287267,
          0.8371366392771855,
          -1.641978083369517,
          1.78196579998147,
          1.0108836553386344,
          -0.5048441071065946,
          0.3796292595942805,
          0.3315317171174229,
          1.384394396079279,
          -0.6267098867395908,
          -1.2838568740278253,
          -0.47381867958162877,
          -0.6078751987981147,
          1.2462142493938617,
          0.20754879479548488,
          0.4490958490717092,
          -0.4013098388455309,
          -0.4942752891081135,
          -0.7477318111155566,
          -0.13977445327016852,
          -0.7737595288076063,
          0.6626686712287341,
          -0.6696670659835362,
          0.7538737624087576,
          0.2550857378399872,
          -1.1632515848191056,
          -0.0338238478900006,
          -0.27042501951097186,
          1.121257735646997,
          1.5800141638906522,
          -1.2174432473563308,
          0.8754630640859936,
          -1.3982815212398807,
          -0.1114485476250136,
          -1.6569285432562406,
          0.4668555703563866,
          0.12276686082116595,
          -0.3010853305079448,
          -1.1998854854586816,
          2.107393925334404,
          -0.09241863054212683,
          1.0589387446622789,
          -0.6965161921160616
         ],
         "xaxis": "x8",
         "y": [
          -1.2097527221848159,
          1.1799046007041927,
          -1.1834221588769493,
          -1.6984135001086205,
          -0.5971861176431017,
          1.5104539612831518,
          0.29930145530660573,
          0.2983796237150073,
          -0.9766095973484259,
          1.793652088246052,
          0.1126591651924812,
          -0.5169902541696968,
          0.5948404156190612,
          -0.1239099481559275,
          -0.4379921127038842,
          -0.70011036355272,
          -0.30692386506556635,
          -0.22371888983850496,
          0.48190181278582656,
          -0.018744669651661303,
          -1.605704222186048,
          0.22083231765666572,
          2.044522952045807,
          -1.739225081395104,
          -0.1485858843940398,
          -0.33066224844880704,
          0.5745639130696373,
          1.6235507157746567,
          1.0401765822956874,
          -1.1583027927154714,
          1.442919332234142,
          -0.8311026172322971,
          -0.42095320811513415,
          0.6282504167274588,
          0.2892030355856491,
          -1.318331273313542,
          -0.9856390428839195,
          0.7749309610966735,
          0.15704140129774963,
          0.938125741824176,
          -1.3208921092090842,
          -0.9262496187199861,
          0.5670178032763279,
          -2.0668684741045134,
          2.222412409692029,
          -0.09654233381017159,
          -0.23736661139712492,
          0.9561664766125788,
          0.47471815147215224,
          0.08326596606072473,
          -1.0639577582619344,
          -0.05264940065464254,
          0.3289029014714224,
          0.1548341284831212,
          -1.5915158206318833,
          0.6835776998850714,
          -1.4385341690158227,
          0.7622147856721684,
          -0.8725250241542908,
          -0.8283412646805206,
          -0.4567219096907423,
          1.676652776432216,
          -0.4693471877153127,
          -0.08641067872490407,
          -1.6177194138719508,
          0.15863822514005227,
          -0.4267639176296674,
          0.5737955438625817,
          0.7091370364084323,
          1.8013916678745001,
          -1.1989731670895405,
          -0.5688742308502165,
          -0.1816674144520255,
          -2.359910757688425,
          0.22697686099693382,
          1.5224719511179265,
          -0.051427311291810475,
          -0.14986382281616054,
          1.938913925815311,
          2.0557818250774673,
          1.193872323830949,
          -1.2408303117525894,
          -0.2611619828244525,
          1.0433502750645813,
          -1.0481872674311117,
          0.8471112925652577,
          0.9214333172338225,
          -0.8303405354394535,
          0.7333288529098103,
          0.06195289574718428,
          -0.5523748555005844,
          0.07752582643237693,
          -0.1832526709631383,
          0.7060024294054582,
          -0.9700407116480401,
          -0.06033370210807146,
          -1.0702400934085323,
          1.9110186220760212,
          -0.822538683558576,
          -1.9343847616131806
         ],
         "yaxis": "y8"
        },
        {
         "line": {
          "color": "rgba(128, 128, 128, 1.0)",
          "dash": "solid",
          "shape": "linear",
          "width": 1.3
         },
         "marker": {
          "size": 2,
          "symbol": "circle"
         },
         "mode": "markers",
         "name": "C",
         "text": "",
         "type": "scatter",
         "x": [
          0.0200557472937535,
          -0.00271132931331797,
          0.46549532154698425,
          -2.481646486984156,
          2.4303861210605935,
          0.5481507439264193,
          -0.38470482283232404,
          -0.518779439690536,
          -0.7501634969140787,
          1.3439489773286026,
          -0.589881383118077,
          1.555143766648843,
          -0.655953259623783,
          -1.1555818363342922,
          -0.7568772228453478,
          -1.5486617148203903,
          -0.5436877932895822,
          -0.5407220303875889,
          1.1397796840456185,
          2.399031489215634,
          -0.7398597890619141,
          1.0681578354258672,
          -0.5617995811618804,
          0.7798513629269344,
          -0.6709029452549264,
          0.5759018580777242,
          -1.3168975619356753,
          0.4652879785630099,
          0.5120686376505994,
          -0.07288612366483778,
          1.1561575191197915,
          0.013876953211418462,
          0.3708384949906431,
          0.6089218203334266,
          -1.1062402004761074,
          0.9190679627768068,
          1.59436967636182,
          -0.11802519337300074,
          0.5883055741919039,
          -0.40888726324449765,
          -0.8427508700641458,
          0.059726795718412405,
          -0.2593758711802393,
          0.43199402140109044,
          0.7391808769493033,
          -0.9859983859826807,
          -0.10982292838783923,
          -0.735118026978211,
          0.0020092704885079637,
          0.11044970018502757,
          1.6615490278239524,
          0.03259818088062817,
          -0.019733186364458692,
          0.21803670465781763,
          0.26369203484433024,
          0.8634111072949268,
          0.0008355690946857561,
          -0.4403564296356372,
          0.5718458465543802,
          0.6426091863213986,
          2.5986702974078075,
          0.807512380854062,
          -0.9873402436931084,
          0.8093768662673073,
          2.7804196860661645,
          -0.44881276091377864,
          0.9631772242524053,
          -0.7608239460151477,
          -0.3356376858339743,
          0.6658254980379036,
          1.559430461138503,
          1.2498381400882623,
          1.2386242849715374,
          1.395681616906325,
          0.8830205264244256,
          0.4205925892915467,
          1.022620118306731,
          0.09499023997737753,
          -0.8598375728259922,
          -0.06148325183927021,
          1.6678558426456507,
          1.3026779509417608,
          -1.0811250922454758,
          -0.09940161189493037,
          0.30231049321942105,
          0.5785752116603203,
          -0.3659025569859325,
          -1.3524348623145261,
          1.2152768143933255,
          -0.7405498222117431,
          0.12752313153721662,
          -0.3141605732582258,
          0.3689107664192181,
          -1.8558251937626842,
          -0.8926732296819363,
          0.09996090398072764,
          -1.2199200339643053,
          -0.05755442797843427,
          -0.7559637792335455,
          -2.668448084698979
         ],
         "xaxis": "x9",
         "y": [
          0.8083420630665378,
          -0.7648222124139935,
          0.4643172174734072,
          -0.10075614139784915,
          -0.2581029347010073,
          0.5414709545053994,
          -1.6772831850982985,
          1.3690422788468501,
          1.048147094683917,
          -2.088327013320739,
          -1.4096737923560239,
          -0.7970912433579793,
          -0.5237843086429662,
          -3.3664249074523793,
          -0.6156994213908308,
          1.3654325384656616,
          0.6199464355553261,
          0.2881025606295957,
          -1.0115535017359918,
          0.38649973790909553,
          0.103845950207263,
          0.257014975138551,
          0.40997311949806,
          0.9246749206670745,
          1.1753181732901241,
          -1.1456403996241877,
          0.7115166605044273,
          -0.4821100944580768,
          1.054757250154148,
          -0.7931070429568493,
          0.49958634061358476,
          -1.804183783313613,
          -0.8195480741717336,
          -0.06361603871967302,
          -0.8457119980175559,
          0.48483810209851336,
          1.0970650300680742,
          1.8019271320843695,
          0.6279053131085512,
          -0.23878642530815347,
          0.9605359825714156,
          0.2254934638953998,
          0.42246803352127676,
          0.05428605964076033,
          -1.2893079317352325,
          -1.3392162379310717,
          0.6982496162025887,
          0.6786272998972681,
          -0.7587827012380097,
          0.9988548628064908,
          1.2302690676377823,
          1.5246499734628876,
          -0.437246997825594,
          0.29183457547002806,
          1.7549358804056925,
          1.489477486208536,
          -1.0546887128399014,
          -0.4313109958264226,
          0.18978122694806013,
          0.13252273428089265,
          0.3246884283483141,
          0.3183729356103616,
          0.7766533790714364,
          0.5307936741007439,
          2.0235941635591113,
          -0.2964866099786187,
          -0.6658905935757808,
          -2.1196819016268784,
          -1.434573545374268,
          -1.140693132386746,
          0.3166595474746357,
          -0.5001845502247366,
          0.8304121195406919,
          -1.1253250369967436,
          -1.722875526360012,
          -0.36246406701518585,
          0.05194328606942015,
          -1.1001169784677582,
          1.39655795226364,
          0.9759756700939083,
          -0.43171851780306486,
          -2.0338249135062223,
          0.16142207652734952,
          -0.3071272403408853,
          0.7641972957490955,
          1.6342968909756563,
          -1.1776410174030765,
          -1.0837624162313493,
          -1.8979695056489236,
          0.3365402338601029,
          -0.3326659754598676,
          1.6488449596594998,
          0.49205212816745064,
          0.5495993401251483,
          1.2513338392142446,
          -0.6202802208564918,
          0.5854562864867651,
          0.40906866667466496,
          0.6133021138733645,
          1.4100389197072407
         ],
         "yaxis": "y9"
        },
        {
         "line": {
          "color": "rgba(128, 128, 128, 1.0)",
          "dash": "solid",
          "shape": "linear",
          "width": 1.3
         },
         "marker": {
          "size": 2,
          "symbol": "circle"
         },
         "mode": "markers",
         "name": "C",
         "text": "",
         "type": "scatter",
         "x": [
          -1.2097527221848159,
          1.1799046007041927,
          -1.1834221588769493,
          -1.6984135001086205,
          -0.5971861176431017,
          1.5104539612831518,
          0.29930145530660573,
          0.2983796237150073,
          -0.9766095973484259,
          1.793652088246052,
          0.1126591651924812,
          -0.5169902541696968,
          0.5948404156190612,
          -0.1239099481559275,
          -0.4379921127038842,
          -0.70011036355272,
          -0.30692386506556635,
          -0.22371888983850496,
          0.48190181278582656,
          -0.018744669651661303,
          -1.605704222186048,
          0.22083231765666572,
          2.044522952045807,
          -1.739225081395104,
          -0.1485858843940398,
          -0.33066224844880704,
          0.5745639130696373,
          1.6235507157746567,
          1.0401765822956874,
          -1.1583027927154714,
          1.442919332234142,
          -0.8311026172322971,
          -0.42095320811513415,
          0.6282504167274588,
          0.2892030355856491,
          -1.318331273313542,
          -0.9856390428839195,
          0.7749309610966735,
          0.15704140129774963,
          0.938125741824176,
          -1.3208921092090842,
          -0.9262496187199861,
          0.5670178032763279,
          -2.0668684741045134,
          2.222412409692029,
          -0.09654233381017159,
          -0.23736661139712492,
          0.9561664766125788,
          0.47471815147215224,
          0.08326596606072473,
          -1.0639577582619344,
          -0.05264940065464254,
          0.3289029014714224,
          0.1548341284831212,
          -1.5915158206318833,
          0.6835776998850714,
          -1.4385341690158227,
          0.7622147856721684,
          -0.8725250241542908,
          -0.8283412646805206,
          -0.4567219096907423,
          1.676652776432216,
          -0.4693471877153127,
          -0.08641067872490407,
          -1.6177194138719508,
          0.15863822514005227,
          -0.4267639176296674,
          0.5737955438625817,
          0.7091370364084323,
          1.8013916678745001,
          -1.1989731670895405,
          -0.5688742308502165,
          -0.1816674144520255,
          -2.359910757688425,
          0.22697686099693382,
          1.5224719511179265,
          -0.051427311291810475,
          -0.14986382281616054,
          1.938913925815311,
          2.0557818250774673,
          1.193872323830949,
          -1.2408303117525894,
          -0.2611619828244525,
          1.0433502750645813,
          -1.0481872674311117,
          0.8471112925652577,
          0.9214333172338225,
          -0.8303405354394535,
          0.7333288529098103,
          0.06195289574718428,
          -0.5523748555005844,
          0.07752582643237693,
          -0.1832526709631383,
          0.7060024294054582,
          -0.9700407116480401,
          -0.06033370210807146,
          -1.0702400934085323,
          1.9110186220760212,
          -0.822538683558576,
          -1.9343847616131806
         ],
         "xaxis": "x10",
         "y": [
          0.8083420630665378,
          -0.7648222124139935,
          0.4643172174734072,
          -0.10075614139784915,
          -0.2581029347010073,
          0.5414709545053994,
          -1.6772831850982985,
          1.3690422788468501,
          1.048147094683917,
          -2.088327013320739,
          -1.4096737923560239,
          -0.7970912433579793,
          -0.5237843086429662,
          -3.3664249074523793,
          -0.6156994213908308,
          1.3654325384656616,
          0.6199464355553261,
          0.2881025606295957,
          -1.0115535017359918,
          0.38649973790909553,
          0.103845950207263,
          0.257014975138551,
          0.40997311949806,
          0.9246749206670745,
          1.1753181732901241,
          -1.1456403996241877,
          0.7115166605044273,
          -0.4821100944580768,
          1.054757250154148,
          -0.7931070429568493,
          0.49958634061358476,
          -1.804183783313613,
          -0.8195480741717336,
          -0.06361603871967302,
          -0.8457119980175559,
          0.48483810209851336,
          1.0970650300680742,
          1.8019271320843695,
          0.6279053131085512,
          -0.23878642530815347,
          0.9605359825714156,
          0.2254934638953998,
          0.42246803352127676,
          0.05428605964076033,
          -1.2893079317352325,
          -1.3392162379310717,
          0.6982496162025887,
          0.6786272998972681,
          -0.7587827012380097,
          0.9988548628064908,
          1.2302690676377823,
          1.5246499734628876,
          -0.437246997825594,
          0.29183457547002806,
          1.7549358804056925,
          1.489477486208536,
          -1.0546887128399014,
          -0.4313109958264226,
          0.18978122694806013,
          0.13252273428089265,
          0.3246884283483141,
          0.3183729356103616,
          0.7766533790714364,
          0.5307936741007439,
          2.0235941635591113,
          -0.2964866099786187,
          -0.6658905935757808,
          -2.1196819016268784,
          -1.434573545374268,
          -1.140693132386746,
          0.3166595474746357,
          -0.5001845502247366,
          0.8304121195406919,
          -1.1253250369967436,
          -1.722875526360012,
          -0.36246406701518585,
          0.05194328606942015,
          -1.1001169784677582,
          1.39655795226364,
          0.9759756700939083,
          -0.43171851780306486,
          -2.0338249135062223,
          0.16142207652734952,
          -0.3071272403408853,
          0.7641972957490955,
          1.6342968909756563,
          -1.1776410174030765,
          -1.0837624162313493,
          -1.8979695056489236,
          0.3365402338601029,
          -0.3326659754598676,
          1.6488449596594998,
          0.49205212816745064,
          0.5495993401251483,
          1.2513338392142446,
          -0.6202802208564918,
          0.5854562864867651,
          0.40906866667466496,
          0.6133021138733645,
          1.4100389197072407
         ],
         "yaxis": "y10"
        },
        {
         "histfunc": "count",
         "histnorm": "",
         "marker": {
          "color": "rgba(50, 171, 96, 1.0)",
          "line": {
           "color": "#4D5663",
           "width": 1.3
          }
         },
         "name": "C",
         "nbinsx": 10,
         "opacity": 0.8,
         "orientation": "v",
         "type": "histogram",
         "x": [
          0.8083420630665378,
          -0.7648222124139935,
          0.4643172174734072,
          -0.10075614139784915,
          -0.2581029347010073,
          0.5414709545053994,
          -1.6772831850982985,
          1.3690422788468501,
          1.048147094683917,
          -2.088327013320739,
          -1.4096737923560239,
          -0.7970912433579793,
          -0.5237843086429662,
          -3.3664249074523793,
          -0.6156994213908308,
          1.3654325384656616,
          0.6199464355553261,
          0.2881025606295957,
          -1.0115535017359918,
          0.38649973790909553,
          0.103845950207263,
          0.257014975138551,
          0.40997311949806,
          0.9246749206670745,
          1.1753181732901241,
          -1.1456403996241877,
          0.7115166605044273,
          -0.4821100944580768,
          1.054757250154148,
          -0.7931070429568493,
          0.49958634061358476,
          -1.804183783313613,
          -0.8195480741717336,
          -0.06361603871967302,
          -0.8457119980175559,
          0.48483810209851336,
          1.0970650300680742,
          1.8019271320843695,
          0.6279053131085512,
          -0.23878642530815347,
          0.9605359825714156,
          0.2254934638953998,
          0.42246803352127676,
          0.05428605964076033,
          -1.2893079317352325,
          -1.3392162379310717,
          0.6982496162025887,
          0.6786272998972681,
          -0.7587827012380097,
          0.9988548628064908,
          1.2302690676377823,
          1.5246499734628876,
          -0.437246997825594,
          0.29183457547002806,
          1.7549358804056925,
          1.489477486208536,
          -1.0546887128399014,
          -0.4313109958264226,
          0.18978122694806013,
          0.13252273428089265,
          0.3246884283483141,
          0.3183729356103616,
          0.7766533790714364,
          0.5307936741007439,
          2.0235941635591113,
          -0.2964866099786187,
          -0.6658905935757808,
          -2.1196819016268784,
          -1.434573545374268,
          -1.140693132386746,
          0.3166595474746357,
          -0.5001845502247366,
          0.8304121195406919,
          -1.1253250369967436,
          -1.722875526360012,
          -0.36246406701518585,
          0.05194328606942015,
          -1.1001169784677582,
          1.39655795226364,
          0.9759756700939083,
          -0.43171851780306486,
          -2.0338249135062223,
          0.16142207652734952,
          -0.3071272403408853,
          0.7641972957490955,
          1.6342968909756563,
          -1.1776410174030765,
          -1.0837624162313493,
          -1.8979695056489236,
          0.3365402338601029,
          -0.3326659754598676,
          1.6488449596594998,
          0.49205212816745064,
          0.5495993401251483,
          1.2513338392142446,
          -0.6202802208564918,
          0.5854562864867651,
          0.40906866667466496,
          0.6133021138733645,
          1.4100389197072407
         ],
         "xaxis": "x11",
         "yaxis": "y11"
        },
        {
         "line": {
          "color": "rgba(128, 128, 128, 1.0)",
          "dash": "solid",
          "shape": "linear",
          "width": 1.3
         },
         "marker": {
          "size": 2,
          "symbol": "circle"
         },
         "mode": "markers",
         "name": "C",
         "text": "",
         "type": "scatter",
         "x": [
          -0.016266267532593675,
          -1.9175607644044288,
          -1.3096361651166792,
          0.30982350773856887,
          1.1920274808210825,
          -0.9639759867750893,
          -0.459376207831238,
          0.3640630915375373,
          -0.27490728509492807,
          0.40117684070848186,
          -1.1724458805289277,
          0.2862606392018767,
          1.3155828040954392,
          -0.40240220805775606,
          0.1762958407056729,
          0.6770557230418077,
          0.697183707355488,
          1.5648786017359773,
          0.10367303107284499,
          0.012265879713169734,
          0.5523829132942183,
          -0.9444336754285173,
          -1.4126505177709754,
          1.7543203253570094,
          -0.7695299543983339,
          -1.1543425714243205,
          0.6534988922923606,
          -0.8449742209204408,
          -0.4603248130253345,
          1.9195059132833274,
          -0.6740112213196392,
          -0.37035010063795337,
          -0.34551222662929193,
          -0.4947142058171532,
          -0.3879987367846848,
          -0.220033680788515,
          0.7697419164887037,
          -0.25790559468201263,
          1.7847743997572107,
          1.5539586743001421,
          -0.574317991255687,
          0.38289732185856135,
          0.4739023193467402,
          -0.9880710251785277,
          0.24271301354540137,
          -0.4705139112907117,
          -2.120647820959208,
          -0.8131151947171272,
          -0.3078659817900132,
          -1.3284940040116722,
          -1.6410364425699597,
          0.5182204233411811,
          1.028433001250845,
          -0.6501812230352362,
          -0.9969190134600268,
          0.7945720251623815,
          2.0570547779783883,
          0.18773394953287267,
          0.8371366392771855,
          -1.641978083369517,
          1.78196579998147,
          1.0108836553386344,
          -0.5048441071065946,
          0.3796292595942805,
          0.3315317171174229,
          1.384394396079279,
          -0.6267098867395908,
          -1.2838568740278253,
          -0.47381867958162877,
          -0.6078751987981147,
          1.2462142493938617,
          0.20754879479548488,
          0.4490958490717092,
          -0.4013098388455309,
          -0.4942752891081135,
          -0.7477318111155566,
          -0.13977445327016852,
          -0.7737595288076063,
          0.6626686712287341,
          -0.6696670659835362,
          0.7538737624087576,
          0.2550857378399872,
          -1.1632515848191056,
          -0.0338238478900006,
          -0.27042501951097186,
          1.121257735646997,
          1.5800141638906522,
          -1.2174432473563308,
          0.8754630640859936,
          -1.3982815212398807,
          -0.1114485476250136,
          -1.6569285432562406,
          0.4668555703563866,
          0.12276686082116595,
          -0.3010853305079448,
          -1.1998854854586816,
          2.107393925334404,
          -0.09241863054212683,
          1.0589387446622789,
          -0.6965161921160616
         ],
         "xaxis": "x12",
         "y": [
          0.8083420630665378,
          -0.7648222124139935,
          0.4643172174734072,
          -0.10075614139784915,
          -0.2581029347010073,
          0.5414709545053994,
          -1.6772831850982985,
          1.3690422788468501,
          1.048147094683917,
          -2.088327013320739,
          -1.4096737923560239,
          -0.7970912433579793,
          -0.5237843086429662,
          -3.3664249074523793,
          -0.6156994213908308,
          1.3654325384656616,
          0.6199464355553261,
          0.2881025606295957,
          -1.0115535017359918,
          0.38649973790909553,
          0.103845950207263,
          0.257014975138551,
          0.40997311949806,
          0.9246749206670745,
          1.1753181732901241,
          -1.1456403996241877,
          0.7115166605044273,
          -0.4821100944580768,
          1.054757250154148,
          -0.7931070429568493,
          0.49958634061358476,
          -1.804183783313613,
          -0.8195480741717336,
          -0.06361603871967302,
          -0.8457119980175559,
          0.48483810209851336,
          1.0970650300680742,
          1.8019271320843695,
          0.6279053131085512,
          -0.23878642530815347,
          0.9605359825714156,
          0.2254934638953998,
          0.42246803352127676,
          0.05428605964076033,
          -1.2893079317352325,
          -1.3392162379310717,
          0.6982496162025887,
          0.6786272998972681,
          -0.7587827012380097,
          0.9988548628064908,
          1.2302690676377823,
          1.5246499734628876,
          -0.437246997825594,
          0.29183457547002806,
          1.7549358804056925,
          1.489477486208536,
          -1.0546887128399014,
          -0.4313109958264226,
          0.18978122694806013,
          0.13252273428089265,
          0.3246884283483141,
          0.3183729356103616,
          0.7766533790714364,
          0.5307936741007439,
          2.0235941635591113,
          -0.2964866099786187,
          -0.6658905935757808,
          -2.1196819016268784,
          -1.434573545374268,
          -1.140693132386746,
          0.3166595474746357,
          -0.5001845502247366,
          0.8304121195406919,
          -1.1253250369967436,
          -1.722875526360012,
          -0.36246406701518585,
          0.05194328606942015,
          -1.1001169784677582,
          1.39655795226364,
          0.9759756700939083,
          -0.43171851780306486,
          -2.0338249135062223,
          0.16142207652734952,
          -0.3071272403408853,
          0.7641972957490955,
          1.6342968909756563,
          -1.1776410174030765,
          -1.0837624162313493,
          -1.8979695056489236,
          0.3365402338601029,
          -0.3326659754598676,
          1.6488449596594998,
          0.49205212816745064,
          0.5495993401251483,
          1.2513338392142446,
          -0.6202802208564918,
          0.5854562864867651,
          0.40906866667466496,
          0.6133021138733645,
          1.4100389197072407
         ],
         "yaxis": "y12"
        },
        {
         "line": {
          "color": "rgba(128, 128, 128, 1.0)",
          "dash": "solid",
          "shape": "linear",
          "width": 1.3
         },
         "marker": {
          "size": 2,
          "symbol": "circle"
         },
         "mode": "markers",
         "name": "D",
         "text": "",
         "type": "scatter",
         "x": [
          0.0200557472937535,
          -0.00271132931331797,
          0.46549532154698425,
          -2.481646486984156,
          2.4303861210605935,
          0.5481507439264193,
          -0.38470482283232404,
          -0.518779439690536,
          -0.7501634969140787,
          1.3439489773286026,
          -0.589881383118077,
          1.555143766648843,
          -0.655953259623783,
          -1.1555818363342922,
          -0.7568772228453478,
          -1.5486617148203903,
          -0.5436877932895822,
          -0.5407220303875889,
          1.1397796840456185,
          2.399031489215634,
          -0.7398597890619141,
          1.0681578354258672,
          -0.5617995811618804,
          0.7798513629269344,
          -0.6709029452549264,
          0.5759018580777242,
          -1.3168975619356753,
          0.4652879785630099,
          0.5120686376505994,
          -0.07288612366483778,
          1.1561575191197915,
          0.013876953211418462,
          0.3708384949906431,
          0.6089218203334266,
          -1.1062402004761074,
          0.9190679627768068,
          1.59436967636182,
          -0.11802519337300074,
          0.5883055741919039,
          -0.40888726324449765,
          -0.8427508700641458,
          0.059726795718412405,
          -0.2593758711802393,
          0.43199402140109044,
          0.7391808769493033,
          -0.9859983859826807,
          -0.10982292838783923,
          -0.735118026978211,
          0.0020092704885079637,
          0.11044970018502757,
          1.6615490278239524,
          0.03259818088062817,
          -0.019733186364458692,
          0.21803670465781763,
          0.26369203484433024,
          0.8634111072949268,
          0.0008355690946857561,
          -0.4403564296356372,
          0.5718458465543802,
          0.6426091863213986,
          2.5986702974078075,
          0.807512380854062,
          -0.9873402436931084,
          0.8093768662673073,
          2.7804196860661645,
          -0.44881276091377864,
          0.9631772242524053,
          -0.7608239460151477,
          -0.3356376858339743,
          0.6658254980379036,
          1.559430461138503,
          1.2498381400882623,
          1.2386242849715374,
          1.395681616906325,
          0.8830205264244256,
          0.4205925892915467,
          1.022620118306731,
          0.09499023997737753,
          -0.8598375728259922,
          -0.06148325183927021,
          1.6678558426456507,
          1.3026779509417608,
          -1.0811250922454758,
          -0.09940161189493037,
          0.30231049321942105,
          0.5785752116603203,
          -0.3659025569859325,
          -1.3524348623145261,
          1.2152768143933255,
          -0.7405498222117431,
          0.12752313153721662,
          -0.3141605732582258,
          0.3689107664192181,
          -1.8558251937626842,
          -0.8926732296819363,
          0.09996090398072764,
          -1.2199200339643053,
          -0.05755442797843427,
          -0.7559637792335455,
          -2.668448084698979
         ],
         "xaxis": "x13",
         "y": [
          -0.016266267532593675,
          -1.9175607644044288,
          -1.3096361651166792,
          0.30982350773856887,
          1.1920274808210825,
          -0.9639759867750893,
          -0.459376207831238,
          0.3640630915375373,
          -0.27490728509492807,
          0.40117684070848186,
          -1.1724458805289277,
          0.2862606392018767,
          1.3155828040954392,
          -0.40240220805775606,
          0.1762958407056729,
          0.6770557230418077,
          0.697183707355488,
          1.5648786017359773,
          0.10367303107284499,
          0.012265879713169734,
          0.5523829132942183,
          -0.9444336754285173,
          -1.4126505177709754,
          1.7543203253570094,
          -0.7695299543983339,
          -1.1543425714243205,
          0.6534988922923606,
          -0.8449742209204408,
          -0.4603248130253345,
          1.9195059132833274,
          -0.6740112213196392,
          -0.37035010063795337,
          -0.34551222662929193,
          -0.4947142058171532,
          -0.3879987367846848,
          -0.220033680788515,
          0.7697419164887037,
          -0.25790559468201263,
          1.7847743997572107,
          1.5539586743001421,
          -0.574317991255687,
          0.38289732185856135,
          0.4739023193467402,
          -0.9880710251785277,
          0.24271301354540137,
          -0.4705139112907117,
          -2.120647820959208,
          -0.8131151947171272,
          -0.3078659817900132,
          -1.3284940040116722,
          -1.6410364425699597,
          0.5182204233411811,
          1.028433001250845,
          -0.6501812230352362,
          -0.9969190134600268,
          0.7945720251623815,
          2.0570547779783883,
          0.18773394953287267,
          0.8371366392771855,
          -1.641978083369517,
          1.78196579998147,
          1.0108836553386344,
          -0.5048441071065946,
          0.3796292595942805,
          0.3315317171174229,
          1.384394396079279,
          -0.6267098867395908,
          -1.2838568740278253,
          -0.47381867958162877,
          -0.6078751987981147,
          1.2462142493938617,
          0.20754879479548488,
          0.4490958490717092,
          -0.4013098388455309,
          -0.4942752891081135,
          -0.7477318111155566,
          -0.13977445327016852,
          -0.7737595288076063,
          0.6626686712287341,
          -0.6696670659835362,
          0.7538737624087576,
          0.2550857378399872,
          -1.1632515848191056,
          -0.0338238478900006,
          -0.27042501951097186,
          1.121257735646997,
          1.5800141638906522,
          -1.2174432473563308,
          0.8754630640859936,
          -1.3982815212398807,
          -0.1114485476250136,
          -1.6569285432562406,
          0.4668555703563866,
          0.12276686082116595,
          -0.3010853305079448,
          -1.1998854854586816,
          2.107393925334404,
          -0.09241863054212683,
          1.0589387446622789,
          -0.6965161921160616
         ],
         "yaxis": "y13"
        },
        {
         "line": {
          "color": "rgba(128, 128, 128, 1.0)",
          "dash": "solid",
          "shape": "linear",
          "width": 1.3
         },
         "marker": {
          "size": 2,
          "symbol": "circle"
         },
         "mode": "markers",
         "name": "D",
         "text": "",
         "type": "scatter",
         "x": [
          -1.2097527221848159,
          1.1799046007041927,
          -1.1834221588769493,
          -1.6984135001086205,
          -0.5971861176431017,
          1.5104539612831518,
          0.29930145530660573,
          0.2983796237150073,
          -0.9766095973484259,
          1.793652088246052,
          0.1126591651924812,
          -0.5169902541696968,
          0.5948404156190612,
          -0.1239099481559275,
          -0.4379921127038842,
          -0.70011036355272,
          -0.30692386506556635,
          -0.22371888983850496,
          0.48190181278582656,
          -0.018744669651661303,
          -1.605704222186048,
          0.22083231765666572,
          2.044522952045807,
          -1.739225081395104,
          -0.1485858843940398,
          -0.33066224844880704,
          0.5745639130696373,
          1.6235507157746567,
          1.0401765822956874,
          -1.1583027927154714,
          1.442919332234142,
          -0.8311026172322971,
          -0.42095320811513415,
          0.6282504167274588,
          0.2892030355856491,
          -1.318331273313542,
          -0.9856390428839195,
          0.7749309610966735,
          0.15704140129774963,
          0.938125741824176,
          -1.3208921092090842,
          -0.9262496187199861,
          0.5670178032763279,
          -2.0668684741045134,
          2.222412409692029,
          -0.09654233381017159,
          -0.23736661139712492,
          0.9561664766125788,
          0.47471815147215224,
          0.08326596606072473,
          -1.0639577582619344,
          -0.05264940065464254,
          0.3289029014714224,
          0.1548341284831212,
          -1.5915158206318833,
          0.6835776998850714,
          -1.4385341690158227,
          0.7622147856721684,
          -0.8725250241542908,
          -0.8283412646805206,
          -0.4567219096907423,
          1.676652776432216,
          -0.4693471877153127,
          -0.08641067872490407,
          -1.6177194138719508,
          0.15863822514005227,
          -0.4267639176296674,
          0.5737955438625817,
          0.7091370364084323,
          1.8013916678745001,
          -1.1989731670895405,
          -0.5688742308502165,
          -0.1816674144520255,
          -2.359910757688425,
          0.22697686099693382,
          1.5224719511179265,
          -0.051427311291810475,
          -0.14986382281616054,
          1.938913925815311,
          2.0557818250774673,
          1.193872323830949,
          -1.2408303117525894,
          -0.2611619828244525,
          1.0433502750645813,
          -1.0481872674311117,
          0.8471112925652577,
          0.9214333172338225,
          -0.8303405354394535,
          0.7333288529098103,
          0.06195289574718428,
          -0.5523748555005844,
          0.07752582643237693,
          -0.1832526709631383,
          0.7060024294054582,
          -0.9700407116480401,
          -0.06033370210807146,
          -1.0702400934085323,
          1.9110186220760212,
          -0.822538683558576,
          -1.9343847616131806
         ],
         "xaxis": "x14",
         "y": [
          -0.016266267532593675,
          -1.9175607644044288,
          -1.3096361651166792,
          0.30982350773856887,
          1.1920274808210825,
          -0.9639759867750893,
          -0.459376207831238,
          0.3640630915375373,
          -0.27490728509492807,
          0.40117684070848186,
          -1.1724458805289277,
          0.2862606392018767,
          1.3155828040954392,
          -0.40240220805775606,
          0.1762958407056729,
          0.6770557230418077,
          0.697183707355488,
          1.5648786017359773,
          0.10367303107284499,
          0.012265879713169734,
          0.5523829132942183,
          -0.9444336754285173,
          -1.4126505177709754,
          1.7543203253570094,
          -0.7695299543983339,
          -1.1543425714243205,
          0.6534988922923606,
          -0.8449742209204408,
          -0.4603248130253345,
          1.9195059132833274,
          -0.6740112213196392,
          -0.37035010063795337,
          -0.34551222662929193,
          -0.4947142058171532,
          -0.3879987367846848,
          -0.220033680788515,
          0.7697419164887037,
          -0.25790559468201263,
          1.7847743997572107,
          1.5539586743001421,
          -0.574317991255687,
          0.38289732185856135,
          0.4739023193467402,
          -0.9880710251785277,
          0.24271301354540137,
          -0.4705139112907117,
          -2.120647820959208,
          -0.8131151947171272,
          -0.3078659817900132,
          -1.3284940040116722,
          -1.6410364425699597,
          0.5182204233411811,
          1.028433001250845,
          -0.6501812230352362,
          -0.9969190134600268,
          0.7945720251623815,
          2.0570547779783883,
          0.18773394953287267,
          0.8371366392771855,
          -1.641978083369517,
          1.78196579998147,
          1.0108836553386344,
          -0.5048441071065946,
          0.3796292595942805,
          0.3315317171174229,
          1.384394396079279,
          -0.6267098867395908,
          -1.2838568740278253,
          -0.47381867958162877,
          -0.6078751987981147,
          1.2462142493938617,
          0.20754879479548488,
          0.4490958490717092,
          -0.4013098388455309,
          -0.4942752891081135,
          -0.7477318111155566,
          -0.13977445327016852,
          -0.7737595288076063,
          0.6626686712287341,
          -0.6696670659835362,
          0.7538737624087576,
          0.2550857378399872,
          -1.1632515848191056,
          -0.0338238478900006,
          -0.27042501951097186,
          1.121257735646997,
          1.5800141638906522,
          -1.2174432473563308,
          0.8754630640859936,
          -1.3982815212398807,
          -0.1114485476250136,
          -1.6569285432562406,
          0.4668555703563866,
          0.12276686082116595,
          -0.3010853305079448,
          -1.1998854854586816,
          2.107393925334404,
          -0.09241863054212683,
          1.0589387446622789,
          -0.6965161921160616
         ],
         "yaxis": "y14"
        },
        {
         "line": {
          "color": "rgba(128, 128, 128, 1.0)",
          "dash": "solid",
          "shape": "linear",
          "width": 1.3
         },
         "marker": {
          "size": 2,
          "symbol": "circle"
         },
         "mode": "markers",
         "name": "D",
         "text": "",
         "type": "scatter",
         "x": [
          0.8083420630665378,
          -0.7648222124139935,
          0.4643172174734072,
          -0.10075614139784915,
          -0.2581029347010073,
          0.5414709545053994,
          -1.6772831850982985,
          1.3690422788468501,
          1.048147094683917,
          -2.088327013320739,
          -1.4096737923560239,
          -0.7970912433579793,
          -0.5237843086429662,
          -3.3664249074523793,
          -0.6156994213908308,
          1.3654325384656616,
          0.6199464355553261,
          0.2881025606295957,
          -1.0115535017359918,
          0.38649973790909553,
          0.103845950207263,
          0.257014975138551,
          0.40997311949806,
          0.9246749206670745,
          1.1753181732901241,
          -1.1456403996241877,
          0.7115166605044273,
          -0.4821100944580768,
          1.054757250154148,
          -0.7931070429568493,
          0.49958634061358476,
          -1.804183783313613,
          -0.8195480741717336,
          -0.06361603871967302,
          -0.8457119980175559,
          0.48483810209851336,
          1.0970650300680742,
          1.8019271320843695,
          0.6279053131085512,
          -0.23878642530815347,
          0.9605359825714156,
          0.2254934638953998,
          0.42246803352127676,
          0.05428605964076033,
          -1.2893079317352325,
          -1.3392162379310717,
          0.6982496162025887,
          0.6786272998972681,
          -0.7587827012380097,
          0.9988548628064908,
          1.2302690676377823,
          1.5246499734628876,
          -0.437246997825594,
          0.29183457547002806,
          1.7549358804056925,
          1.489477486208536,
          -1.0546887128399014,
          -0.4313109958264226,
          0.18978122694806013,
          0.13252273428089265,
          0.3246884283483141,
          0.3183729356103616,
          0.7766533790714364,
          0.5307936741007439,
          2.0235941635591113,
          -0.2964866099786187,
          -0.6658905935757808,
          -2.1196819016268784,
          -1.434573545374268,
          -1.140693132386746,
          0.3166595474746357,
          -0.5001845502247366,
          0.8304121195406919,
          -1.1253250369967436,
          -1.722875526360012,
          -0.36246406701518585,
          0.05194328606942015,
          -1.1001169784677582,
          1.39655795226364,
          0.9759756700939083,
          -0.43171851780306486,
          -2.0338249135062223,
          0.16142207652734952,
          -0.3071272403408853,
          0.7641972957490955,
          1.6342968909756563,
          -1.1776410174030765,
          -1.0837624162313493,
          -1.8979695056489236,
          0.3365402338601029,
          -0.3326659754598676,
          1.6488449596594998,
          0.49205212816745064,
          0.5495993401251483,
          1.2513338392142446,
          -0.6202802208564918,
          0.5854562864867651,
          0.40906866667466496,
          0.6133021138733645,
          1.4100389197072407
         ],
         "xaxis": "x15",
         "y": [
          -0.016266267532593675,
          -1.9175607644044288,
          -1.3096361651166792,
          0.30982350773856887,
          1.1920274808210825,
          -0.9639759867750893,
          -0.459376207831238,
          0.3640630915375373,
          -0.27490728509492807,
          0.40117684070848186,
          -1.1724458805289277,
          0.2862606392018767,
          1.3155828040954392,
          -0.40240220805775606,
          0.1762958407056729,
          0.6770557230418077,
          0.697183707355488,
          1.5648786017359773,
          0.10367303107284499,
          0.012265879713169734,
          0.5523829132942183,
          -0.9444336754285173,
          -1.4126505177709754,
          1.7543203253570094,
          -0.7695299543983339,
          -1.1543425714243205,
          0.6534988922923606,
          -0.8449742209204408,
          -0.4603248130253345,
          1.9195059132833274,
          -0.6740112213196392,
          -0.37035010063795337,
          -0.34551222662929193,
          -0.4947142058171532,
          -0.3879987367846848,
          -0.220033680788515,
          0.7697419164887037,
          -0.25790559468201263,
          1.7847743997572107,
          1.5539586743001421,
          -0.574317991255687,
          0.38289732185856135,
          0.4739023193467402,
          -0.9880710251785277,
          0.24271301354540137,
          -0.4705139112907117,
          -2.120647820959208,
          -0.8131151947171272,
          -0.3078659817900132,
          -1.3284940040116722,
          -1.6410364425699597,
          0.5182204233411811,
          1.028433001250845,
          -0.6501812230352362,
          -0.9969190134600268,
          0.7945720251623815,
          2.0570547779783883,
          0.18773394953287267,
          0.8371366392771855,
          -1.641978083369517,
          1.78196579998147,
          1.0108836553386344,
          -0.5048441071065946,
          0.3796292595942805,
          0.3315317171174229,
          1.384394396079279,
          -0.6267098867395908,
          -1.2838568740278253,
          -0.47381867958162877,
          -0.6078751987981147,
          1.2462142493938617,
          0.20754879479548488,
          0.4490958490717092,
          -0.4013098388455309,
          -0.4942752891081135,
          -0.7477318111155566,
          -0.13977445327016852,
          -0.7737595288076063,
          0.6626686712287341,
          -0.6696670659835362,
          0.7538737624087576,
          0.2550857378399872,
          -1.1632515848191056,
          -0.0338238478900006,
          -0.27042501951097186,
          1.121257735646997,
          1.5800141638906522,
          -1.2174432473563308,
          0.8754630640859936,
          -1.3982815212398807,
          -0.1114485476250136,
          -1.6569285432562406,
          0.4668555703563866,
          0.12276686082116595,
          -0.3010853305079448,
          -1.1998854854586816,
          2.107393925334404,
          -0.09241863054212683,
          1.0589387446622789,
          -0.6965161921160616
         ],
         "yaxis": "y15"
        },
        {
         "histfunc": "count",
         "histnorm": "",
         "marker": {
          "color": "rgba(128, 0, 128, 1.0)",
          "line": {
           "color": "#4D5663",
           "width": 1.3
          }
         },
         "name": "D",
         "nbinsx": 10,
         "opacity": 0.8,
         "orientation": "v",
         "type": "histogram",
         "x": [
          -0.016266267532593675,
          -1.9175607644044288,
          -1.3096361651166792,
          0.30982350773856887,
          1.1920274808210825,
          -0.9639759867750893,
          -0.459376207831238,
          0.3640630915375373,
          -0.27490728509492807,
          0.40117684070848186,
          -1.1724458805289277,
          0.2862606392018767,
          1.3155828040954392,
          -0.40240220805775606,
          0.1762958407056729,
          0.6770557230418077,
          0.697183707355488,
          1.5648786017359773,
          0.10367303107284499,
          0.012265879713169734,
          0.5523829132942183,
          -0.9444336754285173,
          -1.4126505177709754,
          1.7543203253570094,
          -0.7695299543983339,
          -1.1543425714243205,
          0.6534988922923606,
          -0.8449742209204408,
          -0.4603248130253345,
          1.9195059132833274,
          -0.6740112213196392,
          -0.37035010063795337,
          -0.34551222662929193,
          -0.4947142058171532,
          -0.3879987367846848,
          -0.220033680788515,
          0.7697419164887037,
          -0.25790559468201263,
          1.7847743997572107,
          1.5539586743001421,
          -0.574317991255687,
          0.38289732185856135,
          0.4739023193467402,
          -0.9880710251785277,
          0.24271301354540137,
          -0.4705139112907117,
          -2.120647820959208,
          -0.8131151947171272,
          -0.3078659817900132,
          -1.3284940040116722,
          -1.6410364425699597,
          0.5182204233411811,
          1.028433001250845,
          -0.6501812230352362,
          -0.9969190134600268,
          0.7945720251623815,
          2.0570547779783883,
          0.18773394953287267,
          0.8371366392771855,
          -1.641978083369517,
          1.78196579998147,
          1.0108836553386344,
          -0.5048441071065946,
          0.3796292595942805,
          0.3315317171174229,
          1.384394396079279,
          -0.6267098867395908,
          -1.2838568740278253,
          -0.47381867958162877,
          -0.6078751987981147,
          1.2462142493938617,
          0.20754879479548488,
          0.4490958490717092,
          -0.4013098388455309,
          -0.4942752891081135,
          -0.7477318111155566,
          -0.13977445327016852,
          -0.7737595288076063,
          0.6626686712287341,
          -0.6696670659835362,
          0.7538737624087576,
          0.2550857378399872,
          -1.1632515848191056,
          -0.0338238478900006,
          -0.27042501951097186,
          1.121257735646997,
          1.5800141638906522,
          -1.2174432473563308,
          0.8754630640859936,
          -1.3982815212398807,
          -0.1114485476250136,
          -1.6569285432562406,
          0.4668555703563866,
          0.12276686082116595,
          -0.3010853305079448,
          -1.1998854854586816,
          2.107393925334404,
          -0.09241863054212683,
          1.0589387446622789,
          -0.6965161921160616
         ],
         "xaxis": "x16",
         "yaxis": "y16"
        }
       ],
       "layout": {
        "bargap": 0.02,
        "legend": {
         "bgcolor": "#F5F6F9",
         "font": {
          "color": "#4D5663"
         }
        },
        "paper_bgcolor": "#F5F6F9",
        "plot_bgcolor": "#F5F6F9",
        "showlegend": false,
        "template": {
         "data": {
          "bar": [
           {
            "error_x": {
             "color": "#2a3f5f"
            },
            "error_y": {
             "color": "#2a3f5f"
            },
            "marker": {
             "line": {
              "color": "#E5ECF6",
              "width": 0.5
             }
            },
            "type": "bar"
           }
          ],
          "barpolar": [
           {
            "marker": {
             "line": {
              "color": "#E5ECF6",
              "width": 0.5
             }
            },
            "type": "barpolar"
           }
          ],
          "carpet": [
           {
            "aaxis": {
             "endlinecolor": "#2a3f5f",
             "gridcolor": "white",
             "linecolor": "white",
             "minorgridcolor": "white",
             "startlinecolor": "#2a3f5f"
            },
            "baxis": {
             "endlinecolor": "#2a3f5f",
             "gridcolor": "white",
             "linecolor": "white",
             "minorgridcolor": "white",
             "startlinecolor": "#2a3f5f"
            },
            "type": "carpet"
           }
          ],
          "choropleth": [
           {
            "colorbar": {
             "outlinewidth": 0,
             "ticks": ""
            },
            "type": "choropleth"
           }
          ],
          "contour": [
           {
            "colorbar": {
             "outlinewidth": 0,
             "ticks": ""
            },
            "colorscale": [
             [
              0,
              "#0d0887"
             ],
             [
              0.1111111111111111,
              "#46039f"
             ],
             [
              0.2222222222222222,
              "#7201a8"
             ],
             [
              0.3333333333333333,
              "#9c179e"
             ],
             [
              0.4444444444444444,
              "#bd3786"
             ],
             [
              0.5555555555555556,
              "#d8576b"
             ],
             [
              0.6666666666666666,
              "#ed7953"
             ],
             [
              0.7777777777777778,
              "#fb9f3a"
             ],
             [
              0.8888888888888888,
              "#fdca26"
             ],
             [
              1,
              "#f0f921"
             ]
            ],
            "type": "contour"
           }
          ],
          "contourcarpet": [
           {
            "colorbar": {
             "outlinewidth": 0,
             "ticks": ""
            },
            "type": "contourcarpet"
           }
          ],
          "heatmap": [
           {
            "colorbar": {
             "outlinewidth": 0,
             "ticks": ""
            },
            "colorscale": [
             [
              0,
              "#0d0887"
             ],
             [
              0.1111111111111111,
              "#46039f"
             ],
             [
              0.2222222222222222,
              "#7201a8"
             ],
             [
              0.3333333333333333,
              "#9c179e"
             ],
             [
              0.4444444444444444,
              "#bd3786"
             ],
             [
              0.5555555555555556,
              "#d8576b"
             ],
             [
              0.6666666666666666,
              "#ed7953"
             ],
             [
              0.7777777777777778,
              "#fb9f3a"
             ],
             [
              0.8888888888888888,
              "#fdca26"
             ],
             [
              1,
              "#f0f921"
             ]
            ],
            "type": "heatmap"
           }
          ],
          "heatmapgl": [
           {
            "colorbar": {
             "outlinewidth": 0,
             "ticks": ""
            },
            "colorscale": [
             [
              0,
              "#0d0887"
             ],
             [
              0.1111111111111111,
              "#46039f"
             ],
             [
              0.2222222222222222,
              "#7201a8"
             ],
             [
              0.3333333333333333,
              "#9c179e"
             ],
             [
              0.4444444444444444,
              "#bd3786"
             ],
             [
              0.5555555555555556,
              "#d8576b"
             ],
             [
              0.6666666666666666,
              "#ed7953"
             ],
             [
              0.7777777777777778,
              "#fb9f3a"
             ],
             [
              0.8888888888888888,
              "#fdca26"
             ],
             [
              1,
              "#f0f921"
             ]
            ],
            "type": "heatmapgl"
           }
          ],
          "histogram": [
           {
            "marker": {
             "colorbar": {
              "outlinewidth": 0,
              "ticks": ""
             }
            },
            "type": "histogram"
           }
          ],
          "histogram2d": [
           {
            "colorbar": {
             "outlinewidth": 0,
             "ticks": ""
            },
            "colorscale": [
             [
              0,
              "#0d0887"
             ],
             [
              0.1111111111111111,
              "#46039f"
             ],
             [
              0.2222222222222222,
              "#7201a8"
             ],
             [
              0.3333333333333333,
              "#9c179e"
             ],
             [
              0.4444444444444444,
              "#bd3786"
             ],
             [
              0.5555555555555556,
              "#d8576b"
             ],
             [
              0.6666666666666666,
              "#ed7953"
             ],
             [
              0.7777777777777778,
              "#fb9f3a"
             ],
             [
              0.8888888888888888,
              "#fdca26"
             ],
             [
              1,
              "#f0f921"
             ]
            ],
            "type": "histogram2d"
           }
          ],
          "histogram2dcontour": [
           {
            "colorbar": {
             "outlinewidth": 0,
             "ticks": ""
            },
            "colorscale": [
             [
              0,
              "#0d0887"
             ],
             [
              0.1111111111111111,
              "#46039f"
             ],
             [
              0.2222222222222222,
              "#7201a8"
             ],
             [
              0.3333333333333333,
              "#9c179e"
             ],
             [
              0.4444444444444444,
              "#bd3786"
             ],
             [
              0.5555555555555556,
              "#d8576b"
             ],
             [
              0.6666666666666666,
              "#ed7953"
             ],
             [
              0.7777777777777778,
              "#fb9f3a"
             ],
             [
              0.8888888888888888,
              "#fdca26"
             ],
             [
              1,
              "#f0f921"
             ]
            ],
            "type": "histogram2dcontour"
           }
          ],
          "mesh3d": [
           {
            "colorbar": {
             "outlinewidth": 0,
             "ticks": ""
            },
            "type": "mesh3d"
           }
          ],
          "parcoords": [
           {
            "line": {
             "colorbar": {
              "outlinewidth": 0,
              "ticks": ""
             }
            },
            "type": "parcoords"
           }
          ],
          "pie": [
           {
            "automargin": true,
            "type": "pie"
           }
          ],
          "scatter": [
           {
            "marker": {
             "colorbar": {
              "outlinewidth": 0,
              "ticks": ""
             }
            },
            "type": "scatter"
           }
          ],
          "scatter3d": [
           {
            "line": {
             "colorbar": {
              "outlinewidth": 0,
              "ticks": ""
             }
            },
            "marker": {
             "colorbar": {
              "outlinewidth": 0,
              "ticks": ""
             }
            },
            "type": "scatter3d"
           }
          ],
          "scattercarpet": [
           {
            "marker": {
             "colorbar": {
              "outlinewidth": 0,
              "ticks": ""
             }
            },
            "type": "scattercarpet"
           }
          ],
          "scattergeo": [
           {
            "marker": {
             "colorbar": {
              "outlinewidth": 0,
              "ticks": ""
             }
            },
            "type": "scattergeo"
           }
          ],
          "scattergl": [
           {
            "marker": {
             "colorbar": {
              "outlinewidth": 0,
              "ticks": ""
             }
            },
            "type": "scattergl"
           }
          ],
          "scattermapbox": [
           {
            "marker": {
             "colorbar": {
              "outlinewidth": 0,
              "ticks": ""
             }
            },
            "type": "scattermapbox"
           }
          ],
          "scatterpolar": [
           {
            "marker": {
             "colorbar": {
              "outlinewidth": 0,
              "ticks": ""
             }
            },
            "type": "scatterpolar"
           }
          ],
          "scatterpolargl": [
           {
            "marker": {
             "colorbar": {
              "outlinewidth": 0,
              "ticks": ""
             }
            },
            "type": "scatterpolargl"
           }
          ],
          "scatterternary": [
           {
            "marker": {
             "colorbar": {
              "outlinewidth": 0,
              "ticks": ""
             }
            },
            "type": "scatterternary"
           }
          ],
          "surface": [
           {
            "colorbar": {
             "outlinewidth": 0,
             "ticks": ""
            },
            "colorscale": [
             [
              0,
              "#0d0887"
             ],
             [
              0.1111111111111111,
              "#46039f"
             ],
             [
              0.2222222222222222,
              "#7201a8"
             ],
             [
              0.3333333333333333,
              "#9c179e"
             ],
             [
              0.4444444444444444,
              "#bd3786"
             ],
             [
              0.5555555555555556,
              "#d8576b"
             ],
             [
              0.6666666666666666,
              "#ed7953"
             ],
             [
              0.7777777777777778,
              "#fb9f3a"
             ],
             [
              0.8888888888888888,
              "#fdca26"
             ],
             [
              1,
              "#f0f921"
             ]
            ],
            "type": "surface"
           }
          ],
          "table": [
           {
            "cells": {
             "fill": {
              "color": "#EBF0F8"
             },
             "line": {
              "color": "white"
             }
            },
            "header": {
             "fill": {
              "color": "#C8D4E3"
             },
             "line": {
              "color": "white"
             }
            },
            "type": "table"
           }
          ]
         },
         "layout": {
          "annotationdefaults": {
           "arrowcolor": "#2a3f5f",
           "arrowhead": 0,
           "arrowwidth": 1
          },
          "autotypenumbers": "strict",
          "coloraxis": {
           "colorbar": {
            "outlinewidth": 0,
            "ticks": ""
           }
          },
          "colorscale": {
           "diverging": [
            [
             0,
             "#8e0152"
            ],
            [
             0.1,
             "#c51b7d"
            ],
            [
             0.2,
             "#de77ae"
            ],
            [
             0.3,
             "#f1b6da"
            ],
            [
             0.4,
             "#fde0ef"
            ],
            [
             0.5,
             "#f7f7f7"
            ],
            [
             0.6,
             "#e6f5d0"
            ],
            [
             0.7,
             "#b8e186"
            ],
            [
             0.8,
             "#7fbc41"
            ],
            [
             0.9,
             "#4d9221"
            ],
            [
             1,
             "#276419"
            ]
           ],
           "sequential": [
            [
             0,
             "#0d0887"
            ],
            [
             0.1111111111111111,
             "#46039f"
            ],
            [
             0.2222222222222222,
             "#7201a8"
            ],
            [
             0.3333333333333333,
             "#9c179e"
            ],
            [
             0.4444444444444444,
             "#bd3786"
            ],
            [
             0.5555555555555556,
             "#d8576b"
            ],
            [
             0.6666666666666666,
             "#ed7953"
            ],
            [
             0.7777777777777778,
             "#fb9f3a"
            ],
            [
             0.8888888888888888,
             "#fdca26"
            ],
            [
             1,
             "#f0f921"
            ]
           ],
           "sequentialminus": [
            [
             0,
             "#0d0887"
            ],
            [
             0.1111111111111111,
             "#46039f"
            ],
            [
             0.2222222222222222,
             "#7201a8"
            ],
            [
             0.3333333333333333,
             "#9c179e"
            ],
            [
             0.4444444444444444,
             "#bd3786"
            ],
            [
             0.5555555555555556,
             "#d8576b"
            ],
            [
             0.6666666666666666,
             "#ed7953"
            ],
            [
             0.7777777777777778,
             "#fb9f3a"
            ],
            [
             0.8888888888888888,
             "#fdca26"
            ],
            [
             1,
             "#f0f921"
            ]
           ]
          },
          "colorway": [
           "#636efa",
           "#EF553B",
           "#00cc96",
           "#ab63fa",
           "#FFA15A",
           "#19d3f3",
           "#FF6692",
           "#B6E880",
           "#FF97FF",
           "#FECB52"
          ],
          "font": {
           "color": "#2a3f5f"
          },
          "geo": {
           "bgcolor": "white",
           "lakecolor": "white",
           "landcolor": "#E5ECF6",
           "showlakes": true,
           "showland": true,
           "subunitcolor": "white"
          },
          "hoverlabel": {
           "align": "left"
          },
          "hovermode": "closest",
          "mapbox": {
           "style": "light"
          },
          "paper_bgcolor": "white",
          "plot_bgcolor": "#E5ECF6",
          "polar": {
           "angularaxis": {
            "gridcolor": "white",
            "linecolor": "white",
            "ticks": ""
           },
           "bgcolor": "#E5ECF6",
           "radialaxis": {
            "gridcolor": "white",
            "linecolor": "white",
            "ticks": ""
           }
          },
          "scene": {
           "xaxis": {
            "backgroundcolor": "#E5ECF6",
            "gridcolor": "white",
            "gridwidth": 2,
            "linecolor": "white",
            "showbackground": true,
            "ticks": "",
            "zerolinecolor": "white"
           },
           "yaxis": {
            "backgroundcolor": "#E5ECF6",
            "gridcolor": "white",
            "gridwidth": 2,
            "linecolor": "white",
            "showbackground": true,
            "ticks": "",
            "zerolinecolor": "white"
           },
           "zaxis": {
            "backgroundcolor": "#E5ECF6",
            "gridcolor": "white",
            "gridwidth": 2,
            "linecolor": "white",
            "showbackground": true,
            "ticks": "",
            "zerolinecolor": "white"
           }
          },
          "shapedefaults": {
           "line": {
            "color": "#2a3f5f"
           }
          },
          "ternary": {
           "aaxis": {
            "gridcolor": "white",
            "linecolor": "white",
            "ticks": ""
           },
           "baxis": {
            "gridcolor": "white",
            "linecolor": "white",
            "ticks": ""
           },
           "bgcolor": "#E5ECF6",
           "caxis": {
            "gridcolor": "white",
            "linecolor": "white",
            "ticks": ""
           }
          },
          "title": {
           "x": 0.05
          },
          "xaxis": {
           "automargin": true,
           "gridcolor": "white",
           "linecolor": "white",
           "ticks": "",
           "title": {
            "standoff": 15
           },
           "zerolinecolor": "white",
           "zerolinewidth": 2
          },
          "yaxis": {
           "automargin": true,
           "gridcolor": "white",
           "linecolor": "white",
           "ticks": "",
           "title": {
            "standoff": 15
           },
           "zerolinecolor": "white",
           "zerolinewidth": 2
          }
         }
        },
        "title": {
         "font": {
          "color": "#4D5663"
         }
        },
        "xaxis": {
         "anchor": "y",
         "domain": [
          0,
          0.2125
         ],
         "gridcolor": "#E1E5ED",
         "showgrid": false,
         "tickfont": {
          "color": "#4D5663"
         },
         "title": {
          "font": {
           "color": "#4D5663"
          },
          "text": ""
         },
         "zerolinecolor": "#E1E5ED"
        },
        "xaxis10": {
         "anchor": "y10",
         "domain": [
          0.2625,
          0.475
         ],
         "gridcolor": "#E1E5ED",
         "showgrid": false,
         "tickfont": {
          "color": "#4D5663"
         },
         "title": {
          "font": {
           "color": "#4D5663"
          },
          "text": ""
         },
         "zerolinecolor": "#E1E5ED"
        },
        "xaxis11": {
         "anchor": "y11",
         "domain": [
          0.525,
          0.7375
         ],
         "gridcolor": "#E1E5ED",
         "showgrid": false,
         "tickfont": {
          "color": "#4D5663"
         },
         "title": {
          "font": {
           "color": "#4D5663"
          },
          "text": ""
         },
         "zerolinecolor": "#E1E5ED"
        },
        "xaxis12": {
         "anchor": "y12",
         "domain": [
          0.7875,
          1
         ],
         "gridcolor": "#E1E5ED",
         "showgrid": false,
         "tickfont": {
          "color": "#4D5663"
         },
         "title": {
          "font": {
           "color": "#4D5663"
          },
          "text": ""
         },
         "zerolinecolor": "#E1E5ED"
        },
        "xaxis13": {
         "anchor": "y13",
         "domain": [
          0,
          0.2125
         ],
         "gridcolor": "#E1E5ED",
         "showgrid": false,
         "tickfont": {
          "color": "#4D5663"
         },
         "title": {
          "font": {
           "color": "#4D5663"
          },
          "text": ""
         },
         "zerolinecolor": "#E1E5ED"
        },
        "xaxis14": {
         "anchor": "y14",
         "domain": [
          0.2625,
          0.475
         ],
         "gridcolor": "#E1E5ED",
         "showgrid": false,
         "tickfont": {
          "color": "#4D5663"
         },
         "title": {
          "font": {
           "color": "#4D5663"
          },
          "text": ""
         },
         "zerolinecolor": "#E1E5ED"
        },
        "xaxis15": {
         "anchor": "y15",
         "domain": [
          0.525,
          0.7375
         ],
         "gridcolor": "#E1E5ED",
         "showgrid": false,
         "tickfont": {
          "color": "#4D5663"
         },
         "title": {
          "font": {
           "color": "#4D5663"
          },
          "text": ""
         },
         "zerolinecolor": "#E1E5ED"
        },
        "xaxis16": {
         "anchor": "y16",
         "domain": [
          0.7875,
          1
         ],
         "gridcolor": "#E1E5ED",
         "showgrid": false,
         "tickfont": {
          "color": "#4D5663"
         },
         "title": {
          "font": {
           "color": "#4D5663"
          },
          "text": ""
         },
         "zerolinecolor": "#E1E5ED"
        },
        "xaxis2": {
         "anchor": "y2",
         "domain": [
          0.2625,
          0.475
         ],
         "gridcolor": "#E1E5ED",
         "showgrid": false,
         "tickfont": {
          "color": "#4D5663"
         },
         "title": {
          "font": {
           "color": "#4D5663"
          },
          "text": ""
         },
         "zerolinecolor": "#E1E5ED"
        },
        "xaxis3": {
         "anchor": "y3",
         "domain": [
          0.525,
          0.7375
         ],
         "gridcolor": "#E1E5ED",
         "showgrid": false,
         "tickfont": {
          "color": "#4D5663"
         },
         "title": {
          "font": {
           "color": "#4D5663"
          },
          "text": ""
         },
         "zerolinecolor": "#E1E5ED"
        },
        "xaxis4": {
         "anchor": "y4",
         "domain": [
          0.7875,
          1
         ],
         "gridcolor": "#E1E5ED",
         "showgrid": false,
         "tickfont": {
          "color": "#4D5663"
         },
         "title": {
          "font": {
           "color": "#4D5663"
          },
          "text": ""
         },
         "zerolinecolor": "#E1E5ED"
        },
        "xaxis5": {
         "anchor": "y5",
         "domain": [
          0,
          0.2125
         ],
         "gridcolor": "#E1E5ED",
         "showgrid": false,
         "tickfont": {
          "color": "#4D5663"
         },
         "title": {
          "font": {
           "color": "#4D5663"
          },
          "text": ""
         },
         "zerolinecolor": "#E1E5ED"
        },
        "xaxis6": {
         "anchor": "y6",
         "domain": [
          0.2625,
          0.475
         ],
         "gridcolor": "#E1E5ED",
         "showgrid": false,
         "tickfont": {
          "color": "#4D5663"
         },
         "title": {
          "font": {
           "color": "#4D5663"
          },
          "text": ""
         },
         "zerolinecolor": "#E1E5ED"
        },
        "xaxis7": {
         "anchor": "y7",
         "domain": [
          0.525,
          0.7375
         ],
         "gridcolor": "#E1E5ED",
         "showgrid": false,
         "tickfont": {
          "color": "#4D5663"
         },
         "title": {
          "font": {
           "color": "#4D5663"
          },
          "text": ""
         },
         "zerolinecolor": "#E1E5ED"
        },
        "xaxis8": {
         "anchor": "y8",
         "domain": [
          0.7875,
          1
         ],
         "gridcolor": "#E1E5ED",
         "showgrid": false,
         "tickfont": {
          "color": "#4D5663"
         },
         "title": {
          "font": {
           "color": "#4D5663"
          },
          "text": ""
         },
         "zerolinecolor": "#E1E5ED"
        },
        "xaxis9": {
         "anchor": "y9",
         "domain": [
          0,
          0.2125
         ],
         "gridcolor": "#E1E5ED",
         "showgrid": false,
         "tickfont": {
          "color": "#4D5663"
         },
         "title": {
          "font": {
           "color": "#4D5663"
          },
          "text": ""
         },
         "zerolinecolor": "#E1E5ED"
        },
        "yaxis": {
         "anchor": "x",
         "domain": [
          0.8025,
          1
         ],
         "gridcolor": "#E1E5ED",
         "showgrid": false,
         "tickfont": {
          "color": "#4D5663"
         },
         "title": {
          "font": {
           "color": "#4D5663"
          },
          "text": ""
         },
         "zerolinecolor": "#E1E5ED"
        },
        "yaxis10": {
         "anchor": "x10",
         "domain": [
          0.2675,
          0.465
         ],
         "gridcolor": "#E1E5ED",
         "showgrid": false,
         "tickfont": {
          "color": "#4D5663"
         },
         "title": {
          "font": {
           "color": "#4D5663"
          },
          "text": ""
         },
         "zerolinecolor": "#E1E5ED"
        },
        "yaxis11": {
         "anchor": "x11",
         "domain": [
          0.2675,
          0.465
         ],
         "gridcolor": "#E1E5ED",
         "showgrid": false,
         "tickfont": {
          "color": "#4D5663"
         },
         "title": {
          "font": {
           "color": "#4D5663"
          },
          "text": ""
         },
         "zerolinecolor": "#E1E5ED"
        },
        "yaxis12": {
         "anchor": "x12",
         "domain": [
          0.2675,
          0.465
         ],
         "gridcolor": "#E1E5ED",
         "showgrid": false,
         "tickfont": {
          "color": "#4D5663"
         },
         "title": {
          "font": {
           "color": "#4D5663"
          },
          "text": ""
         },
         "zerolinecolor": "#E1E5ED"
        },
        "yaxis13": {
         "anchor": "x13",
         "domain": [
          0,
          0.1975
         ],
         "gridcolor": "#E1E5ED",
         "showgrid": false,
         "tickfont": {
          "color": "#4D5663"
         },
         "title": {
          "font": {
           "color": "#4D5663"
          },
          "text": ""
         },
         "zerolinecolor": "#E1E5ED"
        },
        "yaxis14": {
         "anchor": "x14",
         "domain": [
          0,
          0.1975
         ],
         "gridcolor": "#E1E5ED",
         "showgrid": false,
         "tickfont": {
          "color": "#4D5663"
         },
         "title": {
          "font": {
           "color": "#4D5663"
          },
          "text": ""
         },
         "zerolinecolor": "#E1E5ED"
        },
        "yaxis15": {
         "anchor": "x15",
         "domain": [
          0,
          0.1975
         ],
         "gridcolor": "#E1E5ED",
         "showgrid": false,
         "tickfont": {
          "color": "#4D5663"
         },
         "title": {
          "font": {
           "color": "#4D5663"
          },
          "text": ""
         },
         "zerolinecolor": "#E1E5ED"
        },
        "yaxis16": {
         "anchor": "x16",
         "domain": [
          0,
          0.1975
         ],
         "gridcolor": "#E1E5ED",
         "showgrid": false,
         "tickfont": {
          "color": "#4D5663"
         },
         "title": {
          "font": {
           "color": "#4D5663"
          },
          "text": ""
         },
         "zerolinecolor": "#E1E5ED"
        },
        "yaxis2": {
         "anchor": "x2",
         "domain": [
          0.8025,
          1
         ],
         "gridcolor": "#E1E5ED",
         "showgrid": false,
         "tickfont": {
          "color": "#4D5663"
         },
         "title": {
          "font": {
           "color": "#4D5663"
          },
          "text": ""
         },
         "zerolinecolor": "#E1E5ED"
        },
        "yaxis3": {
         "anchor": "x3",
         "domain": [
          0.8025,
          1
         ],
         "gridcolor": "#E1E5ED",
         "showgrid": false,
         "tickfont": {
          "color": "#4D5663"
         },
         "title": {
          "font": {
           "color": "#4D5663"
          },
          "text": ""
         },
         "zerolinecolor": "#E1E5ED"
        },
        "yaxis4": {
         "anchor": "x4",
         "domain": [
          0.8025,
          1
         ],
         "gridcolor": "#E1E5ED",
         "showgrid": false,
         "tickfont": {
          "color": "#4D5663"
         },
         "title": {
          "font": {
           "color": "#4D5663"
          },
          "text": ""
         },
         "zerolinecolor": "#E1E5ED"
        },
        "yaxis5": {
         "anchor": "x5",
         "domain": [
          0.535,
          0.7325
         ],
         "gridcolor": "#E1E5ED",
         "showgrid": false,
         "tickfont": {
          "color": "#4D5663"
         },
         "title": {
          "font": {
           "color": "#4D5663"
          },
          "text": ""
         },
         "zerolinecolor": "#E1E5ED"
        },
        "yaxis6": {
         "anchor": "x6",
         "domain": [
          0.535,
          0.7325
         ],
         "gridcolor": "#E1E5ED",
         "showgrid": false,
         "tickfont": {
          "color": "#4D5663"
         },
         "title": {
          "font": {
           "color": "#4D5663"
          },
          "text": ""
         },
         "zerolinecolor": "#E1E5ED"
        },
        "yaxis7": {
         "anchor": "x7",
         "domain": [
          0.535,
          0.7325
         ],
         "gridcolor": "#E1E5ED",
         "showgrid": false,
         "tickfont": {
          "color": "#4D5663"
         },
         "title": {
          "font": {
           "color": "#4D5663"
          },
          "text": ""
         },
         "zerolinecolor": "#E1E5ED"
        },
        "yaxis8": {
         "anchor": "x8",
         "domain": [
          0.535,
          0.7325
         ],
         "gridcolor": "#E1E5ED",
         "showgrid": false,
         "tickfont": {
          "color": "#4D5663"
         },
         "title": {
          "font": {
           "color": "#4D5663"
          },
          "text": ""
         },
         "zerolinecolor": "#E1E5ED"
        },
        "yaxis9": {
         "anchor": "x9",
         "domain": [
          0.2675,
          0.465
         ],
         "gridcolor": "#E1E5ED",
         "showgrid": false,
         "tickfont": {
          "color": "#4D5663"
         },
         "title": {
          "font": {
           "color": "#4D5663"
          },
          "text": ""
         },
         "zerolinecolor": "#E1E5ED"
        }
       }
      },
      "text/html": [
       "<div>                            <div id=\"b2419335-c7af-408b-9077-bea99d53c3a2\" class=\"plotly-graph-div\" style=\"height:525px; width:100%;\"></div>            <script type=\"text/javascript\">                require([\"plotly\"], function(Plotly) {                    window.PLOTLYENV=window.PLOTLYENV || {};\n",
       "                    window.PLOTLYENV.BASE_URL='https://plot.ly';                                    if (document.getElementById(\"b2419335-c7af-408b-9077-bea99d53c3a2\")) {                    Plotly.newPlot(                        \"b2419335-c7af-408b-9077-bea99d53c3a2\",                        [{\"histfunc\": \"count\", \"histnorm\": \"\", \"marker\": {\"color\": \"rgba(255, 153, 51, 1.0)\", \"line\": {\"color\": \"#4D5663\", \"width\": 1.3}}, \"name\": \"A\", \"nbinsx\": 10, \"opacity\": 0.8, \"orientation\": \"v\", \"type\": \"histogram\", \"x\": [0.0200557472937535, -0.00271132931331797, 0.46549532154698425, -2.481646486984156, 2.4303861210605935, 0.5481507439264193, -0.38470482283232404, -0.518779439690536, -0.7501634969140787, 1.3439489773286026, -0.589881383118077, 1.555143766648843, -0.655953259623783, -1.1555818363342922, -0.7568772228453478, -1.5486617148203903, -0.5436877932895822, -0.5407220303875889, 1.1397796840456185, 2.399031489215634, -0.7398597890619141, 1.0681578354258672, -0.5617995811618804, 0.7798513629269344, -0.6709029452549264, 0.5759018580777242, -1.3168975619356753, 0.4652879785630099, 0.5120686376505994, -0.07288612366483778, 1.1561575191197915, 0.013876953211418462, 0.3708384949906431, 0.6089218203334266, -1.1062402004761074, 0.9190679627768068, 1.59436967636182, -0.11802519337300074, 0.5883055741919039, -0.40888726324449765, -0.8427508700641458, 0.059726795718412405, -0.2593758711802393, 0.43199402140109044, 0.7391808769493033, -0.9859983859826807, -0.10982292838783923, -0.735118026978211, 0.0020092704885079637, 0.11044970018502757, 1.6615490278239524, 0.03259818088062817, -0.019733186364458692, 0.21803670465781763, 0.26369203484433024, 0.8634111072949268, 0.0008355690946857561, -0.4403564296356372, 0.5718458465543802, 0.6426091863213986, 2.5986702974078075, 0.807512380854062, -0.9873402436931084, 0.8093768662673073, 2.7804196860661645, -0.44881276091377864, 0.9631772242524053, -0.7608239460151477, -0.3356376858339743, 0.6658254980379036, 1.559430461138503, 1.2498381400882623, 1.2386242849715374, 1.395681616906325, 0.8830205264244256, 0.4205925892915467, 1.022620118306731, 0.09499023997737753, -0.8598375728259922, -0.06148325183927021, 1.6678558426456507, 1.3026779509417608, -1.0811250922454758, -0.09940161189493037, 0.30231049321942105, 0.5785752116603203, -0.3659025569859325, -1.3524348623145261, 1.2152768143933255, -0.7405498222117431, 0.12752313153721662, -0.3141605732582258, 0.3689107664192181, -1.8558251937626842, -0.8926732296819363, 0.09996090398072764, -1.2199200339643053, -0.05755442797843427, -0.7559637792335455, -2.668448084698979], \"xaxis\": \"x\", \"yaxis\": \"y\"}, {\"line\": {\"color\": \"rgba(128, 128, 128, 1.0)\", \"dash\": \"solid\", \"shape\": \"linear\", \"width\": 1.3}, \"marker\": {\"size\": 2, \"symbol\": \"circle\"}, \"mode\": \"markers\", \"name\": \"A\", \"text\": \"\", \"type\": \"scatter\", \"x\": [-1.2097527221848159, 1.1799046007041927, -1.1834221588769493, -1.6984135001086205, -0.5971861176431017, 1.5104539612831518, 0.29930145530660573, 0.2983796237150073, -0.9766095973484259, 1.793652088246052, 0.1126591651924812, -0.5169902541696968, 0.5948404156190612, -0.1239099481559275, -0.4379921127038842, -0.70011036355272, -0.30692386506556635, -0.22371888983850496, 0.48190181278582656, -0.018744669651661303, -1.605704222186048, 0.22083231765666572, 2.044522952045807, -1.739225081395104, -0.1485858843940398, -0.33066224844880704, 0.5745639130696373, 1.6235507157746567, 1.0401765822956874, -1.1583027927154714, 1.442919332234142, -0.8311026172322971, -0.42095320811513415, 0.6282504167274588, 0.2892030355856491, -1.318331273313542, -0.9856390428839195, 0.7749309610966735, 0.15704140129774963, 0.938125741824176, -1.3208921092090842, -0.9262496187199861, 0.5670178032763279, -2.0668684741045134, 2.222412409692029, -0.09654233381017159, -0.23736661139712492, 0.9561664766125788, 0.47471815147215224, 0.08326596606072473, -1.0639577582619344, -0.05264940065464254, 0.3289029014714224, 0.1548341284831212, -1.5915158206318833, 0.6835776998850714, -1.4385341690158227, 0.7622147856721684, -0.8725250241542908, -0.8283412646805206, -0.4567219096907423, 1.676652776432216, -0.4693471877153127, -0.08641067872490407, -1.6177194138719508, 0.15863822514005227, -0.4267639176296674, 0.5737955438625817, 0.7091370364084323, 1.8013916678745001, -1.1989731670895405, -0.5688742308502165, -0.1816674144520255, -2.359910757688425, 0.22697686099693382, 1.5224719511179265, -0.051427311291810475, -0.14986382281616054, 1.938913925815311, 2.0557818250774673, 1.193872323830949, -1.2408303117525894, -0.2611619828244525, 1.0433502750645813, -1.0481872674311117, 0.8471112925652577, 0.9214333172338225, -0.8303405354394535, 0.7333288529098103, 0.06195289574718428, -0.5523748555005844, 0.07752582643237693, -0.1832526709631383, 0.7060024294054582, -0.9700407116480401, -0.06033370210807146, -1.0702400934085323, 1.9110186220760212, -0.822538683558576, -1.9343847616131806], \"xaxis\": \"x2\", \"y\": [0.0200557472937535, -0.00271132931331797, 0.46549532154698425, -2.481646486984156, 2.4303861210605935, 0.5481507439264193, -0.38470482283232404, -0.518779439690536, -0.7501634969140787, 1.3439489773286026, -0.589881383118077, 1.555143766648843, -0.655953259623783, -1.1555818363342922, -0.7568772228453478, -1.5486617148203903, -0.5436877932895822, -0.5407220303875889, 1.1397796840456185, 2.399031489215634, -0.7398597890619141, 1.0681578354258672, -0.5617995811618804, 0.7798513629269344, -0.6709029452549264, 0.5759018580777242, -1.3168975619356753, 0.4652879785630099, 0.5120686376505994, -0.07288612366483778, 1.1561575191197915, 0.013876953211418462, 0.3708384949906431, 0.6089218203334266, -1.1062402004761074, 0.9190679627768068, 1.59436967636182, -0.11802519337300074, 0.5883055741919039, -0.40888726324449765, -0.8427508700641458, 0.059726795718412405, -0.2593758711802393, 0.43199402140109044, 0.7391808769493033, -0.9859983859826807, -0.10982292838783923, -0.735118026978211, 0.0020092704885079637, 0.11044970018502757, 1.6615490278239524, 0.03259818088062817, -0.019733186364458692, 0.21803670465781763, 0.26369203484433024, 0.8634111072949268, 0.0008355690946857561, -0.4403564296356372, 0.5718458465543802, 0.6426091863213986, 2.5986702974078075, 0.807512380854062, -0.9873402436931084, 0.8093768662673073, 2.7804196860661645, -0.44881276091377864, 0.9631772242524053, -0.7608239460151477, -0.3356376858339743, 0.6658254980379036, 1.559430461138503, 1.2498381400882623, 1.2386242849715374, 1.395681616906325, 0.8830205264244256, 0.4205925892915467, 1.022620118306731, 0.09499023997737753, -0.8598375728259922, -0.06148325183927021, 1.6678558426456507, 1.3026779509417608, -1.0811250922454758, -0.09940161189493037, 0.30231049321942105, 0.5785752116603203, -0.3659025569859325, -1.3524348623145261, 1.2152768143933255, -0.7405498222117431, 0.12752313153721662, -0.3141605732582258, 0.3689107664192181, -1.8558251937626842, -0.8926732296819363, 0.09996090398072764, -1.2199200339643053, -0.05755442797843427, -0.7559637792335455, -2.668448084698979], \"yaxis\": \"y2\"}, {\"line\": {\"color\": \"rgba(128, 128, 128, 1.0)\", \"dash\": \"solid\", \"shape\": \"linear\", \"width\": 1.3}, \"marker\": {\"size\": 2, \"symbol\": \"circle\"}, \"mode\": \"markers\", \"name\": \"A\", \"text\": \"\", \"type\": \"scatter\", \"x\": [0.8083420630665378, -0.7648222124139935, 0.4643172174734072, -0.10075614139784915, -0.2581029347010073, 0.5414709545053994, -1.6772831850982985, 1.3690422788468501, 1.048147094683917, -2.088327013320739, -1.4096737923560239, -0.7970912433579793, -0.5237843086429662, -3.3664249074523793, -0.6156994213908308, 1.3654325384656616, 0.6199464355553261, 0.2881025606295957, -1.0115535017359918, 0.38649973790909553, 0.103845950207263, 0.257014975138551, 0.40997311949806, 0.9246749206670745, 1.1753181732901241, -1.1456403996241877, 0.7115166605044273, -0.4821100944580768, 1.054757250154148, -0.7931070429568493, 0.49958634061358476, -1.804183783313613, -0.8195480741717336, -0.06361603871967302, -0.8457119980175559, 0.48483810209851336, 1.0970650300680742, 1.8019271320843695, 0.6279053131085512, -0.23878642530815347, 0.9605359825714156, 0.2254934638953998, 0.42246803352127676, 0.05428605964076033, -1.2893079317352325, -1.3392162379310717, 0.6982496162025887, 0.6786272998972681, -0.7587827012380097, 0.9988548628064908, 1.2302690676377823, 1.5246499734628876, -0.437246997825594, 0.29183457547002806, 1.7549358804056925, 1.489477486208536, -1.0546887128399014, -0.4313109958264226, 0.18978122694806013, 0.13252273428089265, 0.3246884283483141, 0.3183729356103616, 0.7766533790714364, 0.5307936741007439, 2.0235941635591113, -0.2964866099786187, -0.6658905935757808, -2.1196819016268784, -1.434573545374268, -1.140693132386746, 0.3166595474746357, -0.5001845502247366, 0.8304121195406919, -1.1253250369967436, -1.722875526360012, -0.36246406701518585, 0.05194328606942015, -1.1001169784677582, 1.39655795226364, 0.9759756700939083, -0.43171851780306486, -2.0338249135062223, 0.16142207652734952, -0.3071272403408853, 0.7641972957490955, 1.6342968909756563, -1.1776410174030765, -1.0837624162313493, -1.8979695056489236, 0.3365402338601029, -0.3326659754598676, 1.6488449596594998, 0.49205212816745064, 0.5495993401251483, 1.2513338392142446, -0.6202802208564918, 0.5854562864867651, 0.40906866667466496, 0.6133021138733645, 1.4100389197072407], \"xaxis\": \"x3\", \"y\": [0.0200557472937535, -0.00271132931331797, 0.46549532154698425, -2.481646486984156, 2.4303861210605935, 0.5481507439264193, -0.38470482283232404, -0.518779439690536, -0.7501634969140787, 1.3439489773286026, -0.589881383118077, 1.555143766648843, -0.655953259623783, -1.1555818363342922, -0.7568772228453478, -1.5486617148203903, -0.5436877932895822, -0.5407220303875889, 1.1397796840456185, 2.399031489215634, -0.7398597890619141, 1.0681578354258672, -0.5617995811618804, 0.7798513629269344, -0.6709029452549264, 0.5759018580777242, -1.3168975619356753, 0.4652879785630099, 0.5120686376505994, -0.07288612366483778, 1.1561575191197915, 0.013876953211418462, 0.3708384949906431, 0.6089218203334266, -1.1062402004761074, 0.9190679627768068, 1.59436967636182, -0.11802519337300074, 0.5883055741919039, -0.40888726324449765, -0.8427508700641458, 0.059726795718412405, -0.2593758711802393, 0.43199402140109044, 0.7391808769493033, -0.9859983859826807, -0.10982292838783923, -0.735118026978211, 0.0020092704885079637, 0.11044970018502757, 1.6615490278239524, 0.03259818088062817, -0.019733186364458692, 0.21803670465781763, 0.26369203484433024, 0.8634111072949268, 0.0008355690946857561, -0.4403564296356372, 0.5718458465543802, 0.6426091863213986, 2.5986702974078075, 0.807512380854062, -0.9873402436931084, 0.8093768662673073, 2.7804196860661645, -0.44881276091377864, 0.9631772242524053, -0.7608239460151477, -0.3356376858339743, 0.6658254980379036, 1.559430461138503, 1.2498381400882623, 1.2386242849715374, 1.395681616906325, 0.8830205264244256, 0.4205925892915467, 1.022620118306731, 0.09499023997737753, -0.8598375728259922, -0.06148325183927021, 1.6678558426456507, 1.3026779509417608, -1.0811250922454758, -0.09940161189493037, 0.30231049321942105, 0.5785752116603203, -0.3659025569859325, -1.3524348623145261, 1.2152768143933255, -0.7405498222117431, 0.12752313153721662, -0.3141605732582258, 0.3689107664192181, -1.8558251937626842, -0.8926732296819363, 0.09996090398072764, -1.2199200339643053, -0.05755442797843427, -0.7559637792335455, -2.668448084698979], \"yaxis\": \"y3\"}, {\"line\": {\"color\": \"rgba(128, 128, 128, 1.0)\", \"dash\": \"solid\", \"shape\": \"linear\", \"width\": 1.3}, \"marker\": {\"size\": 2, \"symbol\": \"circle\"}, \"mode\": \"markers\", \"name\": \"A\", \"text\": \"\", \"type\": \"scatter\", \"x\": [-0.016266267532593675, -1.9175607644044288, -1.3096361651166792, 0.30982350773856887, 1.1920274808210825, -0.9639759867750893, -0.459376207831238, 0.3640630915375373, -0.27490728509492807, 0.40117684070848186, -1.1724458805289277, 0.2862606392018767, 1.3155828040954392, -0.40240220805775606, 0.1762958407056729, 0.6770557230418077, 0.697183707355488, 1.5648786017359773, 0.10367303107284499, 0.012265879713169734, 0.5523829132942183, -0.9444336754285173, -1.4126505177709754, 1.7543203253570094, -0.7695299543983339, -1.1543425714243205, 0.6534988922923606, -0.8449742209204408, -0.4603248130253345, 1.9195059132833274, -0.6740112213196392, -0.37035010063795337, -0.34551222662929193, -0.4947142058171532, -0.3879987367846848, -0.220033680788515, 0.7697419164887037, -0.25790559468201263, 1.7847743997572107, 1.5539586743001421, -0.574317991255687, 0.38289732185856135, 0.4739023193467402, -0.9880710251785277, 0.24271301354540137, -0.4705139112907117, -2.120647820959208, -0.8131151947171272, -0.3078659817900132, -1.3284940040116722, -1.6410364425699597, 0.5182204233411811, 1.028433001250845, -0.6501812230352362, -0.9969190134600268, 0.7945720251623815, 2.0570547779783883, 0.18773394953287267, 0.8371366392771855, -1.641978083369517, 1.78196579998147, 1.0108836553386344, -0.5048441071065946, 0.3796292595942805, 0.3315317171174229, 1.384394396079279, -0.6267098867395908, -1.2838568740278253, -0.47381867958162877, -0.6078751987981147, 1.2462142493938617, 0.20754879479548488, 0.4490958490717092, -0.4013098388455309, -0.4942752891081135, -0.7477318111155566, -0.13977445327016852, -0.7737595288076063, 0.6626686712287341, -0.6696670659835362, 0.7538737624087576, 0.2550857378399872, -1.1632515848191056, -0.0338238478900006, -0.27042501951097186, 1.121257735646997, 1.5800141638906522, -1.2174432473563308, 0.8754630640859936, -1.3982815212398807, -0.1114485476250136, -1.6569285432562406, 0.4668555703563866, 0.12276686082116595, -0.3010853305079448, -1.1998854854586816, 2.107393925334404, -0.09241863054212683, 1.0589387446622789, -0.6965161921160616], \"xaxis\": \"x4\", \"y\": [0.0200557472937535, -0.00271132931331797, 0.46549532154698425, -2.481646486984156, 2.4303861210605935, 0.5481507439264193, -0.38470482283232404, -0.518779439690536, -0.7501634969140787, 1.3439489773286026, -0.589881383118077, 1.555143766648843, -0.655953259623783, -1.1555818363342922, -0.7568772228453478, -1.5486617148203903, -0.5436877932895822, -0.5407220303875889, 1.1397796840456185, 2.399031489215634, -0.7398597890619141, 1.0681578354258672, -0.5617995811618804, 0.7798513629269344, -0.6709029452549264, 0.5759018580777242, -1.3168975619356753, 0.4652879785630099, 0.5120686376505994, -0.07288612366483778, 1.1561575191197915, 0.013876953211418462, 0.3708384949906431, 0.6089218203334266, -1.1062402004761074, 0.9190679627768068, 1.59436967636182, -0.11802519337300074, 0.5883055741919039, -0.40888726324449765, -0.8427508700641458, 0.059726795718412405, -0.2593758711802393, 0.43199402140109044, 0.7391808769493033, -0.9859983859826807, -0.10982292838783923, -0.735118026978211, 0.0020092704885079637, 0.11044970018502757, 1.6615490278239524, 0.03259818088062817, -0.019733186364458692, 0.21803670465781763, 0.26369203484433024, 0.8634111072949268, 0.0008355690946857561, -0.4403564296356372, 0.5718458465543802, 0.6426091863213986, 2.5986702974078075, 0.807512380854062, -0.9873402436931084, 0.8093768662673073, 2.7804196860661645, -0.44881276091377864, 0.9631772242524053, -0.7608239460151477, -0.3356376858339743, 0.6658254980379036, 1.559430461138503, 1.2498381400882623, 1.2386242849715374, 1.395681616906325, 0.8830205264244256, 0.4205925892915467, 1.022620118306731, 0.09499023997737753, -0.8598375728259922, -0.06148325183927021, 1.6678558426456507, 1.3026779509417608, -1.0811250922454758, -0.09940161189493037, 0.30231049321942105, 0.5785752116603203, -0.3659025569859325, -1.3524348623145261, 1.2152768143933255, -0.7405498222117431, 0.12752313153721662, -0.3141605732582258, 0.3689107664192181, -1.8558251937626842, -0.8926732296819363, 0.09996090398072764, -1.2199200339643053, -0.05755442797843427, -0.7559637792335455, -2.668448084698979], \"yaxis\": \"y4\"}, {\"line\": {\"color\": \"rgba(128, 128, 128, 1.0)\", \"dash\": \"solid\", \"shape\": \"linear\", \"width\": 1.3}, \"marker\": {\"size\": 2, \"symbol\": \"circle\"}, \"mode\": \"markers\", \"name\": \"B\", \"text\": \"\", \"type\": \"scatter\", \"x\": [0.0200557472937535, -0.00271132931331797, 0.46549532154698425, -2.481646486984156, 2.4303861210605935, 0.5481507439264193, -0.38470482283232404, -0.518779439690536, -0.7501634969140787, 1.3439489773286026, -0.589881383118077, 1.555143766648843, -0.655953259623783, -1.1555818363342922, -0.7568772228453478, -1.5486617148203903, -0.5436877932895822, -0.5407220303875889, 1.1397796840456185, 2.399031489215634, -0.7398597890619141, 1.0681578354258672, -0.5617995811618804, 0.7798513629269344, -0.6709029452549264, 0.5759018580777242, -1.3168975619356753, 0.4652879785630099, 0.5120686376505994, -0.07288612366483778, 1.1561575191197915, 0.013876953211418462, 0.3708384949906431, 0.6089218203334266, -1.1062402004761074, 0.9190679627768068, 1.59436967636182, -0.11802519337300074, 0.5883055741919039, -0.40888726324449765, -0.8427508700641458, 0.059726795718412405, -0.2593758711802393, 0.43199402140109044, 0.7391808769493033, -0.9859983859826807, -0.10982292838783923, -0.735118026978211, 0.0020092704885079637, 0.11044970018502757, 1.6615490278239524, 0.03259818088062817, -0.019733186364458692, 0.21803670465781763, 0.26369203484433024, 0.8634111072949268, 0.0008355690946857561, -0.4403564296356372, 0.5718458465543802, 0.6426091863213986, 2.5986702974078075, 0.807512380854062, -0.9873402436931084, 0.8093768662673073, 2.7804196860661645, -0.44881276091377864, 0.9631772242524053, -0.7608239460151477, -0.3356376858339743, 0.6658254980379036, 1.559430461138503, 1.2498381400882623, 1.2386242849715374, 1.395681616906325, 0.8830205264244256, 0.4205925892915467, 1.022620118306731, 0.09499023997737753, -0.8598375728259922, -0.06148325183927021, 1.6678558426456507, 1.3026779509417608, -1.0811250922454758, -0.09940161189493037, 0.30231049321942105, 0.5785752116603203, -0.3659025569859325, -1.3524348623145261, 1.2152768143933255, -0.7405498222117431, 0.12752313153721662, -0.3141605732582258, 0.3689107664192181, -1.8558251937626842, -0.8926732296819363, 0.09996090398072764, -1.2199200339643053, -0.05755442797843427, -0.7559637792335455, -2.668448084698979], \"xaxis\": \"x5\", \"y\": [-1.2097527221848159, 1.1799046007041927, -1.1834221588769493, -1.6984135001086205, -0.5971861176431017, 1.5104539612831518, 0.29930145530660573, 0.2983796237150073, -0.9766095973484259, 1.793652088246052, 0.1126591651924812, -0.5169902541696968, 0.5948404156190612, -0.1239099481559275, -0.4379921127038842, -0.70011036355272, -0.30692386506556635, -0.22371888983850496, 0.48190181278582656, -0.018744669651661303, -1.605704222186048, 0.22083231765666572, 2.044522952045807, -1.739225081395104, -0.1485858843940398, -0.33066224844880704, 0.5745639130696373, 1.6235507157746567, 1.0401765822956874, -1.1583027927154714, 1.442919332234142, -0.8311026172322971, -0.42095320811513415, 0.6282504167274588, 0.2892030355856491, -1.318331273313542, -0.9856390428839195, 0.7749309610966735, 0.15704140129774963, 0.938125741824176, -1.3208921092090842, -0.9262496187199861, 0.5670178032763279, -2.0668684741045134, 2.222412409692029, -0.09654233381017159, -0.23736661139712492, 0.9561664766125788, 0.47471815147215224, 0.08326596606072473, -1.0639577582619344, -0.05264940065464254, 0.3289029014714224, 0.1548341284831212, -1.5915158206318833, 0.6835776998850714, -1.4385341690158227, 0.7622147856721684, -0.8725250241542908, -0.8283412646805206, -0.4567219096907423, 1.676652776432216, -0.4693471877153127, -0.08641067872490407, -1.6177194138719508, 0.15863822514005227, -0.4267639176296674, 0.5737955438625817, 0.7091370364084323, 1.8013916678745001, -1.1989731670895405, -0.5688742308502165, -0.1816674144520255, -2.359910757688425, 0.22697686099693382, 1.5224719511179265, -0.051427311291810475, -0.14986382281616054, 1.938913925815311, 2.0557818250774673, 1.193872323830949, -1.2408303117525894, -0.2611619828244525, 1.0433502750645813, -1.0481872674311117, 0.8471112925652577, 0.9214333172338225, -0.8303405354394535, 0.7333288529098103, 0.06195289574718428, -0.5523748555005844, 0.07752582643237693, -0.1832526709631383, 0.7060024294054582, -0.9700407116480401, -0.06033370210807146, -1.0702400934085323, 1.9110186220760212, -0.822538683558576, -1.9343847616131806], \"yaxis\": \"y5\"}, {\"histfunc\": \"count\", \"histnorm\": \"\", \"marker\": {\"color\": \"rgba(55, 128, 191, 1.0)\", \"line\": {\"color\": \"#4D5663\", \"width\": 1.3}}, \"name\": \"B\", \"nbinsx\": 10, \"opacity\": 0.8, \"orientation\": \"v\", \"type\": \"histogram\", \"x\": [-1.2097527221848159, 1.1799046007041927, -1.1834221588769493, -1.6984135001086205, -0.5971861176431017, 1.5104539612831518, 0.29930145530660573, 0.2983796237150073, -0.9766095973484259, 1.793652088246052, 0.1126591651924812, -0.5169902541696968, 0.5948404156190612, -0.1239099481559275, -0.4379921127038842, -0.70011036355272, -0.30692386506556635, -0.22371888983850496, 0.48190181278582656, -0.018744669651661303, -1.605704222186048, 0.22083231765666572, 2.044522952045807, -1.739225081395104, -0.1485858843940398, -0.33066224844880704, 0.5745639130696373, 1.6235507157746567, 1.0401765822956874, -1.1583027927154714, 1.442919332234142, -0.8311026172322971, -0.42095320811513415, 0.6282504167274588, 0.2892030355856491, -1.318331273313542, -0.9856390428839195, 0.7749309610966735, 0.15704140129774963, 0.938125741824176, -1.3208921092090842, -0.9262496187199861, 0.5670178032763279, -2.0668684741045134, 2.222412409692029, -0.09654233381017159, -0.23736661139712492, 0.9561664766125788, 0.47471815147215224, 0.08326596606072473, -1.0639577582619344, -0.05264940065464254, 0.3289029014714224, 0.1548341284831212, -1.5915158206318833, 0.6835776998850714, -1.4385341690158227, 0.7622147856721684, -0.8725250241542908, -0.8283412646805206, -0.4567219096907423, 1.676652776432216, -0.4693471877153127, -0.08641067872490407, -1.6177194138719508, 0.15863822514005227, -0.4267639176296674, 0.5737955438625817, 0.7091370364084323, 1.8013916678745001, -1.1989731670895405, -0.5688742308502165, -0.1816674144520255, -2.359910757688425, 0.22697686099693382, 1.5224719511179265, -0.051427311291810475, -0.14986382281616054, 1.938913925815311, 2.0557818250774673, 1.193872323830949, -1.2408303117525894, -0.2611619828244525, 1.0433502750645813, -1.0481872674311117, 0.8471112925652577, 0.9214333172338225, -0.8303405354394535, 0.7333288529098103, 0.06195289574718428, -0.5523748555005844, 0.07752582643237693, -0.1832526709631383, 0.7060024294054582, -0.9700407116480401, -0.06033370210807146, -1.0702400934085323, 1.9110186220760212, -0.822538683558576, -1.9343847616131806], \"xaxis\": \"x6\", \"yaxis\": \"y6\"}, {\"line\": {\"color\": \"rgba(128, 128, 128, 1.0)\", \"dash\": \"solid\", \"shape\": \"linear\", \"width\": 1.3}, \"marker\": {\"size\": 2, \"symbol\": \"circle\"}, \"mode\": \"markers\", \"name\": \"B\", \"text\": \"\", \"type\": \"scatter\", \"x\": [0.8083420630665378, -0.7648222124139935, 0.4643172174734072, -0.10075614139784915, -0.2581029347010073, 0.5414709545053994, -1.6772831850982985, 1.3690422788468501, 1.048147094683917, -2.088327013320739, -1.4096737923560239, -0.7970912433579793, -0.5237843086429662, -3.3664249074523793, -0.6156994213908308, 1.3654325384656616, 0.6199464355553261, 0.2881025606295957, -1.0115535017359918, 0.38649973790909553, 0.103845950207263, 0.257014975138551, 0.40997311949806, 0.9246749206670745, 1.1753181732901241, -1.1456403996241877, 0.7115166605044273, -0.4821100944580768, 1.054757250154148, -0.7931070429568493, 0.49958634061358476, -1.804183783313613, -0.8195480741717336, -0.06361603871967302, -0.8457119980175559, 0.48483810209851336, 1.0970650300680742, 1.8019271320843695, 0.6279053131085512, -0.23878642530815347, 0.9605359825714156, 0.2254934638953998, 0.42246803352127676, 0.05428605964076033, -1.2893079317352325, -1.3392162379310717, 0.6982496162025887, 0.6786272998972681, -0.7587827012380097, 0.9988548628064908, 1.2302690676377823, 1.5246499734628876, -0.437246997825594, 0.29183457547002806, 1.7549358804056925, 1.489477486208536, -1.0546887128399014, -0.4313109958264226, 0.18978122694806013, 0.13252273428089265, 0.3246884283483141, 0.3183729356103616, 0.7766533790714364, 0.5307936741007439, 2.0235941635591113, -0.2964866099786187, -0.6658905935757808, -2.1196819016268784, -1.434573545374268, -1.140693132386746, 0.3166595474746357, -0.5001845502247366, 0.8304121195406919, -1.1253250369967436, -1.722875526360012, -0.36246406701518585, 0.05194328606942015, -1.1001169784677582, 1.39655795226364, 0.9759756700939083, -0.43171851780306486, -2.0338249135062223, 0.16142207652734952, -0.3071272403408853, 0.7641972957490955, 1.6342968909756563, -1.1776410174030765, -1.0837624162313493, -1.8979695056489236, 0.3365402338601029, -0.3326659754598676, 1.6488449596594998, 0.49205212816745064, 0.5495993401251483, 1.2513338392142446, -0.6202802208564918, 0.5854562864867651, 0.40906866667466496, 0.6133021138733645, 1.4100389197072407], \"xaxis\": \"x7\", \"y\": [-1.2097527221848159, 1.1799046007041927, -1.1834221588769493, -1.6984135001086205, -0.5971861176431017, 1.5104539612831518, 0.29930145530660573, 0.2983796237150073, -0.9766095973484259, 1.793652088246052, 0.1126591651924812, -0.5169902541696968, 0.5948404156190612, -0.1239099481559275, -0.4379921127038842, -0.70011036355272, -0.30692386506556635, -0.22371888983850496, 0.48190181278582656, -0.018744669651661303, -1.605704222186048, 0.22083231765666572, 2.044522952045807, -1.739225081395104, -0.1485858843940398, -0.33066224844880704, 0.5745639130696373, 1.6235507157746567, 1.0401765822956874, -1.1583027927154714, 1.442919332234142, -0.8311026172322971, -0.42095320811513415, 0.6282504167274588, 0.2892030355856491, -1.318331273313542, -0.9856390428839195, 0.7749309610966735, 0.15704140129774963, 0.938125741824176, -1.3208921092090842, -0.9262496187199861, 0.5670178032763279, -2.0668684741045134, 2.222412409692029, -0.09654233381017159, -0.23736661139712492, 0.9561664766125788, 0.47471815147215224, 0.08326596606072473, -1.0639577582619344, -0.05264940065464254, 0.3289029014714224, 0.1548341284831212, -1.5915158206318833, 0.6835776998850714, -1.4385341690158227, 0.7622147856721684, -0.8725250241542908, -0.8283412646805206, -0.4567219096907423, 1.676652776432216, -0.4693471877153127, -0.08641067872490407, -1.6177194138719508, 0.15863822514005227, -0.4267639176296674, 0.5737955438625817, 0.7091370364084323, 1.8013916678745001, -1.1989731670895405, -0.5688742308502165, -0.1816674144520255, -2.359910757688425, 0.22697686099693382, 1.5224719511179265, -0.051427311291810475, -0.14986382281616054, 1.938913925815311, 2.0557818250774673, 1.193872323830949, -1.2408303117525894, -0.2611619828244525, 1.0433502750645813, -1.0481872674311117, 0.8471112925652577, 0.9214333172338225, -0.8303405354394535, 0.7333288529098103, 0.06195289574718428, -0.5523748555005844, 0.07752582643237693, -0.1832526709631383, 0.7060024294054582, -0.9700407116480401, -0.06033370210807146, -1.0702400934085323, 1.9110186220760212, -0.822538683558576, -1.9343847616131806], \"yaxis\": \"y7\"}, {\"line\": {\"color\": \"rgba(128, 128, 128, 1.0)\", \"dash\": \"solid\", \"shape\": \"linear\", \"width\": 1.3}, \"marker\": {\"size\": 2, \"symbol\": \"circle\"}, \"mode\": \"markers\", \"name\": \"B\", \"text\": \"\", \"type\": \"scatter\", \"x\": [-0.016266267532593675, -1.9175607644044288, -1.3096361651166792, 0.30982350773856887, 1.1920274808210825, -0.9639759867750893, -0.459376207831238, 0.3640630915375373, -0.27490728509492807, 0.40117684070848186, -1.1724458805289277, 0.2862606392018767, 1.3155828040954392, -0.40240220805775606, 0.1762958407056729, 0.6770557230418077, 0.697183707355488, 1.5648786017359773, 0.10367303107284499, 0.012265879713169734, 0.5523829132942183, -0.9444336754285173, -1.4126505177709754, 1.7543203253570094, -0.7695299543983339, -1.1543425714243205, 0.6534988922923606, -0.8449742209204408, -0.4603248130253345, 1.9195059132833274, -0.6740112213196392, -0.37035010063795337, -0.34551222662929193, -0.4947142058171532, -0.3879987367846848, -0.220033680788515, 0.7697419164887037, -0.25790559468201263, 1.7847743997572107, 1.5539586743001421, -0.574317991255687, 0.38289732185856135, 0.4739023193467402, -0.9880710251785277, 0.24271301354540137, -0.4705139112907117, -2.120647820959208, -0.8131151947171272, -0.3078659817900132, -1.3284940040116722, -1.6410364425699597, 0.5182204233411811, 1.028433001250845, -0.6501812230352362, -0.9969190134600268, 0.7945720251623815, 2.0570547779783883, 0.18773394953287267, 0.8371366392771855, -1.641978083369517, 1.78196579998147, 1.0108836553386344, -0.5048441071065946, 0.3796292595942805, 0.3315317171174229, 1.384394396079279, -0.6267098867395908, -1.2838568740278253, -0.47381867958162877, -0.6078751987981147, 1.2462142493938617, 0.20754879479548488, 0.4490958490717092, -0.4013098388455309, -0.4942752891081135, -0.7477318111155566, -0.13977445327016852, -0.7737595288076063, 0.6626686712287341, -0.6696670659835362, 0.7538737624087576, 0.2550857378399872, -1.1632515848191056, -0.0338238478900006, -0.27042501951097186, 1.121257735646997, 1.5800141638906522, -1.2174432473563308, 0.8754630640859936, -1.3982815212398807, -0.1114485476250136, -1.6569285432562406, 0.4668555703563866, 0.12276686082116595, -0.3010853305079448, -1.1998854854586816, 2.107393925334404, -0.09241863054212683, 1.0589387446622789, -0.6965161921160616], \"xaxis\": \"x8\", \"y\": [-1.2097527221848159, 1.1799046007041927, -1.1834221588769493, -1.6984135001086205, -0.5971861176431017, 1.5104539612831518, 0.29930145530660573, 0.2983796237150073, -0.9766095973484259, 1.793652088246052, 0.1126591651924812, -0.5169902541696968, 0.5948404156190612, -0.1239099481559275, -0.4379921127038842, -0.70011036355272, -0.30692386506556635, -0.22371888983850496, 0.48190181278582656, -0.018744669651661303, -1.605704222186048, 0.22083231765666572, 2.044522952045807, -1.739225081395104, -0.1485858843940398, -0.33066224844880704, 0.5745639130696373, 1.6235507157746567, 1.0401765822956874, -1.1583027927154714, 1.442919332234142, -0.8311026172322971, -0.42095320811513415, 0.6282504167274588, 0.2892030355856491, -1.318331273313542, -0.9856390428839195, 0.7749309610966735, 0.15704140129774963, 0.938125741824176, -1.3208921092090842, -0.9262496187199861, 0.5670178032763279, -2.0668684741045134, 2.222412409692029, -0.09654233381017159, -0.23736661139712492, 0.9561664766125788, 0.47471815147215224, 0.08326596606072473, -1.0639577582619344, -0.05264940065464254, 0.3289029014714224, 0.1548341284831212, -1.5915158206318833, 0.6835776998850714, -1.4385341690158227, 0.7622147856721684, -0.8725250241542908, -0.8283412646805206, -0.4567219096907423, 1.676652776432216, -0.4693471877153127, -0.08641067872490407, -1.6177194138719508, 0.15863822514005227, -0.4267639176296674, 0.5737955438625817, 0.7091370364084323, 1.8013916678745001, -1.1989731670895405, -0.5688742308502165, -0.1816674144520255, -2.359910757688425, 0.22697686099693382, 1.5224719511179265, -0.051427311291810475, -0.14986382281616054, 1.938913925815311, 2.0557818250774673, 1.193872323830949, -1.2408303117525894, -0.2611619828244525, 1.0433502750645813, -1.0481872674311117, 0.8471112925652577, 0.9214333172338225, -0.8303405354394535, 0.7333288529098103, 0.06195289574718428, -0.5523748555005844, 0.07752582643237693, -0.1832526709631383, 0.7060024294054582, -0.9700407116480401, -0.06033370210807146, -1.0702400934085323, 1.9110186220760212, -0.822538683558576, -1.9343847616131806], \"yaxis\": \"y8\"}, {\"line\": {\"color\": \"rgba(128, 128, 128, 1.0)\", \"dash\": \"solid\", \"shape\": \"linear\", \"width\": 1.3}, \"marker\": {\"size\": 2, \"symbol\": \"circle\"}, \"mode\": \"markers\", \"name\": \"C\", \"text\": \"\", \"type\": \"scatter\", \"x\": [0.0200557472937535, -0.00271132931331797, 0.46549532154698425, -2.481646486984156, 2.4303861210605935, 0.5481507439264193, -0.38470482283232404, -0.518779439690536, -0.7501634969140787, 1.3439489773286026, -0.589881383118077, 1.555143766648843, -0.655953259623783, -1.1555818363342922, -0.7568772228453478, -1.5486617148203903, -0.5436877932895822, -0.5407220303875889, 1.1397796840456185, 2.399031489215634, -0.7398597890619141, 1.0681578354258672, -0.5617995811618804, 0.7798513629269344, -0.6709029452549264, 0.5759018580777242, -1.3168975619356753, 0.4652879785630099, 0.5120686376505994, -0.07288612366483778, 1.1561575191197915, 0.013876953211418462, 0.3708384949906431, 0.6089218203334266, -1.1062402004761074, 0.9190679627768068, 1.59436967636182, -0.11802519337300074, 0.5883055741919039, -0.40888726324449765, -0.8427508700641458, 0.059726795718412405, -0.2593758711802393, 0.43199402140109044, 0.7391808769493033, -0.9859983859826807, -0.10982292838783923, -0.735118026978211, 0.0020092704885079637, 0.11044970018502757, 1.6615490278239524, 0.03259818088062817, -0.019733186364458692, 0.21803670465781763, 0.26369203484433024, 0.8634111072949268, 0.0008355690946857561, -0.4403564296356372, 0.5718458465543802, 0.6426091863213986, 2.5986702974078075, 0.807512380854062, -0.9873402436931084, 0.8093768662673073, 2.7804196860661645, -0.44881276091377864, 0.9631772242524053, -0.7608239460151477, -0.3356376858339743, 0.6658254980379036, 1.559430461138503, 1.2498381400882623, 1.2386242849715374, 1.395681616906325, 0.8830205264244256, 0.4205925892915467, 1.022620118306731, 0.09499023997737753, -0.8598375728259922, -0.06148325183927021, 1.6678558426456507, 1.3026779509417608, -1.0811250922454758, -0.09940161189493037, 0.30231049321942105, 0.5785752116603203, -0.3659025569859325, -1.3524348623145261, 1.2152768143933255, -0.7405498222117431, 0.12752313153721662, -0.3141605732582258, 0.3689107664192181, -1.8558251937626842, -0.8926732296819363, 0.09996090398072764, -1.2199200339643053, -0.05755442797843427, -0.7559637792335455, -2.668448084698979], \"xaxis\": \"x9\", \"y\": [0.8083420630665378, -0.7648222124139935, 0.4643172174734072, -0.10075614139784915, -0.2581029347010073, 0.5414709545053994, -1.6772831850982985, 1.3690422788468501, 1.048147094683917, -2.088327013320739, -1.4096737923560239, -0.7970912433579793, -0.5237843086429662, -3.3664249074523793, -0.6156994213908308, 1.3654325384656616, 0.6199464355553261, 0.2881025606295957, -1.0115535017359918, 0.38649973790909553, 0.103845950207263, 0.257014975138551, 0.40997311949806, 0.9246749206670745, 1.1753181732901241, -1.1456403996241877, 0.7115166605044273, -0.4821100944580768, 1.054757250154148, -0.7931070429568493, 0.49958634061358476, -1.804183783313613, -0.8195480741717336, -0.06361603871967302, -0.8457119980175559, 0.48483810209851336, 1.0970650300680742, 1.8019271320843695, 0.6279053131085512, -0.23878642530815347, 0.9605359825714156, 0.2254934638953998, 0.42246803352127676, 0.05428605964076033, -1.2893079317352325, -1.3392162379310717, 0.6982496162025887, 0.6786272998972681, -0.7587827012380097, 0.9988548628064908, 1.2302690676377823, 1.5246499734628876, -0.437246997825594, 0.29183457547002806, 1.7549358804056925, 1.489477486208536, -1.0546887128399014, -0.4313109958264226, 0.18978122694806013, 0.13252273428089265, 0.3246884283483141, 0.3183729356103616, 0.7766533790714364, 0.5307936741007439, 2.0235941635591113, -0.2964866099786187, -0.6658905935757808, -2.1196819016268784, -1.434573545374268, -1.140693132386746, 0.3166595474746357, -0.5001845502247366, 0.8304121195406919, -1.1253250369967436, -1.722875526360012, -0.36246406701518585, 0.05194328606942015, -1.1001169784677582, 1.39655795226364, 0.9759756700939083, -0.43171851780306486, -2.0338249135062223, 0.16142207652734952, -0.3071272403408853, 0.7641972957490955, 1.6342968909756563, -1.1776410174030765, -1.0837624162313493, -1.8979695056489236, 0.3365402338601029, -0.3326659754598676, 1.6488449596594998, 0.49205212816745064, 0.5495993401251483, 1.2513338392142446, -0.6202802208564918, 0.5854562864867651, 0.40906866667466496, 0.6133021138733645, 1.4100389197072407], \"yaxis\": \"y9\"}, {\"line\": {\"color\": \"rgba(128, 128, 128, 1.0)\", \"dash\": \"solid\", \"shape\": \"linear\", \"width\": 1.3}, \"marker\": {\"size\": 2, \"symbol\": \"circle\"}, \"mode\": \"markers\", \"name\": \"C\", \"text\": \"\", \"type\": \"scatter\", \"x\": [-1.2097527221848159, 1.1799046007041927, -1.1834221588769493, -1.6984135001086205, -0.5971861176431017, 1.5104539612831518, 0.29930145530660573, 0.2983796237150073, -0.9766095973484259, 1.793652088246052, 0.1126591651924812, -0.5169902541696968, 0.5948404156190612, -0.1239099481559275, -0.4379921127038842, -0.70011036355272, -0.30692386506556635, -0.22371888983850496, 0.48190181278582656, -0.018744669651661303, -1.605704222186048, 0.22083231765666572, 2.044522952045807, -1.739225081395104, -0.1485858843940398, -0.33066224844880704, 0.5745639130696373, 1.6235507157746567, 1.0401765822956874, -1.1583027927154714, 1.442919332234142, -0.8311026172322971, -0.42095320811513415, 0.6282504167274588, 0.2892030355856491, -1.318331273313542, -0.9856390428839195, 0.7749309610966735, 0.15704140129774963, 0.938125741824176, -1.3208921092090842, -0.9262496187199861, 0.5670178032763279, -2.0668684741045134, 2.222412409692029, -0.09654233381017159, -0.23736661139712492, 0.9561664766125788, 0.47471815147215224, 0.08326596606072473, -1.0639577582619344, -0.05264940065464254, 0.3289029014714224, 0.1548341284831212, -1.5915158206318833, 0.6835776998850714, -1.4385341690158227, 0.7622147856721684, -0.8725250241542908, -0.8283412646805206, -0.4567219096907423, 1.676652776432216, -0.4693471877153127, -0.08641067872490407, -1.6177194138719508, 0.15863822514005227, -0.4267639176296674, 0.5737955438625817, 0.7091370364084323, 1.8013916678745001, -1.1989731670895405, -0.5688742308502165, -0.1816674144520255, -2.359910757688425, 0.22697686099693382, 1.5224719511179265, -0.051427311291810475, -0.14986382281616054, 1.938913925815311, 2.0557818250774673, 1.193872323830949, -1.2408303117525894, -0.2611619828244525, 1.0433502750645813, -1.0481872674311117, 0.8471112925652577, 0.9214333172338225, -0.8303405354394535, 0.7333288529098103, 0.06195289574718428, -0.5523748555005844, 0.07752582643237693, -0.1832526709631383, 0.7060024294054582, -0.9700407116480401, -0.06033370210807146, -1.0702400934085323, 1.9110186220760212, -0.822538683558576, -1.9343847616131806], \"xaxis\": \"x10\", \"y\": [0.8083420630665378, -0.7648222124139935, 0.4643172174734072, -0.10075614139784915, -0.2581029347010073, 0.5414709545053994, -1.6772831850982985, 1.3690422788468501, 1.048147094683917, -2.088327013320739, -1.4096737923560239, -0.7970912433579793, -0.5237843086429662, -3.3664249074523793, -0.6156994213908308, 1.3654325384656616, 0.6199464355553261, 0.2881025606295957, -1.0115535017359918, 0.38649973790909553, 0.103845950207263, 0.257014975138551, 0.40997311949806, 0.9246749206670745, 1.1753181732901241, -1.1456403996241877, 0.7115166605044273, -0.4821100944580768, 1.054757250154148, -0.7931070429568493, 0.49958634061358476, -1.804183783313613, -0.8195480741717336, -0.06361603871967302, -0.8457119980175559, 0.48483810209851336, 1.0970650300680742, 1.8019271320843695, 0.6279053131085512, -0.23878642530815347, 0.9605359825714156, 0.2254934638953998, 0.42246803352127676, 0.05428605964076033, -1.2893079317352325, -1.3392162379310717, 0.6982496162025887, 0.6786272998972681, -0.7587827012380097, 0.9988548628064908, 1.2302690676377823, 1.5246499734628876, -0.437246997825594, 0.29183457547002806, 1.7549358804056925, 1.489477486208536, -1.0546887128399014, -0.4313109958264226, 0.18978122694806013, 0.13252273428089265, 0.3246884283483141, 0.3183729356103616, 0.7766533790714364, 0.5307936741007439, 2.0235941635591113, -0.2964866099786187, -0.6658905935757808, -2.1196819016268784, -1.434573545374268, -1.140693132386746, 0.3166595474746357, -0.5001845502247366, 0.8304121195406919, -1.1253250369967436, -1.722875526360012, -0.36246406701518585, 0.05194328606942015, -1.1001169784677582, 1.39655795226364, 0.9759756700939083, -0.43171851780306486, -2.0338249135062223, 0.16142207652734952, -0.3071272403408853, 0.7641972957490955, 1.6342968909756563, -1.1776410174030765, -1.0837624162313493, -1.8979695056489236, 0.3365402338601029, -0.3326659754598676, 1.6488449596594998, 0.49205212816745064, 0.5495993401251483, 1.2513338392142446, -0.6202802208564918, 0.5854562864867651, 0.40906866667466496, 0.6133021138733645, 1.4100389197072407], \"yaxis\": \"y10\"}, {\"histfunc\": \"count\", \"histnorm\": \"\", \"marker\": {\"color\": \"rgba(50, 171, 96, 1.0)\", \"line\": {\"color\": \"#4D5663\", \"width\": 1.3}}, \"name\": \"C\", \"nbinsx\": 10, \"opacity\": 0.8, \"orientation\": \"v\", \"type\": \"histogram\", \"x\": [0.8083420630665378, -0.7648222124139935, 0.4643172174734072, -0.10075614139784915, -0.2581029347010073, 0.5414709545053994, -1.6772831850982985, 1.3690422788468501, 1.048147094683917, -2.088327013320739, -1.4096737923560239, -0.7970912433579793, -0.5237843086429662, -3.3664249074523793, -0.6156994213908308, 1.3654325384656616, 0.6199464355553261, 0.2881025606295957, -1.0115535017359918, 0.38649973790909553, 0.103845950207263, 0.257014975138551, 0.40997311949806, 0.9246749206670745, 1.1753181732901241, -1.1456403996241877, 0.7115166605044273, -0.4821100944580768, 1.054757250154148, -0.7931070429568493, 0.49958634061358476, -1.804183783313613, -0.8195480741717336, -0.06361603871967302, -0.8457119980175559, 0.48483810209851336, 1.0970650300680742, 1.8019271320843695, 0.6279053131085512, -0.23878642530815347, 0.9605359825714156, 0.2254934638953998, 0.42246803352127676, 0.05428605964076033, -1.2893079317352325, -1.3392162379310717, 0.6982496162025887, 0.6786272998972681, -0.7587827012380097, 0.9988548628064908, 1.2302690676377823, 1.5246499734628876, -0.437246997825594, 0.29183457547002806, 1.7549358804056925, 1.489477486208536, -1.0546887128399014, -0.4313109958264226, 0.18978122694806013, 0.13252273428089265, 0.3246884283483141, 0.3183729356103616, 0.7766533790714364, 0.5307936741007439, 2.0235941635591113, -0.2964866099786187, -0.6658905935757808, -2.1196819016268784, -1.434573545374268, -1.140693132386746, 0.3166595474746357, -0.5001845502247366, 0.8304121195406919, -1.1253250369967436, -1.722875526360012, -0.36246406701518585, 0.05194328606942015, -1.1001169784677582, 1.39655795226364, 0.9759756700939083, -0.43171851780306486, -2.0338249135062223, 0.16142207652734952, -0.3071272403408853, 0.7641972957490955, 1.6342968909756563, -1.1776410174030765, -1.0837624162313493, -1.8979695056489236, 0.3365402338601029, -0.3326659754598676, 1.6488449596594998, 0.49205212816745064, 0.5495993401251483, 1.2513338392142446, -0.6202802208564918, 0.5854562864867651, 0.40906866667466496, 0.6133021138733645, 1.4100389197072407], \"xaxis\": \"x11\", \"yaxis\": \"y11\"}, {\"line\": {\"color\": \"rgba(128, 128, 128, 1.0)\", \"dash\": \"solid\", \"shape\": \"linear\", \"width\": 1.3}, \"marker\": {\"size\": 2, \"symbol\": \"circle\"}, \"mode\": \"markers\", \"name\": \"C\", \"text\": \"\", \"type\": \"scatter\", \"x\": [-0.016266267532593675, -1.9175607644044288, -1.3096361651166792, 0.30982350773856887, 1.1920274808210825, -0.9639759867750893, -0.459376207831238, 0.3640630915375373, -0.27490728509492807, 0.40117684070848186, -1.1724458805289277, 0.2862606392018767, 1.3155828040954392, -0.40240220805775606, 0.1762958407056729, 0.6770557230418077, 0.697183707355488, 1.5648786017359773, 0.10367303107284499, 0.012265879713169734, 0.5523829132942183, -0.9444336754285173, -1.4126505177709754, 1.7543203253570094, -0.7695299543983339, -1.1543425714243205, 0.6534988922923606, -0.8449742209204408, -0.4603248130253345, 1.9195059132833274, -0.6740112213196392, -0.37035010063795337, -0.34551222662929193, -0.4947142058171532, -0.3879987367846848, -0.220033680788515, 0.7697419164887037, -0.25790559468201263, 1.7847743997572107, 1.5539586743001421, -0.574317991255687, 0.38289732185856135, 0.4739023193467402, -0.9880710251785277, 0.24271301354540137, -0.4705139112907117, -2.120647820959208, -0.8131151947171272, -0.3078659817900132, -1.3284940040116722, -1.6410364425699597, 0.5182204233411811, 1.028433001250845, -0.6501812230352362, -0.9969190134600268, 0.7945720251623815, 2.0570547779783883, 0.18773394953287267, 0.8371366392771855, -1.641978083369517, 1.78196579998147, 1.0108836553386344, -0.5048441071065946, 0.3796292595942805, 0.3315317171174229, 1.384394396079279, -0.6267098867395908, -1.2838568740278253, -0.47381867958162877, -0.6078751987981147, 1.2462142493938617, 0.20754879479548488, 0.4490958490717092, -0.4013098388455309, -0.4942752891081135, -0.7477318111155566, -0.13977445327016852, -0.7737595288076063, 0.6626686712287341, -0.6696670659835362, 0.7538737624087576, 0.2550857378399872, -1.1632515848191056, -0.0338238478900006, -0.27042501951097186, 1.121257735646997, 1.5800141638906522, -1.2174432473563308, 0.8754630640859936, -1.3982815212398807, -0.1114485476250136, -1.6569285432562406, 0.4668555703563866, 0.12276686082116595, -0.3010853305079448, -1.1998854854586816, 2.107393925334404, -0.09241863054212683, 1.0589387446622789, -0.6965161921160616], \"xaxis\": \"x12\", \"y\": [0.8083420630665378, -0.7648222124139935, 0.4643172174734072, -0.10075614139784915, -0.2581029347010073, 0.5414709545053994, -1.6772831850982985, 1.3690422788468501, 1.048147094683917, -2.088327013320739, -1.4096737923560239, -0.7970912433579793, -0.5237843086429662, -3.3664249074523793, -0.6156994213908308, 1.3654325384656616, 0.6199464355553261, 0.2881025606295957, -1.0115535017359918, 0.38649973790909553, 0.103845950207263, 0.257014975138551, 0.40997311949806, 0.9246749206670745, 1.1753181732901241, -1.1456403996241877, 0.7115166605044273, -0.4821100944580768, 1.054757250154148, -0.7931070429568493, 0.49958634061358476, -1.804183783313613, -0.8195480741717336, -0.06361603871967302, -0.8457119980175559, 0.48483810209851336, 1.0970650300680742, 1.8019271320843695, 0.6279053131085512, -0.23878642530815347, 0.9605359825714156, 0.2254934638953998, 0.42246803352127676, 0.05428605964076033, -1.2893079317352325, -1.3392162379310717, 0.6982496162025887, 0.6786272998972681, -0.7587827012380097, 0.9988548628064908, 1.2302690676377823, 1.5246499734628876, -0.437246997825594, 0.29183457547002806, 1.7549358804056925, 1.489477486208536, -1.0546887128399014, -0.4313109958264226, 0.18978122694806013, 0.13252273428089265, 0.3246884283483141, 0.3183729356103616, 0.7766533790714364, 0.5307936741007439, 2.0235941635591113, -0.2964866099786187, -0.6658905935757808, -2.1196819016268784, -1.434573545374268, -1.140693132386746, 0.3166595474746357, -0.5001845502247366, 0.8304121195406919, -1.1253250369967436, -1.722875526360012, -0.36246406701518585, 0.05194328606942015, -1.1001169784677582, 1.39655795226364, 0.9759756700939083, -0.43171851780306486, -2.0338249135062223, 0.16142207652734952, -0.3071272403408853, 0.7641972957490955, 1.6342968909756563, -1.1776410174030765, -1.0837624162313493, -1.8979695056489236, 0.3365402338601029, -0.3326659754598676, 1.6488449596594998, 0.49205212816745064, 0.5495993401251483, 1.2513338392142446, -0.6202802208564918, 0.5854562864867651, 0.40906866667466496, 0.6133021138733645, 1.4100389197072407], \"yaxis\": \"y12\"}, {\"line\": {\"color\": \"rgba(128, 128, 128, 1.0)\", \"dash\": \"solid\", \"shape\": \"linear\", \"width\": 1.3}, \"marker\": {\"size\": 2, \"symbol\": \"circle\"}, \"mode\": \"markers\", \"name\": \"D\", \"text\": \"\", \"type\": \"scatter\", \"x\": [0.0200557472937535, -0.00271132931331797, 0.46549532154698425, -2.481646486984156, 2.4303861210605935, 0.5481507439264193, -0.38470482283232404, -0.518779439690536, -0.7501634969140787, 1.3439489773286026, -0.589881383118077, 1.555143766648843, -0.655953259623783, -1.1555818363342922, -0.7568772228453478, -1.5486617148203903, -0.5436877932895822, -0.5407220303875889, 1.1397796840456185, 2.399031489215634, -0.7398597890619141, 1.0681578354258672, -0.5617995811618804, 0.7798513629269344, -0.6709029452549264, 0.5759018580777242, -1.3168975619356753, 0.4652879785630099, 0.5120686376505994, -0.07288612366483778, 1.1561575191197915, 0.013876953211418462, 0.3708384949906431, 0.6089218203334266, -1.1062402004761074, 0.9190679627768068, 1.59436967636182, -0.11802519337300074, 0.5883055741919039, -0.40888726324449765, -0.8427508700641458, 0.059726795718412405, -0.2593758711802393, 0.43199402140109044, 0.7391808769493033, -0.9859983859826807, -0.10982292838783923, -0.735118026978211, 0.0020092704885079637, 0.11044970018502757, 1.6615490278239524, 0.03259818088062817, -0.019733186364458692, 0.21803670465781763, 0.26369203484433024, 0.8634111072949268, 0.0008355690946857561, -0.4403564296356372, 0.5718458465543802, 0.6426091863213986, 2.5986702974078075, 0.807512380854062, -0.9873402436931084, 0.8093768662673073, 2.7804196860661645, -0.44881276091377864, 0.9631772242524053, -0.7608239460151477, -0.3356376858339743, 0.6658254980379036, 1.559430461138503, 1.2498381400882623, 1.2386242849715374, 1.395681616906325, 0.8830205264244256, 0.4205925892915467, 1.022620118306731, 0.09499023997737753, -0.8598375728259922, -0.06148325183927021, 1.6678558426456507, 1.3026779509417608, -1.0811250922454758, -0.09940161189493037, 0.30231049321942105, 0.5785752116603203, -0.3659025569859325, -1.3524348623145261, 1.2152768143933255, -0.7405498222117431, 0.12752313153721662, -0.3141605732582258, 0.3689107664192181, -1.8558251937626842, -0.8926732296819363, 0.09996090398072764, -1.2199200339643053, -0.05755442797843427, -0.7559637792335455, -2.668448084698979], \"xaxis\": \"x13\", \"y\": [-0.016266267532593675, -1.9175607644044288, -1.3096361651166792, 0.30982350773856887, 1.1920274808210825, -0.9639759867750893, -0.459376207831238, 0.3640630915375373, -0.27490728509492807, 0.40117684070848186, -1.1724458805289277, 0.2862606392018767, 1.3155828040954392, -0.40240220805775606, 0.1762958407056729, 0.6770557230418077, 0.697183707355488, 1.5648786017359773, 0.10367303107284499, 0.012265879713169734, 0.5523829132942183, -0.9444336754285173, -1.4126505177709754, 1.7543203253570094, -0.7695299543983339, -1.1543425714243205, 0.6534988922923606, -0.8449742209204408, -0.4603248130253345, 1.9195059132833274, -0.6740112213196392, -0.37035010063795337, -0.34551222662929193, -0.4947142058171532, -0.3879987367846848, -0.220033680788515, 0.7697419164887037, -0.25790559468201263, 1.7847743997572107, 1.5539586743001421, -0.574317991255687, 0.38289732185856135, 0.4739023193467402, -0.9880710251785277, 0.24271301354540137, -0.4705139112907117, -2.120647820959208, -0.8131151947171272, -0.3078659817900132, -1.3284940040116722, -1.6410364425699597, 0.5182204233411811, 1.028433001250845, -0.6501812230352362, -0.9969190134600268, 0.7945720251623815, 2.0570547779783883, 0.18773394953287267, 0.8371366392771855, -1.641978083369517, 1.78196579998147, 1.0108836553386344, -0.5048441071065946, 0.3796292595942805, 0.3315317171174229, 1.384394396079279, -0.6267098867395908, -1.2838568740278253, -0.47381867958162877, -0.6078751987981147, 1.2462142493938617, 0.20754879479548488, 0.4490958490717092, -0.4013098388455309, -0.4942752891081135, -0.7477318111155566, -0.13977445327016852, -0.7737595288076063, 0.6626686712287341, -0.6696670659835362, 0.7538737624087576, 0.2550857378399872, -1.1632515848191056, -0.0338238478900006, -0.27042501951097186, 1.121257735646997, 1.5800141638906522, -1.2174432473563308, 0.8754630640859936, -1.3982815212398807, -0.1114485476250136, -1.6569285432562406, 0.4668555703563866, 0.12276686082116595, -0.3010853305079448, -1.1998854854586816, 2.107393925334404, -0.09241863054212683, 1.0589387446622789, -0.6965161921160616], \"yaxis\": \"y13\"}, {\"line\": {\"color\": \"rgba(128, 128, 128, 1.0)\", \"dash\": \"solid\", \"shape\": \"linear\", \"width\": 1.3}, \"marker\": {\"size\": 2, \"symbol\": \"circle\"}, \"mode\": \"markers\", \"name\": \"D\", \"text\": \"\", \"type\": \"scatter\", \"x\": [-1.2097527221848159, 1.1799046007041927, -1.1834221588769493, -1.6984135001086205, -0.5971861176431017, 1.5104539612831518, 0.29930145530660573, 0.2983796237150073, -0.9766095973484259, 1.793652088246052, 0.1126591651924812, -0.5169902541696968, 0.5948404156190612, -0.1239099481559275, -0.4379921127038842, -0.70011036355272, -0.30692386506556635, -0.22371888983850496, 0.48190181278582656, -0.018744669651661303, -1.605704222186048, 0.22083231765666572, 2.044522952045807, -1.739225081395104, -0.1485858843940398, -0.33066224844880704, 0.5745639130696373, 1.6235507157746567, 1.0401765822956874, -1.1583027927154714, 1.442919332234142, -0.8311026172322971, -0.42095320811513415, 0.6282504167274588, 0.2892030355856491, -1.318331273313542, -0.9856390428839195, 0.7749309610966735, 0.15704140129774963, 0.938125741824176, -1.3208921092090842, -0.9262496187199861, 0.5670178032763279, -2.0668684741045134, 2.222412409692029, -0.09654233381017159, -0.23736661139712492, 0.9561664766125788, 0.47471815147215224, 0.08326596606072473, -1.0639577582619344, -0.05264940065464254, 0.3289029014714224, 0.1548341284831212, -1.5915158206318833, 0.6835776998850714, -1.4385341690158227, 0.7622147856721684, -0.8725250241542908, -0.8283412646805206, -0.4567219096907423, 1.676652776432216, -0.4693471877153127, -0.08641067872490407, -1.6177194138719508, 0.15863822514005227, -0.4267639176296674, 0.5737955438625817, 0.7091370364084323, 1.8013916678745001, -1.1989731670895405, -0.5688742308502165, -0.1816674144520255, -2.359910757688425, 0.22697686099693382, 1.5224719511179265, -0.051427311291810475, -0.14986382281616054, 1.938913925815311, 2.0557818250774673, 1.193872323830949, -1.2408303117525894, -0.2611619828244525, 1.0433502750645813, -1.0481872674311117, 0.8471112925652577, 0.9214333172338225, -0.8303405354394535, 0.7333288529098103, 0.06195289574718428, -0.5523748555005844, 0.07752582643237693, -0.1832526709631383, 0.7060024294054582, -0.9700407116480401, -0.06033370210807146, -1.0702400934085323, 1.9110186220760212, -0.822538683558576, -1.9343847616131806], \"xaxis\": \"x14\", \"y\": [-0.016266267532593675, -1.9175607644044288, -1.3096361651166792, 0.30982350773856887, 1.1920274808210825, -0.9639759867750893, -0.459376207831238, 0.3640630915375373, -0.27490728509492807, 0.40117684070848186, -1.1724458805289277, 0.2862606392018767, 1.3155828040954392, -0.40240220805775606, 0.1762958407056729, 0.6770557230418077, 0.697183707355488, 1.5648786017359773, 0.10367303107284499, 0.012265879713169734, 0.5523829132942183, -0.9444336754285173, -1.4126505177709754, 1.7543203253570094, -0.7695299543983339, -1.1543425714243205, 0.6534988922923606, -0.8449742209204408, -0.4603248130253345, 1.9195059132833274, -0.6740112213196392, -0.37035010063795337, -0.34551222662929193, -0.4947142058171532, -0.3879987367846848, -0.220033680788515, 0.7697419164887037, -0.25790559468201263, 1.7847743997572107, 1.5539586743001421, -0.574317991255687, 0.38289732185856135, 0.4739023193467402, -0.9880710251785277, 0.24271301354540137, -0.4705139112907117, -2.120647820959208, -0.8131151947171272, -0.3078659817900132, -1.3284940040116722, -1.6410364425699597, 0.5182204233411811, 1.028433001250845, -0.6501812230352362, -0.9969190134600268, 0.7945720251623815, 2.0570547779783883, 0.18773394953287267, 0.8371366392771855, -1.641978083369517, 1.78196579998147, 1.0108836553386344, -0.5048441071065946, 0.3796292595942805, 0.3315317171174229, 1.384394396079279, -0.6267098867395908, -1.2838568740278253, -0.47381867958162877, -0.6078751987981147, 1.2462142493938617, 0.20754879479548488, 0.4490958490717092, -0.4013098388455309, -0.4942752891081135, -0.7477318111155566, -0.13977445327016852, -0.7737595288076063, 0.6626686712287341, -0.6696670659835362, 0.7538737624087576, 0.2550857378399872, -1.1632515848191056, -0.0338238478900006, -0.27042501951097186, 1.121257735646997, 1.5800141638906522, -1.2174432473563308, 0.8754630640859936, -1.3982815212398807, -0.1114485476250136, -1.6569285432562406, 0.4668555703563866, 0.12276686082116595, -0.3010853305079448, -1.1998854854586816, 2.107393925334404, -0.09241863054212683, 1.0589387446622789, -0.6965161921160616], \"yaxis\": \"y14\"}, {\"line\": {\"color\": \"rgba(128, 128, 128, 1.0)\", \"dash\": \"solid\", \"shape\": \"linear\", \"width\": 1.3}, \"marker\": {\"size\": 2, \"symbol\": \"circle\"}, \"mode\": \"markers\", \"name\": \"D\", \"text\": \"\", \"type\": \"scatter\", \"x\": [0.8083420630665378, -0.7648222124139935, 0.4643172174734072, -0.10075614139784915, -0.2581029347010073, 0.5414709545053994, -1.6772831850982985, 1.3690422788468501, 1.048147094683917, -2.088327013320739, -1.4096737923560239, -0.7970912433579793, -0.5237843086429662, -3.3664249074523793, -0.6156994213908308, 1.3654325384656616, 0.6199464355553261, 0.2881025606295957, -1.0115535017359918, 0.38649973790909553, 0.103845950207263, 0.257014975138551, 0.40997311949806, 0.9246749206670745, 1.1753181732901241, -1.1456403996241877, 0.7115166605044273, -0.4821100944580768, 1.054757250154148, -0.7931070429568493, 0.49958634061358476, -1.804183783313613, -0.8195480741717336, -0.06361603871967302, -0.8457119980175559, 0.48483810209851336, 1.0970650300680742, 1.8019271320843695, 0.6279053131085512, -0.23878642530815347, 0.9605359825714156, 0.2254934638953998, 0.42246803352127676, 0.05428605964076033, -1.2893079317352325, -1.3392162379310717, 0.6982496162025887, 0.6786272998972681, -0.7587827012380097, 0.9988548628064908, 1.2302690676377823, 1.5246499734628876, -0.437246997825594, 0.29183457547002806, 1.7549358804056925, 1.489477486208536, -1.0546887128399014, -0.4313109958264226, 0.18978122694806013, 0.13252273428089265, 0.3246884283483141, 0.3183729356103616, 0.7766533790714364, 0.5307936741007439, 2.0235941635591113, -0.2964866099786187, -0.6658905935757808, -2.1196819016268784, -1.434573545374268, -1.140693132386746, 0.3166595474746357, -0.5001845502247366, 0.8304121195406919, -1.1253250369967436, -1.722875526360012, -0.36246406701518585, 0.05194328606942015, -1.1001169784677582, 1.39655795226364, 0.9759756700939083, -0.43171851780306486, -2.0338249135062223, 0.16142207652734952, -0.3071272403408853, 0.7641972957490955, 1.6342968909756563, -1.1776410174030765, -1.0837624162313493, -1.8979695056489236, 0.3365402338601029, -0.3326659754598676, 1.6488449596594998, 0.49205212816745064, 0.5495993401251483, 1.2513338392142446, -0.6202802208564918, 0.5854562864867651, 0.40906866667466496, 0.6133021138733645, 1.4100389197072407], \"xaxis\": \"x15\", \"y\": [-0.016266267532593675, -1.9175607644044288, -1.3096361651166792, 0.30982350773856887, 1.1920274808210825, -0.9639759867750893, -0.459376207831238, 0.3640630915375373, -0.27490728509492807, 0.40117684070848186, -1.1724458805289277, 0.2862606392018767, 1.3155828040954392, -0.40240220805775606, 0.1762958407056729, 0.6770557230418077, 0.697183707355488, 1.5648786017359773, 0.10367303107284499, 0.012265879713169734, 0.5523829132942183, -0.9444336754285173, -1.4126505177709754, 1.7543203253570094, -0.7695299543983339, -1.1543425714243205, 0.6534988922923606, -0.8449742209204408, -0.4603248130253345, 1.9195059132833274, -0.6740112213196392, -0.37035010063795337, -0.34551222662929193, -0.4947142058171532, -0.3879987367846848, -0.220033680788515, 0.7697419164887037, -0.25790559468201263, 1.7847743997572107, 1.5539586743001421, -0.574317991255687, 0.38289732185856135, 0.4739023193467402, -0.9880710251785277, 0.24271301354540137, -0.4705139112907117, -2.120647820959208, -0.8131151947171272, -0.3078659817900132, -1.3284940040116722, -1.6410364425699597, 0.5182204233411811, 1.028433001250845, -0.6501812230352362, -0.9969190134600268, 0.7945720251623815, 2.0570547779783883, 0.18773394953287267, 0.8371366392771855, -1.641978083369517, 1.78196579998147, 1.0108836553386344, -0.5048441071065946, 0.3796292595942805, 0.3315317171174229, 1.384394396079279, -0.6267098867395908, -1.2838568740278253, -0.47381867958162877, -0.6078751987981147, 1.2462142493938617, 0.20754879479548488, 0.4490958490717092, -0.4013098388455309, -0.4942752891081135, -0.7477318111155566, -0.13977445327016852, -0.7737595288076063, 0.6626686712287341, -0.6696670659835362, 0.7538737624087576, 0.2550857378399872, -1.1632515848191056, -0.0338238478900006, -0.27042501951097186, 1.121257735646997, 1.5800141638906522, -1.2174432473563308, 0.8754630640859936, -1.3982815212398807, -0.1114485476250136, -1.6569285432562406, 0.4668555703563866, 0.12276686082116595, -0.3010853305079448, -1.1998854854586816, 2.107393925334404, -0.09241863054212683, 1.0589387446622789, -0.6965161921160616], \"yaxis\": \"y15\"}, {\"histfunc\": \"count\", \"histnorm\": \"\", \"marker\": {\"color\": \"rgba(128, 0, 128, 1.0)\", \"line\": {\"color\": \"#4D5663\", \"width\": 1.3}}, \"name\": \"D\", \"nbinsx\": 10, \"opacity\": 0.8, \"orientation\": \"v\", \"type\": \"histogram\", \"x\": [-0.016266267532593675, -1.9175607644044288, -1.3096361651166792, 0.30982350773856887, 1.1920274808210825, -0.9639759867750893, -0.459376207831238, 0.3640630915375373, -0.27490728509492807, 0.40117684070848186, -1.1724458805289277, 0.2862606392018767, 1.3155828040954392, -0.40240220805775606, 0.1762958407056729, 0.6770557230418077, 0.697183707355488, 1.5648786017359773, 0.10367303107284499, 0.012265879713169734, 0.5523829132942183, -0.9444336754285173, -1.4126505177709754, 1.7543203253570094, -0.7695299543983339, -1.1543425714243205, 0.6534988922923606, -0.8449742209204408, -0.4603248130253345, 1.9195059132833274, -0.6740112213196392, -0.37035010063795337, -0.34551222662929193, -0.4947142058171532, -0.3879987367846848, -0.220033680788515, 0.7697419164887037, -0.25790559468201263, 1.7847743997572107, 1.5539586743001421, -0.574317991255687, 0.38289732185856135, 0.4739023193467402, -0.9880710251785277, 0.24271301354540137, -0.4705139112907117, -2.120647820959208, -0.8131151947171272, -0.3078659817900132, -1.3284940040116722, -1.6410364425699597, 0.5182204233411811, 1.028433001250845, -0.6501812230352362, -0.9969190134600268, 0.7945720251623815, 2.0570547779783883, 0.18773394953287267, 0.8371366392771855, -1.641978083369517, 1.78196579998147, 1.0108836553386344, -0.5048441071065946, 0.3796292595942805, 0.3315317171174229, 1.384394396079279, -0.6267098867395908, -1.2838568740278253, -0.47381867958162877, -0.6078751987981147, 1.2462142493938617, 0.20754879479548488, 0.4490958490717092, -0.4013098388455309, -0.4942752891081135, -0.7477318111155566, -0.13977445327016852, -0.7737595288076063, 0.6626686712287341, -0.6696670659835362, 0.7538737624087576, 0.2550857378399872, -1.1632515848191056, -0.0338238478900006, -0.27042501951097186, 1.121257735646997, 1.5800141638906522, -1.2174432473563308, 0.8754630640859936, -1.3982815212398807, -0.1114485476250136, -1.6569285432562406, 0.4668555703563866, 0.12276686082116595, -0.3010853305079448, -1.1998854854586816, 2.107393925334404, -0.09241863054212683, 1.0589387446622789, -0.6965161921160616], \"xaxis\": \"x16\", \"yaxis\": \"y16\"}],                        {\"bargap\": 0.02, \"legend\": {\"bgcolor\": \"#F5F6F9\", \"font\": {\"color\": \"#4D5663\"}}, \"paper_bgcolor\": \"#F5F6F9\", \"plot_bgcolor\": \"#F5F6F9\", \"showlegend\": false, \"template\": {\"data\": {\"bar\": [{\"error_x\": {\"color\": \"#2a3f5f\"}, \"error_y\": {\"color\": \"#2a3f5f\"}, \"marker\": {\"line\": {\"color\": \"#E5ECF6\", \"width\": 0.5}}, \"type\": \"bar\"}], \"barpolar\": [{\"marker\": {\"line\": {\"color\": \"#E5ECF6\", \"width\": 0.5}}, \"type\": \"barpolar\"}], \"carpet\": [{\"aaxis\": {\"endlinecolor\": \"#2a3f5f\", \"gridcolor\": \"white\", \"linecolor\": \"white\", \"minorgridcolor\": \"white\", \"startlinecolor\": \"#2a3f5f\"}, \"baxis\": {\"endlinecolor\": \"#2a3f5f\", \"gridcolor\": \"white\", \"linecolor\": \"white\", \"minorgridcolor\": \"white\", \"startlinecolor\": \"#2a3f5f\"}, \"type\": \"carpet\"}], \"choropleth\": [{\"colorbar\": {\"outlinewidth\": 0, \"ticks\": \"\"}, \"type\": \"choropleth\"}], \"contour\": [{\"colorbar\": {\"outlinewidth\": 0, \"ticks\": \"\"}, \"colorscale\": [[0.0, \"#0d0887\"], [0.1111111111111111, \"#46039f\"], [0.2222222222222222, \"#7201a8\"], [0.3333333333333333, \"#9c179e\"], [0.4444444444444444, \"#bd3786\"], [0.5555555555555556, \"#d8576b\"], [0.6666666666666666, \"#ed7953\"], [0.7777777777777778, \"#fb9f3a\"], [0.8888888888888888, \"#fdca26\"], [1.0, \"#f0f921\"]], \"type\": \"contour\"}], \"contourcarpet\": [{\"colorbar\": {\"outlinewidth\": 0, \"ticks\": \"\"}, \"type\": \"contourcarpet\"}], \"heatmap\": [{\"colorbar\": {\"outlinewidth\": 0, \"ticks\": \"\"}, \"colorscale\": [[0.0, \"#0d0887\"], [0.1111111111111111, \"#46039f\"], [0.2222222222222222, \"#7201a8\"], [0.3333333333333333, \"#9c179e\"], [0.4444444444444444, \"#bd3786\"], [0.5555555555555556, \"#d8576b\"], [0.6666666666666666, \"#ed7953\"], [0.7777777777777778, \"#fb9f3a\"], [0.8888888888888888, \"#fdca26\"], [1.0, \"#f0f921\"]], \"type\": \"heatmap\"}], \"heatmapgl\": [{\"colorbar\": {\"outlinewidth\": 0, \"ticks\": \"\"}, \"colorscale\": [[0.0, \"#0d0887\"], [0.1111111111111111, \"#46039f\"], [0.2222222222222222, \"#7201a8\"], [0.3333333333333333, \"#9c179e\"], [0.4444444444444444, \"#bd3786\"], [0.5555555555555556, \"#d8576b\"], [0.6666666666666666, \"#ed7953\"], [0.7777777777777778, \"#fb9f3a\"], [0.8888888888888888, \"#fdca26\"], [1.0, \"#f0f921\"]], \"type\": \"heatmapgl\"}], \"histogram\": [{\"marker\": {\"colorbar\": {\"outlinewidth\": 0, \"ticks\": \"\"}}, \"type\": \"histogram\"}], \"histogram2d\": [{\"colorbar\": {\"outlinewidth\": 0, \"ticks\": \"\"}, \"colorscale\": [[0.0, \"#0d0887\"], [0.1111111111111111, \"#46039f\"], [0.2222222222222222, \"#7201a8\"], [0.3333333333333333, \"#9c179e\"], [0.4444444444444444, \"#bd3786\"], [0.5555555555555556, \"#d8576b\"], [0.6666666666666666, \"#ed7953\"], [0.7777777777777778, \"#fb9f3a\"], [0.8888888888888888, \"#fdca26\"], [1.0, \"#f0f921\"]], \"type\": \"histogram2d\"}], \"histogram2dcontour\": [{\"colorbar\": {\"outlinewidth\": 0, \"ticks\": \"\"}, \"colorscale\": [[0.0, \"#0d0887\"], [0.1111111111111111, \"#46039f\"], [0.2222222222222222, \"#7201a8\"], [0.3333333333333333, \"#9c179e\"], [0.4444444444444444, \"#bd3786\"], [0.5555555555555556, \"#d8576b\"], [0.6666666666666666, \"#ed7953\"], [0.7777777777777778, \"#fb9f3a\"], [0.8888888888888888, \"#fdca26\"], [1.0, \"#f0f921\"]], \"type\": \"histogram2dcontour\"}], \"mesh3d\": [{\"colorbar\": {\"outlinewidth\": 0, \"ticks\": \"\"}, \"type\": \"mesh3d\"}], \"parcoords\": [{\"line\": {\"colorbar\": {\"outlinewidth\": 0, \"ticks\": \"\"}}, \"type\": \"parcoords\"}], \"pie\": [{\"automargin\": true, \"type\": \"pie\"}], \"scatter\": [{\"marker\": {\"colorbar\": {\"outlinewidth\": 0, \"ticks\": \"\"}}, \"type\": \"scatter\"}], \"scatter3d\": [{\"line\": {\"colorbar\": {\"outlinewidth\": 0, \"ticks\": \"\"}}, \"marker\": {\"colorbar\": {\"outlinewidth\": 0, \"ticks\": \"\"}}, \"type\": \"scatter3d\"}], \"scattercarpet\": [{\"marker\": {\"colorbar\": {\"outlinewidth\": 0, \"ticks\": \"\"}}, \"type\": \"scattercarpet\"}], \"scattergeo\": [{\"marker\": {\"colorbar\": {\"outlinewidth\": 0, \"ticks\": \"\"}}, \"type\": \"scattergeo\"}], \"scattergl\": [{\"marker\": {\"colorbar\": {\"outlinewidth\": 0, \"ticks\": \"\"}}, \"type\": \"scattergl\"}], \"scattermapbox\": [{\"marker\": {\"colorbar\": {\"outlinewidth\": 0, \"ticks\": \"\"}}, \"type\": \"scattermapbox\"}], \"scatterpolar\": [{\"marker\": {\"colorbar\": {\"outlinewidth\": 0, \"ticks\": \"\"}}, \"type\": \"scatterpolar\"}], \"scatterpolargl\": [{\"marker\": {\"colorbar\": {\"outlinewidth\": 0, \"ticks\": \"\"}}, \"type\": \"scatterpolargl\"}], \"scatterternary\": [{\"marker\": {\"colorbar\": {\"outlinewidth\": 0, \"ticks\": \"\"}}, \"type\": \"scatterternary\"}], \"surface\": [{\"colorbar\": {\"outlinewidth\": 0, \"ticks\": \"\"}, \"colorscale\": [[0.0, \"#0d0887\"], [0.1111111111111111, \"#46039f\"], [0.2222222222222222, \"#7201a8\"], [0.3333333333333333, \"#9c179e\"], [0.4444444444444444, \"#bd3786\"], [0.5555555555555556, \"#d8576b\"], [0.6666666666666666, \"#ed7953\"], [0.7777777777777778, \"#fb9f3a\"], [0.8888888888888888, \"#fdca26\"], [1.0, \"#f0f921\"]], \"type\": \"surface\"}], \"table\": [{\"cells\": {\"fill\": {\"color\": \"#EBF0F8\"}, \"line\": {\"color\": \"white\"}}, \"header\": {\"fill\": {\"color\": \"#C8D4E3\"}, \"line\": {\"color\": \"white\"}}, \"type\": \"table\"}]}, \"layout\": {\"annotationdefaults\": {\"arrowcolor\": \"#2a3f5f\", \"arrowhead\": 0, \"arrowwidth\": 1}, \"autotypenumbers\": \"strict\", \"coloraxis\": {\"colorbar\": {\"outlinewidth\": 0, \"ticks\": \"\"}}, \"colorscale\": {\"diverging\": [[0, \"#8e0152\"], [0.1, \"#c51b7d\"], [0.2, \"#de77ae\"], [0.3, \"#f1b6da\"], [0.4, \"#fde0ef\"], [0.5, \"#f7f7f7\"], [0.6, \"#e6f5d0\"], [0.7, \"#b8e186\"], [0.8, \"#7fbc41\"], [0.9, \"#4d9221\"], [1, \"#276419\"]], \"sequential\": [[0.0, \"#0d0887\"], [0.1111111111111111, \"#46039f\"], [0.2222222222222222, \"#7201a8\"], [0.3333333333333333, \"#9c179e\"], [0.4444444444444444, \"#bd3786\"], [0.5555555555555556, \"#d8576b\"], [0.6666666666666666, \"#ed7953\"], [0.7777777777777778, \"#fb9f3a\"], [0.8888888888888888, \"#fdca26\"], [1.0, \"#f0f921\"]], \"sequentialminus\": [[0.0, \"#0d0887\"], [0.1111111111111111, \"#46039f\"], [0.2222222222222222, \"#7201a8\"], [0.3333333333333333, \"#9c179e\"], [0.4444444444444444, \"#bd3786\"], [0.5555555555555556, \"#d8576b\"], [0.6666666666666666, \"#ed7953\"], [0.7777777777777778, \"#fb9f3a\"], [0.8888888888888888, \"#fdca26\"], [1.0, \"#f0f921\"]]}, \"colorway\": [\"#636efa\", \"#EF553B\", \"#00cc96\", \"#ab63fa\", \"#FFA15A\", \"#19d3f3\", \"#FF6692\", \"#B6E880\", \"#FF97FF\", \"#FECB52\"], \"font\": {\"color\": \"#2a3f5f\"}, \"geo\": {\"bgcolor\": \"white\", \"lakecolor\": \"white\", \"landcolor\": \"#E5ECF6\", \"showlakes\": true, \"showland\": true, \"subunitcolor\": \"white\"}, \"hoverlabel\": {\"align\": \"left\"}, \"hovermode\": \"closest\", \"mapbox\": {\"style\": \"light\"}, \"paper_bgcolor\": \"white\", \"plot_bgcolor\": \"#E5ECF6\", \"polar\": {\"angularaxis\": {\"gridcolor\": \"white\", \"linecolor\": \"white\", \"ticks\": \"\"}, \"bgcolor\": \"#E5ECF6\", \"radialaxis\": {\"gridcolor\": \"white\", \"linecolor\": \"white\", \"ticks\": \"\"}}, \"scene\": {\"xaxis\": {\"backgroundcolor\": \"#E5ECF6\", \"gridcolor\": \"white\", \"gridwidth\": 2, \"linecolor\": \"white\", \"showbackground\": true, \"ticks\": \"\", \"zerolinecolor\": \"white\"}, \"yaxis\": {\"backgroundcolor\": \"#E5ECF6\", \"gridcolor\": \"white\", \"gridwidth\": 2, \"linecolor\": \"white\", \"showbackground\": true, \"ticks\": \"\", \"zerolinecolor\": \"white\"}, \"zaxis\": {\"backgroundcolor\": \"#E5ECF6\", \"gridcolor\": \"white\", \"gridwidth\": 2, \"linecolor\": \"white\", \"showbackground\": true, \"ticks\": \"\", \"zerolinecolor\": \"white\"}}, \"shapedefaults\": {\"line\": {\"color\": \"#2a3f5f\"}}, \"ternary\": {\"aaxis\": {\"gridcolor\": \"white\", \"linecolor\": \"white\", \"ticks\": \"\"}, \"baxis\": {\"gridcolor\": \"white\", \"linecolor\": \"white\", \"ticks\": \"\"}, \"bgcolor\": \"#E5ECF6\", \"caxis\": {\"gridcolor\": \"white\", \"linecolor\": \"white\", \"ticks\": \"\"}}, \"title\": {\"x\": 0.05}, \"xaxis\": {\"automargin\": true, \"gridcolor\": \"white\", \"linecolor\": \"white\", \"ticks\": \"\", \"title\": {\"standoff\": 15}, \"zerolinecolor\": \"white\", \"zerolinewidth\": 2}, \"yaxis\": {\"automargin\": true, \"gridcolor\": \"white\", \"linecolor\": \"white\", \"ticks\": \"\", \"title\": {\"standoff\": 15}, \"zerolinecolor\": \"white\", \"zerolinewidth\": 2}}}, \"title\": {\"font\": {\"color\": \"#4D5663\"}}, \"xaxis\": {\"anchor\": \"y\", \"domain\": [0.0, 0.2125], \"gridcolor\": \"#E1E5ED\", \"showgrid\": false, \"tickfont\": {\"color\": \"#4D5663\"}, \"title\": {\"font\": {\"color\": \"#4D5663\"}, \"text\": \"\"}, \"zerolinecolor\": \"#E1E5ED\"}, \"xaxis10\": {\"anchor\": \"y10\", \"domain\": [0.2625, 0.475], \"gridcolor\": \"#E1E5ED\", \"showgrid\": false, \"tickfont\": {\"color\": \"#4D5663\"}, \"title\": {\"font\": {\"color\": \"#4D5663\"}, \"text\": \"\"}, \"zerolinecolor\": \"#E1E5ED\"}, \"xaxis11\": {\"anchor\": \"y11\", \"domain\": [0.525, 0.7375], \"gridcolor\": \"#E1E5ED\", \"showgrid\": false, \"tickfont\": {\"color\": \"#4D5663\"}, \"title\": {\"font\": {\"color\": \"#4D5663\"}, \"text\": \"\"}, \"zerolinecolor\": \"#E1E5ED\"}, \"xaxis12\": {\"anchor\": \"y12\", \"domain\": [0.7875, 1.0], \"gridcolor\": \"#E1E5ED\", \"showgrid\": false, \"tickfont\": {\"color\": \"#4D5663\"}, \"title\": {\"font\": {\"color\": \"#4D5663\"}, \"text\": \"\"}, \"zerolinecolor\": \"#E1E5ED\"}, \"xaxis13\": {\"anchor\": \"y13\", \"domain\": [0.0, 0.2125], \"gridcolor\": \"#E1E5ED\", \"showgrid\": false, \"tickfont\": {\"color\": \"#4D5663\"}, \"title\": {\"font\": {\"color\": \"#4D5663\"}, \"text\": \"\"}, \"zerolinecolor\": \"#E1E5ED\"}, \"xaxis14\": {\"anchor\": \"y14\", \"domain\": [0.2625, 0.475], \"gridcolor\": \"#E1E5ED\", \"showgrid\": false, \"tickfont\": {\"color\": \"#4D5663\"}, \"title\": {\"font\": {\"color\": \"#4D5663\"}, \"text\": \"\"}, \"zerolinecolor\": \"#E1E5ED\"}, \"xaxis15\": {\"anchor\": \"y15\", \"domain\": [0.525, 0.7375], \"gridcolor\": \"#E1E5ED\", \"showgrid\": false, \"tickfont\": {\"color\": \"#4D5663\"}, \"title\": {\"font\": {\"color\": \"#4D5663\"}, \"text\": \"\"}, \"zerolinecolor\": \"#E1E5ED\"}, \"xaxis16\": {\"anchor\": \"y16\", \"domain\": [0.7875, 1.0], \"gridcolor\": \"#E1E5ED\", \"showgrid\": false, \"tickfont\": {\"color\": \"#4D5663\"}, \"title\": {\"font\": {\"color\": \"#4D5663\"}, \"text\": \"\"}, \"zerolinecolor\": \"#E1E5ED\"}, \"xaxis2\": {\"anchor\": \"y2\", \"domain\": [0.2625, 0.475], \"gridcolor\": \"#E1E5ED\", \"showgrid\": false, \"tickfont\": {\"color\": \"#4D5663\"}, \"title\": {\"font\": {\"color\": \"#4D5663\"}, \"text\": \"\"}, \"zerolinecolor\": \"#E1E5ED\"}, \"xaxis3\": {\"anchor\": \"y3\", \"domain\": [0.525, 0.7375], \"gridcolor\": \"#E1E5ED\", \"showgrid\": false, \"tickfont\": {\"color\": \"#4D5663\"}, \"title\": {\"font\": {\"color\": \"#4D5663\"}, \"text\": \"\"}, \"zerolinecolor\": \"#E1E5ED\"}, \"xaxis4\": {\"anchor\": \"y4\", \"domain\": [0.7875, 1.0], \"gridcolor\": \"#E1E5ED\", \"showgrid\": false, \"tickfont\": {\"color\": \"#4D5663\"}, \"title\": {\"font\": {\"color\": \"#4D5663\"}, \"text\": \"\"}, \"zerolinecolor\": \"#E1E5ED\"}, \"xaxis5\": {\"anchor\": \"y5\", \"domain\": [0.0, 0.2125], \"gridcolor\": \"#E1E5ED\", \"showgrid\": false, \"tickfont\": {\"color\": \"#4D5663\"}, \"title\": {\"font\": {\"color\": \"#4D5663\"}, \"text\": \"\"}, \"zerolinecolor\": \"#E1E5ED\"}, \"xaxis6\": {\"anchor\": \"y6\", \"domain\": [0.2625, 0.475], \"gridcolor\": \"#E1E5ED\", \"showgrid\": false, \"tickfont\": {\"color\": \"#4D5663\"}, \"title\": {\"font\": {\"color\": \"#4D5663\"}, \"text\": \"\"}, \"zerolinecolor\": \"#E1E5ED\"}, \"xaxis7\": {\"anchor\": \"y7\", \"domain\": [0.525, 0.7375], \"gridcolor\": \"#E1E5ED\", \"showgrid\": false, \"tickfont\": {\"color\": \"#4D5663\"}, \"title\": {\"font\": {\"color\": \"#4D5663\"}, \"text\": \"\"}, \"zerolinecolor\": \"#E1E5ED\"}, \"xaxis8\": {\"anchor\": \"y8\", \"domain\": [0.7875, 1.0], \"gridcolor\": \"#E1E5ED\", \"showgrid\": false, \"tickfont\": {\"color\": \"#4D5663\"}, \"title\": {\"font\": {\"color\": \"#4D5663\"}, \"text\": \"\"}, \"zerolinecolor\": \"#E1E5ED\"}, \"xaxis9\": {\"anchor\": \"y9\", \"domain\": [0.0, 0.2125], \"gridcolor\": \"#E1E5ED\", \"showgrid\": false, \"tickfont\": {\"color\": \"#4D5663\"}, \"title\": {\"font\": {\"color\": \"#4D5663\"}, \"text\": \"\"}, \"zerolinecolor\": \"#E1E5ED\"}, \"yaxis\": {\"anchor\": \"x\", \"domain\": [0.8025, 1.0], \"gridcolor\": \"#E1E5ED\", \"showgrid\": false, \"tickfont\": {\"color\": \"#4D5663\"}, \"title\": {\"font\": {\"color\": \"#4D5663\"}, \"text\": \"\"}, \"zerolinecolor\": \"#E1E5ED\"}, \"yaxis10\": {\"anchor\": \"x10\", \"domain\": [0.2675, 0.465], \"gridcolor\": \"#E1E5ED\", \"showgrid\": false, \"tickfont\": {\"color\": \"#4D5663\"}, \"title\": {\"font\": {\"color\": \"#4D5663\"}, \"text\": \"\"}, \"zerolinecolor\": \"#E1E5ED\"}, \"yaxis11\": {\"anchor\": \"x11\", \"domain\": [0.2675, 0.465], \"gridcolor\": \"#E1E5ED\", \"showgrid\": false, \"tickfont\": {\"color\": \"#4D5663\"}, \"title\": {\"font\": {\"color\": \"#4D5663\"}, \"text\": \"\"}, \"zerolinecolor\": \"#E1E5ED\"}, \"yaxis12\": {\"anchor\": \"x12\", \"domain\": [0.2675, 0.465], \"gridcolor\": \"#E1E5ED\", \"showgrid\": false, \"tickfont\": {\"color\": \"#4D5663\"}, \"title\": {\"font\": {\"color\": \"#4D5663\"}, \"text\": \"\"}, \"zerolinecolor\": \"#E1E5ED\"}, \"yaxis13\": {\"anchor\": \"x13\", \"domain\": [0.0, 0.1975], \"gridcolor\": \"#E1E5ED\", \"showgrid\": false, \"tickfont\": {\"color\": \"#4D5663\"}, \"title\": {\"font\": {\"color\": \"#4D5663\"}, \"text\": \"\"}, \"zerolinecolor\": \"#E1E5ED\"}, \"yaxis14\": {\"anchor\": \"x14\", \"domain\": [0.0, 0.1975], \"gridcolor\": \"#E1E5ED\", \"showgrid\": false, \"tickfont\": {\"color\": \"#4D5663\"}, \"title\": {\"font\": {\"color\": \"#4D5663\"}, \"text\": \"\"}, \"zerolinecolor\": \"#E1E5ED\"}, \"yaxis15\": {\"anchor\": \"x15\", \"domain\": [0.0, 0.1975], \"gridcolor\": \"#E1E5ED\", \"showgrid\": false, \"tickfont\": {\"color\": \"#4D5663\"}, \"title\": {\"font\": {\"color\": \"#4D5663\"}, \"text\": \"\"}, \"zerolinecolor\": \"#E1E5ED\"}, \"yaxis16\": {\"anchor\": \"x16\", \"domain\": [0.0, 0.1975], \"gridcolor\": \"#E1E5ED\", \"showgrid\": false, \"tickfont\": {\"color\": \"#4D5663\"}, \"title\": {\"font\": {\"color\": \"#4D5663\"}, \"text\": \"\"}, \"zerolinecolor\": \"#E1E5ED\"}, \"yaxis2\": {\"anchor\": \"x2\", \"domain\": [0.8025, 1.0], \"gridcolor\": \"#E1E5ED\", \"showgrid\": false, \"tickfont\": {\"color\": \"#4D5663\"}, \"title\": {\"font\": {\"color\": \"#4D5663\"}, \"text\": \"\"}, \"zerolinecolor\": \"#E1E5ED\"}, \"yaxis3\": {\"anchor\": \"x3\", \"domain\": [0.8025, 1.0], \"gridcolor\": \"#E1E5ED\", \"showgrid\": false, \"tickfont\": {\"color\": \"#4D5663\"}, \"title\": {\"font\": {\"color\": \"#4D5663\"}, \"text\": \"\"}, \"zerolinecolor\": \"#E1E5ED\"}, \"yaxis4\": {\"anchor\": \"x4\", \"domain\": [0.8025, 1.0], \"gridcolor\": \"#E1E5ED\", \"showgrid\": false, \"tickfont\": {\"color\": \"#4D5663\"}, \"title\": {\"font\": {\"color\": \"#4D5663\"}, \"text\": \"\"}, \"zerolinecolor\": \"#E1E5ED\"}, \"yaxis5\": {\"anchor\": \"x5\", \"domain\": [0.535, 0.7325], \"gridcolor\": \"#E1E5ED\", \"showgrid\": false, \"tickfont\": {\"color\": \"#4D5663\"}, \"title\": {\"font\": {\"color\": \"#4D5663\"}, \"text\": \"\"}, \"zerolinecolor\": \"#E1E5ED\"}, \"yaxis6\": {\"anchor\": \"x6\", \"domain\": [0.535, 0.7325], \"gridcolor\": \"#E1E5ED\", \"showgrid\": false, \"tickfont\": {\"color\": \"#4D5663\"}, \"title\": {\"font\": {\"color\": \"#4D5663\"}, \"text\": \"\"}, \"zerolinecolor\": \"#E1E5ED\"}, \"yaxis7\": {\"anchor\": \"x7\", \"domain\": [0.535, 0.7325], \"gridcolor\": \"#E1E5ED\", \"showgrid\": false, \"tickfont\": {\"color\": \"#4D5663\"}, \"title\": {\"font\": {\"color\": \"#4D5663\"}, \"text\": \"\"}, \"zerolinecolor\": \"#E1E5ED\"}, \"yaxis8\": {\"anchor\": \"x8\", \"domain\": [0.535, 0.7325], \"gridcolor\": \"#E1E5ED\", \"showgrid\": false, \"tickfont\": {\"color\": \"#4D5663\"}, \"title\": {\"font\": {\"color\": \"#4D5663\"}, \"text\": \"\"}, \"zerolinecolor\": \"#E1E5ED\"}, \"yaxis9\": {\"anchor\": \"x9\", \"domain\": [0.2675, 0.465], \"gridcolor\": \"#E1E5ED\", \"showgrid\": false, \"tickfont\": {\"color\": \"#4D5663\"}, \"title\": {\"font\": {\"color\": \"#4D5663\"}, \"text\": \"\"}, \"zerolinecolor\": \"#E1E5ED\"}},                        {\"showLink\": true, \"linkText\": \"Export to plot.ly\", \"plotlyServerURL\": \"https://plot.ly\", \"responsive\": true}                    ).then(function(){\n",
       "                            \n",
       "var gd = document.getElementById('b2419335-c7af-408b-9077-bea99d53c3a2');\n",
       "var x = new MutationObserver(function (mutations, observer) {{\n",
       "        var display = window.getComputedStyle(gd).display;\n",
       "        if (!display || display === 'none') {{\n",
       "            console.log([gd, 'removed!']);\n",
       "            Plotly.purge(gd);\n",
       "            observer.disconnect();\n",
       "        }}\n",
       "}});\n",
       "\n",
       "// Listen for the removal of the full notebook cells\n",
       "var notebookContainer = gd.closest('#notebook-container');\n",
       "if (notebookContainer) {{\n",
       "    x.observe(notebookContainer, {childList: true});\n",
       "}}\n",
       "\n",
       "// Listen for the clearing of the current output cell\n",
       "var outputEl = gd.closest('.output');\n",
       "if (outputEl) {{\n",
       "    x.observe(outputEl, {childList: true});\n",
       "}}\n",
       "\n",
       "                        })                };                });            </script>        </div>"
      ]
     },
     "metadata": {},
     "output_type": "display_data"
    }
   ],
   "source": [
    "df.scatter_matrix()"
   ]
  },
  {
   "cell_type": "markdown",
   "metadata": {},
   "source": [
    "# Bonus: more about visualizations in Pandas\n",
    "## Imports"
   ]
  },
  {
   "cell_type": "code",
   "execution_count": 39,
   "metadata": {},
   "outputs": [],
   "source": [
    "import numpy as np\n",
    "import pandas as pd\n",
    "%matplotlib inline"
   ]
  },
  {
   "cell_type": "markdown",
   "metadata": {},
   "source": [
    "## The Data\n",
    "\n",
    "There are some fake data csv files you can read in as dataframes:"
   ]
  },
  {
   "cell_type": "code",
   "execution_count": 40,
   "metadata": {},
   "outputs": [],
   "source": [
    "df1 = pd.read_csv('df1',index_col=0)\n",
    "df2 = pd.read_csv('df2')"
   ]
  },
  {
   "cell_type": "markdown",
   "metadata": {},
   "source": [
    "## Style Sheets\n",
    "\n",
    "Matplotlib has [style sheets](http://matplotlib.org/gallery.html#style_sheets) you can use to make your plots look a little nicer. These style sheets include plot_bmh,plot_fivethirtyeight,plot_ggplot and more. They basically create a set of style rules that your plots follow. I recommend using them, they make all your plots have the same look and feel more professional. You can even create your own if you want your company's plots to all have the same look (it is a bit tedious to create on though).\n",
    "\n",
    "Here is how to use them.\n",
    "\n",
    "**Before plt.style.use() your plots look like this:**"
   ]
  },
  {
   "cell_type": "code",
   "execution_count": 22,
   "metadata": {},
   "outputs": [
    {
     "data": {
      "text/plain": [
       "<matplotlib.axes._subplots.AxesSubplot at 0x7fb0dccd3950>"
      ]
     },
     "execution_count": 22,
     "metadata": {},
     "output_type": "execute_result"
    },
    {
     "data": {
      "image/png": "[encoded data removed]",
      "text/plain": [
       "<Figure size 432x288 with 1 Axes>"
      ]
     },
     "metadata": {
      "needs_background": "light"
     },
     "output_type": "display_data"
    }
   ],
   "source": [
    "df1['A'].hist()"
   ]
  },
  {
   "cell_type": "markdown",
   "metadata": {},
   "source": [
    "Call the style:"
   ]
  },
  {
   "cell_type": "code",
   "execution_count": 23,
   "metadata": {},
   "outputs": [],
   "source": [
    "import matplotlib.pyplot as plt\n",
    "plt.style.use('ggplot')"
   ]
  },
  {
   "cell_type": "markdown",
   "metadata": {},
   "source": [
    "Now your plots look like this:"
   ]
  },
  {
   "cell_type": "code",
   "execution_count": 24,
   "metadata": {},
   "outputs": [
    {
     "data": {
      "text/plain": [
       "<matplotlib.axes._subplots.AxesSubplot at 0x7fb0dce0a250>"
      ]
     },
     "execution_count": 24,
     "metadata": {},
     "output_type": "execute_result"
    },
    {
     "data": {
      "image/png": "[encoded data removed]",
      "text/plain": [
       "<Figure size 432x288 with 1 Axes>"
      ]
     },
     "metadata": {},
     "output_type": "display_data"
    }
   ],
   "source": [
    "df1['A'].hist()"
   ]
  },
  {
   "cell_type": "code",
   "execution_count": 25,
   "metadata": {},
   "outputs": [
    {
     "data": {
      "text/plain": [
       "<matplotlib.axes._subplots.AxesSubplot at 0x7fb0dd1bd410>"
      ]
     },
     "execution_count": 25,
     "metadata": {},
     "output_type": "execute_result"
    },
    {
     "data": {
      "image/png": "[encoded data removed]",
      "text/plain": [
       "<Figure size 432x288 with 1 Axes>"
      ]
     },
     "metadata": {},
     "output_type": "display_data"
    }
   ],
   "source": [
    "plt.style.use('bmh')\n",
    "df1['A'].hist()"
   ]
  },
  {
   "cell_type": "code",
   "execution_count": 26,
   "metadata": {},
   "outputs": [
    {
     "data": {
      "text/plain": [
       "<matplotlib.axes._subplots.AxesSubplot at 0x7fb0dd299e90>"
      ]
     },
     "execution_count": 26,
     "metadata": {},
     "output_type": "execute_result"
    },
    {
     "data": {
      "image/png": "[encoded data removed]",
      "text/plain": [
       "<Figure size 432x288 with 1 Axes>"
      ]
     },
     "metadata": {},
     "output_type": "display_data"
    }
   ],
   "source": [
    "plt.style.use('dark_background')\n",
    "df1['A'].hist()"
   ]
  },
  {
   "cell_type": "code",
   "execution_count": 27,
   "metadata": {},
   "outputs": [
    {
     "data": {
      "text/plain": [
       "<matplotlib.axes._subplots.AxesSubplot at 0x7fb0dd377a90>"
      ]
     },
     "execution_count": 27,
     "metadata": {},
     "output_type": "execute_result"
    },
    {
     "data": {
      "image/png": "[encoded data removed]",
      "text/plain": [
       "<Figure size 432x288 with 1 Axes>"
      ]
     },
     "metadata": {},
     "output_type": "display_data"
    }
   ],
   "source": [
    "plt.style.use('fivethirtyeight')\n",
    "df1['A'].hist()"
   ]
  },
  {
   "cell_type": "code",
   "execution_count": 28,
   "metadata": {},
   "outputs": [],
   "source": [
    "plt.style.use('ggplot')"
   ]
  },
  {
   "cell_type": "markdown",
   "metadata": {},
   "source": [
    "Let's stick with the ggplot style and actually show you how to utilize pandas built-in plotting capabilities!"
   ]
  },
  {
   "cell_type": "markdown",
   "metadata": {},
   "source": [
    "# Plot Types\n",
    "\n",
    "There are several plot types built-in to pandas, most of them statistical plots by nature:\n",
    "\n",
    "* df.plot.area     \n",
    "* df.plot.barh     \n",
    "* df.plot.density  \n",
    "* df.plot.hist     \n",
    "* df.plot.line     \n",
    "* df.plot.scatter\n",
    "* df.plot.bar      \n",
    "* df.plot.box      \n",
    "* df.plot.hexbin   \n",
    "* df.plot.kde      \n",
    "* df.plot.pie\n",
    "\n",
    "You can also just call df.plot(kind='hist') or replace that kind argument with any of the key terms shown in the list above (e.g. 'box','barh', etc..)\n",
    "___"
   ]
  },
  {
   "cell_type": "markdown",
   "metadata": {},
   "source": [
    "Let's start going through them!\n",
    "\n",
    "## Area"
   ]
  },
  {
   "cell_type": "code",
   "execution_count": 29,
   "metadata": {},
   "outputs": [
    {
     "data": {
      "text/html": [
       "<div>\n",
       "<style scoped>\n",
       "    .dataframe tbody tr th:only-of-type {\n",
       "        vertical-align: middle;\n",
       "    }\n",
       "\n",
       "    .dataframe tbody tr th {\n",
       "        vertical-align: top;\n",
       "    }\n",
       "\n",
       "    .dataframe thead th {\n",
       "        text-align: right;\n",
       "    }\n",
       "</style>\n",
       "<table border=\"1\" class=\"dataframe\">\n",
       "  <thead>\n",
       "    <tr style=\"text-align: right;\">\n",
       "      <th></th>\n",
       "      <th>a</th>\n",
       "      <th>b</th>\n",
       "      <th>c</th>\n",
       "      <th>d</th>\n",
       "    </tr>\n",
       "  </thead>\n",
       "  <tbody>\n",
       "    <tr>\n",
       "      <td>0</td>\n",
       "      <td>0.039762</td>\n",
       "      <td>0.218517</td>\n",
       "      <td>0.103423</td>\n",
       "      <td>0.957904</td>\n",
       "    </tr>\n",
       "    <tr>\n",
       "      <td>1</td>\n",
       "      <td>0.937288</td>\n",
       "      <td>0.041567</td>\n",
       "      <td>0.899125</td>\n",
       "      <td>0.977680</td>\n",
       "    </tr>\n",
       "    <tr>\n",
       "      <td>2</td>\n",
       "      <td>0.780504</td>\n",
       "      <td>0.008948</td>\n",
       "      <td>0.557808</td>\n",
       "      <td>0.797510</td>\n",
       "    </tr>\n",
       "    <tr>\n",
       "      <td>3</td>\n",
       "      <td>0.672717</td>\n",
       "      <td>0.247870</td>\n",
       "      <td>0.264071</td>\n",
       "      <td>0.444358</td>\n",
       "    </tr>\n",
       "    <tr>\n",
       "      <td>4</td>\n",
       "      <td>0.053829</td>\n",
       "      <td>0.520124</td>\n",
       "      <td>0.552264</td>\n",
       "      <td>0.190008</td>\n",
       "    </tr>\n",
       "    <tr>\n",
       "      <td>5</td>\n",
       "      <td>0.286043</td>\n",
       "      <td>0.593465</td>\n",
       "      <td>0.907307</td>\n",
       "      <td>0.637898</td>\n",
       "    </tr>\n",
       "    <tr>\n",
       "      <td>6</td>\n",
       "      <td>0.430436</td>\n",
       "      <td>0.166230</td>\n",
       "      <td>0.469383</td>\n",
       "      <td>0.497701</td>\n",
       "    </tr>\n",
       "    <tr>\n",
       "      <td>7</td>\n",
       "      <td>0.312296</td>\n",
       "      <td>0.502823</td>\n",
       "      <td>0.806609</td>\n",
       "      <td>0.850519</td>\n",
       "    </tr>\n",
       "    <tr>\n",
       "      <td>8</td>\n",
       "      <td>0.187765</td>\n",
       "      <td>0.997075</td>\n",
       "      <td>0.895955</td>\n",
       "      <td>0.530390</td>\n",
       "    </tr>\n",
       "    <tr>\n",
       "      <td>9</td>\n",
       "      <td>0.908162</td>\n",
       "      <td>0.232726</td>\n",
       "      <td>0.414138</td>\n",
       "      <td>0.432007</td>\n",
       "    </tr>\n",
       "  </tbody>\n",
       "</table>\n",
       "</div>"
      ],
      "text/plain": [
       "          a         b         c         d\n",
       "0  0.039762  0.218517  0.103423  0.957904\n",
       "1  0.937288  0.041567  0.899125  0.977680\n",
       "2  0.780504  0.008948  0.557808  0.797510\n",
       "3  0.672717  0.247870  0.264071  0.444358\n",
       "4  0.053829  0.520124  0.552264  0.190008\n",
       "5  0.286043  0.593465  0.907307  0.637898\n",
       "6  0.430436  0.166230  0.469383  0.497701\n",
       "7  0.312296  0.502823  0.806609  0.850519\n",
       "8  0.187765  0.997075  0.895955  0.530390\n",
       "9  0.908162  0.232726  0.414138  0.432007"
      ]
     },
     "execution_count": 29,
     "metadata": {},
     "output_type": "execute_result"
    }
   ],
   "source": [
    "df2"
   ]
  },
  {
   "cell_type": "code",
   "execution_count": 30,
   "metadata": {},
   "outputs": [
    {
     "data": {
      "text/plain": [
       "<matplotlib.axes._subplots.AxesSubplot at 0x7fb0dd3cedd0>"
      ]
     },
     "execution_count": 30,
     "metadata": {},
     "output_type": "execute_result"
    },
    {
     "data": {
      "image/png": "[encoded data removed]",
      "text/plain": [
       "<Figure size 432x288 with 1 Axes>"
      ]
     },
     "metadata": {},
     "output_type": "display_data"
    }
   ],
   "source": [
    "df2.plot.area(alpha=0.4)"
   ]
  },
  {
   "cell_type": "markdown",
   "metadata": {},
   "source": [
    "## Barplots"
   ]
  },
  {
   "cell_type": "code",
   "execution_count": 12,
   "metadata": {},
   "outputs": [
    {
     "data": {
      "text/html": [
       "<div>\n",
       "<style scoped>\n",
       "    .dataframe tbody tr th:only-of-type {\n",
       "        vertical-align: middle;\n",
       "    }\n",
       "\n",
       "    .dataframe tbody tr th {\n",
       "        vertical-align: top;\n",
       "    }\n",
       "\n",
       "    .dataframe thead th {\n",
       "        text-align: right;\n",
       "    }\n",
       "</style>\n",
       "<table border=\"1\" class=\"dataframe\">\n",
       "  <thead>\n",
       "    <tr style=\"text-align: right;\">\n",
       "      <th></th>\n",
       "      <th>a</th>\n",
       "      <th>b</th>\n",
       "      <th>c</th>\n",
       "      <th>d</th>\n",
       "    </tr>\n",
       "  </thead>\n",
       "  <tbody>\n",
       "    <tr>\n",
       "      <td>0</td>\n",
       "      <td>0.039762</td>\n",
       "      <td>0.218517</td>\n",
       "      <td>0.103423</td>\n",
       "      <td>0.957904</td>\n",
       "    </tr>\n",
       "    <tr>\n",
       "      <td>1</td>\n",
       "      <td>0.937288</td>\n",
       "      <td>0.041567</td>\n",
       "      <td>0.899125</td>\n",
       "      <td>0.977680</td>\n",
       "    </tr>\n",
       "    <tr>\n",
       "      <td>2</td>\n",
       "      <td>0.780504</td>\n",
       "      <td>0.008948</td>\n",
       "      <td>0.557808</td>\n",
       "      <td>0.797510</td>\n",
       "    </tr>\n",
       "    <tr>\n",
       "      <td>3</td>\n",
       "      <td>0.672717</td>\n",
       "      <td>0.247870</td>\n",
       "      <td>0.264071</td>\n",
       "      <td>0.444358</td>\n",
       "    </tr>\n",
       "    <tr>\n",
       "      <td>4</td>\n",
       "      <td>0.053829</td>\n",
       "      <td>0.520124</td>\n",
       "      <td>0.552264</td>\n",
       "      <td>0.190008</td>\n",
       "    </tr>\n",
       "  </tbody>\n",
       "</table>\n",
       "</div>"
      ],
      "text/plain": [
       "          a         b         c         d\n",
       "0  0.039762  0.218517  0.103423  0.957904\n",
       "1  0.937288  0.041567  0.899125  0.977680\n",
       "2  0.780504  0.008948  0.557808  0.797510\n",
       "3  0.672717  0.247870  0.264071  0.444358\n",
       "4  0.053829  0.520124  0.552264  0.190008"
      ]
     },
     "execution_count": 12,
     "metadata": {},
     "output_type": "execute_result"
    }
   ],
   "source": [
    "df2.head()"
   ]
  },
  {
   "cell_type": "code",
   "execution_count": 13,
   "metadata": {},
   "outputs": [
    {
     "data": {
      "text/plain": [
       "<matplotlib.axes._subplots.AxesSubplot at 0x7ffaf0cdf310>"
      ]
     },
     "execution_count": 13,
     "metadata": {},
     "output_type": "execute_result"
    },
    {
     "data": {
      "image/png": "[encoded data removed]",
      "text/plain": [
       "<Figure size 432x288 with 1 Axes>"
      ]
     },
     "metadata": {},
     "output_type": "display_data"
    }
   ],
   "source": [
    "df2.plot.bar()"
   ]
  },
  {
   "cell_type": "code",
   "execution_count": 14,
   "metadata": {},
   "outputs": [
    {
     "data": {
      "text/plain": [
       "<matplotlib.axes._subplots.AxesSubplot at 0x7ffaf0f21110>"
      ]
     },
     "execution_count": 14,
     "metadata": {},
     "output_type": "execute_result"
    },
    {
     "data": {
      "image/png": "[encoded data removed]",
      "text/plain": [
       "<Figure size 432x288 with 1 Axes>"
      ]
     },
     "metadata": {},
     "output_type": "display_data"
    }
   ],
   "source": [
    "df2.plot.bar(stacked=True)"
   ]
  },
  {
   "cell_type": "markdown",
   "metadata": {},
   "source": [
    "## Histograms"
   ]
  },
  {
   "cell_type": "code",
   "execution_count": 15,
   "metadata": {},
   "outputs": [
    {
     "data": {
      "text/plain": [
       "<matplotlib.axes._subplots.AxesSubplot at 0x7ffaf102c790>"
      ]
     },
     "execution_count": 15,
     "metadata": {},
     "output_type": "execute_result"
    },
    {
     "data": {
      "image/png": "[encoded data removed]",
      "text/plain": [
       "<Figure size 432x288 with 1 Axes>"
      ]
     },
     "metadata": {},
     "output_type": "display_data"
    }
   ],
   "source": [
    "df1['A'].plot.hist(bins=50)"
   ]
  },
  {
   "cell_type": "markdown",
   "metadata": {},
   "source": [
    "## Scatter Plots"
   ]
  },
  {
   "cell_type": "code",
   "execution_count": null,
   "metadata": {},
   "outputs": [],
   "source": [
    "df1.plot.scatter(x='A',y='B')"
   ]
  },
  {
   "cell_type": "markdown",
   "metadata": {},
   "source": [
    "You can use c to color based off another column value\n",
    "Use cmap to indicate colormap to use. \n",
    "For all the colormaps, check out: http://matplotlib.org/users/colormaps.html"
   ]
  },
  {
   "cell_type": "code",
   "execution_count": 17,
   "metadata": {},
   "outputs": [
    {
     "data": {
      "text/plain": [
       "<matplotlib.axes._subplots.AxesSubplot at 0x7ffaf1040310>"
      ]
     },
     "execution_count": 17,
     "metadata": {},
     "output_type": "execute_result"
    },
    {
     "data": {
      "image/png": "[encoded data removed]",
      "text/plain": [
       "<Figure size 432x288 with 2 Axes>"
      ]
     },
     "metadata": {},
     "output_type": "display_data"
    }
   ],
   "source": [
    "df1.plot.scatter(x='A',y='B',c='C',cmap='coolwarm')"
   ]
  },
  {
   "cell_type": "markdown",
   "metadata": {},
   "source": [
    "Or use s to indicate size based off another column. s parameter needs to be an array, not just the name of a column:"
   ]
  },
  {
   "cell_type": "code",
   "execution_count": 18,
   "metadata": {},
   "outputs": [
    {
     "name": "stderr",
     "output_type": "stream",
     "text": [
      "/Users/marcherrera/opt/anaconda3/lib/python3.7/site-packages/matplotlib/collections.py:857: RuntimeWarning: invalid value encountered in sqrt\n",
      "  scale = np.sqrt(self._sizes) * dpi / 72.0 * self._factor\n"
     ]
    },
    {
     "data": {
      "text/plain": [
       "<matplotlib.axes._subplots.AxesSubplot at 0x7ffaf1574390>"
      ]
     },
     "execution_count": 18,
     "metadata": {},
     "output_type": "execute_result"
    },
    {
     "data": {
      "image/png": "[encoded data removed]",
      "text/plain": [
       "<Figure size 432x288 with 1 Axes>"
      ]
     },
     "metadata": {},
     "output_type": "display_data"
    }
   ],
   "source": [
    "df1.plot.scatter(x='A',y='B',s=df1['C']*200)"
   ]
  },
  {
   "cell_type": "markdown",
   "metadata": {},
   "source": [
    "## BoxPlots"
   ]
  },
  {
   "cell_type": "code",
   "execution_count": 19,
   "metadata": {},
   "outputs": [
    {
     "data": {
      "text/plain": [
       "<matplotlib.axes._subplots.AxesSubplot at 0x7ffaf16cc8d0>"
      ]
     },
     "execution_count": 19,
     "metadata": {},
     "output_type": "execute_result"
    },
    {
     "data": {
      "image/png": "[encoded data removed]",
      "text/plain": [
       "<Figure size 432x288 with 1 Axes>"
      ]
     },
     "metadata": {},
     "output_type": "display_data"
    }
   ],
   "source": [
    "df2.plot.box() # Can also pass a by= argument for groupby"
   ]
  },
  {
   "cell_type": "markdown",
   "metadata": {},
   "source": [
    "## Hexagonal Bin Plot\n",
    "\n",
    "Useful for Bivariate Data, alternative to scatterplot:"
   ]
  },
  {
   "cell_type": "code",
   "execution_count": 20,
   "metadata": {},
   "outputs": [
    {
     "data": {
      "text/plain": [
       "<matplotlib.axes._subplots.AxesSubplot at 0x7ffaf17eeb90>"
      ]
     },
     "execution_count": 20,
     "metadata": {},
     "output_type": "execute_result"
    },
    {
     "data": {
      "image/png": "[encoded data removed]",
      "text/plain": [
       "<Figure size 432x288 with 2 Axes>"
      ]
     },
     "metadata": {},
     "output_type": "display_data"
    }
   ],
   "source": [
    "df = pd.DataFrame(np.random.randn(1000, 2), columns=['a', 'b'])\n",
    "df.plot.hexbin(x='a',y='b',gridsize=25,cmap='Oranges')"
   ]
  },
  {
   "cell_type": "markdown",
   "metadata": {},
   "source": [
    "____"
   ]
  },
  {
   "cell_type": "markdown",
   "metadata": {},
   "source": [
    "## Kernel Density Estimation plot (KDE)"
   ]
  },
  {
   "cell_type": "code",
   "execution_count": 21,
   "metadata": {},
   "outputs": [
    {
     "data": {
      "text/plain": [
       "<matplotlib.axes._subplots.AxesSubplot at 0x7ffaf17cfb10>"
      ]
     },
     "execution_count": 21,
     "metadata": {},
     "output_type": "execute_result"
    },
    {
     "data": {
      "image/png": "[encoded data removed]",
      "text/plain": [
       "<Figure size 432x288 with 1 Axes>"
      ]
     },
     "metadata": {},
     "output_type": "display_data"
    }
   ],
   "source": [
    "df2['a'].plot.kde()"
   ]
  },
  {
   "cell_type": "code",
   "execution_count": 22,
   "metadata": {},
   "outputs": [
    {
     "data": {
      "text/plain": [
       "<matplotlib.axes._subplots.AxesSubplot at 0x7ffaf22e6250>"
      ]
     },
     "execution_count": 22,
     "metadata": {},
     "output_type": "execute_result"
    },
    {
     "data": {
      "image/png": "[encoded data removed]",
      "text/plain": [
       "<Figure size 432x288 with 1 Axes>"
      ]
     },
     "metadata": {},
     "output_type": "display_data"
    }
   ],
   "source": [
    "df2.plot.density()"
   ]
  },
  {
   "cell_type": "markdown",
   "metadata": {},
   "source": [
    "That's it! Hopefully you can see why this method of plotting will be a lot easier to use than full-on matplotlib, it balances ease of use with control over the figure. A lot of the plot calls also accept additional arguments of their parent matplotlib plt. call. \n",
    "\n",
    "Next we will learn about seaborn, which is a statistical visualization library designed to work with pandas dataframes well.\n",
    "\n",
    "Before that though, we'll have a quick exercise for you!\n",
    "\n",
    "# Great Job!"
   ]
  },
  {
   "cell_type": "code",
   "execution_count": null,
   "metadata": {},
   "outputs": [],
   "source": []
  },
  {
   "cell_type": "code",
   "execution_count": null,
   "metadata": {},
   "outputs": [],
   "source": []
  },
  {
   "cell_type": "code",
   "execution_count": null,
   "metadata": {},
   "outputs": [],
   "source": []
  },
  {
   "cell_type": "code",
   "execution_count": null,
   "metadata": {},
   "outputs": [],
   "source": []
  },
  {
   "cell_type": "code",
   "execution_count": null,
   "metadata": {},
   "outputs": [],
   "source": []
  },
  {
   "cell_type": "code",
   "execution_count": null,
   "metadata": {},
   "outputs": [],
   "source": []
  },
  {
   "cell_type": "code",
   "execution_count": null,
   "metadata": {},
   "outputs": [],
   "source": []
  }
 ],
 "metadata": {
  "kernelspec": {
   "display_name": "Python 3",
   "language": "python",
   "name": "python3"
  },
  "language_info": {
   "codemirror_mode": {
    "name": "ipython",
    "version": 3
   },
   "file_extension": ".py",
   "mimetype": "text/x-python",
   "name": "python",
   "nbconvert_exporter": "python",
   "pygments_lexer": "ipython3",
   "version": "3.8.5"
  }
 },
 "nbformat": 4,
 "nbformat_minor": 4
}
